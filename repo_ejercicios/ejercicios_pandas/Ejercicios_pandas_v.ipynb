{
 "cells": [
  {
   "cell_type": "markdown",
   "metadata": {},
   "source": [
    "## Ejercicio 1\n",
    "Importa la libreria de pandas. ¿Qué versión de la librería tienes?"
   ]
  },
  {
   "cell_type": "code",
   "execution_count": 9,
   "metadata": {},
   "outputs": [
    {
     "data": {
      "text/plain": [
       "'1.0.5'"
      ]
     },
     "execution_count": 9,
     "metadata": {},
     "output_type": "execute_result"
    }
   ],
   "source": [
    "import pandas as pd\n",
    "import numpy as np\n",
    "# con pd.__version__ sabemos la versiond epandas que usamos \n",
    "pd.__version__ "
   ]
  },
  {
   "cell_type": "markdown",
   "metadata": {},
   "source": [
    "## Ejercicio 2\n",
    "Lee el archivo CSV de la liga. Guarda el DataFrame en una variable llamada `df`. [Usa el método `read_csv` de `pandas`](https://pandas.pydata.org/pandas-docs/stable/reference/api/pandas.read_csv.html)."
   ]
  },
  {
   "cell_type": "code",
   "execution_count": 6,
   "metadata": {},
   "outputs": [],
   "source": [
    "df= pd.read_csv(\"laliga.csv\")"
   ]
  },
  {
   "cell_type": "markdown",
   "metadata": {},
   "source": [
    "## Ejercicio 3\n",
    "Obtén por pantalla los 4 primero registros"
   ]
  },
  {
   "cell_type": "code",
   "execution_count": 7,
   "metadata": {},
   "outputs": [
    {
     "data": {
      "text/html": [
       "<div>\n",
       "<style scoped>\n",
       "    .dataframe tbody tr th:only-of-type {\n",
       "        vertical-align: middle;\n",
       "    }\n",
       "\n",
       "    .dataframe tbody tr th {\n",
       "        vertical-align: top;\n",
       "    }\n",
       "\n",
       "    .dataframe thead th {\n",
       "        text-align: right;\n",
       "    }\n",
       "</style>\n",
       "<table border=\"1\" class=\"dataframe\">\n",
       "  <thead>\n",
       "    <tr style=\"text-align: right;\">\n",
       "      <th></th>\n",
       "      <th>Unnamed: 0</th>\n",
       "      <th>season</th>\n",
       "      <th>division</th>\n",
       "      <th>round</th>\n",
       "      <th>localTeam</th>\n",
       "      <th>visitorTeam</th>\n",
       "      <th>localGoals</th>\n",
       "      <th>visitorGoals</th>\n",
       "      <th>date</th>\n",
       "      <th>timestamp</th>\n",
       "    </tr>\n",
       "  </thead>\n",
       "  <tbody>\n",
       "    <tr>\n",
       "      <th>0</th>\n",
       "      <td>26201</td>\n",
       "      <td>2005-06</td>\n",
       "      <td>1</td>\n",
       "      <td>1</td>\n",
       "      <td>Atletico de Bilbao</td>\n",
       "      <td>Real Sociedad</td>\n",
       "      <td>3</td>\n",
       "      <td>0</td>\n",
       "      <td>27/08/2005</td>\n",
       "      <td>1125093600</td>\n",
       "    </tr>\n",
       "    <tr>\n",
       "      <th>1</th>\n",
       "      <td>26202</td>\n",
       "      <td>2005-06</td>\n",
       "      <td>1</td>\n",
       "      <td>1</td>\n",
       "      <td>Alaves</td>\n",
       "      <td>Barcelona</td>\n",
       "      <td>0</td>\n",
       "      <td>0</td>\n",
       "      <td>27/08/2005</td>\n",
       "      <td>1125093600</td>\n",
       "    </tr>\n",
       "    <tr>\n",
       "      <th>2</th>\n",
       "      <td>26203</td>\n",
       "      <td>2005-06</td>\n",
       "      <td>1</td>\n",
       "      <td>1</td>\n",
       "      <td>Valencia</td>\n",
       "      <td>Betis</td>\n",
       "      <td>1</td>\n",
       "      <td>0</td>\n",
       "      <td>27/08/2005</td>\n",
       "      <td>1125093600</td>\n",
       "    </tr>\n",
       "    <tr>\n",
       "      <th>3</th>\n",
       "      <td>26204</td>\n",
       "      <td>2005-06</td>\n",
       "      <td>1</td>\n",
       "      <td>1</td>\n",
       "      <td>Atletico de Madrid</td>\n",
       "      <td>Zaragoza</td>\n",
       "      <td>0</td>\n",
       "      <td>0</td>\n",
       "      <td>28/08/2005</td>\n",
       "      <td>1125180000</td>\n",
       "    </tr>\n",
       "  </tbody>\n",
       "</table>\n",
       "</div>"
      ],
      "text/plain": [
       "   Unnamed: 0   season  division  round           localTeam    visitorTeam  \\\n",
       "0       26201  2005-06         1      1  Atletico de Bilbao  Real Sociedad   \n",
       "1       26202  2005-06         1      1              Alaves      Barcelona   \n",
       "2       26203  2005-06         1      1            Valencia          Betis   \n",
       "3       26204  2005-06         1      1  Atletico de Madrid       Zaragoza   \n",
       "\n",
       "   localGoals  visitorGoals        date   timestamp  \n",
       "0           3             0  27/08/2005  1125093600  \n",
       "1           0             0  27/08/2005  1125093600  \n",
       "2           1             0  27/08/2005  1125093600  \n",
       "3           0             0  28/08/2005  1125180000  "
      ]
     },
     "execution_count": 7,
     "metadata": {},
     "output_type": "execute_result"
    }
   ],
   "source": [
    "df.head(4)"
   ]
  },
  {
   "cell_type": "code",
   "execution_count": 5,
   "metadata": {},
   "outputs": [
    {
     "data": {
      "text/html": [
       "<div>\n",
       "<style scoped>\n",
       "    .dataframe tbody tr th:only-of-type {\n",
       "        vertical-align: middle;\n",
       "    }\n",
       "\n",
       "    .dataframe tbody tr th {\n",
       "        vertical-align: top;\n",
       "    }\n",
       "\n",
       "    .dataframe thead th {\n",
       "        text-align: right;\n",
       "    }\n",
       "</style>\n",
       "<table border=\"1\" class=\"dataframe\">\n",
       "  <thead>\n",
       "    <tr style=\"text-align: right;\">\n",
       "      <th></th>\n",
       "      <th>Unnamed: 0</th>\n",
       "      <th>season</th>\n",
       "      <th>division</th>\n",
       "      <th>round</th>\n",
       "      <th>localTeam</th>\n",
       "      <th>visitorTeam</th>\n",
       "      <th>localGoals</th>\n",
       "      <th>visitorGoals</th>\n",
       "      <th>date</th>\n",
       "      <th>timestamp</th>\n",
       "    </tr>\n",
       "  </thead>\n",
       "  <tbody>\n",
       "    <tr>\n",
       "      <th>0</th>\n",
       "      <td>26201</td>\n",
       "      <td>2005-06</td>\n",
       "      <td>1</td>\n",
       "      <td>1</td>\n",
       "      <td>Atletico de Bilbao</td>\n",
       "      <td>Real Sociedad</td>\n",
       "      <td>3</td>\n",
       "      <td>0</td>\n",
       "      <td>27/08/2005</td>\n",
       "      <td>1125093600</td>\n",
       "    </tr>\n",
       "    <tr>\n",
       "      <th>1</th>\n",
       "      <td>26202</td>\n",
       "      <td>2005-06</td>\n",
       "      <td>1</td>\n",
       "      <td>1</td>\n",
       "      <td>Alaves</td>\n",
       "      <td>Barcelona</td>\n",
       "      <td>0</td>\n",
       "      <td>0</td>\n",
       "      <td>27/08/2005</td>\n",
       "      <td>1125093600</td>\n",
       "    </tr>\n",
       "    <tr>\n",
       "      <th>2</th>\n",
       "      <td>26203</td>\n",
       "      <td>2005-06</td>\n",
       "      <td>1</td>\n",
       "      <td>1</td>\n",
       "      <td>Valencia</td>\n",
       "      <td>Betis</td>\n",
       "      <td>1</td>\n",
       "      <td>0</td>\n",
       "      <td>27/08/2005</td>\n",
       "      <td>1125093600</td>\n",
       "    </tr>\n",
       "    <tr>\n",
       "      <th>3</th>\n",
       "      <td>26204</td>\n",
       "      <td>2005-06</td>\n",
       "      <td>1</td>\n",
       "      <td>1</td>\n",
       "      <td>Atletico de Madrid</td>\n",
       "      <td>Zaragoza</td>\n",
       "      <td>0</td>\n",
       "      <td>0</td>\n",
       "      <td>28/08/2005</td>\n",
       "      <td>1125180000</td>\n",
       "    </tr>\n",
       "  </tbody>\n",
       "</table>\n",
       "</div>"
      ],
      "text/plain": [
       "   Unnamed: 0   season  division  round           localTeam    visitorTeam  \\\n",
       "0       26201  2005-06         1      1  Atletico de Bilbao  Real Sociedad   \n",
       "1       26202  2005-06         1      1              Alaves      Barcelona   \n",
       "2       26203  2005-06         1      1            Valencia          Betis   \n",
       "3       26204  2005-06         1      1  Atletico de Madrid       Zaragoza   \n",
       "\n",
       "   localGoals  visitorGoals        date   timestamp  \n",
       "0           3             0  27/08/2005  1125093600  \n",
       "1           0             0  27/08/2005  1125093600  \n",
       "2           1             0  27/08/2005  1125093600  \n",
       "3           0             0  28/08/2005  1125180000  "
      ]
     },
     "execution_count": 5,
     "metadata": {},
     "output_type": "execute_result"
    }
   ],
   "source": [
    "#lo mismo pero con slicing\n",
    "# df[0:4]\n",
    "# si no es con head, con slicing la mejor práctica es con .iloc\n",
    "df.iloc[0:4]"
   ]
  },
  {
   "cell_type": "markdown",
   "metadata": {},
   "source": [
    "## Ejercicio 4\n",
    "Obtén en un array de `numpy` todos los valores del DataFrame"
   ]
  },
  {
   "cell_type": "code",
   "execution_count": 4,
   "metadata": {},
   "outputs": [
    {
     "data": {
      "text/plain": [
       "array([[26201, '2005-06', 1, ..., 0, '27/08/2005', 1125093600],\n",
       "       [26202, '2005-06', 1, ..., 0, '27/08/2005', 1125093600],\n",
       "       [26203, '2005-06', 1, ..., 0, '27/08/2005', 1125093600],\n",
       "       ...,\n",
       "       [36682, '2017-18', 1, ..., 0, '20/05/2018', 1526767200],\n",
       "       [36683, '2017-18', 1, ..., 1, '20/05/2018', 1526767200],\n",
       "       [36684, '2017-18', 1, ..., 2, '20/05/2018', 1526767200]],\n",
       "      dtype=object)"
      ]
     },
     "execution_count": 4,
     "metadata": {},
     "output_type": "execute_result"
    }
   ],
   "source": [
    "df.values"
   ]
  },
  {
   "cell_type": "markdown",
   "metadata": {},
   "source": [
    "## Ejercicio 5\n",
    "¿Cuáles son las columnas de `df`?"
   ]
  },
  {
   "cell_type": "code",
   "execution_count": 5,
   "metadata": {},
   "outputs": [
    {
     "data": {
      "text/plain": [
       "Index(['Unnamed: 0', 'season', 'division', 'round', 'localTeam', 'visitorTeam',\n",
       "       'localGoals', 'visitorGoals', 'date', 'timestamp'],\n",
       "      dtype='object')"
      ]
     },
     "execution_count": 5,
     "metadata": {},
     "output_type": "execute_result"
    }
   ],
   "source": [
    "df.columns"
   ]
  },
  {
   "cell_type": "markdown",
   "metadata": {},
   "source": [
    "## Ejercicio 6\n",
    "Crea un `Series` con la [población de Madrid, Galicia, Murcia y Andalucía](https://es.wikipedia.org/wiki/Anexo:Comunidades_y_ciudades_aut%C3%B3nomas_de_Espa%C3%B1a). Llamalo `poblacion`. Créalo de dos maneras diferentes.\n",
    "\n",
    "Madrid: 6685471\n",
    "\n",
    "Galicia: 2698764\n",
    "\n",
    "Murcia: 1494442\n",
    "\n",
    "Andalucía: 8446561\n"
   ]
  },
  {
   "cell_type": "code",
   "execution_count": 38,
   "metadata": {},
   "outputs": [
    {
     "data": {
      "text/plain": [
       "array([6685471, 2698764, 1494442, 8446561])"
      ]
     },
     "execution_count": 38,
     "metadata": {},
     "output_type": "execute_result"
    }
   ],
   "source": [
    "poblacion= pd.Series({\"Madrid\":6685471, \"Galicia\":2698764, \"Murcia\":1494442, \"Andalucía\":8446561})\n",
    "poblacion.values"
   ]
  },
  {
   "cell_type": "code",
   "execution_count": 13,
   "metadata": {},
   "outputs": [
    {
     "data": {
      "text/plain": [
       "Madrid       6685471\n",
       "Galicia      2698764\n",
       "Murcia       1494442\n",
       "Andalucía    8446561\n",
       "dtype: object"
      ]
     },
     "execution_count": 13,
     "metadata": {},
     "output_type": "execute_result"
    }
   ],
   "source": [
    "p_dict ={\"Madrid\":6685471, \"Galicia\":2698764, \"Murcia\":1494442, \"Andalucía\":8446561}\n",
    "poblacion = pd.Series(p_dict)\n",
    "poblacion "
   ]
  },
  {
   "cell_type": "code",
   "execution_count": 21,
   "metadata": {},
   "outputs": [
    {
     "data": {
      "text/plain": [
       "Madrid       6685471\n",
       "Galicia      2698764\n",
       "Murcia       1494442\n",
       "Andalucía    8446561\n",
       "dtype: int64"
      ]
     },
     "execution_count": 21,
     "metadata": {},
     "output_type": "execute_result"
    }
   ],
   "source": [
    "index_i= (['Madrid', 'Galicia', 'Murcia', 'Andalucía'])\n",
    "data_d= [6685471, 2698764, 1494442, 8446561]\n",
    "pob2= pd.Series(index= index_i, data=data_d)\n",
    "pob2"
   ]
  },
  {
   "cell_type": "markdown",
   "metadata": {},
   "source": [
    "## Ejercicio 7\n",
    "Obtén un array de `numpy` con los valores del `Series`.\n",
    "\n",
    "Saca también sus índices, y los valores de sus índices."
   ]
  },
  {
   "cell_type": "code",
   "execution_count": 44,
   "metadata": {},
   "outputs": [
    {
     "data": {
      "text/plain": [
       "array([6685471, 2698764, 1494442, 8446561])"
      ]
     },
     "execution_count": 44,
     "metadata": {},
     "output_type": "execute_result"
    }
   ],
   "source": [
    "poblacion.values"
   ]
  },
  {
   "cell_type": "code",
   "execution_count": 45,
   "metadata": {},
   "outputs": [
    {
     "data": {
      "text/plain": [
       "array([6685471, 2698764, 1494442, 8446561])"
      ]
     },
     "execution_count": 45,
     "metadata": {},
     "output_type": "execute_result"
    }
   ],
   "source": [
    "import numpy as np \n",
    "np.array(poblacion)"
   ]
  },
  {
   "cell_type": "code",
   "execution_count": 47,
   "metadata": {},
   "outputs": [
    {
     "data": {
      "text/plain": [
       "Index(['Madrid', 'Galicia', 'Murcia', 'Andalucía'], dtype='object')"
      ]
     },
     "execution_count": 47,
     "metadata": {},
     "output_type": "execute_result"
    }
   ],
   "source": [
    "poblacion.index"
   ]
  },
  {
   "cell_type": "code",
   "execution_count": 48,
   "metadata": {},
   "outputs": [
    {
     "data": {
      "text/plain": [
       "['Madrid', 'Galicia', 'Murcia', 'Andalucía']"
      ]
     },
     "execution_count": 48,
     "metadata": {},
     "output_type": "execute_result"
    }
   ],
   "source": [
    "#Con esto si da un array que se peude trabajar como tal \n",
    "list(poblacion.index.values)"
   ]
  },
  {
   "cell_type": "markdown",
   "metadata": {},
   "source": [
    "## Ejercicio 8    ToDo 5\n",
    "1. ¿Qué población hay en el primer elemento del `Series`?\n",
    "2. ¿Qué población hay en Galicia?\n",
    "3. Imprime por pantalla las poblaciones de Galicia, Andalucía y las comunidades autónomas que se encuentren entre ambas, dentro del `Series`.\n",
    "4. Comprueba con un output booleano que `Galicia` se encuentra entre los índices del `Index`.\n",
    "5. Realiza los apartados 1,2,3 pero esta vez de una manera diferente."
   ]
  },
  {
   "cell_type": "code",
   "execution_count": 49,
   "metadata": {},
   "outputs": [
    {
     "name": "stdout",
     "output_type": "stream",
     "text": [
      "1. 6685471\n",
      "2. 2698764\n",
      "3. \n",
      " Galicia      2698764\n",
      "Murcia       1494442\n",
      "Andalucía    8446561\n",
      "dtype: int64\n",
      "4. Galicia:  True\n",
      "5.1, primer elemento series 6685471\n",
      "5.2, poblacion Galicia 2698764\n",
      "5.3, poblaciones Galicia, Murcia, Andalucia 6685471 1494442 2698764\n"
     ]
    }
   ],
   "source": [
    "print(\"1.\", poblacion['Madrid'])  \n",
    "print(\"2.\", poblacion['Galicia'])\n",
    "print(\"3.\",\"\\n\",  poblacion.iloc[1::])\n",
    "if \"Galicia\"in poblacion: print(\"4. Galicia: \", True)\n",
    "print (\"5.1, primer elemento series\", poblacion.iloc[0])\n",
    "print (\"5.2, poblacion Galicia\",poblacion.iloc[1] )\n",
    "print (\"5.3, poblaciones Galicia, Murcia, Andalucia\",poblacion['Madrid'],poblacion['Murcia'],poblacion['Galicia'])"
   ]
  },
  {
   "cell_type": "code",
   "execution_count": 50,
   "metadata": {},
   "outputs": [
    {
     "name": "stdout",
     "output_type": "stream",
     "text": [
      "6685471\n",
      "6685471\n",
      "1. 6685471\n"
     ]
    }
   ],
   "source": [
    "print(poblacion[0])\n",
    "print(poblacion.iloc[0])  #Esto es lo correcto para acceder al primer elemento. Por código sin saber si es str o int\n",
    "print(\"1.\", poblacion.loc['Madrid']) #accede a través del nombre"
   ]
  },
  {
   "cell_type": "code",
   "execution_count": 51,
   "metadata": {},
   "outputs": [
    {
     "name": "stdout",
     "output_type": "stream",
     "text": [
      "2. 2698764\n"
     ]
    }
   ],
   "source": [
    "print(\"2.\", poblacion.loc['Galicia']) "
   ]
  },
  {
   "cell_type": "code",
   "execution_count": 52,
   "metadata": {},
   "outputs": [
    {
     "name": "stdout",
     "output_type": "stream",
     "text": [
      "Galicia      2698764\n",
      "Murcia       1494442\n",
      "Andalucía    8446561\n",
      "dtype: int64\n",
      "Galicia      2698764\n",
      "Murcia       1494442\n",
      "Andalucía    8446561\n",
      "dtype: int64\n"
     ]
    }
   ],
   "source": [
    "print(poblacion.loc['Galicia':'Andalucía'])\n",
    "print(poblacion['Galicia':'Andalucía'])"
   ]
  },
  {
   "cell_type": "code",
   "execution_count": 54,
   "metadata": {},
   "outputs": [
    {
     "name": "stdout",
     "output_type": "stream",
     "text": [
      "True\n",
      "True\n"
     ]
    }
   ],
   "source": [
    "print(('Galicia' in poblacion.index))\n",
    "print(('Galicia' in poblacion))"
   ]
  },
  {
   "cell_type": "markdown",
   "metadata": {},
   "source": [
    "## Ejercicio 9\n",
    "A partir de las comunidades autónomas anteriores, crea un `Series` con [la tasa de paro](https://es.statista.com/estadisticas/941646/prevision-de-la-tasa-de-paro-por-comunidad-autonoma-espana/) en dichas comunidades autónomas.\n",
    "\n",
    "Con la tasa de paro y las poblaciones, crea un DataFrame de pandas. Llámalo `data`.\n",
    "\n",
    "Tasas de paro\n",
    "\n",
    "Madrid: 9.99\n",
    "\n",
    "Galicia: 11.74\n",
    "\n",
    "Murcia: 16.08\n",
    "\n",
    "Andalucía: 20.8"
   ]
  },
  {
   "cell_type": "code",
   "execution_count": null,
   "metadata": {},
   "outputs": [],
   "source": []
  },
  {
   "cell_type": "code",
   "execution_count": 55,
   "metadata": {},
   "outputs": [
    {
     "data": {
      "text/html": [
       "<div>\n",
       "<style scoped>\n",
       "    .dataframe tbody tr th:only-of-type {\n",
       "        vertical-align: middle;\n",
       "    }\n",
       "\n",
       "    .dataframe tbody tr th {\n",
       "        vertical-align: top;\n",
       "    }\n",
       "\n",
       "    .dataframe thead th {\n",
       "        text-align: right;\n",
       "    }\n",
       "</style>\n",
       "<table border=\"1\" class=\"dataframe\">\n",
       "  <thead>\n",
       "    <tr style=\"text-align: right;\">\n",
       "      <th></th>\n",
       "      <th>poblacion</th>\n",
       "      <th>tasa_paro</th>\n",
       "    </tr>\n",
       "  </thead>\n",
       "  <tbody>\n",
       "    <tr>\n",
       "      <th>Madrid</th>\n",
       "      <td>6685471</td>\n",
       "      <td>9.99</td>\n",
       "    </tr>\n",
       "    <tr>\n",
       "      <th>Galicia</th>\n",
       "      <td>2698764</td>\n",
       "      <td>11.74</td>\n",
       "    </tr>\n",
       "    <tr>\n",
       "      <th>Murcia</th>\n",
       "      <td>1494442</td>\n",
       "      <td>16.08</td>\n",
       "    </tr>\n",
       "    <tr>\n",
       "      <th>Andalucía</th>\n",
       "      <td>8446561</td>\n",
       "      <td>20.80</td>\n",
       "    </tr>\n",
       "  </tbody>\n",
       "</table>\n",
       "</div>"
      ],
      "text/plain": [
       "           poblacion  tasa_paro\n",
       "Madrid       6685471       9.99\n",
       "Galicia      2698764      11.74\n",
       "Murcia       1494442      16.08\n",
       "Andalucía    8446561      20.80"
      ]
     },
     "execution_count": 55,
     "metadata": {},
     "output_type": "execute_result"
    }
   ],
   "source": [
    "tasa_paro= pd.Series({\"Madrid\": 9.99, \"Galicia\": 11.74, \"Murcia\": 16.08, \"Andalucía\": 20.8})\n",
    "data= pd.concat([poblacion, tasa_paro], axis=1)\n",
    "data.columns=[\"poblacion\", \"tasa_paro\"]\n",
    "data"
   ]
  },
  {
   "cell_type": "markdown",
   "metadata": {},
   "source": [
    "## Ejercicio 10\n",
    "Imprime por pantalla la población, y la tasa de paro. Por separado"
   ]
  },
  {
   "cell_type": "code",
   "execution_count": 56,
   "metadata": {},
   "outputs": [
    {
     "name": "stdout",
     "output_type": "stream",
     "text": [
      "________Poblacion_______ \n",
      " Madrid       6685471\n",
      "Galicia      2698764\n",
      "Murcia       1494442\n",
      "Andalucía    8446561\n",
      "Name: poblacion, dtype: int64 \n",
      " _______Tasa de desempleo_______ \n",
      " Madrid        9.99\n",
      "Galicia      11.74\n",
      "Murcia       16.08\n",
      "Andalucía    20.80\n",
      "Name: tasa_paro, dtype: float64\n"
     ]
    }
   ],
   "source": [
    "print(\"________Poblacion_______\", \"\\n\", data['poblacion'], \"\\n\", \"_______Tasa de desempleo_______\", \"\\n\", data['tasa_paro'])"
   ]
  },
  {
   "cell_type": "code",
   "execution_count": 57,
   "metadata": {},
   "outputs": [
    {
     "data": {
      "text/plain": [
       "Madrid        9.99\n",
       "Galicia      11.74\n",
       "Murcia       16.08\n",
       "Andalucía    20.80\n",
       "Name: tasa_paro, dtype: float64"
      ]
     },
     "execution_count": 57,
     "metadata": {},
     "output_type": "execute_result"
    }
   ],
   "source": [
    "data.tasa_paro"
   ]
  },
  {
   "cell_type": "markdown",
   "metadata": {},
   "source": [
    "## Ejercicio 11\n",
    "Crea un nuevo Data Frame (`data2`), que sea igual que `data`, pero con una nueva columna, que lleve [la superficie de las Comunidades Autónomas](https://es.wikipedia.org/wiki/Anexo:Comunidades_y_ciudades_aut%C3%B3nomas_de_Espa%C3%B1a).\n",
    "\n",
    "Madrid: 8028\n",
    "\n",
    "Galicia: 29575\n",
    "\n",
    "Murcia: 11314\n",
    "\n",
    "Andalucía: 87599"
   ]
  },
  {
   "cell_type": "code",
   "execution_count": 59,
   "metadata": {},
   "outputs": [
    {
     "data": {
      "text/html": [
       "<div>\n",
       "<style scoped>\n",
       "    .dataframe tbody tr th:only-of-type {\n",
       "        vertical-align: middle;\n",
       "    }\n",
       "\n",
       "    .dataframe tbody tr th {\n",
       "        vertical-align: top;\n",
       "    }\n",
       "\n",
       "    .dataframe thead th {\n",
       "        text-align: right;\n",
       "    }\n",
       "</style>\n",
       "<table border=\"1\" class=\"dataframe\">\n",
       "  <thead>\n",
       "    <tr style=\"text-align: right;\">\n",
       "      <th></th>\n",
       "      <th>poblacion</th>\n",
       "      <th>tasa_paro</th>\n",
       "      <th>superficie</th>\n",
       "    </tr>\n",
       "  </thead>\n",
       "  <tbody>\n",
       "    <tr>\n",
       "      <th>Madrid</th>\n",
       "      <td>6685471</td>\n",
       "      <td>9.99</td>\n",
       "      <td>8028</td>\n",
       "    </tr>\n",
       "    <tr>\n",
       "      <th>Galicia</th>\n",
       "      <td>2698764</td>\n",
       "      <td>11.74</td>\n",
       "      <td>29575</td>\n",
       "    </tr>\n",
       "    <tr>\n",
       "      <th>Murcia</th>\n",
       "      <td>1494442</td>\n",
       "      <td>16.08</td>\n",
       "      <td>11314</td>\n",
       "    </tr>\n",
       "    <tr>\n",
       "      <th>Andalucía</th>\n",
       "      <td>8446561</td>\n",
       "      <td>20.80</td>\n",
       "      <td>87599</td>\n",
       "    </tr>\n",
       "  </tbody>\n",
       "</table>\n",
       "</div>"
      ],
      "text/plain": [
       "           poblacion  tasa_paro  superficie\n",
       "Madrid       6685471       9.99        8028\n",
       "Galicia      2698764      11.74       29575\n",
       "Murcia       1494442      16.08       11314\n",
       "Andalucía    8446561      20.80       87599"
      ]
     },
     "execution_count": 59,
     "metadata": {},
     "output_type": "execute_result"
    }
   ],
   "source": [
    "#Para no alterar el original se crea una copia, en esta se agrega una columna con los valores en serie. \n",
    "data2=data.copy()\n",
    "data2['superficie']=pd.Series({\"Madrid\": 8028, \"Galicia\": 29575, \"Murcia\": 11314, \"Andalucía\": 87599})\n",
    "data2"
   ]
  },
  {
   "cell_type": "code",
   "execution_count": 60,
   "metadata": {},
   "outputs": [
    {
     "data": {
      "text/html": [
       "<div>\n",
       "<style scoped>\n",
       "    .dataframe tbody tr th:only-of-type {\n",
       "        vertical-align: middle;\n",
       "    }\n",
       "\n",
       "    .dataframe tbody tr th {\n",
       "        vertical-align: top;\n",
       "    }\n",
       "\n",
       "    .dataframe thead th {\n",
       "        text-align: right;\n",
       "    }\n",
       "</style>\n",
       "<table border=\"1\" class=\"dataframe\">\n",
       "  <thead>\n",
       "    <tr style=\"text-align: right;\">\n",
       "      <th></th>\n",
       "      <th>Poblacion</th>\n",
       "      <th>Tasa paro</th>\n",
       "      <th>Superficie</th>\n",
       "    </tr>\n",
       "  </thead>\n",
       "  <tbody>\n",
       "    <tr>\n",
       "      <th>Madrid</th>\n",
       "      <td>6685471</td>\n",
       "      <td>9.99</td>\n",
       "      <td>8028</td>\n",
       "    </tr>\n",
       "    <tr>\n",
       "      <th>Galicia</th>\n",
       "      <td>2698764</td>\n",
       "      <td>11.74</td>\n",
       "      <td>29575</td>\n",
       "    </tr>\n",
       "    <tr>\n",
       "      <th>Murcia</th>\n",
       "      <td>1494442</td>\n",
       "      <td>16.08</td>\n",
       "      <td>11314</td>\n",
       "    </tr>\n",
       "    <tr>\n",
       "      <th>Andalucía</th>\n",
       "      <td>8446561</td>\n",
       "      <td>20.80</td>\n",
       "      <td>87599</td>\n",
       "    </tr>\n",
       "  </tbody>\n",
       "</table>\n",
       "</div>"
      ],
      "text/plain": [
       "           Poblacion  Tasa paro  Superficie\n",
       "Madrid       6685471       9.99        8028\n",
       "Galicia      2698764      11.74       29575\n",
       "Murcia       1494442      16.08       11314\n",
       "Andalucía    8446561      20.80       87599"
      ]
     },
     "execution_count": 60,
     "metadata": {},
     "output_type": "execute_result"
    }
   ],
   "source": [
    "#Aquí hace un vector tipo Series y luego se añade a un neuvo DataFrame llamado \n",
    "superficie=pd.Series({\"Madrid\": 8028, \"Galicia\": 29575, \"Murcia\": 11314, \"Andalucía\": 87599})\n",
    "\n",
    "data2b = pd.DataFrame({\"Poblacion\": poblacion, \"Tasa paro\": tasa_paro, \"Superficie\": superficie})\n",
    "data2b"
   ]
  },
  {
   "cell_type": "markdown",
   "metadata": {},
   "source": [
    "## Ejercicio 12\n",
    "Calcula en una nueva columna la densidad de población (hab/km^2)"
   ]
  },
  {
   "cell_type": "code",
   "execution_count": 61,
   "metadata": {},
   "outputs": [
    {
     "name": "stdout",
     "output_type": "stream",
     "text": [
      "<class 'pandas.core.frame.DataFrame'>\n",
      "Index: 4 entries, Madrid to Andalucía\n",
      "Data columns (total 3 columns):\n",
      " #   Column      Non-Null Count  Dtype  \n",
      "---  ------      --------------  -----  \n",
      " 0   poblacion   4 non-null      int64  \n",
      " 1   tasa_paro   4 non-null      float64\n",
      " 2   superficie  4 non-null      int64  \n",
      "dtypes: float64(1), int64(2)\n",
      "memory usage: 128.0+ bytes\n"
     ]
    }
   ],
   "source": [
    "data2.info()"
   ]
  },
  {
   "cell_type": "code",
   "execution_count": 62,
   "metadata": {},
   "outputs": [
    {
     "data": {
      "text/plain": [
       "poblacion     float64\n",
       "tasa_paro     float64\n",
       "superficie    float64\n",
       "dtype: object"
      ]
     },
     "execution_count": 62,
     "metadata": {},
     "output_type": "execute_result"
    }
   ],
   "source": [
    "\n",
    "data2.astype(float).dtypes"
   ]
  },
  {
   "cell_type": "code",
   "execution_count": 65,
   "metadata": {},
   "outputs": [
    {
     "data": {
      "text/html": [
       "<div>\n",
       "<style scoped>\n",
       "    .dataframe tbody tr th:only-of-type {\n",
       "        vertical-align: middle;\n",
       "    }\n",
       "\n",
       "    .dataframe tbody tr th {\n",
       "        vertical-align: top;\n",
       "    }\n",
       "\n",
       "    .dataframe thead th {\n",
       "        text-align: right;\n",
       "    }\n",
       "</style>\n",
       "<table border=\"1\" class=\"dataframe\">\n",
       "  <thead>\n",
       "    <tr style=\"text-align: right;\">\n",
       "      <th></th>\n",
       "      <th>poblacion</th>\n",
       "      <th>tasa_paro</th>\n",
       "      <th>superficie</th>\n",
       "      <th>densidad_pob</th>\n",
       "      <th>densidad_poblacion</th>\n",
       "    </tr>\n",
       "  </thead>\n",
       "  <tbody>\n",
       "    <tr>\n",
       "      <th>Madrid</th>\n",
       "      <td>6685471</td>\n",
       "      <td>9.99</td>\n",
       "      <td>8028</td>\n",
       "      <td>832.769183</td>\n",
       "      <td>832.769183</td>\n",
       "    </tr>\n",
       "    <tr>\n",
       "      <th>Galicia</th>\n",
       "      <td>2698764</td>\n",
       "      <td>11.74</td>\n",
       "      <td>29575</td>\n",
       "      <td>91.251530</td>\n",
       "      <td>91.251530</td>\n",
       "    </tr>\n",
       "    <tr>\n",
       "      <th>Murcia</th>\n",
       "      <td>1494442</td>\n",
       "      <td>16.08</td>\n",
       "      <td>11314</td>\n",
       "      <td>132.087856</td>\n",
       "      <td>132.087856</td>\n",
       "    </tr>\n",
       "    <tr>\n",
       "      <th>Andalucía</th>\n",
       "      <td>8446561</td>\n",
       "      <td>20.80</td>\n",
       "      <td>87599</td>\n",
       "      <td>96.423030</td>\n",
       "      <td>96.423030</td>\n",
       "    </tr>\n",
       "  </tbody>\n",
       "</table>\n",
       "</div>"
      ],
      "text/plain": [
       "           poblacion  tasa_paro  superficie  densidad_pob  densidad_poblacion\n",
       "Madrid       6685471       9.99        8028    832.769183          832.769183\n",
       "Galicia      2698764      11.74       29575     91.251530           91.251530\n",
       "Murcia       1494442      16.08       11314    132.087856          132.087856\n",
       "Andalucía    8446561      20.80       87599     96.423030           96.423030"
      ]
     },
     "execution_count": 65,
     "metadata": {},
     "output_type": "execute_result"
    }
   ],
   "source": [
    "#Se crea una nueva columna donde estará el resuldato\n",
    "data2['densidad_pob']=data2[\"poblacion\"]/ data2[\"superficie\"]\n",
    "data2"
   ]
  },
  {
   "cell_type": "code",
   "execution_count": null,
   "metadata": {},
   "outputs": [],
   "source": []
  },
  {
   "cell_type": "code",
   "execution_count": null,
   "metadata": {},
   "outputs": [],
   "source": []
  }
 ],
 "metadata": {
  "kernelspec": {
   "display_name": "Python 3",
   "language": "python",
   "name": "python3"
  },
  "language_info": {
   "codemirror_mode": {
    "name": "ipython",
    "version": 3
   },
   "file_extension": ".py",
   "mimetype": "text/x-python",
   "name": "python",
   "nbconvert_exporter": "python",
   "pygments_lexer": "ipython3",
   "version": "3.8.3"
  }
 },
 "nbformat": 4,
 "nbformat_minor": 4
}
