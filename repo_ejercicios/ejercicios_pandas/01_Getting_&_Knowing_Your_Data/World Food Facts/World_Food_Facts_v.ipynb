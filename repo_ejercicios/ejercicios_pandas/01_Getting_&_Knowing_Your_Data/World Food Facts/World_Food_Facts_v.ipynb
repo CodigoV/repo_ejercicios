{
 "cells": [
  {
   "cell_type": "markdown",
   "metadata": {},
   "source": [
    "# Ex1 - Getting and knowing your Data"
   ]
  },
  {
   "cell_type": "markdown",
   "metadata": {},
   "source": [
    "### Step 1. Go to https://www.kaggle.com/openfoodfacts/world-food-facts/data"
   ]
  },
  {
   "cell_type": "markdown",
   "metadata": {},
   "source": [
    "###  Step 2. Download the dataset to your computer and unzip it."
   ]
  },
  {
   "cell_type": "code",
   "execution_count": null,
   "metadata": {},
   "outputs": [],
   "source": [
    "food_100.csv"
   ]
  },
  {
   "cell_type": "markdown",
   "metadata": {},
   "source": [
    "### Step 3. Use the tsv file and assign it to a dataframe called food"
   ]
  },
  {
   "cell_type": "code",
   "execution_count": 3,
   "metadata": {},
   "outputs": [],
   "source": [
    "import pandas as pd\n",
    "import numpy as np\n",
    "\n",
    "food= pd.read_csv(\"food_100.csv\", sep=\",\")"
   ]
  },
  {
   "cell_type": "markdown",
   "metadata": {},
   "source": [
    "### Step 4. See the first 5 entries"
   ]
  },
  {
   "cell_type": "code",
   "execution_count": 1,
   "metadata": {},
   "outputs": [
    {
     "data": {
      "text/html": [
       "<div>\n",
       "<style scoped>\n",
       "    .dataframe tbody tr th:only-of-type {\n",
       "        vertical-align: middle;\n",
       "    }\n",
       "\n",
       "    .dataframe tbody tr th {\n",
       "        vertical-align: top;\n",
       "    }\n",
       "\n",
       "    .dataframe thead th {\n",
       "        text-align: right;\n",
       "    }\n",
       "</style>\n",
       "<table border=\"1\" class=\"dataframe\">\n",
       "  <thead>\n",
       "    <tr style=\"text-align: right;\">\n",
       "      <th></th>\n",
       "      <th>Unnamed: 0</th>\n",
       "      <th>code</th>\n",
       "      <th>url</th>\n",
       "      <th>creator</th>\n",
       "      <th>created_t</th>\n",
       "      <th>created_datetime</th>\n",
       "      <th>last_modified_t</th>\n",
       "      <th>last_modified_datetime</th>\n",
       "      <th>product_name</th>\n",
       "      <th>generic_name</th>\n",
       "      <th>...</th>\n",
       "      <th>fruits-vegetables-nuts_100g</th>\n",
       "      <th>fruits-vegetables-nuts-estimate_100g</th>\n",
       "      <th>collagen-meat-protein-ratio_100g</th>\n",
       "      <th>cocoa_100g</th>\n",
       "      <th>chlorophyl_100g</th>\n",
       "      <th>carbon-footprint_100g</th>\n",
       "      <th>nutrition-score-fr_100g</th>\n",
       "      <th>nutrition-score-uk_100g</th>\n",
       "      <th>glycemic-index_100g</th>\n",
       "      <th>water-hardness_100g</th>\n",
       "    </tr>\n",
       "  </thead>\n",
       "  <tbody>\n",
       "    <tr>\n",
       "      <th>0</th>\n",
       "      <td>0</td>\n",
       "      <td>3087</td>\n",
       "      <td>http://world-en.openfoodfacts.org/product/0000...</td>\n",
       "      <td>openfoodfacts-contributors</td>\n",
       "      <td>1474103866</td>\n",
       "      <td>2016-09-17T09:17:46Z</td>\n",
       "      <td>1474103893</td>\n",
       "      <td>2016-09-17T09:18:13Z</td>\n",
       "      <td>Farine de blé noir</td>\n",
       "      <td>NaN</td>\n",
       "      <td>...</td>\n",
       "      <td>NaN</td>\n",
       "      <td>NaN</td>\n",
       "      <td>NaN</td>\n",
       "      <td>NaN</td>\n",
       "      <td>NaN</td>\n",
       "      <td>NaN</td>\n",
       "      <td>NaN</td>\n",
       "      <td>NaN</td>\n",
       "      <td>NaN</td>\n",
       "      <td>NaN</td>\n",
       "    </tr>\n",
       "    <tr>\n",
       "      <th>1</th>\n",
       "      <td>1</td>\n",
       "      <td>4530</td>\n",
       "      <td>http://world-en.openfoodfacts.org/product/0000...</td>\n",
       "      <td>usda-ndb-import</td>\n",
       "      <td>1489069957</td>\n",
       "      <td>2017-03-09T14:32:37Z</td>\n",
       "      <td>1489069957</td>\n",
       "      <td>2017-03-09T14:32:37Z</td>\n",
       "      <td>Banana Chips Sweetened (Whole)</td>\n",
       "      <td>NaN</td>\n",
       "      <td>...</td>\n",
       "      <td>NaN</td>\n",
       "      <td>NaN</td>\n",
       "      <td>NaN</td>\n",
       "      <td>NaN</td>\n",
       "      <td>NaN</td>\n",
       "      <td>NaN</td>\n",
       "      <td>14.0</td>\n",
       "      <td>14.0</td>\n",
       "      <td>NaN</td>\n",
       "      <td>NaN</td>\n",
       "    </tr>\n",
       "    <tr>\n",
       "      <th>2</th>\n",
       "      <td>2</td>\n",
       "      <td>4559</td>\n",
       "      <td>http://world-en.openfoodfacts.org/product/0000...</td>\n",
       "      <td>usda-ndb-import</td>\n",
       "      <td>1489069957</td>\n",
       "      <td>2017-03-09T14:32:37Z</td>\n",
       "      <td>1489069957</td>\n",
       "      <td>2017-03-09T14:32:37Z</td>\n",
       "      <td>Peanuts</td>\n",
       "      <td>NaN</td>\n",
       "      <td>...</td>\n",
       "      <td>NaN</td>\n",
       "      <td>NaN</td>\n",
       "      <td>NaN</td>\n",
       "      <td>NaN</td>\n",
       "      <td>NaN</td>\n",
       "      <td>NaN</td>\n",
       "      <td>0.0</td>\n",
       "      <td>0.0</td>\n",
       "      <td>NaN</td>\n",
       "      <td>NaN</td>\n",
       "    </tr>\n",
       "    <tr>\n",
       "      <th>3</th>\n",
       "      <td>3</td>\n",
       "      <td>16087</td>\n",
       "      <td>http://world-en.openfoodfacts.org/product/0000...</td>\n",
       "      <td>usda-ndb-import</td>\n",
       "      <td>1489055731</td>\n",
       "      <td>2017-03-09T10:35:31Z</td>\n",
       "      <td>1489055731</td>\n",
       "      <td>2017-03-09T10:35:31Z</td>\n",
       "      <td>Organic Salted Nut Mix</td>\n",
       "      <td>NaN</td>\n",
       "      <td>...</td>\n",
       "      <td>NaN</td>\n",
       "      <td>NaN</td>\n",
       "      <td>NaN</td>\n",
       "      <td>NaN</td>\n",
       "      <td>NaN</td>\n",
       "      <td>NaN</td>\n",
       "      <td>12.0</td>\n",
       "      <td>12.0</td>\n",
       "      <td>NaN</td>\n",
       "      <td>NaN</td>\n",
       "    </tr>\n",
       "    <tr>\n",
       "      <th>4</th>\n",
       "      <td>4</td>\n",
       "      <td>16094</td>\n",
       "      <td>http://world-en.openfoodfacts.org/product/0000...</td>\n",
       "      <td>usda-ndb-import</td>\n",
       "      <td>1489055653</td>\n",
       "      <td>2017-03-09T10:34:13Z</td>\n",
       "      <td>1489055653</td>\n",
       "      <td>2017-03-09T10:34:13Z</td>\n",
       "      <td>Organic Polenta</td>\n",
       "      <td>NaN</td>\n",
       "      <td>...</td>\n",
       "      <td>NaN</td>\n",
       "      <td>NaN</td>\n",
       "      <td>NaN</td>\n",
       "      <td>NaN</td>\n",
       "      <td>NaN</td>\n",
       "      <td>NaN</td>\n",
       "      <td>NaN</td>\n",
       "      <td>NaN</td>\n",
       "      <td>NaN</td>\n",
       "      <td>NaN</td>\n",
       "    </tr>\n",
       "  </tbody>\n",
       "</table>\n",
       "<p>5 rows × 164 columns</p>\n",
       "</div>"
      ],
      "text/plain": [
       "   Unnamed: 0   code                                                url  \\\n",
       "0           0   3087  http://world-en.openfoodfacts.org/product/0000...   \n",
       "1           1   4530  http://world-en.openfoodfacts.org/product/0000...   \n",
       "2           2   4559  http://world-en.openfoodfacts.org/product/0000...   \n",
       "3           3  16087  http://world-en.openfoodfacts.org/product/0000...   \n",
       "4           4  16094  http://world-en.openfoodfacts.org/product/0000...   \n",
       "\n",
       "                      creator   created_t      created_datetime  \\\n",
       "0  openfoodfacts-contributors  1474103866  2016-09-17T09:17:46Z   \n",
       "1             usda-ndb-import  1489069957  2017-03-09T14:32:37Z   \n",
       "2             usda-ndb-import  1489069957  2017-03-09T14:32:37Z   \n",
       "3             usda-ndb-import  1489055731  2017-03-09T10:35:31Z   \n",
       "4             usda-ndb-import  1489055653  2017-03-09T10:34:13Z   \n",
       "\n",
       "   last_modified_t last_modified_datetime                    product_name  \\\n",
       "0       1474103893   2016-09-17T09:18:13Z              Farine de blé noir   \n",
       "1       1489069957   2017-03-09T14:32:37Z  Banana Chips Sweetened (Whole)   \n",
       "2       1489069957   2017-03-09T14:32:37Z                         Peanuts   \n",
       "3       1489055731   2017-03-09T10:35:31Z          Organic Salted Nut Mix   \n",
       "4       1489055653   2017-03-09T10:34:13Z                 Organic Polenta   \n",
       "\n",
       "   generic_name  ... fruits-vegetables-nuts_100g  \\\n",
       "0           NaN  ...                         NaN   \n",
       "1           NaN  ...                         NaN   \n",
       "2           NaN  ...                         NaN   \n",
       "3           NaN  ...                         NaN   \n",
       "4           NaN  ...                         NaN   \n",
       "\n",
       "  fruits-vegetables-nuts-estimate_100g collagen-meat-protein-ratio_100g  \\\n",
       "0                                  NaN                              NaN   \n",
       "1                                  NaN                              NaN   \n",
       "2                                  NaN                              NaN   \n",
       "3                                  NaN                              NaN   \n",
       "4                                  NaN                              NaN   \n",
       "\n",
       "  cocoa_100g chlorophyl_100g carbon-footprint_100g nutrition-score-fr_100g  \\\n",
       "0        NaN             NaN                   NaN                     NaN   \n",
       "1        NaN             NaN                   NaN                    14.0   \n",
       "2        NaN             NaN                   NaN                     0.0   \n",
       "3        NaN             NaN                   NaN                    12.0   \n",
       "4        NaN             NaN                   NaN                     NaN   \n",
       "\n",
       "  nutrition-score-uk_100g  glycemic-index_100g  water-hardness_100g  \n",
       "0                     NaN                  NaN                  NaN  \n",
       "1                    14.0                  NaN                  NaN  \n",
       "2                     0.0                  NaN                  NaN  \n",
       "3                    12.0                  NaN                  NaN  \n",
       "4                     NaN                  NaN                  NaN  \n",
       "\n",
       "[5 rows x 164 columns]"
      ]
     },
     "execution_count": 1,
     "metadata": {},
     "output_type": "execute_result"
    }
   ],
   "source": [
    "\n",
    "food.head(5)"
   ]
  },
  {
   "cell_type": "markdown",
   "metadata": {},
   "source": [
    "### Step 5. What is the number of observations in the dataset?"
   ]
  },
  {
   "cell_type": "code",
   "execution_count": 9,
   "metadata": {},
   "outputs": [
    {
     "name": "stdout",
     "output_type": "stream",
     "text": [
      "<class 'pandas.core.frame.DataFrame'>\n",
      "RangeIndex: 100 entries, 0 to 99\n",
      "Columns: 164 entries, Unnamed: 0 to water-hardness_100g\n",
      "dtypes: float64(125), int64(4), object(35)\n",
      "memory usage: 128.2+ KB\n"
     ]
    }
   ],
   "source": [
    "food.info()"
   ]
  },
  {
   "cell_type": "code",
   "execution_count": 11,
   "metadata": {},
   "outputs": [
    {
     "data": {
      "text/plain": [
       "(100, 164)"
      ]
     },
     "execution_count": 11,
     "metadata": {},
     "output_type": "execute_result"
    }
   ],
   "source": [
    "food.shape"
   ]
  },
  {
   "cell_type": "markdown",
   "metadata": {},
   "source": [
    "### Step 6. What is the number of columns in the dataset?"
   ]
  },
  {
   "cell_type": "code",
   "execution_count": 4,
   "metadata": {},
   "outputs": [
    {
     "name": "stdout",
     "output_type": "stream",
     "text": [
      "164\n"
     ]
    }
   ],
   "source": [
    "print (food.shape[1])"
   ]
  },
  {
   "cell_type": "code",
   "execution_count": 6,
   "metadata": {},
   "outputs": [
    {
     "data": {
      "text/plain": [
       "164"
      ]
     },
     "execution_count": 6,
     "metadata": {},
     "output_type": "execute_result"
    }
   ],
   "source": [
    "(len(food.columns))"
   ]
  },
  {
   "cell_type": "code",
   "execution_count": null,
   "metadata": {},
   "outputs": [],
   "source": []
  },
  {
   "cell_type": "markdown",
   "metadata": {},
   "source": [
    "### Step 7. Print the name of all the columns."
   ]
  },
  {
   "cell_type": "code",
   "execution_count": 22,
   "metadata": {},
   "outputs": [
    {
     "name": "stdout",
     "output_type": "stream",
     "text": [
      "Index(['Unnamed: 0', 'code', 'url', 'creator', 'created_t', 'created_datetime',\n",
      "       'last_modified_t', 'last_modified_datetime', 'product_name',\n",
      "       'generic_name',\n",
      "       ...\n",
      "       'fruits-vegetables-nuts_100g', 'fruits-vegetables-nuts-estimate_100g',\n",
      "       'collagen-meat-protein-ratio_100g', 'cocoa_100g', 'chlorophyl_100g',\n",
      "       'carbon-footprint_100g', 'nutrition-score-fr_100g',\n",
      "       'nutrition-score-uk_100g', 'glycemic-index_100g',\n",
      "       'water-hardness_100g'],\n",
      "      dtype='object', length=164)\n"
     ]
    }
   ],
   "source": [
    "print(food.columns)"
   ]
  },
  {
   "cell_type": "code",
   "execution_count": 10,
   "metadata": {},
   "outputs": [
    {
     "name": "stdout",
     "output_type": "stream",
     "text": [
      "<class 'pandas.core.frame.DataFrame'>\n",
      "RangeIndex: 100 entries, 0 to 99\n",
      "Data columns (total 164 columns):\n",
      " #   Column                                      Dtype  \n",
      "---  ------                                      -----  \n",
      " 0   Unnamed: 0                                  int64  \n",
      " 1   code                                        int64  \n",
      " 2   url                                         object \n",
      " 3   creator                                     object \n",
      " 4   created_t                                   int64  \n",
      " 5   created_datetime                            object \n",
      " 6   last_modified_t                             int64  \n",
      " 7   last_modified_datetime                      object \n",
      " 8   product_name                                object \n",
      " 9   generic_name                                float64\n",
      " 10  quantity                                    object \n",
      " 11  packaging                                   object \n",
      " 12  packaging_tags                              object \n",
      " 13  brands                                      object \n",
      " 14  brands_tags                                 object \n",
      " 15  categories                                  object \n",
      " 16  categories_tags                             object \n",
      " 17  categories_en                               object \n",
      " 18  origins                                     float64\n",
      " 19  origins_tags                                float64\n",
      " 20  manufacturing_places                        float64\n",
      " 21  manufacturing_places_tags                   float64\n",
      " 22  labels                                      float64\n",
      " 23  labels_tags                                 float64\n",
      " 24  labels_en                                   float64\n",
      " 25  emb_codes                                   float64\n",
      " 26  emb_codes_tags                              float64\n",
      " 27  first_packaging_code_geo                    float64\n",
      " 28  cities                                      float64\n",
      " 29  cities_tags                                 float64\n",
      " 30  purchase_places                             float64\n",
      " 31  stores                                      float64\n",
      " 32  countries                                   object \n",
      " 33  countries_tags                              object \n",
      " 34  countries_en                                object \n",
      " 35  ingredients_text                            object \n",
      " 36  allergens                                   float64\n",
      " 37  allergens_en                                float64\n",
      " 38  traces                                      object \n",
      " 39  traces_tags                                 object \n",
      " 40  traces_en                                   object \n",
      " 41  serving_size                                object \n",
      " 42  no_nutriments                               float64\n",
      " 43  additives_n                                 float64\n",
      " 44  additives                                   object \n",
      " 45  additives_tags                              object \n",
      " 46  additives_en                                object \n",
      " 47  ingredients_from_palm_oil_n                 float64\n",
      " 48  ingredients_from_palm_oil                   float64\n",
      " 49  ingredients_from_palm_oil_tags              float64\n",
      " 50  ingredients_that_may_be_from_palm_oil_n     float64\n",
      " 51  ingredients_that_may_be_from_palm_oil       float64\n",
      " 52  ingredients_that_may_be_from_palm_oil_tags  object \n",
      " 53  nutrition_grade_uk                          float64\n",
      " 54  nutrition_grade_fr                          object \n",
      " 55  pnns_groups_1                               object \n",
      " 56  pnns_groups_2                               object \n",
      " 57  states                                      object \n",
      " 58  states_tags                                 object \n",
      " 59  states_en                                   object \n",
      " 60  main_category                               object \n",
      " 61  main_category_en                            object \n",
      " 62  image_url                                   object \n",
      " 63  image_small_url                             object \n",
      " 64  energy_100g                                 float64\n",
      " 65  energy-from-fat_100g                        float64\n",
      " 66  fat_100g                                    float64\n",
      " 67  saturated-fat_100g                          float64\n",
      " 68  -butyric-acid_100g                          float64\n",
      " 69  -caproic-acid_100g                          float64\n",
      " 70  -caprylic-acid_100g                         float64\n",
      " 71  -capric-acid_100g                           float64\n",
      " 72  -lauric-acid_100g                           float64\n",
      " 73  -myristic-acid_100g                         float64\n",
      " 74  -palmitic-acid_100g                         float64\n",
      " 75  -stearic-acid_100g                          float64\n",
      " 76  -arachidic-acid_100g                        float64\n",
      " 77  -behenic-acid_100g                          float64\n",
      " 78  -lignoceric-acid_100g                       float64\n",
      " 79  -cerotic-acid_100g                          float64\n",
      " 80  -montanic-acid_100g                         float64\n",
      " 81  -melissic-acid_100g                         float64\n",
      " 82  monounsaturated-fat_100g                    float64\n",
      " 83  polyunsaturated-fat_100g                    float64\n",
      " 84  omega-3-fat_100g                            float64\n",
      " 85  -alpha-linolenic-acid_100g                  float64\n",
      " 86  -eicosapentaenoic-acid_100g                 float64\n",
      " 87  -docosahexaenoic-acid_100g                  float64\n",
      " 88  omega-6-fat_100g                            float64\n",
      " 89  -linoleic-acid_100g                         float64\n",
      " 90  -arachidonic-acid_100g                      float64\n",
      " 91  -gamma-linolenic-acid_100g                  float64\n",
      " 92  -dihomo-gamma-linolenic-acid_100g           float64\n",
      " 93  omega-9-fat_100g                            float64\n",
      " 94  -oleic-acid_100g                            float64\n",
      " 95  -elaidic-acid_100g                          float64\n",
      " 96  -gondoic-acid_100g                          float64\n",
      " 97  -mead-acid_100g                             float64\n",
      " 98  -erucic-acid_100g                           float64\n",
      " 99  -nervonic-acid_100g                         float64\n",
      " 100 trans-fat_100g                              float64\n",
      " 101 cholesterol_100g                            float64\n",
      " 102 carbohydrates_100g                          float64\n",
      " 103 sugars_100g                                 float64\n",
      " 104 -sucrose_100g                               float64\n",
      " 105 -glucose_100g                               float64\n",
      " 106 -fructose_100g                              float64\n",
      " 107 -lactose_100g                               float64\n",
      " 108 -maltose_100g                               float64\n",
      " 109 -maltodextrins_100g                         float64\n",
      " 110 starch_100g                                 float64\n",
      " 111 polyols_100g                                float64\n",
      " 112 fiber_100g                                  float64\n",
      " 113 proteins_100g                               float64\n",
      " 114 casein_100g                                 float64\n",
      " 115 serum-proteins_100g                         float64\n",
      " 116 nucleotides_100g                            float64\n",
      " 117 salt_100g                                   float64\n",
      " 118 sodium_100g                                 float64\n",
      " 119 alcohol_100g                                float64\n",
      " 120 vitamin-a_100g                              float64\n",
      " 121 beta-carotene_100g                          float64\n",
      " 122 vitamin-d_100g                              float64\n",
      " 123 vitamin-e_100g                              float64\n",
      " 124 vitamin-k_100g                              float64\n",
      " 125 vitamin-c_100g                              float64\n",
      " 126 vitamin-b1_100g                             float64\n",
      " 127 vitamin-b2_100g                             float64\n",
      " 128 vitamin-pp_100g                             float64\n",
      " 129 vitamin-b6_100g                             float64\n",
      " 130 vitamin-b9_100g                             float64\n",
      " 131 folates_100g                                float64\n",
      " 132 vitamin-b12_100g                            float64\n",
      " 133 biotin_100g                                 float64\n",
      " 134 pantothenic-acid_100g                       float64\n",
      " 135 silica_100g                                 float64\n",
      " 136 bicarbonate_100g                            float64\n",
      " 137 potassium_100g                              float64\n",
      " 138 chloride_100g                               float64\n",
      " 139 calcium_100g                                float64\n",
      " 140 phosphorus_100g                             float64\n",
      " 141 iron_100g                                   float64\n",
      " 142 magnesium_100g                              float64\n",
      " 143 zinc_100g                                   float64\n",
      " 144 copper_100g                                 float64\n",
      " 145 manganese_100g                              float64\n",
      " 146 fluoride_100g                               float64\n",
      " 147 selenium_100g                               float64\n",
      " 148 chromium_100g                               float64\n",
      " 149 molybdenum_100g                             float64\n",
      " 150 iodine_100g                                 float64\n",
      " 151 caffeine_100g                               float64\n",
      " 152 taurine_100g                                float64\n",
      " 153 ph_100g                                     float64\n",
      " 154 fruits-vegetables-nuts_100g                 float64\n",
      " 155 fruits-vegetables-nuts-estimate_100g        float64\n",
      " 156 collagen-meat-protein-ratio_100g            float64\n",
      " 157 cocoa_100g                                  float64\n",
      " 158 chlorophyl_100g                             float64\n",
      " 159 carbon-footprint_100g                       float64\n",
      " 160 nutrition-score-fr_100g                     float64\n",
      " 161 nutrition-score-uk_100g                     float64\n",
      " 162 glycemic-index_100g                         float64\n",
      " 163 water-hardness_100g                         float64\n",
      "dtypes: float64(125), int64(4), object(35)\n",
      "memory usage: 128.2+ KB\n"
     ]
    }
   ],
   "source": [
    "food.info(verbose = True)"
   ]
  },
  {
   "cell_type": "markdown",
   "metadata": {},
   "source": [
    "### Step 8. What is the name of 105th column?"
   ]
  },
  {
   "cell_type": "code",
   "execution_count": 20,
   "metadata": {},
   "outputs": [
    {
     "data": {
      "text/plain": [
       "'-sucrose_100g'"
      ]
     },
     "execution_count": 20,
     "metadata": {},
     "output_type": "execute_result"
    }
   ],
   "source": [
    "food.columns[104]"
   ]
  },
  {
   "cell_type": "markdown",
   "metadata": {},
   "source": [
    "### Step 9. What is the type of the observations of the 105th column?"
   ]
  },
  {
   "cell_type": "code",
   "execution_count": 11,
   "metadata": {},
   "outputs": [
    {
     "data": {
      "text/plain": [
       "dtype('float64')"
      ]
     },
     "execution_count": 11,
     "metadata": {},
     "output_type": "execute_result"
    }
   ],
   "source": [
    "food.dtypes['-sucrose_100g']"
   ]
  },
  {
   "cell_type": "code",
   "execution_count": 14,
   "metadata": {},
   "outputs": [
    {
     "data": {
      "text/plain": [
       "dtype('float64')"
      ]
     },
     "execution_count": 14,
     "metadata": {},
     "output_type": "execute_result"
    }
   ],
   "source": [
    "food['-sucrose_100g'].dtype"
   ]
  },
  {
   "cell_type": "markdown",
   "metadata": {},
   "source": [
    "### Step 10. How is the dataset indexed?"
   ]
  },
  {
   "cell_type": "code",
   "execution_count": 24,
   "metadata": {},
   "outputs": [
    {
     "data": {
      "text/plain": [
       "RangeIndex(start=0, stop=100, step=1)"
      ]
     },
     "execution_count": 24,
     "metadata": {},
     "output_type": "execute_result"
    }
   ],
   "source": [
    "food.index"
   ]
  },
  {
   "cell_type": "markdown",
   "metadata": {},
   "source": [
    "### Step 11. What is the product name of the 19th observation?"
   ]
  },
  {
   "cell_type": "code",
   "execution_count": 15,
   "metadata": {},
   "outputs": [
    {
     "data": {
      "text/plain": [
       "'Lotus Organic Brown Jasmine Rice'"
      ]
     },
     "execution_count": 15,
     "metadata": {},
     "output_type": "execute_result"
    }
   ],
   "source": [
    "food.at[18,'product_name']"
   ]
  },
  {
   "cell_type": "code",
   "execution_count": 20,
   "metadata": {},
   "outputs": [
    {
     "data": {
      "text/plain": [
       "'Lotus Organic Brown Jasmine Rice'"
      ]
     },
     "execution_count": 20,
     "metadata": {},
     "output_type": "execute_result"
    }
   ],
   "source": [
    "food['product_name'][18]"
   ]
  },
  {
   "cell_type": "code",
   "execution_count": null,
   "metadata": {},
   "outputs": [],
   "source": []
  }
 ],
 "metadata": {
  "anaconda-cloud": {},
  "kernelspec": {
   "display_name": "Python 3",
   "language": "python",
   "name": "python3"
  },
  "language_info": {
   "codemirror_mode": {
    "name": "ipython",
    "version": 3
   },
   "file_extension": ".py",
   "mimetype": "text/x-python",
   "name": "python",
   "nbconvert_exporter": "python",
   "pygments_lexer": "ipython3",
   "version": "3.8.3"
  }
 },
 "nbformat": 4,
 "nbformat_minor": 4
}
