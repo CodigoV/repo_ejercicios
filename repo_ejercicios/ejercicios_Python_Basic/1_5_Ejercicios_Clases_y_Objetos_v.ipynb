{
 "cells": [
  {
   "cell_type": "markdown",
   "metadata": {},
   "source": [
    "![imagen](./img/ejercicios.png)\n",
    "\n",
    "# Ejercicios Clases y Objetos"
   ]
  },
  {
   "cell_type": "markdown",
   "metadata": {},
   "source": [
    "## Ejercicio 1\n",
    "Somos una empresa que tiene varias tiendas de electrodomesticos. Necesitamos un programa para manejar las tiendas, ver las ventas que han tenido, cuántos empleados hay, etc... Para ello vamos a modelizar la tienda en una clase, que tendrá las siguientes características:\n",
    "* Nombre clase: \"Tienda\"\n",
    "* Atributos comunes:\n",
    "    * Tipo: \"Electrodomésticos\"\n",
    "    * Abierta: True\n",
    "* Atributos propios de cada tienda:\n",
    "    * Nombre - String\n",
    "    * Dirección - String\n",
    "    * Número de empleados - int\n",
    "    * Ventas ultimos 3 meses - Lista de 3 numeros\n",
    "* Método para calcular las ventas de todos los meses, que devuelva un numero con todas las ventas.\n",
    "* Método que calcula la media de ventas de los ultimos meses, por empleado\n",
    "* Método que devuelve en un string el nombre de la tienda, junto con su dirección.\n",
    "* Método que obtiene las ventas del último mes.\n",
    "* Método para dar una proyección de las ventas en caso de haber invertido X dinero en marketing en esa tienda. Siendo X el parámetro de entrada. Si X es menor de 1000, las ventas de los ultimos 3 meses hubiesen sido de (1.2 x ventas), si es mayor o igual de 1000, las ventas hubiesen sido de (1.5 x venta). El método reescribe el atributo de ventas en los últimos 3 meses, y además devuelve las ventas con el aumento.\n",
    "\n",
    "Se pide:\n",
    "1. Implementar la clase \"Tienda\"\n",
    "2. Crear tres tiendas con datos inventados\n",
    "3. Comprueba en al menos una de ellas, todo lo implementado en la clase tienda (sus atributos, media de ventas, ventas/empleado...)\n",
    "3. Calcular las ventas del último mes de todas las tiendas. Para ello usa el bucle `for`\n",
    "4. Imprime por pantalla los nombres de las tiendas cuya dirección lleve el string \"Avenida\"\n",
    "5. Seguro que ya has hecho este apartado... Documenta la clase :)"
   ]
  },
  {
   "cell_type": "code",
   "execution_count": 2,
   "metadata": {},
   "outputs": [],
   "source": [
    "class Tienda: \n",
    "\n",
    "    Tipo= \"Electrodomésticos\"\n",
    "    Abierta= True\n",
    "    \n",
    "    def __init__ (self, nombre_calle, direccion2, num_emplea2, ventas_3 ):  \n",
    "        self.nombre = nombre_calle\n",
    "        self.direccion =direccion2\n",
    "        self.num_empleados = num_emplea2\n",
    "        self.ventas_3_meses = ventas_3\n",
    "    \n",
    "    def ventas_total (self):\n",
    "        return str(sum(self.ventas_3_meses))\n",
    "    \n",
    "    def ventas_empleados (self):\n",
    "        return self.ventas_total()/self.num_empleados\n",
    "    \n",
    "    def nom_direccion(self): \n",
    "        return \"Nombre tienda: \" + self.nombre + \"\\nDireccion: \" + self.direccion\n",
    "\n",
    "    def ventas_ult_mes(self):\n",
    "        return self.ventas_3_meses[-1]\n",
    "    \n",
    "    def proy_marketing(self, X):\n",
    "        variable = []\n",
    "        for i in range(len(self.ventas_3_meses)):\n",
    "            if X < 1000:\n",
    "                variable.append(self.ventas_3_meses[i] * 1.2)\n",
    "            else:\n",
    "                self.ventas_3_meses[i] = self.ventas_3_meses[i] * 1.5\n",
    "        return self.ventas_3_meses\n",
    "    \n",
    "  "
   ]
  },
  {
   "cell_type": "code",
   "execution_count": null,
   "metadata": {},
   "outputs": [],
   "source": []
  },
  {
   "cell_type": "code",
   "execution_count": 8,
   "metadata": {},
   "outputs": [
    {
     "output_type": "stream",
     "name": "stdout",
     "text": [
      "manzana_sol\n[1000, 2000, 3000]\n6000\n3000\n[1500.0, 3000.0, 4500.0]\n"
     ]
    }
   ],
   "source": [
    "tienda1 = Tienda(\"manzana_sol\", \"Plaza Sol\", 20, [1000,2000,3000])\n",
    "print (tienda1.nombre)\n",
    "print (tienda1.ventas_3_meses)\n",
    "print (tienda1.ventas_total())\n",
    "print(tienda1.ventas_ult_mes())\n",
    "print(tienda1.proy_marketing(10001))"
   ]
  },
  {
   "cell_type": "code",
   "execution_count": null,
   "metadata": {},
   "outputs": [],
   "source": [
    "class Tienda: \n",
    "\n",
    "    Tipo= \"Electrodomésticos\"\n",
    "    Abierta= True\n",
    "    \n",
    "    def __init__ (self, nombre_calle, direccion, empleados, ce):   #venta \n",
    "        self.nombre = nombre_calle\n",
    "        self.direccion =direccion\n",
    "        self.num_empleados = empleados\n",
    "        self \n",
    "    \n",
    "    def ventas_total (self):  # ¿por año, la ¿suma de venta por mes?, se da por parametro? \n",
    "        \n",
    "        listaVentas ultimos 3 meses - Lista de 3 numeros\n",
    "        ventas_meses =[100,200,300]\n",
    "        return ventas_meses\n",
    "    \n",
    "    def media_ventas (self):\n",
    "        media_ventas= ventas/len(range)\n",
    "        \n",
    "    def ventas_media_empleados (self):\n",
    "        ventas_media_empleados= ventas_total /empleados\n",
    "        \n",
    "    def datos_tienda (self): \n",
    "        print (nombre_calle)\n",
    "        print (direccion)\n",
    "        print (empleados)\n",
    "    \n",
    "    def ventas_mes():\n",
    "        venta_mes= \n",
    "    \n",
    "    def proyeccion_ventas (self): \n",
    "        x= \n",
    "        if x < 1000, las ventas de los ultimos 3 meses hubiesen sido de (1.2 x ventas),\n",
    "        si es mayor o igual de 1000, las ventas hubiesen sido de (1.5 x venta)\n",
    "        . El método reescribe el atributo de ventas en los últimos 3 meses, y además devuelve las ventas con el aumento.\n",
    "\n",
    "\n",
    "        \n",
    "        \n",
    "Ventas ultimos 3 meses - Lista de 3 numeros\n",
    "Método para calcular las ventas de todos los meses, que devuelva un numero con todas las ventas.\n",
    "Método que calcula la media de ventas de los ultimos meses, por empleado\n",
    "Método que devuelve en un string el nombre de la tienda, junto con su dirección.\n",
    "Método que obtiene las ventas del último mes.\n",
    "Método para dar una proyección de las ventas en caso de haber invertido X dinero en marketing en esa tienda. \n",
    "\n",
    "Siendo X el parámetro de entrada. Si X es menor de 1000, las ventas de los ultimos 3 meses hubiesen sido de (1.2 x ventas), si es mayor o igual de 1000, las ventas hubiesen sido de (1.5 x venta). El método reescribe el atributo de ventas en los últimos 3 meses, y además devuelve las ventas con el aumento.\n",
    "\n"
   ]
  },
  {
   "cell_type": "markdown",
   "metadata": {},
   "source": [
    "## Ejercicio 2\n",
    "En este ejercicio vamos a implementar una clase *Perro* en Python. La clase tiene las siguientes características:\n",
    "* Cosas que sabemos seguro que tiene un perro\n",
    "    * Tiene 4 patas\n",
    "    * 2 orejas\n",
    "    * 2 ojos\n",
    "    * Una velocidad de 0. Por defecto, el perro está parado\n",
    "* Cuando se inicialice:\n",
    "    * El perro será de una determinada raza\n",
    "    * Por defecto tendrá pelo \"Marrón\", a no ser que se diga lo contrario.\n",
    "    * Por defecto no tendrá dueño, a no ser que se diga lo contrario.\n",
    "    \n",
    "* Dispondrá también de un método llamado andar, que tiene un argumento de entrada (aumento_velocidad). Este valor se le sumará a la velocidad que ya llevaba el perro.\n",
    "* Necesita otro método (parar), donde pondremos la velocidad a 0.\n",
    "* Otro método llamado \"ladrar\", que tendrá un argumento de entrada, y la salida será el siguiente string: \"GUAU!\" + el argumento de entrada.\n",
    "\n",
    "\n",
    "Se pide:\n",
    "* Implementa la clase *Perro*\n",
    "* Crea un objeto de tipo *Perro*, sin dueño\n",
    "* Comprueba que están bien todos sus atributos\n",
    "* Prueba que ande, y comprueba su velocidad\n",
    "* Páralo\n",
    "* Documenta la clase *Perro*"
   ]
  },
  {
   "cell_type": "code",
   "execution_count": 10,
   "metadata": {},
   "outputs": [],
   "source": [
    "#Las clases se forman con el llamado a clase, el constructor, la documentación, los métodos. \n",
    "class Perro:\n",
    "    \n",
    "    num_patas = 4\n",
    "    num_orejas = 2\n",
    "    num_ojos = 2\n",
    "    velocidad = 0 \n",
    "    \n",
    "    def __init__(self, raza, pelo = \"Marron\", dueno = None):\n",
    "        self.raza=raza\n",
    "        self.pelo = pelo\n",
    "        self.dueno=dueno\n",
    "    \n",
    "    def andar(self, aumento_velocidad):\n",
    "        self.velocidad =self.velocidad + aumento_velocidad\n",
    "    \n",
    "    def parar(self):\n",
    "        self.velocidad = 0\n",
    "    \n",
    "    def ladrarladrar(self, ladrido):\n",
    "        return \"GUAufr: \" + ladrido"
   ]
  },
  {
   "cell_type": "code",
   "execution_count": 11,
   "metadata": {},
   "outputs": [],
   "source": [
    "# El orden del constructor debe seguirse en los argumentos \n",
    "perro1 = Perro(\"Golden\")\n",
    "perro2 = Perro(\"San Bernardo\", \"Negro\", \"Dani\")"
   ]
  },
  {
   "cell_type": "code",
   "execution_count": 12,
   "metadata": {},
   "outputs": [
    {
     "output_type": "stream",
     "name": "stdout",
     "text": [
      "0\n5\n0\n"
     ]
    }
   ],
   "source": [
    "print (perro1.velocidad)\n",
    "perro1.andar(5)\n",
    "print (perro1.velocidad)\n",
    "perro1.parar()\n",
    "print (perro1.velocidad)"
   ]
  },
  {
   "cell_type": "code",
   "execution_count": 16,
   "metadata": {},
   "outputs": [
    {
     "output_type": "execute_result",
     "data": {
      "text/plain": [
       "'GUAufr: en realidad soy un gato'"
      ]
     },
     "metadata": {},
     "execution_count": 16
    }
   ],
   "source": [
    "perro1.ladrarladrar(\"en realidad soy un gato\")"
   ]
  },
  {
   "cell_type": "code",
   "execution_count": null,
   "metadata": {},
   "outputs": [],
   "source": []
  }
 ],
 "metadata": {
  "kernelspec": {
   "display_name": "Python 3",
   "language": "python",
   "name": "python3"
  },
  "language_info": {
   "codemirror_mode": {
    "name": "ipython",
    "version": 3
   },
   "file_extension": ".py",
   "mimetype": "text/x-python",
   "name": "python",
   "nbconvert_exporter": "python",
   "pygments_lexer": "ipython3",
   "version": "3.8.3-final"
  }
 },
 "nbformat": 4,
 "nbformat_minor": 4
}