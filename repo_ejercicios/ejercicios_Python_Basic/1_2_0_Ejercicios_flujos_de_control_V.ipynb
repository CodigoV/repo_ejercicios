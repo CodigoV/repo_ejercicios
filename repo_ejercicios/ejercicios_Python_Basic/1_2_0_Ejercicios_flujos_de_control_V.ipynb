{
 "cells": [
  {
   "cell_type": "markdown",
   "metadata": {},
   "source": [
    "![imagen](./img/ejercicios.png)"
   ]
  },
  {
   "cell_type": "markdown",
   "metadata": {},
   "source": [
    "# Ejercicios Flujos de control"
   ]
  },
  {
   "cell_type": "markdown",
   "metadata": {},
   "source": [
    "## Ejercicio 1\n",
    "Declara una variable numérica que será una hora cualquiera del día. Implementa mediante sentencias `if/elif/else` la siguiente casuística:\n",
    "\n",
    "* Si es entre las 0 y las 8, print \"Durmiendo\"\n",
    "* Si es entre las 9 y las 18, print \"Trabajando\"\n",
    "* Si es entre las 19 y las 21, print \"Clase\"\n",
    "* Si es entre las 22 y las 24, print \"Descanso\"\n",
    "* En cualquier otro caso, print \"Transporte o error\""
   ]
  },
  {
   "cell_type": "code",
   "execution_count": 1,
   "metadata": {
    "tags": []
   },
   "outputs": [
    {
     "name": "stdout",
     "output_type": "stream",
     "text": [
      "6 Durmiendo\n",
      "10 Trabajando\n",
      "19 Clase\n",
      "23 Descanso\n",
      "27 Transporte o error\n"
     ]
    }
   ],
   "source": [
    "horas = [6,10, 19, 23, 27]\n",
    "\n",
    "for e in horas: \n",
    "    if e <= 8:\n",
    "        print(e, \"Durmiendo\")  \n",
    "    elif  9 <= e <= 18:\n",
    "        print (e, \"Trabajando\")  \n",
    "    elif   19 <=  e <= 21:\n",
    "        print (e, \"Clase\")  \n",
    "    elif   22 <=  e <= 24:\n",
    "        print (e, \"Descanso\") \n",
    "    else:\n",
    "        print(e, \"Transporte o error\")"
   ]
  },
  {
   "cell_type": "code",
   "execution_count": 3,
   "metadata": {},
   "outputs": [
    {
     "name": "stdout",
     "output_type": "stream",
     "text": [
      "10 Trabajando\n"
     ]
    }
   ],
   "source": [
    "# otra opción \n",
    "e= 10\n",
    "\n",
    "if e <= 0 and e <= 8:\n",
    "    print(e, \"Durmiendo\")\n",
    "elif  9 <= e <= 18:\n",
    "    print (e, \"Trabajando\")  \n",
    "elif   19 <=  e <= 21:\n",
    "    print (e, \"Clase\")  \n",
    "elif   22 <=  e <= 24:\n",
    "    print (e, \"Descanso\") \n",
    "else:\n",
    "    print(e, \"Transporte o error\")\n",
    "  \n",
    "    \n",
    "\n",
    "\n",
    "\n",
    "    "
   ]
  },
  {
   "cell_type": "markdown",
   "metadata": {},
   "source": [
    "## Ejercicio 2\n",
    "En este ejercicio vamos a implementar un calculador de precios de casas muy sencillo. Tenemos las siguientes variables:\n",
    "\n",
    "> superficie\n",
    ">\n",
    "> distrito\n",
    "\n",
    "Implementa mediante sentencias `if/elif/else` la siguiente casuística:\n",
    "\n",
    "1. Si el distrito es \"Moncloa\" o \"Centro\", y además la superficie es superior a 100 metros cuadrados, el precio de la casa es de 1000\n",
    "2. Si el distrito es \"Salamanca\", y además la superficie de la casa es al menos de 150 metros, el precio de la casa es de 1500\n",
    "3. Si el distrito no es \"Retiro\" y la superficie está entre 60 y 80 metros, el precio es de 600\n",
    "4. En cualquier otro caso, el precio será de 0"
   ]
  },
  {
   "cell_type": "code",
   "execution_count": 4,
   "metadata": {
    "tags": []
   },
   "outputs": [
    {
     "name": "stdout",
     "output_type": "stream",
     "text": [
      "distrito: Moncloa el precio será de 0\n",
      "distrito: Centro el precio será de 0\n",
      "distrito: Salamanca el precio será de 0\n",
      "distrito: Latina el precio será de 0\n",
      "distrito: Retiro el precio será de 0\n"
     ]
    }
   ],
   "source": [
    "### calculador de precios de casas sentencias if/elif/else la siguiente casuística:\n",
    "\n",
    "distrito =  [\"Moncloa\", \"Centro\", \"Salamanca\", \"Latina\",\"Retiro\"]\n",
    "superficie = 59\n",
    "for i in distrito: \n",
    "    if i == \"Moncloa\" and superficie >= 100:\n",
    "        print (f'distrito: {i}', \"El precio de la casa es de 1000\")\n",
    "    elif i == \"Centro\" and superficie >= 100:\n",
    "        print (f'distrito: {i}', \"El precio de la casa es de 1000\")\n",
    "    elif i == \"Salamanca\" and superficie >= 150: \n",
    "        print (f'distrito: {i}', \"El precio de la casa es de 1500\")\n",
    "    elif i != \"Retiro\" and superficie >= 60 <=80: \n",
    "        print (f'distrito: {i}', \"El precio es de 600\")\n",
    "    else: \n",
    "        print (f'distrito: {i}', \"el precio será de 0\")"
   ]
  },
  {
   "cell_type": "code",
   "execution_count": 2,
   "metadata": {
    "tags": []
   },
   "outputs": [
    {
     "name": "stdout",
     "output_type": "stream",
     "text": [
      "distrito: Moncloa , el precio de la casa es de 1000\n"
     ]
    }
   ],
   "source": [
    "def calculadora_casa(x, y):\n",
    "    distrito= x\n",
    "    superficie= y \n",
    "\n",
    "    if x == \"Moncloa\" and y >= 100:\n",
    "        print (f'distrito: {x}', \", el precio de la casa es de 1000\")\n",
    "    elif x == \"Centro\" and 100 >= superficie:\n",
    "        print (f'distrito: {x}', \", el precio de la casa es de 1000\")\n",
    "    elif x == \"Salamanca\" and 150 >= superficie: \n",
    "        print (f'distrito: {x}', \", el precio de la casa es de 1500\")\n",
    "    elif x != \"Retiro\" and superficie >= 60 <=80: \n",
    "        print (f'distrito: {x}', \", el precio es de 600\")\n",
    "    else: \n",
    "        print (f'distrito: {x}', \", el precio será de 0\")\n",
    "calculadora_casa(\"Moncloa\", 100)"
   ]
  },
  {
   "cell_type": "code",
   "execution_count": 5,
   "metadata": {},
   "outputs": [
    {
     "name": "stdout",
     "output_type": "stream",
     "text": [
      "600\n"
     ]
    }
   ],
   "source": [
    "\n",
    "superficie = 79\n",
    "distrito = \"Moncloa\"\n",
    "\n",
    "#if (distrito == \"Moncloa\" or distrito == \"Centro\") and superficie > 100:\n",
    "if distrito in [\"Moncloa\", \"Centro\"] and superficie > 100:\n",
    "    print(1000)\n",
    "    \n",
    "elif distrito == \"Salamanca\" and superficie > 150:\n",
    "    print(1500)\n",
    "    \n",
    "elif distrito != \"Retiro\" and (60 <= superficie <= 80):\n",
    "#elif distrito != \"Retiro\" and (superficie >= 60 and superficie <= 80):\n",
    "    print(600)\n",
    "else:\n",
    "    print(0)"
   ]
  },
  {
   "cell_type": "markdown",
   "metadata": {},
   "source": [
    "## Ejercicio 3\n",
    "En este ejercicio vamos a realizar un programa muy parecido. Para este caso queremos que se cumplan las siguientes condiciones:\n",
    "\n",
    "1. Primero se compruebe si el distrito es \"Retiro\". Si es asi, que imprima \"Distrito Retiro\", y si no, \"Otro distrito\"\n",
    "2. Si el distrito es \"Retiro\", comprueba si si la superficie es mayor de 100 metros cuadrados. En tal caso que imprima un precio de 1000, y si no, de 500.\n",
    "\n",
    "Hay que usar `ifs` anidados"
   ]
  },
  {
   "cell_type": "code",
   "execution_count": 1,
   "metadata": {
    "tags": []
   },
   "outputs": [
    {
     "name": "stdout",
     "output_type": "stream",
     "text": [
      "distrito: Moncloa el precio será de 500\n",
      "distrito: Moncloa el precio será de 500\n",
      "Distrito Retiro\n",
      "distrito: Retiro El precio de la casa es de 1000\n",
      "distrito: Retiro El precio de la casa es de 1000\n"
     ]
    }
   ],
   "source": [
    "### calculador de precios de casas sentencias if/elif/else la siguiente casuística:\n",
    "\n",
    "distrito =  [\"Moncloa\", \"Retiro\"]\n",
    "superficie = 150\n",
    "for i in distrito:\n",
    "    if i == \"Retiro\": \n",
    "        print (\"Distrito Retiro\")\n",
    "    else: \n",
    "        (\"otro distrito:\", f'distrito: {i}')\n",
    "\n",
    "    for j in distrito:\n",
    "        if i == \"Retiro\" and superficie >= 100:\n",
    "            print (f'distrito: {i}', \"El precio de la casa es de 1000\")\n",
    "        else: \n",
    "            print (f'distrito: {i}', \"el precio será de 500\")"
   ]
  },
  {
   "cell_type": "code",
   "execution_count": 6,
   "metadata": {},
   "outputs": [
    {
     "name": "stdout",
     "output_type": "stream",
     "text": [
      "otro distrito\n"
     ]
    }
   ],
   "source": [
    "#versión 2\n",
    "\n",
    "sueprficie = 79 \n",
    "distrito = \"Moncloa\"\n",
    "\n",
    "if distrito == \"Retiro\":\n",
    "    print (\"distrirto Retiro\")\n",
    "    \n",
    "    if superficie < 100:\n",
    "        prin (1000)\n",
    "        \n",
    "    else: \n",
    "        print (500)\n",
    "else: \n",
    "    print (\"otro distrito\")"
   ]
  },
  {
   "cell_type": "markdown",
   "metadata": {},
   "source": [
    "## Ejercicio 4\n",
    "Escribe un programa que tenga dos variables: un numero, y una lista numérica. El programa debe recorrer la lista e imprimir por pantalla cada elemento de la lista multiplicado por el número"
   ]
  },
  {
   "cell_type": "code",
   "execution_count": 7,
   "metadata": {
    "tags": []
   },
   "outputs": [
    {
     "name": "stdout",
     "output_type": "stream",
     "text": [
      "multiplicando: 5 * 4 = 20\n",
      "multiplicando: 4 * 4 = 16\n",
      "multiplicando: 3 * 4 = 12\n"
     ]
    }
   ],
   "source": [
    "lista_numerica = [5,4,3,]\n",
    "\n",
    "numero = 4\n",
    "\n",
    "for i in lista_numerica:\n",
    "    total = i * numero \n",
    "    print (f'multiplicando: {i} * 4 =', total )"
   ]
  },
  {
   "cell_type": "code",
   "execution_count": null,
   "metadata": {},
   "outputs": [],
   "source": [
    "# version "
   ]
  },
  {
   "cell_type": "markdown",
   "metadata": {},
   "source": [
    "## Ejercicio 5\n",
    "Imprime por pantalla los números -10 al -1. En ese orden. Consulta [la documentación](https://www.w3schools.com/python/ref_func_range.asp) de `range`"
   ]
  },
  {
   "cell_type": "code",
   "execution_count": 16,
   "metadata": {},
   "outputs": [
    {
     "name": "stdout",
     "output_type": "stream",
     "text": [
      "-10\n",
      "-9\n",
      "-8\n",
      "-7\n",
      "-6\n",
      "-5\n",
      "-4\n",
      "-3\n",
      "-2\n",
      "-1\n"
     ]
    }
   ],
   "source": [
    "x = range (-10, -0)\n",
    "\n",
    "for e in x:\n",
    "    print (e)"
   ]
  },
  {
   "cell_type": "code",
   "execution_count": 8,
   "metadata": {},
   "outputs": [
    {
     "name": "stdout",
     "output_type": "stream",
     "text": [
      "-10\n",
      "-9\n",
      "-8\n",
      "-7\n",
      "-6\n",
      "-5\n",
      "-4\n",
      "-3\n",
      "-2\n",
      "-1\n"
     ]
    }
   ],
   "source": [
    "# versión dos, con una linea menos \n",
    "\n",
    "for num in range (-10, 0):\n",
    "    print (num)"
   ]
  },
  {
   "cell_type": "markdown",
   "metadata": {},
   "source": [
    "## Ejercicio 6\n",
    "Dada la siguiente lista:\n",
    "\n",
    "> list1 = [12, 15, 32, 42, 55, 75, 122, 132, 150, 180, 200]\n",
    "\n",
    "Implementa un programa que los recorra e imprima por pantalla todos los divisibles por 5. Si nos encontramos con alguno que sea mayor que 150, detener el bucle."
   ]
  },
  {
   "cell_type": "code",
   "execution_count": 10,
   "metadata": {},
   "outputs": [
    {
     "name": "stdout",
     "output_type": "stream",
     "text": [
      "15\n",
      "55\n",
      "75\n",
      "150\n"
     ]
    }
   ],
   "source": [
    "list1 = [12, 15, 32, 42, 55, 75, 122, 132, 150, 180, 200]\n",
    "\n",
    "for i in list1:\n",
    "    if i % 5 == 0:\n",
    "        if i <= 150: \n",
    "            print (i) \n",
    "        \n",
    "\n",
    "        "
   ]
  },
  {
   "cell_type": "code",
   "execution_count": 13,
   "metadata": {},
   "outputs": [
    {
     "name": "stdout",
     "output_type": "stream",
     "text": [
      "15\n",
      "55\n",
      "75\n",
      "150\n"
     ]
    }
   ],
   "source": [
    "list1 = [12, 15, 32, 42, 55, 75, 122, 132, 150, 180, 200]\n",
    "\n",
    "for i in list1:  \n",
    "    if i > 150:\n",
    "        break\n",
    "    \n",
    "    if i % 5 == 0:\n",
    "        print (i) "
   ]
  },
  {
   "cell_type": "markdown",
   "metadata": {},
   "source": [
    "## Ejercicio 7\n",
    "Escribe un programa en Python que imprima por pantalla todos los números divisibles por 5 y divisibles por 7, dentro del rango de valores (150, 350)"
   ]
  },
  {
   "cell_type": "code",
   "execution_count": 15,
   "metadata": {},
   "outputs": [
    {
     "name": "stdout",
     "output_type": "stream",
     "text": [
      "175\n",
      "210\n",
      "245\n",
      "280\n",
      "315\n",
      "[175, 210, 245, 280, 315]\n"
     ]
    }
   ],
   "source": [
    "# La variable de b se creo adicional al ejercicio para practicar crear una variable a partir del resutlado del bucle\n",
    "\n",
    "x = range (150, 350)\n",
    "b= [] \n",
    "for i in x:\n",
    "    if i % 5 == 0  and  i % 7== 0:\n",
    "        print (i)\n",
    "        b.append(i)   \n",
    "print (b)"
   ]
  },
  {
   "cell_type": "markdown",
   "metadata": {},
   "source": [
    "## Ejercicio 8\n",
    "Implementa un programa que imprima por pantalla el siguiente patrón\n",
    "\n",
    "5 4 3 2 1 \n",
    "\n",
    "4 3 2 1 \n",
    "\n",
    "3 2 1 \n",
    "\n",
    "2 1 \n",
    "\n",
    "1\n",
    "\n",
    "NOTA: NO hay lineas en blanco entre una línea y otra."
   ]
  },
  {
   "cell_type": "code",
   "execution_count": 22,
   "metadata": {},
   "outputs": [
    {
     "name": "stdout",
     "output_type": "stream",
     "text": [
      "[5, 4, 3, 2, 1] \n",
      " [4, 3, 2, 1] \n",
      " [3, 2, 1] \n",
      " [2, 1] \n",
      " [1]\n"
     ]
    }
   ],
   "source": [
    "x=list(range(5,-1, -1))\n",
    "\n",
    "print (x[0:5], \"\\n\", x[1:5], \"\\n\",  x[2:5], \"\\n\", x [3:5],\"\\n\", x [4:5],)\n",
    "\n",
    "#con * haces que no se impriman los corchetes de la lista "
   ]
  },
  {
   "cell_type": "code",
   "execution_count": 30,
   "metadata": {},
   "outputs": [
    {
     "name": "stdin",
     "output_type": "stream",
     "text": [
      "Introduzca un numero 5\n"
     ]
    },
    {
     "name": "stdout",
     "output_type": "stream",
     "text": [
      "5 4 3 2 1 \n",
      "4 3 2 1 \n",
      "3 2 1 \n",
      "2 1 \n",
      "1 \n"
     ]
    }
   ],
   "source": [
    "n = int(input(\"Introduzca un numero\"))\n",
    "k= n\n",
    "\n",
    "for i in range (0, n): \n",
    "    \n",
    "    for j in range(k-i, 0, -1):\n",
    "        \n",
    "        print (j, end= ' ' )\n",
    "    print () # Este print es el salto de línea"
   ]
  },
  {
   "cell_type": "code",
   "execution_count": 34,
   "metadata": {},
   "outputs": [
    {
     "name": "stdout",
     "output_type": "stream",
     "text": [
      "5 4 3 2 1 \n",
      "4 3 2 1 \n",
      "3 2 1 \n",
      "2 1 \n",
      "1 \n",
      "\n"
     ]
    }
   ],
   "source": [
    "for i in range(5,-1, -1):\n",
    "\n",
    "    for j in range(i-1, -1, -1):\n",
    "        print (i, end=\" \")\n",
    "        i = i-1\n",
    "    print (\"\\r\")"
   ]
  },
  {
   "cell_type": "code",
   "execution_count": 21,
   "metadata": {},
   "outputs": [
    {
     "name": "stdout",
     "output_type": "stream",
     "text": [
      "5 4 3 2 1 \n",
      "4 3 2 1 \n",
      "3 2 1 \n",
      "2 1 \n",
      "1 \n"
     ]
    }
   ],
   "source": [
    "n = 5\n",
    "k = 5 \n",
    "\n",
    "for i in range (0, n): \n",
    "    \n",
    "    for j in range(k-i, 0, -1):\n",
    "        \n",
    "        print (j, end= ' ' )\n",
    "    print () # Este print es el salto de línea"
   ]
  },
  {
   "cell_type": "code",
   "execution_count": null,
   "metadata": {},
   "outputs": [],
   "source": []
  },
  {
   "cell_type": "code",
   "execution_count": null,
   "metadata": {},
   "outputs": [],
   "source": []
  },
  {
   "cell_type": "markdown",
   "metadata": {},
   "source": [
    "## Ejercicio 9\n",
    "En este ejercicio vamos a crear un pequeño juego. Se trata de intentar adivinar un numero del 1 al 5. Tenemos dos intentos para acertar. Pasos a seguir:\n",
    "\n",
    "1. Ya viene implementado cómo obtener un número aleatorio del 1 al 5\n",
    "2. Tendrás que declarar en una variable el numero de vidas, y mediante un bucle while, comprobar que todavia quedan vidas.\n",
    "3. Dentro del bucle, obtener el valor del usuario y comprobar si es ese el numero a adivinar. Si no, actualizar las vidas.\n",
    "4. Si acertamos, salimos del bucle e imprimimos por pantalla \"You win\". Y si perdemos también salimos del bucle, pero en este caso imprimimos por pantalla \"You lose\".\n",
    "\n",
    "TIP: te puede resultar útil usar la sentencia `else` cuando acabe el bucle `while`. Lo que haya dentro de ese `else` se ejecutará una vez acabe la ejecución del `while`. Lo podrás usar para cuando pierdas."
   ]
  },
  {
   "cell_type": "code",
   "execution_count": 33,
   "metadata": {},
   "outputs": [
    {
     "name": "stdin",
     "output_type": "stream",
     "text": [
      "adivina un número 3\n"
     ]
    },
    {
     "name": "stdout",
     "output_type": "stream",
     "text": [
      "Tienes 2.\n",
      "You win\n"
     ]
    }
   ],
   "source": [
    "from random import randint\n",
    "\n",
    "# Genera un numero aleatorio del 1 al 5\n",
    "random_number = randint(1, 5)\n",
    "vidas = 2\n",
    "\n",
    "while vidas  >0: \n",
    "    x = int(input (\"adivina un número 0-5\"))\n",
    "    print (\"Tienes %d.\" % vidas)\n",
    "    \n",
    "    if x != random_number:\n",
    "        vidas= vidas -1\n",
    "        print ((\"te queda %d\" % vidas))\n",
    "    if x == random_number:\n",
    "        vidas = -2\n",
    "        print (\"You win\")\n",
    "    else: \n",
    "        print (\":(  You lose\")"
   ]
  },
  {
   "cell_type": "code",
   "execution_count": null,
   "metadata": {},
   "outputs": [],
   "source": [
    "# guess \n",
    "\n",
    "vidas = 2\n",
    "while vidas > 0: \n",
    "    guess = int(input\"introduce número 0-5)"
   ]
  },
  {
   "cell_type": "markdown",
   "metadata": {},
   "source": [
    "## Ejercicios extra"
   ]
  },
  {
   "cell_type": "markdown",
   "metadata": {},
   "source": [
    "Más ejercicios en [este link](https://www.w3resource.com/python-exercises/python-conditional-statements-and-loop-exercises.php)\n",
    "\n",
    "Y [aquí](https://erlerobotics.gitbooks.io/erle-robotics-learning-python-gitbook-free/loops/exercises_loops.html)"
   ]
  },
  {
   "cell_type": "code",
   "execution_count": 9,
   "metadata": {},
   "outputs": [
    {
     "name": "stdout",
     "output_type": "stream",
     "text": [
      "\n",
      "* \n",
      "* * \n",
      "* * * \n",
      "* * * * \n",
      "* * * * * \n",
      "* * * * \n",
      "* * * \n",
      "* * \n",
      "* \n"
     ]
    }
   ],
   "source": [
    "## ejercicios extra \n",
    "n=5;\n",
    "for i in range(n):\n",
    "    for j in range(i):\n",
    "        print ('* ', end=\"\")\n",
    "    print('')\n",
    "\n",
    "for i in range(n,0,-1):\n",
    "    for j in range(i):\n",
    "        print('* ', end=\"\")\n",
    "    print('')"
   ]
  },
  {
   "cell_type": "code",
   "execution_count": null,
   "metadata": {},
   "outputs": [],
   "source": []
  }
 ],
 "metadata": {
  "kernelspec": {
   "display_name": "Python 3",
   "language": "python",
   "name": "python3"
  },
  "language_info": {
   "codemirror_mode": {
    "name": "ipython",
    "version": 3
   },
   "file_extension": ".py",
   "mimetype": "text/x-python",
   "name": "python",
   "nbconvert_exporter": "python",
   "pygments_lexer": "ipython3",
   "version": "3.8.3-final"
  }
 },
 "nbformat": 4,
 "nbformat_minor": 4
}