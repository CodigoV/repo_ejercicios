{
 "cells": [
  {
   "cell_type": "markdown",
   "metadata": {},
   "source": [
    "![imagen](./img/ejercicios.png)"
   ]
  },
  {
   "cell_type": "markdown",
   "metadata": {},
   "source": [
    "# Ejercicios funciones\n",
    "## Ejercicio 1\n",
    "Escribe una función que convierta números del 1 al 7 en nombres de los dias de la semana. La función constará de un único argumento numérico y una salida de tipo string"
   ]
  },
  {
   "cell_type": "code",
   "execution_count": 7,
   "metadata": {},
   "outputs": [
    {
     "name": "stdout",
     "output_type": "stream",
     "text": [
      "Sábado\n",
      "La semana sólo tiene 7 días\n"
     ]
    }
   ],
   "source": [
    "#zip une las dos listas del diccionario.\n",
    "\n",
    "def semana (x):\n",
    "    dia_l= [\"Lunes\", \"Martes\", \"Miércoles\", \"Jueves\", \"Viernes\", \"Sábado\", \"Domingo\"]\n",
    "    dia_n= [1,2,3,4,5,6,7]\n",
    "    dias= dict(zip(dia_n,dia_l))   \n",
    "\n",
    "    for dia_n, dia_l in dias.items():\n",
    "        if x == dia_n:\n",
    "            return print (dia_l)\n",
    "    else: \n",
    "        print(\"La semana sólo tiene 7 días\")\n",
    "        \n",
    "semana (6)\n",
    "semana(8)"
   ]
  },
  {
   "cell_type": "code",
   "execution_count": 9,
   "metadata": {},
   "outputs": [
    {
     "name": "stdout",
     "output_type": "stream",
     "text": [
      "Lunes\n",
      "Domingo\n"
     ]
    }
   ],
   "source": [
    "def dia_semana(dia_num):\n",
    "    if dia_num == 1:\n",
    "        return \"Lunes\"\n",
    "    elif dia_num == 2:\n",
    "        return \"Martes\"\n",
    "    elif dia_num == 3:\n",
    "        return \"Miércoles\"\n",
    "    elif dia_num == 4:\n",
    "        return \"Jueves\"\n",
    "    elif dia_num == 5:\n",
    "        return \"Viernes\"\n",
    "    elif dia_num == 6:\n",
    "        return \"Sábado\"\n",
    "    elif dia_num == 7:\n",
    "        return \"Domingo\"\n",
    "    else:\n",
    "        return \"No es un dia de la semana\"\n",
    "    \n",
    "print(dia_semana(1))\n",
    "\n",
    "print(dia_semana(7))"
   ]
  },
  {
   "cell_type": "markdown",
   "metadata": {},
   "source": [
    "## Ejercicio 2\n",
    "En el ejercicio 8 de bucles, creábamos una pirámide invertida, cuyo número de pisos venía determinado por un input del usuario. Crear una función que replique el comportamiento de la pirámide, y utiliza un único parámetro de entrada de la función para determinar el número de filas de la pirámide, es decir, elimina la sentencia input."
   ]
  },
  {
   "cell_type": "code",
   "execution_count": 8,
   "metadata": {},
   "outputs": [
    {
     "name": "stdout",
     "output_type": "stream",
     "text": [
      " 1 2 3 4 5 6 7\n",
      " 1 2 3 4 5 6\n",
      " 1 2 3 4 5\n",
      " 1 2 3 4\n",
      " 1 2 3\n",
      " 1 2\n",
      " 1\n",
      " 1 2 3\n",
      " 1 2\n",
      " 1\n"
     ]
    }
   ],
   "source": [
    "def piramide_invertida(x):\n",
    "    for i in range(x):  \n",
    "        out = \"\"\n",
    "        for j in range(x-i):\n",
    "            out = out + \" \" + str(j + 1)\n",
    "        print(out)\n",
    "piramide_invertida(7)\n",
    "piramide_invertida(3)"
   ]
  },
  {
   "cell_type": "markdown",
   "metadata": {},
   "source": [
    "## Ejercicio 3\n",
    "Escibe una función que compare dos números. La función tiene dos argumentos y hay tres salidas posibles: que sean iguales, que el primero se  mayor que el segundo, o que el segundo sea mayor que el primero"
   ]
  },
  {
   "cell_type": "code",
   "execution_count": 14,
   "metadata": {},
   "outputs": [
    {
     "name": "stdout",
     "output_type": "stream",
     "text": [
      "igual\n"
     ]
    }
   ],
   "source": [
    "def compara (x,y):\n",
    "    \n",
    "    if x == y:\n",
    "        print (\"igual\")\n",
    "    elif  x > y:\n",
    "        print (\"x mayor que y\")\n",
    "    elif x < y:\n",
    "        print (\"y mayor que x\")\n",
    "    return \n",
    "compara (8,8)"
   ]
  },
  {
   "cell_type": "code",
   "execution_count": null,
   "metadata": {},
   "outputs": [],
   "source": [
    "# def funcion(parametro: int, num_2:int):  con esto se fuerza a que el parámetro sea numérico. "
   ]
  },
  {
   "cell_type": "markdown",
   "metadata": {},
   "source": [
    "## Ejercicio 4\n",
    "Escribe una función que sea un contador de letras. En el primer argumento tienes que introducir un texto, y el segundo que sea la letra a contar. La función tiene que devolver un entero con el número de veces que aparece esa letra, tanto mayuscula, como minúscula"
   ]
  },
  {
   "cell_type": "code",
   "execution_count": 24,
   "metadata": {},
   "outputs": [
    {
     "data": {
      "text/plain": [
       "2"
      ]
     },
     "execution_count": 24,
     "metadata": {},
     "output_type": "execute_result"
    }
   ],
   "source": [
    "# La función puede hacerse sin lower, pero funciona mejor si \n",
    "# vuelte todo a minúsculas. \n",
    "\n",
    "def contador_l(texto, letra):\n",
    "    texto = texto.lower()\n",
    "    return texto.count(letra.lower())\n",
    "\n",
    "contador_l(\"CazZadora una\", \"z\")"
   ]
  },
  {
   "cell_type": "markdown",
   "metadata": {},
   "source": [
    "## Ejercicio 5\n",
    "Escribe una función que tenga un único argumento, un string. La salida de la función tiene que ser un diccionario con el conteo de todas las letras de ese string."
   ]
  },
  {
   "cell_type": "code",
   "execution_count": 29,
   "metadata": {},
   "outputs": [
    {
     "data": {
      "text/plain": [
       "{'a': 6,\n",
       " 'm': 3,\n",
       " 'r': 2,\n",
       " ' ': 5,\n",
       " ',': 1,\n",
       " 'e': 1,\n",
       " 's': 1,\n",
       " 'u': 1,\n",
       " 'n': 2,\n",
       " 'p': 1,\n",
       " 'l': 1,\n",
       " 'i': 1,\n",
       " 'd': 1,\n",
       " 'o': 1}"
      ]
     },
     "execution_count": 29,
     "metadata": {},
     "output_type": "execute_result"
    }
   ],
   "source": [
    "def cuenta_letras(frase):\n",
    "    \n",
    "    out = {}\n",
    "    \n",
    "    for i in frase.lower():\n",
    "        if i in out:\n",
    "            out[i] = out[i] +1\n",
    "        else:\n",
    "            out[i] = 1\n",
    "    return out\n",
    "\n",
    "cuenta_letras(\"amar a ma, es un palindroma\")"
   ]
  },
  {
   "cell_type": "markdown",
   "metadata": {},
   "source": [
    "## Ejercicio 6\n",
    "Escribir una función que añada o elimine elementos en una lista. La función necesita los siguientes argumentos:\n",
    "* lista: la lista donde se añadirán o eliminarán los elementos\n",
    "* comando: \"add\" o \"remove\"\n",
    "* elemento: Por defecto es None."
   ]
  },
  {
   "cell_type": "code",
   "execution_count": 34,
   "metadata": {},
   "outputs": [
    {
     "name": "stdout",
     "output_type": "stream",
     "text": [
      "[1, 2, 3, 9]\n",
      "[1, 2, 3, 9999]\n",
      "[1, 3]\n",
      "El elemento 9 no existe en la lista\n",
      "None\n"
     ]
    }
   ],
   "source": [
    "def listas_program(lista, comando, elemento = None):\n",
    "    if comando == \"add\" and elemento != None:\n",
    "        lista.append(elemento)\n",
    "        return lista\n",
    "    elif comando == \"add\" and elemento == None:\n",
    "        lista.append(9999)\n",
    "        return lista\n",
    "    elif comando == \"remove\":\n",
    "        try:\n",
    "            lista.remove(elemento)\n",
    "            return lista\n",
    "        except:\n",
    "            print(\"El elemento\", elemento, \"no existe en la lista\")\n",
    "\n",
    "\n",
    "print(listas_program([1,2,3], \"add\", 9))\n",
    "print(listas_program([1,2,3], \"add\"))\n",
    "print(listas_program([1,2,3], \"remove\", 2))\n",
    "print(listas_program([1,2,3], \"remove\", 9))\n"
   ]
  },
  {
   "cell_type": "markdown",
   "metadata": {},
   "source": [
    "## Ejercicio 7\n",
    "Crea una función que reciba un número arbitrario de palabras, y devuelva una frase completa, separando las palabras con espacios."
   ]
  },
  {
   "cell_type": "code",
   "execution_count": 35,
   "metadata": {},
   "outputs": [
    {
     "data": {
      "text/plain": [
       "'en algún lugar de la'"
      ]
     },
     "execution_count": 35,
     "metadata": {},
     "output_type": "execute_result"
    }
   ],
   "source": [
    "def junta_palabras(*args):\n",
    "    return \" \".join(args)\n",
    "\n",
    "junta_palabras(\"en\", \"algún\", \"lugar\", \"de\", \"la\")"
   ]
  },
  {
   "cell_type": "markdown",
   "metadata": {},
   "source": [
    "## Ejercicio 8\n",
    "Escribe un programa que obtenga el enésimo número de la [serie de Fibonacci](https://es.wikipedia.org/wiki/Sucesi%C3%B3n_de_Fibonacci). Tienes que crear una función recursiva con un único argumento.\n",
    "\n",
    "```Python\n",
    "fibonacci(2) = 1\n",
    "fibonacci(4) = 3\n",
    "fibonacci(5) = 5\n",
    "fibonacci(8) = 21\n",
    "```"
   ]
  },
  {
   "cell_type": "code",
   "execution_count": 3,
   "metadata": {},
   "outputs": [
    {
     "name": "stdout",
     "output_type": "stream",
     "text": [
      "1\n",
      "3\n",
      "5\n",
      "21\n",
      "8\n"
     ]
    }
   ],
   "source": [
    "def fibonacci(n):\n",
    "    if n == 1 or n == 2:\n",
    "        return 1\n",
    "    else:\n",
    "        return (fibonacci(n - 1) + (fibonacci(n - 2)))\n",
    "\n",
    "\n",
    "print (fibonacci(2))\n",
    "print (fibonacci(4))\n",
    "print (fibonacci(5))\n",
    "print (fibonacci(8))\n",
    "print (fibonacci(6))\n",
    "\n",
    "#no entiendo cual da si el valor o la secuencia "
   ]
  },
  {
   "cell_type": "markdown",
   "metadata": {},
   "source": [
    "## Ejercicio 9\n",
    "Define en una única celda las siguientes funciones:\n",
    "* Función que calcule el área de un cuadrado\n",
    "* Función que calcule el area de un triángulo\n",
    "* Función que calcule el área de un círculo\n",
    "\n",
    "En otra celda, calcular el area de:\n",
    "* Dos círculos de radio 10 + un triángulo de base 3 y altura 7\n",
    "* Un cuadrado de lado = 10 + 3 círculos (uno de radio = 4 y los otros dos de radio = 6) + 5 triángulos de base = 2 + altura = 4"
   ]
  },
  {
   "cell_type": "code",
   "execution_count": 45,
   "metadata": {},
   "outputs": [
    {
     "name": "stdout",
     "output_type": "stream",
     "text": [
      "314.1592653589793\n",
      "50.0\n",
      "100\n"
     ]
    }
   ],
   "source": [
    "#Esta función calcula con un sólo número el área para circulo, triangulo y rectángulo\n",
    "import math \n",
    "def area(altura):\n",
    "    \n",
    "    area_circulo= math.pi *altura**2\n",
    "    area_triangulo=altura * altura/2\n",
    "    # A = 2pi R*R/2 =piR**\n",
    "    cuadrado= altura*altura\n",
    "    print (area_circulo)\n",
    "    print (area_triangulo)\n",
    "    print (cuadrado)\n",
    "area (10) "
   ]
  },
  {
   "cell_type": "code",
   "execution_count": 48,
   "metadata": {},
   "outputs": [
    {
     "name": "stdout",
     "output_type": "stream",
     "text": [
      "Área triángulo: 50.0\n"
     ]
    }
   ],
   "source": [
    "# bonita función para triángulo \n",
    "b= 10\n",
    "h= 10\n",
    "print(f'Área triángulo: {(lambda b,h: b*h/2)(b,h)}')"
   ]
  },
  {
   "cell_type": "code",
   "execution_count": 11,
   "metadata": {},
   "outputs": [],
   "source": [
    "def cuadrado(lado):\n",
    "    return lado * lado\n",
    "\n",
    "def triangulo(base, altura):\n",
    "    return (base * altura)/2\n",
    "\n",
    "def circulo(radio):\n",
    "    import math\n",
    "    return math.pi * radio**2"
   ]
  },
  {
   "cell_type": "code",
   "execution_count": 12,
   "metadata": {},
   "outputs": [
    {
     "name": "stdout",
     "output_type": "stream",
     "text": [
      "638.8185307179587\n",
      "396.46015351590177\n"
     ]
    }
   ],
   "source": [
    "circ1 = 2 * circulo(10)\n",
    "tria1 = triangulo(3,7)\n",
    "print(circ1 + tria1)\n",
    "\n",
    "cuadr2 = cuadrado(10)\n",
    "circ2 = circulo(4) + 2 * circulo(6)\n",
    "trian2 = 5 * triangulo(2,4)\n",
    "print(cuadr2 + circ2 + trian2)"
   ]
  },
  {
   "cell_type": "code",
   "execution_count": null,
   "metadata": {},
   "outputs": [],
   "source": []
  }
 ],
 "metadata": {
  "kernelspec": {
   "display_name": "Python 3",
   "language": "python",
   "name": "python3"
  },
  "language_info": {
   "codemirror_mode": {
    "name": "ipython",
    "version": 3
   },
   "file_extension": ".py",
   "mimetype": "text/x-python",
   "name": "python",
   "nbconvert_exporter": "python",
   "pygments_lexer": "ipython3",
   "version": "3.8.3"
  }
 },
 "nbformat": 4,
 "nbformat_minor": 4
}
