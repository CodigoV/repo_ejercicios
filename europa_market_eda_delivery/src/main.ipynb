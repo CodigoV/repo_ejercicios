{
 "metadata": {
  "language_info": {
   "codemirror_mode": {
    "name": "ipython",
    "version": 3
   },
   "file_extension": ".py",
   "mimetype": "text/x-python",
   "name": "python",
   "nbconvert_exporter": "python",
   "pygments_lexer": "ipython3",
   "version": "3.8.3-final"
  },
  "orig_nbformat": 2,
  "kernelspec": {
   "name": "Python 3.8.3 64-bit",
   "display_name": "Python 3.8.3 64-bit",
   "metadata": {
    "interpreter": {
     "hash": "082e9a3bcad0a290d0001e938aa60b99250c6c2ef33a923c00b70f9826caf4b7"
    }
   }
  }
 },
 "nbformat": 4,
 "nbformat_minor": 2,
 "cells": [
  {
   "cell_type": "code",
   "execution_count": null,
   "metadata": {},
   "outputs": [],
   "source": [
    "#European Data Market study \n",
    "### Este Análisis Exploratorio de Datos, EDA; tiene fines educativos, está hecho para prácticar los comandos básicos para el análisis. Para ello se usó una base de datos abierta, con las mepresas dedicadas al mercado del Data. De donde se infiere que, de als empresas vistas, el mercado está concentrado mayoritariamente en las áreas de Analytics, AI/Machine learning. "
   ]
  },
  {
   "cell_type": "code",
   "execution_count": null,
   "metadata": {},
   "outputs": [],
   "source": [
    "#Documentación de referencia\n",
    "#https://datalandscape.eu/about\n",
    "# https://datalandscape.eu/study-reports "
   ]
  },
  {
   "cell_type": "code",
   "execution_count": 1,
   "metadata": {},
   "outputs": [],
   "source": [
    "##### 1 Librerías usadas ###\n",
    "##### Librerías estandar #####\n",
    "import pandas as pd\n",
    "import numpy as np\n",
    "import datetime as dt"
   ]
  },
  {
   "cell_type": "code",
   "execution_count": null,
   "metadata": {},
   "outputs": [],
   "source": [
    "#LIBRERIAS VISUALIACIÓN "
   ]
  },
  {
   "cell_type": "code",
   "execution_count": 2,
   "metadata": {},
   "outputs": [],
   "source": [
    "import seaborn as sns\n",
    "import matplotlib.pyplot  as plt\n",
    "import plotly.offline as py\n",
    "import plotly.express as px\n",
    "import plotly.graph_objs as go\n",
    "from plotly.offline import plot\n",
    "import plotly.io as pio\n"
   ]
  },
  {
   "cell_type": "code",
   "execution_count": 3,
   "metadata": {},
   "outputs": [],
   "source": [
    "import os\n",
    "if not os.path.exists(\"grafica\"):\n",
    "    os.mkdir(\"grafica\")"
   ]
  },
  {
   "cell_type": "code",
   "execution_count": null,
   "metadata": {},
   "outputs": [],
   "source": [
    "#PRIMERA PARTE EDA "
   ]
  },
  {
   "cell_type": "code",
   "execution_count": 5,
   "metadata": {},
   "outputs": [
    {
     "output_type": "execute_result",
     "data": {
      "text/plain": [
       "             Title Last update Geolocation Main location  \\\n",
       "0  Building Radar   2020-04-15         NaN           NaN   \n",
       "1        Correvate  2020-04-15         NaN           NaN   \n",
       "2          Emporis  2020-04-15         NaN           NaN   \n",
       "3      AlgoTecture  2020-04-15         NaN           NaN   \n",
       "4         built[t]  2020-04-15         NaN           NaN   \n",
       "\n",
       "                           Action area twitter account  \\\n",
       "0  Vertical applications, Construction             NaN   \n",
       "1  Vertical applications, Construction             NaN   \n",
       "2  Vertical applications, Construction             NaN   \n",
       "3  Vertical applications, Construction             NaN   \n",
       "4  Vertical applications, Construction             NaN   \n",
       "\n",
       "                          website   Post date  \n",
       "0      https://buildingradar.com/  2020-04-15  \n",
       "1        https://correvate.co.uk/  2020-04-15  \n",
       "2         http://www.emporis.com/  2020-04-15  \n",
       "3  https://algotecture.github.io/  2020-04-15  \n",
       "4          http://www.builtt.com/  2020-04-15  "
      ],
      "text/html": "<div>\n<style scoped>\n    .dataframe tbody tr th:only-of-type {\n        vertical-align: middle;\n    }\n\n    .dataframe tbody tr th {\n        vertical-align: top;\n    }\n\n    .dataframe thead th {\n        text-align: right;\n    }\n</style>\n<table border=\"1\" class=\"dataframe\">\n  <thead>\n    <tr style=\"text-align: right;\">\n      <th></th>\n      <th>Title</th>\n      <th>Last update</th>\n      <th>Geolocation</th>\n      <th>Main location</th>\n      <th>Action area</th>\n      <th>twitter account</th>\n      <th>website</th>\n      <th>Post date</th>\n    </tr>\n  </thead>\n  <tbody>\n    <tr>\n      <th>0</th>\n      <td>Building Radar</td>\n      <td>2020-04-15</td>\n      <td>NaN</td>\n      <td>NaN</td>\n      <td>Vertical applications, Construction</td>\n      <td>NaN</td>\n      <td>https://buildingradar.com/</td>\n      <td>2020-04-15</td>\n    </tr>\n    <tr>\n      <th>1</th>\n      <td>Correvate</td>\n      <td>2020-04-15</td>\n      <td>NaN</td>\n      <td>NaN</td>\n      <td>Vertical applications, Construction</td>\n      <td>NaN</td>\n      <td>https://correvate.co.uk/</td>\n      <td>2020-04-15</td>\n    </tr>\n    <tr>\n      <th>2</th>\n      <td>Emporis</td>\n      <td>2020-04-15</td>\n      <td>NaN</td>\n      <td>NaN</td>\n      <td>Vertical applications, Construction</td>\n      <td>NaN</td>\n      <td>http://www.emporis.com/</td>\n      <td>2020-04-15</td>\n    </tr>\n    <tr>\n      <th>3</th>\n      <td>AlgoTecture</td>\n      <td>2020-04-15</td>\n      <td>NaN</td>\n      <td>NaN</td>\n      <td>Vertical applications, Construction</td>\n      <td>NaN</td>\n      <td>https://algotecture.github.io/</td>\n      <td>2020-04-15</td>\n    </tr>\n    <tr>\n      <th>4</th>\n      <td>built[t]</td>\n      <td>2020-04-15</td>\n      <td>NaN</td>\n      <td>NaN</td>\n      <td>Vertical applications, Construction</td>\n      <td>NaN</td>\n      <td>http://www.builtt.com/</td>\n      <td>2020-04-15</td>\n    </tr>\n  </tbody>\n</table>\n</div>"
     },
     "metadata": {},
     "execution_count": 5
    }
   ],
   "source": [
    "#(D4.3) descripción general de los datos de la UE, base de datos de las empresas del mercado de datos\n",
    "# en Europa.\n",
    "df=pd.read_csv('companies.csv')\n",
    "df.head()"
   ]
  },
  {
   "cell_type": "code",
   "execution_count": 5,
   "metadata": {},
   "outputs": [
    {
     "output_type": "execute_result",
     "data": {
      "text/plain": [
       "(1563, 8)"
      ]
     },
     "metadata": {},
     "execution_count": 5
    }
   ],
   "source": [
    "#Observaciones de los datos \n",
    "df.shape"
   ]
  },
  {
   "cell_type": "code",
   "execution_count": 6,
   "metadata": {},
   "outputs": [
    {
     "output_type": "stream",
     "name": "stdout",
     "text": [
      "<class 'pandas.core.frame.DataFrame'>\nRangeIndex: 1563 entries, 0 to 1562\nData columns (total 8 columns):\n #   Column           Non-Null Count  Dtype \n---  ------           --------------  ----- \n 0   Title            1563 non-null   object\n 1   Last update      1563 non-null   object\n 2   Geolocation      1344 non-null   object\n 3   Main location    527 non-null    object\n 4   Action area      1563 non-null   object\n 5   twitter account  600 non-null    object\n 6   website          1549 non-null   object\n 7   Post date        1563 non-null   object\ndtypes: object(8)\nmemory usage: 97.8+ KB\n"
     ]
    }
   ],
   "source": [
    "#Tipo de los datos \n",
    "df.info()"
   ]
  },
  {
   "cell_type": "code",
   "execution_count": 7,
   "metadata": {},
   "outputs": [
    {
     "output_type": "execute_result",
     "data": {
      "text/plain": [
       "       Title Last update                 Geolocation           Main location  \\\n",
       "count   1563        1563                        1344                     527   \n",
       "unique  1563          20                         494                     504   \n",
       "top      UOC  2018-02-05  POINT (4.469936 50.503887)  London, United Kingdom   \n",
       "freq       1         766                         345                       6   \n",
       "\n",
       "                           Action area twitter account  \\\n",
       "count                             1563             600   \n",
       "unique                              37             595   \n",
       "top     Analytics, AI/Machine learning        quizlyse   \n",
       "freq                               413               2   \n",
       "\n",
       "                       website   Post date  \n",
       "count                     1549        1563  \n",
       "unique                    1543         126  \n",
       "top     http://www.gavagai.se/  2018-02-05  \n",
       "freq                         3         733  "
      ],
      "text/html": "<div>\n<style scoped>\n    .dataframe tbody tr th:only-of-type {\n        vertical-align: middle;\n    }\n\n    .dataframe tbody tr th {\n        vertical-align: top;\n    }\n\n    .dataframe thead th {\n        text-align: right;\n    }\n</style>\n<table border=\"1\" class=\"dataframe\">\n  <thead>\n    <tr style=\"text-align: right;\">\n      <th></th>\n      <th>Title</th>\n      <th>Last update</th>\n      <th>Geolocation</th>\n      <th>Main location</th>\n      <th>Action area</th>\n      <th>twitter account</th>\n      <th>website</th>\n      <th>Post date</th>\n    </tr>\n  </thead>\n  <tbody>\n    <tr>\n      <th>count</th>\n      <td>1563</td>\n      <td>1563</td>\n      <td>1344</td>\n      <td>527</td>\n      <td>1563</td>\n      <td>600</td>\n      <td>1549</td>\n      <td>1563</td>\n    </tr>\n    <tr>\n      <th>unique</th>\n      <td>1563</td>\n      <td>20</td>\n      <td>494</td>\n      <td>504</td>\n      <td>37</td>\n      <td>595</td>\n      <td>1543</td>\n      <td>126</td>\n    </tr>\n    <tr>\n      <th>top</th>\n      <td>UOC</td>\n      <td>2018-02-05</td>\n      <td>POINT (4.469936 50.503887)</td>\n      <td>London, United Kingdom</td>\n      <td>Analytics, AI/Machine learning</td>\n      <td>quizlyse</td>\n      <td>http://www.gavagai.se/</td>\n      <td>2018-02-05</td>\n    </tr>\n    <tr>\n      <th>freq</th>\n      <td>1</td>\n      <td>766</td>\n      <td>345</td>\n      <td>6</td>\n      <td>413</td>\n      <td>2</td>\n      <td>3</td>\n      <td>733</td>\n    </tr>\n  </tbody>\n</table>\n</div>"
     },
     "metadata": {},
     "execution_count": 7
    }
   ],
   "source": [
    "df.describe(include= \"all\")"
   ]
  },
  {
   "cell_type": "code",
   "execution_count": 8,
   "metadata": {},
   "outputs": [
    {
     "output_type": "execute_result",
     "data": {
      "text/plain": [
       "0"
      ]
     },
     "metadata": {},
     "execution_count": 8
    }
   ],
   "source": [
    "#Verificar registros duplicados\n",
    "df.duplicated().sum()"
   ]
  },
  {
   "cell_type": "code",
   "execution_count": 9,
   "metadata": {},
   "outputs": [
    {
     "output_type": "execute_result",
     "data": {
      "text/plain": [
       "                 Total_nulos  Porcentaje\n",
       "Title                      0         0.0\n",
       "Last update                0         0.0\n",
       "Geolocation              219        14.0\n",
       "Main location           1036        66.0\n",
       "Action area                0         0.0\n",
       "twitter account          963        62.0\n",
       "website                   14         1.0\n",
       "Post date                  0         0.0"
      ],
      "text/html": "<div>\n<style scoped>\n    .dataframe tbody tr th:only-of-type {\n        vertical-align: middle;\n    }\n\n    .dataframe tbody tr th {\n        vertical-align: top;\n    }\n\n    .dataframe thead th {\n        text-align: right;\n    }\n</style>\n<table border=\"1\" class=\"dataframe\">\n  <thead>\n    <tr style=\"text-align: right;\">\n      <th></th>\n      <th>Total_nulos</th>\n      <th>Porcentaje</th>\n    </tr>\n  </thead>\n  <tbody>\n    <tr>\n      <th>Title</th>\n      <td>0</td>\n      <td>0.0</td>\n    </tr>\n    <tr>\n      <th>Last update</th>\n      <td>0</td>\n      <td>0.0</td>\n    </tr>\n    <tr>\n      <th>Geolocation</th>\n      <td>219</td>\n      <td>14.0</td>\n    </tr>\n    <tr>\n      <th>Main location</th>\n      <td>1036</td>\n      <td>66.0</td>\n    </tr>\n    <tr>\n      <th>Action area</th>\n      <td>0</td>\n      <td>0.0</td>\n    </tr>\n    <tr>\n      <th>twitter account</th>\n      <td>963</td>\n      <td>62.0</td>\n    </tr>\n    <tr>\n      <th>website</th>\n      <td>14</td>\n      <td>1.0</td>\n    </tr>\n    <tr>\n      <th>Post date</th>\n      <td>0</td>\n      <td>0.0</td>\n    </tr>\n  </tbody>\n</table>\n</div>"
     },
     "metadata": {},
     "execution_count": 9
    }
   ],
   "source": [
    "#Porcentaje de valores nulos. Para ponderar información. \n",
    "missing_count = pd.DataFrame(df.isna().sum(),columns=['Total_nulos'])\n",
    "missing_count['Porcentaje'] = round(missing_count / len(df),2) * 100\n",
    "missing_count"
   ]
  },
  {
   "cell_type": "code",
   "execution_count": 10,
   "metadata": {},
   "outputs": [],
   "source": [
    "df.drop(['Main location', 'twitter account', ], axis='columns', inplace=True)"
   ]
  },
  {
   "cell_type": "code",
   "execution_count": 11,
   "metadata": {},
   "outputs": [],
   "source": [
    "df['Post date']=pd.to_datetime(df['Post date'],format='%Y/%m/%d')"
   ]
  },
  {
   "cell_type": "code",
   "execution_count": 12,
   "metadata": {},
   "outputs": [],
   "source": [
    "df['Last update']=pd.to_datetime(df['Last update'],format='%Y/%m/%d')"
   ]
  },
  {
   "cell_type": "code",
   "execution_count": 14,
   "metadata": {},
   "outputs": [
    {
     "output_type": "execute_result",
     "data": {
      "text/plain": [
       "Index(['Title', 'Last update', 'Geolocation', 'Action area', 'website',\n",
       "       'Post date'],\n",
       "      dtype='object')"
      ]
     },
     "metadata": {},
     "execution_count": 14
    }
   ],
   "source": [
    "df.columns"
   ]
  },
  {
   "cell_type": "code",
   "execution_count": 15,
   "metadata": {},
   "outputs": [
    {
     "output_type": "execute_result",
     "data": {
      "text/plain": [
       "            Title Last update                    Geolocation  \\\n",
       "1558        Qubit  2019-01-25  POINT (-0.1245724 51.5118003)   \n",
       "1559  Now Casting  2018-02-05  POINT (-0.1277583 51.5073509)   \n",
       "1560        Mydex  2018-02-05    POINT (-4.251806 55.864237)   \n",
       "1561      Zhilabs  2018-02-05   POINT (2.1376299 41.3843763)   \n",
       "1562  Geowise ltd  2018-02-05   POINT (-3.1766739 55.950223)   \n",
       "\n",
       "                                      Action area  \\\n",
       "1558  Vertical applications, Retail and wholesale   \n",
       "1559                        Vertical applications   \n",
       "1560                        Vertical applications   \n",
       "1561                        Vertical applications   \n",
       "1562                Analytics, Data visualization   \n",
       "\n",
       "                            website  Post date  \n",
       "1558  http://www.qubitproducts.com/ 2014-05-30  \n",
       "1559    http://www.now-casting.com/ 2014-05-30  \n",
       "1560             https://mydex.org/ 2014-05-30  \n",
       "1561      http://www.zhilabs.com/z/ 2014-05-30  \n",
       "1562   http://www.instantatlas.com/ 2014-05-30  "
      ],
      "text/html": "<div>\n<style scoped>\n    .dataframe tbody tr th:only-of-type {\n        vertical-align: middle;\n    }\n\n    .dataframe tbody tr th {\n        vertical-align: top;\n    }\n\n    .dataframe thead th {\n        text-align: right;\n    }\n</style>\n<table border=\"1\" class=\"dataframe\">\n  <thead>\n    <tr style=\"text-align: right;\">\n      <th></th>\n      <th>Title</th>\n      <th>Last update</th>\n      <th>Geolocation</th>\n      <th>Action area</th>\n      <th>website</th>\n      <th>Post date</th>\n    </tr>\n  </thead>\n  <tbody>\n    <tr>\n      <th>1558</th>\n      <td>Qubit</td>\n      <td>2019-01-25</td>\n      <td>POINT (-0.1245724 51.5118003)</td>\n      <td>Vertical applications, Retail and wholesale</td>\n      <td>http://www.qubitproducts.com/</td>\n      <td>2014-05-30</td>\n    </tr>\n    <tr>\n      <th>1559</th>\n      <td>Now Casting</td>\n      <td>2018-02-05</td>\n      <td>POINT (-0.1277583 51.5073509)</td>\n      <td>Vertical applications</td>\n      <td>http://www.now-casting.com/</td>\n      <td>2014-05-30</td>\n    </tr>\n    <tr>\n      <th>1560</th>\n      <td>Mydex</td>\n      <td>2018-02-05</td>\n      <td>POINT (-4.251806 55.864237)</td>\n      <td>Vertical applications</td>\n      <td>https://mydex.org/</td>\n      <td>2014-05-30</td>\n    </tr>\n    <tr>\n      <th>1561</th>\n      <td>Zhilabs</td>\n      <td>2018-02-05</td>\n      <td>POINT (2.1376299 41.3843763)</td>\n      <td>Vertical applications</td>\n      <td>http://www.zhilabs.com/z/</td>\n      <td>2014-05-30</td>\n    </tr>\n    <tr>\n      <th>1562</th>\n      <td>Geowise ltd</td>\n      <td>2018-02-05</td>\n      <td>POINT (-3.1766739 55.950223)</td>\n      <td>Analytics, Data visualization</td>\n      <td>http://www.instantatlas.com/</td>\n      <td>2014-05-30</td>\n    </tr>\n  </tbody>\n</table>\n</div>"
     },
     "metadata": {},
     "execution_count": 15
    }
   ],
   "source": [
    "df.tail()"
   ]
  },
  {
   "cell_type": "code",
   "execution_count": 16,
   "metadata": {},
   "outputs": [
    {
     "output_type": "stream",
     "name": "stdout",
     "text": [
      "37\n"
     ]
    },
    {
     "output_type": "execute_result",
     "data": {
      "text/plain": [
       "[array(['Vertical applications, Construction', 'Vertical applications',\n",
       "        'Vertical applications, Transport and Storage',\n",
       "        'Vertical applications, Other Support services',\n",
       "        'Vertical applications, Financial Services',\n",
       "        'Vertical applications, Education', 'Vertical applications, Other',\n",
       "        'Vertical applications, Professional Services',\n",
       "        'Vertical applications, Healthcare', 'Analytics',\n",
       "        'Analytics, Business Intelligence',\n",
       "        'Analytics, AI/Machine learning',\n",
       "        'Vertical applications, Retail and wholesale',\n",
       "        'Analytics, Consumer data', 'Analytics, Data visualization',\n",
       "        'Vertical applications, Consumer data',\n",
       "        'Enabling Players, Other Support services', 'Lead users',\n",
       "        'ICT Enablers', 'Analytics, Log analytics',\n",
       "        'Enabling Players, Academia', 'Data Marketplaces',\n",
       "        'Enabling Players', 'Enabling Players, VCs',\n",
       "        'Enabling Players, Incubators', 'Vertical applications, Academia',\n",
       "        'Vertical applications, Incubators',\n",
       "        'ICT Enablers, Business Intelligence', 'Data holders',\n",
       "        'Enabling Players, Financial Services',\n",
       "        'Vertical applications, Public Administration',\n",
       "        'Cross Infrastructures', 'Vertical applications, Utilites',\n",
       "        'Analytics, Social Analytics',\n",
       "        'Vertical applications, Data visualization',\n",
       "        'Analytics Platforms, Analytics',\n",
       "        'Vertical applications, Information & Communications'],\n",
       "       dtype=object)]"
      ]
     },
     "metadata": {},
     "execution_count": 16
    }
   ],
   "source": [
    "print(len(df['Action area'].unique()))\n",
    "area= [df['Action area'].unique()]\n",
    "area"
   ]
  },
  {
   "cell_type": "code",
   "execution_count": null,
   "metadata": {},
   "outputs": [],
   "source": []
  },
  {
   "cell_type": "code",
   "execution_count": 16,
   "metadata": {},
   "outputs": [
    {
     "output_type": "execute_result",
     "data": {
      "text/plain": [
       "                                              Title\n",
       "Action area                                        \n",
       "ICT Enablers, Business Intelligence               1\n",
       "Vertical applications, Public Administration      1\n",
       "Vertical applications, Incubators                 1\n",
       "Vertical applications, Data visualization         1\n",
       "Vertical applications, Consumer data              1"
      ],
      "text/html": "<div>\n<style scoped>\n    .dataframe tbody tr th:only-of-type {\n        vertical-align: middle;\n    }\n\n    .dataframe tbody tr th {\n        vertical-align: top;\n    }\n\n    .dataframe thead th {\n        text-align: right;\n    }\n</style>\n<table border=\"1\" class=\"dataframe\">\n  <thead>\n    <tr style=\"text-align: right;\">\n      <th></th>\n      <th>Title</th>\n    </tr>\n    <tr>\n      <th>Action area</th>\n      <th></th>\n    </tr>\n  </thead>\n  <tbody>\n    <tr>\n      <th>ICT Enablers, Business Intelligence</th>\n      <td>1</td>\n    </tr>\n    <tr>\n      <th>Vertical applications, Public Administration</th>\n      <td>1</td>\n    </tr>\n    <tr>\n      <th>Vertical applications, Incubators</th>\n      <td>1</td>\n    </tr>\n    <tr>\n      <th>Vertical applications, Data visualization</th>\n      <td>1</td>\n    </tr>\n    <tr>\n      <th>Vertical applications, Consumer data</th>\n      <td>1</td>\n    </tr>\n  </tbody>\n</table>\n</div>"
     },
     "metadata": {},
     "execution_count": 16
    }
   ],
   "source": [
    "total_area=df.groupby(['Action area'])['Title'].count().reset_index('Action area')\n",
    "t=total_area.set_index('Action area')\n",
    "t_orden=t.sort_values('Title')\n",
    "t_orden.head()"
   ]
  },
  {
   "cell_type": "code",
   "execution_count": 17,
   "metadata": {},
   "outputs": [
    {
     "output_type": "display_data",
     "data": {
      "text/plain": "<Figure size 864x360 with 1 Axes>",
      "image/svg+xml": "<?xml version=\"1.0\" encoding=\"utf-8\" standalone=\"no\"?>\n<!DOCTYPE svg PUBLIC \"-//W3C//DTD SVG 1.1//EN\"\n  \"http://www.w3.org/Graphics/SVG/1.1/DTD/svg11.dtd\">\n<!-- Created with matplotlib (https://matplotlib.org/) -->\n<svg height=\"588.441875pt\" version=\"1.1\" viewBox=\"0 0 710.0875 588.441875\" width=\"710.0875pt\" xmlns=\"http://www.w3.org/2000/svg\" xmlns:xlink=\"http://www.w3.org/1999/xlink\">\n <defs>\n  <style type=\"text/css\">\n*{stroke-linecap:butt;stroke-linejoin:round;}\n  </style>\n </defs>\n <g id=\"figure_1\">\n  <g id=\"patch_1\">\n   <path d=\"M 0 588.441875 \nL 710.0875 588.441875 \nL 710.0875 0 \nL 0 0 \nz\n\" style=\"fill:none;\"/>\n  </g>\n  <g id=\"axes_1\">\n   <g id=\"patch_2\">\n    <path d=\"M 33.2875 297.1575 \nL 702.8875 297.1575 \nL 702.8875 25.3575 \nL 33.2875 25.3575 \nz\n\" style=\"fill:#ffffff;\"/>\n   </g>\n   <g id=\"patch_3\">\n    <path clip-path=\"url(#pa1193bfee5)\" d=\"M 37.811824 297.1575 \nL 46.860473 297.1575 \nL 46.860473 244.50859 \nL 37.811824 244.50859 \nz\n\" style=\"fill:#1f77b4;\"/>\n   </g>\n   <g id=\"patch_4\">\n    <path clip-path=\"url(#pa1193bfee5)\" d=\"M 55.909122 297.1575 \nL 64.95777 297.1575 \nL 64.95777 296.530727 \nL 55.909122 296.530727 \nz\n\" style=\"fill:#1f77b4;\"/>\n   </g>\n   <g id=\"patch_5\">\n    <path clip-path=\"url(#pa1193bfee5)\" d=\"M 74.006419 297.1575 \nL 83.055068 297.1575 \nL 83.055068 38.300357 \nL 74.006419 38.300357 \nz\n\" style=\"fill:#1f77b4;\"/>\n   </g>\n   <g id=\"patch_6\">\n    <path clip-path=\"url(#pa1193bfee5)\" d=\"M 92.103716 297.1575 \nL 101.152365 297.1575 \nL 101.152365 239.494408 \nL 92.103716 239.494408 \nz\n\" style=\"fill:#1f77b4;\"/>\n   </g>\n   <g id=\"patch_7\">\n    <path clip-path=\"url(#pa1193bfee5)\" d=\"M 110.201014 297.1575 \nL 119.249662 297.1575 \nL 119.249662 283.995272 \nL 110.201014 283.995272 \nz\n\" style=\"fill:#1f77b4;\"/>\n   </g>\n   <g id=\"patch_8\">\n    <path clip-path=\"url(#pa1193bfee5)\" d=\"M 128.298311 297.1575 \nL 137.346959 297.1575 \nL 137.346959 290.889773 \nL 128.298311 290.889773 \nz\n\" style=\"fill:#1f77b4;\"/>\n   </g>\n   <g id=\"patch_9\">\n    <path clip-path=\"url(#pa1193bfee5)\" d=\"M 146.395608 297.1575 \nL 155.444257 297.1575 \nL 155.444257 295.903955 \nL 146.395608 295.903955 \nz\n\" style=\"fill:#1f77b4;\"/>\n   </g>\n   <g id=\"patch_10\">\n    <path clip-path=\"url(#pa1193bfee5)\" d=\"M 164.492905 297.1575 \nL 173.541554 297.1575 \nL 173.541554 289.009454 \nL 164.492905 289.009454 \nz\n\" style=\"fill:#1f77b4;\"/>\n   </g>\n   <g id=\"patch_11\">\n    <path clip-path=\"url(#pa1193bfee5)\" d=\"M 182.590203 297.1575 \nL 191.638851 297.1575 \nL 191.638851 290.263 \nL 182.590203 290.263 \nz\n\" style=\"fill:#1f77b4;\"/>\n   </g>\n   <g id=\"patch_12\">\n    <path clip-path=\"url(#pa1193bfee5)\" d=\"M 200.6875 297.1575 \nL 209.736149 297.1575 \nL 209.736149 288.382682 \nL 200.6875 288.382682 \nz\n\" style=\"fill:#1f77b4;\"/>\n   </g>\n   <g id=\"patch_13\">\n    <path clip-path=\"url(#pa1193bfee5)\" d=\"M 218.784797 297.1575 \nL 227.833446 297.1575 \nL 227.833446 287.129136 \nL 218.784797 287.129136 \nz\n\" style=\"fill:#1f77b4;\"/>\n   </g>\n   <g id=\"patch_14\">\n    <path clip-path=\"url(#pa1193bfee5)\" d=\"M 236.882095 297.1575 \nL 245.930743 297.1575 \nL 245.930743 265.19209 \nL 236.882095 265.19209 \nz\n\" style=\"fill:#1f77b4;\"/>\n   </g>\n   <g id=\"patch_15\">\n    <path clip-path=\"url(#pa1193bfee5)\" d=\"M 254.979392 297.1575 \nL 264.028041 297.1575 \nL 264.028041 245.762135 \nL 254.979392 245.762135 \nz\n\" style=\"fill:#1f77b4;\"/>\n   </g>\n   <g id=\"patch_16\">\n    <path clip-path=\"url(#pa1193bfee5)\" d=\"M 273.076689 297.1575 \nL 282.125338 297.1575 \nL 282.125338 296.530727 \nL 273.076689 296.530727 \nz\n\" style=\"fill:#1f77b4;\"/>\n   </g>\n   <g id=\"patch_17\">\n    <path clip-path=\"url(#pa1193bfee5)\" d=\"M 291.173986 297.1575 \nL 300.222635 297.1575 \nL 300.222635 287.755909 \nL 291.173986 287.755909 \nz\n\" style=\"fill:#1f77b4;\"/>\n   </g>\n   <g id=\"patch_18\">\n    <path clip-path=\"url(#pa1193bfee5)\" d=\"M 309.271284 297.1575 \nL 318.319932 297.1575 \nL 318.319932 200.007725 \nL 309.271284 200.007725 \nz\n\" style=\"fill:#1f77b4;\"/>\n   </g>\n   <g id=\"patch_19\">\n    <path clip-path=\"url(#pa1193bfee5)\" d=\"M 327.368581 297.1575 \nL 336.41723 297.1575 \nL 336.41723 285.875591 \nL 327.368581 285.875591 \nz\n\" style=\"fill:#1f77b4;\"/>\n   </g>\n   <g id=\"patch_20\">\n    <path clip-path=\"url(#pa1193bfee5)\" d=\"M 345.465878 297.1575 \nL 354.514527 297.1575 \nL 354.514527 196.873861 \nL 345.465878 196.873861 \nz\n\" style=\"fill:#1f77b4;\"/>\n   </g>\n   <g id=\"patch_21\">\n    <path clip-path=\"url(#pa1193bfee5)\" d=\"M 363.563176 297.1575 \nL 372.611824 297.1575 \nL 372.611824 296.530727 \nL 363.563176 296.530727 \nz\n\" style=\"fill:#1f77b4;\"/>\n   </g>\n   <g id=\"patch_22\">\n    <path clip-path=\"url(#pa1193bfee5)\" d=\"M 381.660473 297.1575 \nL 390.709122 297.1575 \nL 390.709122 270.833045 \nL 381.660473 270.833045 \nz\n\" style=\"fill:#1f77b4;\"/>\n   </g>\n   <g id=\"patch_23\">\n    <path clip-path=\"url(#pa1193bfee5)\" d=\"M 399.75777 297.1575 \nL 408.806419 297.1575 \nL 408.806419 231.346362 \nL 399.75777 231.346362 \nz\n\" style=\"fill:#1f77b4;\"/>\n   </g>\n   <g id=\"patch_24\">\n    <path clip-path=\"url(#pa1193bfee5)\" d=\"M 417.855068 297.1575 \nL 426.903716 297.1575 \nL 426.903716 296.530727 \nL 417.855068 296.530727 \nz\n\" style=\"fill:#1f77b4;\"/>\n   </g>\n   <g id=\"patch_25\">\n    <path clip-path=\"url(#pa1193bfee5)\" d=\"M 435.952365 297.1575 \nL 445.001014 297.1575 \nL 445.001014 293.396864 \nL 435.952365 293.396864 \nz\n\" style=\"fill:#1f77b4;\"/>\n   </g>\n   <g id=\"patch_26\">\n    <path clip-path=\"url(#pa1193bfee5)\" d=\"M 454.049662 297.1575 \nL 463.098311 297.1575 \nL 463.098311 296.530727 \nL 454.049662 296.530727 \nz\n\" style=\"fill:#1f77b4;\"/>\n   </g>\n   <g id=\"patch_27\">\n    <path clip-path=\"url(#pa1193bfee5)\" d=\"M 472.146959 297.1575 \nL 481.195608 297.1575 \nL 481.195608 296.530727 \nL 472.146959 296.530727 \nz\n\" style=\"fill:#1f77b4;\"/>\n   </g>\n   <g id=\"patch_28\">\n    <path clip-path=\"url(#pa1193bfee5)\" d=\"M 490.244257 297.1575 \nL 499.292905 297.1575 \nL 499.292905 279.607863 \nL 490.244257 279.607863 \nz\n\" style=\"fill:#1f77b4;\"/>\n   </g>\n   <g id=\"patch_29\">\n    <path clip-path=\"url(#pa1193bfee5)\" d=\"M 508.341554 297.1575 \nL 517.390203 297.1575 \nL 517.390203 263.311772 \nL 508.341554 263.311772 \nz\n\" style=\"fill:#1f77b4;\"/>\n   </g>\n   <g id=\"patch_30\">\n    <path clip-path=\"url(#pa1193bfee5)\" d=\"M 526.438851 297.1575 \nL 535.4875 297.1575 \nL 535.4875 263.938545 \nL 526.438851 263.938545 \nz\n\" style=\"fill:#1f77b4;\"/>\n   </g>\n   <g id=\"patch_31\">\n    <path clip-path=\"url(#pa1193bfee5)\" d=\"M 544.536149 297.1575 \nL 553.584797 297.1575 \nL 553.584797 296.530727 \nL 544.536149 296.530727 \nz\n\" style=\"fill:#1f77b4;\"/>\n   </g>\n   <g id=\"patch_32\">\n    <path clip-path=\"url(#pa1193bfee5)\" d=\"M 562.633446 297.1575 \nL 571.682095 297.1575 \nL 571.682095 295.903955 \nL 562.633446 295.903955 \nz\n\" style=\"fill:#1f77b4;\"/>\n   </g>\n   <g id=\"patch_33\">\n    <path clip-path=\"url(#pa1193bfee5)\" d=\"M 580.730743 297.1575 \nL 589.779392 297.1575 \nL 589.779392 293.396864 \nL 580.730743 293.396864 \nz\n\" style=\"fill:#1f77b4;\"/>\n   </g>\n   <g id=\"patch_34\">\n    <path clip-path=\"url(#pa1193bfee5)\" d=\"M 598.828041 297.1575 \nL 607.876689 297.1575 \nL 607.876689 295.903955 \nL 598.828041 295.903955 \nz\n\" style=\"fill:#1f77b4;\"/>\n   </g>\n   <g id=\"patch_35\">\n    <path clip-path=\"url(#pa1193bfee5)\" d=\"M 616.925338 297.1575 \nL 625.973986 297.1575 \nL 625.973986 270.206272 \nL 616.925338 270.206272 \nz\n\" style=\"fill:#1f77b4;\"/>\n   </g>\n   <g id=\"patch_36\">\n    <path clip-path=\"url(#pa1193bfee5)\" d=\"M 635.022635 297.1575 \nL 644.071284 297.1575 \nL 644.071284 296.530727 \nL 635.022635 296.530727 \nz\n\" style=\"fill:#1f77b4;\"/>\n   </g>\n   <g id=\"patch_37\">\n    <path clip-path=\"url(#pa1193bfee5)\" d=\"M 653.119932 297.1575 \nL 662.168581 297.1575 \nL 662.168581 280.861409 \nL 653.119932 280.861409 \nz\n\" style=\"fill:#1f77b4;\"/>\n   </g>\n   <g id=\"patch_38\">\n    <path clip-path=\"url(#pa1193bfee5)\" d=\"M 671.21723 297.1575 \nL 680.265878 297.1575 \nL 680.265878 278.354318 \nL 671.21723 278.354318 \nz\n\" style=\"fill:#1f77b4;\"/>\n   </g>\n   <g id=\"patch_39\">\n    <path clip-path=\"url(#pa1193bfee5)\" d=\"M 689.314527 297.1575 \nL 698.363176 297.1575 \nL 698.363176 296.530727 \nL 689.314527 296.530727 \nz\n\" style=\"fill:#1f77b4;\"/>\n   </g>\n   <g id=\"matplotlib.axis_1\">\n    <g id=\"xtick_1\">\n     <g id=\"line2d_1\">\n      <defs>\n       <path d=\"M 0 0 \nL 0 3.5 \n\" id=\"m8775216fec\" style=\"stroke:#000000;stroke-width:0.8;\"/>\n      </defs>\n      <g>\n       <use style=\"stroke:#000000;stroke-width:0.8;\" x=\"42.336149\" xlink:href=\"#m8775216fec\" y=\"297.1575\"/>\n      </g>\n     </g>\n     <g id=\"text_1\">\n      <!-- Analytics -->\n      <defs>\n       <path d=\"M 34.1875 63.1875 \nL 20.796875 26.90625 \nL 47.609375 26.90625 \nz\nM 28.609375 72.90625 \nL 39.796875 72.90625 \nL 67.578125 0 \nL 57.328125 0 \nL 50.6875 18.703125 \nL 17.828125 18.703125 \nL 11.1875 0 \nL 0.78125 0 \nz\n\" id=\"DejaVuSans-65\"/>\n       <path d=\"M 54.890625 33.015625 \nL 54.890625 0 \nL 45.90625 0 \nL 45.90625 32.71875 \nQ 45.90625 40.484375 42.875 44.328125 \nQ 39.84375 48.1875 33.796875 48.1875 \nQ 26.515625 48.1875 22.3125 43.546875 \nQ 18.109375 38.921875 18.109375 30.90625 \nL 18.109375 0 \nL 9.078125 0 \nL 9.078125 54.6875 \nL 18.109375 54.6875 \nL 18.109375 46.1875 \nQ 21.34375 51.125 25.703125 53.5625 \nQ 30.078125 56 35.796875 56 \nQ 45.21875 56 50.046875 50.171875 \nQ 54.890625 44.34375 54.890625 33.015625 \nz\n\" id=\"DejaVuSans-110\"/>\n       <path d=\"M 34.28125 27.484375 \nQ 23.390625 27.484375 19.1875 25 \nQ 14.984375 22.515625 14.984375 16.5 \nQ 14.984375 11.71875 18.140625 8.90625 \nQ 21.296875 6.109375 26.703125 6.109375 \nQ 34.1875 6.109375 38.703125 11.40625 \nQ 43.21875 16.703125 43.21875 25.484375 \nL 43.21875 27.484375 \nz\nM 52.203125 31.203125 \nL 52.203125 0 \nL 43.21875 0 \nL 43.21875 8.296875 \nQ 40.140625 3.328125 35.546875 0.953125 \nQ 30.953125 -1.421875 24.3125 -1.421875 \nQ 15.921875 -1.421875 10.953125 3.296875 \nQ 6 8.015625 6 15.921875 \nQ 6 25.140625 12.171875 29.828125 \nQ 18.359375 34.515625 30.609375 34.515625 \nL 43.21875 34.515625 \nL 43.21875 35.40625 \nQ 43.21875 41.609375 39.140625 45 \nQ 35.0625 48.390625 27.6875 48.390625 \nQ 23 48.390625 18.546875 47.265625 \nQ 14.109375 46.140625 10.015625 43.890625 \nL 10.015625 52.203125 \nQ 14.9375 54.109375 19.578125 55.046875 \nQ 24.21875 56 28.609375 56 \nQ 40.484375 56 46.34375 49.84375 \nQ 52.203125 43.703125 52.203125 31.203125 \nz\n\" id=\"DejaVuSans-97\"/>\n       <path d=\"M 9.421875 75.984375 \nL 18.40625 75.984375 \nL 18.40625 0 \nL 9.421875 0 \nz\n\" id=\"DejaVuSans-108\"/>\n       <path d=\"M 32.171875 -5.078125 \nQ 28.375 -14.84375 24.75 -17.8125 \nQ 21.140625 -20.796875 15.09375 -20.796875 \nL 7.90625 -20.796875 \nL 7.90625 -13.28125 \nL 13.1875 -13.28125 \nQ 16.890625 -13.28125 18.9375 -11.515625 \nQ 21 -9.765625 23.484375 -3.21875 \nL 25.09375 0.875 \nL 2.984375 54.6875 \nL 12.5 54.6875 \nL 29.59375 11.921875 \nL 46.6875 54.6875 \nL 56.203125 54.6875 \nz\n\" id=\"DejaVuSans-121\"/>\n       <path d=\"M 18.3125 70.21875 \nL 18.3125 54.6875 \nL 36.8125 54.6875 \nL 36.8125 47.703125 \nL 18.3125 47.703125 \nL 18.3125 18.015625 \nQ 18.3125 11.328125 20.140625 9.421875 \nQ 21.96875 7.515625 27.59375 7.515625 \nL 36.8125 7.515625 \nL 36.8125 0 \nL 27.59375 0 \nQ 17.1875 0 13.234375 3.875 \nQ 9.28125 7.765625 9.28125 18.015625 \nL 9.28125 47.703125 \nL 2.6875 47.703125 \nL 2.6875 54.6875 \nL 9.28125 54.6875 \nL 9.28125 70.21875 \nz\n\" id=\"DejaVuSans-116\"/>\n       <path d=\"M 9.421875 54.6875 \nL 18.40625 54.6875 \nL 18.40625 0 \nL 9.421875 0 \nz\nM 9.421875 75.984375 \nL 18.40625 75.984375 \nL 18.40625 64.59375 \nL 9.421875 64.59375 \nz\n\" id=\"DejaVuSans-105\"/>\n       <path d=\"M 48.78125 52.59375 \nL 48.78125 44.1875 \nQ 44.96875 46.296875 41.140625 47.34375 \nQ 37.3125 48.390625 33.40625 48.390625 \nQ 24.65625 48.390625 19.8125 42.84375 \nQ 14.984375 37.3125 14.984375 27.296875 \nQ 14.984375 17.28125 19.8125 11.734375 \nQ 24.65625 6.203125 33.40625 6.203125 \nQ 37.3125 6.203125 41.140625 7.25 \nQ 44.96875 8.296875 48.78125 10.40625 \nL 48.78125 2.09375 \nQ 45.015625 0.34375 40.984375 -0.53125 \nQ 36.96875 -1.421875 32.421875 -1.421875 \nQ 20.0625 -1.421875 12.78125 6.34375 \nQ 5.515625 14.109375 5.515625 27.296875 \nQ 5.515625 40.671875 12.859375 48.328125 \nQ 20.21875 56 33.015625 56 \nQ 37.15625 56 41.109375 55.140625 \nQ 45.0625 54.296875 48.78125 52.59375 \nz\n\" id=\"DejaVuSans-99\"/>\n       <path d=\"M 44.28125 53.078125 \nL 44.28125 44.578125 \nQ 40.484375 46.53125 36.375 47.5 \nQ 32.28125 48.484375 27.875 48.484375 \nQ 21.1875 48.484375 17.84375 46.4375 \nQ 14.5 44.390625 14.5 40.28125 \nQ 14.5 37.15625 16.890625 35.375 \nQ 19.28125 33.59375 26.515625 31.984375 \nL 29.59375 31.296875 \nQ 39.15625 29.25 43.1875 25.515625 \nQ 47.21875 21.78125 47.21875 15.09375 \nQ 47.21875 7.46875 41.1875 3.015625 \nQ 35.15625 -1.421875 24.609375 -1.421875 \nQ 20.21875 -1.421875 15.453125 -0.5625 \nQ 10.6875 0.296875 5.421875 2 \nL 5.421875 11.28125 \nQ 10.40625 8.6875 15.234375 7.390625 \nQ 20.0625 6.109375 24.8125 6.109375 \nQ 31.15625 6.109375 34.5625 8.28125 \nQ 37.984375 10.453125 37.984375 14.40625 \nQ 37.984375 18.0625 35.515625 20.015625 \nQ 33.0625 21.96875 24.703125 23.78125 \nL 21.578125 24.515625 \nQ 13.234375 26.265625 9.515625 29.90625 \nQ 5.8125 33.546875 5.8125 39.890625 \nQ 5.8125 47.609375 11.28125 51.796875 \nQ 16.75 56 26.8125 56 \nQ 31.78125 56 36.171875 55.265625 \nQ 40.578125 54.546875 44.28125 53.078125 \nz\n\" id=\"DejaVuSans-115\"/>\n      </defs>\n      <g transform=\"translate(45.095524 349.566875)rotate(-90)scale(0.1 -0.1)\">\n       <use xlink:href=\"#DejaVuSans-65\"/>\n       <use x=\"68.408203\" xlink:href=\"#DejaVuSans-110\"/>\n       <use x=\"131.787109\" xlink:href=\"#DejaVuSans-97\"/>\n       <use x=\"193.066406\" xlink:href=\"#DejaVuSans-108\"/>\n       <use x=\"220.849609\" xlink:href=\"#DejaVuSans-121\"/>\n       <use x=\"280.029297\" xlink:href=\"#DejaVuSans-116\"/>\n       <use x=\"319.238281\" xlink:href=\"#DejaVuSans-105\"/>\n       <use x=\"347.021484\" xlink:href=\"#DejaVuSans-99\"/>\n       <use x=\"402.001953\" xlink:href=\"#DejaVuSans-115\"/>\n      </g>\n     </g>\n    </g>\n    <g id=\"xtick_2\">\n     <g id=\"line2d_2\">\n      <g>\n       <use style=\"stroke:#000000;stroke-width:0.8;\" x=\"60.433446\" xlink:href=\"#m8775216fec\" y=\"297.1575\"/>\n      </g>\n     </g>\n     <g id=\"text_2\">\n      <!-- Analytics Platforms, Analytics -->\n      <defs>\n       <path id=\"DejaVuSans-32\"/>\n       <path d=\"M 19.671875 64.796875 \nL 19.671875 37.40625 \nL 32.078125 37.40625 \nQ 38.96875 37.40625 42.71875 40.96875 \nQ 46.484375 44.53125 46.484375 51.125 \nQ 46.484375 57.671875 42.71875 61.234375 \nQ 38.96875 64.796875 32.078125 64.796875 \nz\nM 9.8125 72.90625 \nL 32.078125 72.90625 \nQ 44.34375 72.90625 50.609375 67.359375 \nQ 56.890625 61.8125 56.890625 51.125 \nQ 56.890625 40.328125 50.609375 34.8125 \nQ 44.34375 29.296875 32.078125 29.296875 \nL 19.671875 29.296875 \nL 19.671875 0 \nL 9.8125 0 \nz\n\" id=\"DejaVuSans-80\"/>\n       <path d=\"M 37.109375 75.984375 \nL 37.109375 68.5 \nL 28.515625 68.5 \nQ 23.6875 68.5 21.796875 66.546875 \nQ 19.921875 64.59375 19.921875 59.515625 \nL 19.921875 54.6875 \nL 34.71875 54.6875 \nL 34.71875 47.703125 \nL 19.921875 47.703125 \nL 19.921875 0 \nL 10.890625 0 \nL 10.890625 47.703125 \nL 2.296875 47.703125 \nL 2.296875 54.6875 \nL 10.890625 54.6875 \nL 10.890625 58.5 \nQ 10.890625 67.625 15.140625 71.796875 \nQ 19.390625 75.984375 28.609375 75.984375 \nz\n\" id=\"DejaVuSans-102\"/>\n       <path d=\"M 30.609375 48.390625 \nQ 23.390625 48.390625 19.1875 42.75 \nQ 14.984375 37.109375 14.984375 27.296875 \nQ 14.984375 17.484375 19.15625 11.84375 \nQ 23.34375 6.203125 30.609375 6.203125 \nQ 37.796875 6.203125 41.984375 11.859375 \nQ 46.1875 17.53125 46.1875 27.296875 \nQ 46.1875 37.015625 41.984375 42.703125 \nQ 37.796875 48.390625 30.609375 48.390625 \nz\nM 30.609375 56 \nQ 42.328125 56 49.015625 48.375 \nQ 55.71875 40.765625 55.71875 27.296875 \nQ 55.71875 13.875 49.015625 6.21875 \nQ 42.328125 -1.421875 30.609375 -1.421875 \nQ 18.84375 -1.421875 12.171875 6.21875 \nQ 5.515625 13.875 5.515625 27.296875 \nQ 5.515625 40.765625 12.171875 48.375 \nQ 18.84375 56 30.609375 56 \nz\n\" id=\"DejaVuSans-111\"/>\n       <path d=\"M 41.109375 46.296875 \nQ 39.59375 47.171875 37.8125 47.578125 \nQ 36.03125 48 33.890625 48 \nQ 26.265625 48 22.1875 43.046875 \nQ 18.109375 38.09375 18.109375 28.8125 \nL 18.109375 0 \nL 9.078125 0 \nL 9.078125 54.6875 \nL 18.109375 54.6875 \nL 18.109375 46.1875 \nQ 20.953125 51.171875 25.484375 53.578125 \nQ 30.03125 56 36.53125 56 \nQ 37.453125 56 38.578125 55.875 \nQ 39.703125 55.765625 41.0625 55.515625 \nz\n\" id=\"DejaVuSans-114\"/>\n       <path d=\"M 52 44.1875 \nQ 55.375 50.25 60.0625 53.125 \nQ 64.75 56 71.09375 56 \nQ 79.640625 56 84.28125 50.015625 \nQ 88.921875 44.046875 88.921875 33.015625 \nL 88.921875 0 \nL 79.890625 0 \nL 79.890625 32.71875 \nQ 79.890625 40.578125 77.09375 44.375 \nQ 74.3125 48.1875 68.609375 48.1875 \nQ 61.625 48.1875 57.5625 43.546875 \nQ 53.515625 38.921875 53.515625 30.90625 \nL 53.515625 0 \nL 44.484375 0 \nL 44.484375 32.71875 \nQ 44.484375 40.625 41.703125 44.40625 \nQ 38.921875 48.1875 33.109375 48.1875 \nQ 26.21875 48.1875 22.15625 43.53125 \nQ 18.109375 38.875 18.109375 30.90625 \nL 18.109375 0 \nL 9.078125 0 \nL 9.078125 54.6875 \nL 18.109375 54.6875 \nL 18.109375 46.1875 \nQ 21.1875 51.21875 25.484375 53.609375 \nQ 29.78125 56 35.6875 56 \nQ 41.65625 56 45.828125 52.96875 \nQ 50 49.953125 52 44.1875 \nz\n\" id=\"DejaVuSans-109\"/>\n       <path d=\"M 11.71875 12.40625 \nL 22.015625 12.40625 \nL 22.015625 4 \nL 14.015625 -11.625 \nL 7.71875 -11.625 \nL 11.71875 4 \nz\n\" id=\"DejaVuSans-44\"/>\n      </defs>\n      <g transform=\"translate(63.192821 451.891875)rotate(-90)scale(0.1 -0.1)\">\n       <use xlink:href=\"#DejaVuSans-65\"/>\n       <use x=\"68.408203\" xlink:href=\"#DejaVuSans-110\"/>\n       <use x=\"131.787109\" xlink:href=\"#DejaVuSans-97\"/>\n       <use x=\"193.066406\" xlink:href=\"#DejaVuSans-108\"/>\n       <use x=\"220.849609\" xlink:href=\"#DejaVuSans-121\"/>\n       <use x=\"280.029297\" xlink:href=\"#DejaVuSans-116\"/>\n       <use x=\"319.238281\" xlink:href=\"#DejaVuSans-105\"/>\n       <use x=\"347.021484\" xlink:href=\"#DejaVuSans-99\"/>\n       <use x=\"402.001953\" xlink:href=\"#DejaVuSans-115\"/>\n       <use x=\"454.101562\" xlink:href=\"#DejaVuSans-32\"/>\n       <use x=\"485.888672\" xlink:href=\"#DejaVuSans-80\"/>\n       <use x=\"546.191406\" xlink:href=\"#DejaVuSans-108\"/>\n       <use x=\"573.974609\" xlink:href=\"#DejaVuSans-97\"/>\n       <use x=\"635.253906\" xlink:href=\"#DejaVuSans-116\"/>\n       <use x=\"674.462891\" xlink:href=\"#DejaVuSans-102\"/>\n       <use x=\"709.667969\" xlink:href=\"#DejaVuSans-111\"/>\n       <use x=\"770.849609\" xlink:href=\"#DejaVuSans-114\"/>\n       <use x=\"810.212891\" xlink:href=\"#DejaVuSans-109\"/>\n       <use x=\"907.625\" xlink:href=\"#DejaVuSans-115\"/>\n       <use x=\"959.724609\" xlink:href=\"#DejaVuSans-44\"/>\n       <use x=\"991.511719\" xlink:href=\"#DejaVuSans-32\"/>\n       <use x=\"1023.298828\" xlink:href=\"#DejaVuSans-65\"/>\n       <use x=\"1091.707031\" xlink:href=\"#DejaVuSans-110\"/>\n       <use x=\"1155.085938\" xlink:href=\"#DejaVuSans-97\"/>\n       <use x=\"1216.365234\" xlink:href=\"#DejaVuSans-108\"/>\n       <use x=\"1244.148438\" xlink:href=\"#DejaVuSans-121\"/>\n       <use x=\"1303.328125\" xlink:href=\"#DejaVuSans-116\"/>\n       <use x=\"1342.537109\" xlink:href=\"#DejaVuSans-105\"/>\n       <use x=\"1370.320312\" xlink:href=\"#DejaVuSans-99\"/>\n       <use x=\"1425.300781\" xlink:href=\"#DejaVuSans-115\"/>\n      </g>\n     </g>\n    </g>\n    <g id=\"xtick_3\">\n     <g id=\"line2d_3\">\n      <g>\n       <use style=\"stroke:#000000;stroke-width:0.8;\" x=\"78.530743\" xlink:href=\"#m8775216fec\" y=\"297.1575\"/>\n      </g>\n     </g>\n     <g id=\"text_3\">\n      <!-- Analytics, AI/Machine learning -->\n      <defs>\n       <path d=\"M 9.8125 72.90625 \nL 19.671875 72.90625 \nL 19.671875 0 \nL 9.8125 0 \nz\n\" id=\"DejaVuSans-73\"/>\n       <path d=\"M 25.390625 72.90625 \nL 33.6875 72.90625 \nL 8.296875 -9.28125 \nL 0 -9.28125 \nz\n\" id=\"DejaVuSans-47\"/>\n       <path d=\"M 9.8125 72.90625 \nL 24.515625 72.90625 \nL 43.109375 23.296875 \nL 61.8125 72.90625 \nL 76.515625 72.90625 \nL 76.515625 0 \nL 66.890625 0 \nL 66.890625 64.015625 \nL 48.09375 14.015625 \nL 38.1875 14.015625 \nL 19.390625 64.015625 \nL 19.390625 0 \nL 9.8125 0 \nz\n\" id=\"DejaVuSans-77\"/>\n       <path d=\"M 54.890625 33.015625 \nL 54.890625 0 \nL 45.90625 0 \nL 45.90625 32.71875 \nQ 45.90625 40.484375 42.875 44.328125 \nQ 39.84375 48.1875 33.796875 48.1875 \nQ 26.515625 48.1875 22.3125 43.546875 \nQ 18.109375 38.921875 18.109375 30.90625 \nL 18.109375 0 \nL 9.078125 0 \nL 9.078125 75.984375 \nL 18.109375 75.984375 \nL 18.109375 46.1875 \nQ 21.34375 51.125 25.703125 53.5625 \nQ 30.078125 56 35.796875 56 \nQ 45.21875 56 50.046875 50.171875 \nQ 54.890625 44.34375 54.890625 33.015625 \nz\n\" id=\"DejaVuSans-104\"/>\n       <path d=\"M 56.203125 29.59375 \nL 56.203125 25.203125 \nL 14.890625 25.203125 \nQ 15.484375 15.921875 20.484375 11.0625 \nQ 25.484375 6.203125 34.421875 6.203125 \nQ 39.59375 6.203125 44.453125 7.46875 \nQ 49.3125 8.734375 54.109375 11.28125 \nL 54.109375 2.78125 \nQ 49.265625 0.734375 44.1875 -0.34375 \nQ 39.109375 -1.421875 33.890625 -1.421875 \nQ 20.796875 -1.421875 13.15625 6.1875 \nQ 5.515625 13.8125 5.515625 26.8125 \nQ 5.515625 40.234375 12.765625 48.109375 \nQ 20.015625 56 32.328125 56 \nQ 43.359375 56 49.78125 48.890625 \nQ 56.203125 41.796875 56.203125 29.59375 \nz\nM 47.21875 32.234375 \nQ 47.125 39.59375 43.09375 43.984375 \nQ 39.0625 48.390625 32.421875 48.390625 \nQ 24.90625 48.390625 20.390625 44.140625 \nQ 15.875 39.890625 15.1875 32.171875 \nz\n\" id=\"DejaVuSans-101\"/>\n       <path d=\"M 45.40625 27.984375 \nQ 45.40625 37.75 41.375 43.109375 \nQ 37.359375 48.484375 30.078125 48.484375 \nQ 22.859375 48.484375 18.828125 43.109375 \nQ 14.796875 37.75 14.796875 27.984375 \nQ 14.796875 18.265625 18.828125 12.890625 \nQ 22.859375 7.515625 30.078125 7.515625 \nQ 37.359375 7.515625 41.375 12.890625 \nQ 45.40625 18.265625 45.40625 27.984375 \nz\nM 54.390625 6.78125 \nQ 54.390625 -7.171875 48.1875 -13.984375 \nQ 42 -20.796875 29.203125 -20.796875 \nQ 24.46875 -20.796875 20.265625 -20.09375 \nQ 16.0625 -19.390625 12.109375 -17.921875 \nL 12.109375 -9.1875 \nQ 16.0625 -11.328125 19.921875 -12.34375 \nQ 23.78125 -13.375 27.78125 -13.375 \nQ 36.625 -13.375 41.015625 -8.765625 \nQ 45.40625 -4.15625 45.40625 5.171875 \nL 45.40625 9.625 \nQ 42.625 4.78125 38.28125 2.390625 \nQ 33.9375 0 27.875 0 \nQ 17.828125 0 11.671875 7.65625 \nQ 5.515625 15.328125 5.515625 27.984375 \nQ 5.515625 40.671875 11.671875 48.328125 \nQ 17.828125 56 27.875 56 \nQ 33.9375 56 38.28125 53.609375 \nQ 42.625 51.21875 45.40625 46.390625 \nL 45.40625 54.6875 \nL 54.390625 54.6875 \nz\n\" id=\"DejaVuSans-103\"/>\n      </defs>\n      <g transform=\"translate(81.290118 454.918437)rotate(-90)scale(0.1 -0.1)\">\n       <use xlink:href=\"#DejaVuSans-65\"/>\n       <use x=\"68.408203\" xlink:href=\"#DejaVuSans-110\"/>\n       <use x=\"131.787109\" xlink:href=\"#DejaVuSans-97\"/>\n       <use x=\"193.066406\" xlink:href=\"#DejaVuSans-108\"/>\n       <use x=\"220.849609\" xlink:href=\"#DejaVuSans-121\"/>\n       <use x=\"280.029297\" xlink:href=\"#DejaVuSans-116\"/>\n       <use x=\"319.238281\" xlink:href=\"#DejaVuSans-105\"/>\n       <use x=\"347.021484\" xlink:href=\"#DejaVuSans-99\"/>\n       <use x=\"402.001953\" xlink:href=\"#DejaVuSans-115\"/>\n       <use x=\"454.101562\" xlink:href=\"#DejaVuSans-44\"/>\n       <use x=\"485.888672\" xlink:href=\"#DejaVuSans-32\"/>\n       <use x=\"517.675781\" xlink:href=\"#DejaVuSans-65\"/>\n       <use x=\"586.083984\" xlink:href=\"#DejaVuSans-73\"/>\n       <use x=\"615.576172\" xlink:href=\"#DejaVuSans-47\"/>\n       <use x=\"649.267578\" xlink:href=\"#DejaVuSans-77\"/>\n       <use x=\"735.546875\" xlink:href=\"#DejaVuSans-97\"/>\n       <use x=\"796.826172\" xlink:href=\"#DejaVuSans-99\"/>\n       <use x=\"851.806641\" xlink:href=\"#DejaVuSans-104\"/>\n       <use x=\"915.185547\" xlink:href=\"#DejaVuSans-105\"/>\n       <use x=\"942.96875\" xlink:href=\"#DejaVuSans-110\"/>\n       <use x=\"1006.347656\" xlink:href=\"#DejaVuSans-101\"/>\n       <use x=\"1067.871094\" xlink:href=\"#DejaVuSans-32\"/>\n       <use x=\"1099.658203\" xlink:href=\"#DejaVuSans-108\"/>\n       <use x=\"1127.441406\" xlink:href=\"#DejaVuSans-101\"/>\n       <use x=\"1188.964844\" xlink:href=\"#DejaVuSans-97\"/>\n       <use x=\"1250.244141\" xlink:href=\"#DejaVuSans-114\"/>\n       <use x=\"1289.607422\" xlink:href=\"#DejaVuSans-110\"/>\n       <use x=\"1352.986328\" xlink:href=\"#DejaVuSans-105\"/>\n       <use x=\"1380.769531\" xlink:href=\"#DejaVuSans-110\"/>\n       <use x=\"1444.148438\" xlink:href=\"#DejaVuSans-103\"/>\n      </g>\n     </g>\n    </g>\n    <g id=\"xtick_4\">\n     <g id=\"line2d_4\">\n      <g>\n       <use style=\"stroke:#000000;stroke-width:0.8;\" x=\"96.628041\" xlink:href=\"#m8775216fec\" y=\"297.1575\"/>\n      </g>\n     </g>\n     <g id=\"text_4\">\n      <!-- Analytics, Business Intelligence -->\n      <defs>\n       <path d=\"M 19.671875 34.8125 \nL 19.671875 8.109375 \nL 35.5 8.109375 \nQ 43.453125 8.109375 47.28125 11.40625 \nQ 51.125 14.703125 51.125 21.484375 \nQ 51.125 28.328125 47.28125 31.5625 \nQ 43.453125 34.8125 35.5 34.8125 \nz\nM 19.671875 64.796875 \nL 19.671875 42.828125 \nL 34.28125 42.828125 \nQ 41.5 42.828125 45.03125 45.53125 \nQ 48.578125 48.25 48.578125 53.8125 \nQ 48.578125 59.328125 45.03125 62.0625 \nQ 41.5 64.796875 34.28125 64.796875 \nz\nM 9.8125 72.90625 \nL 35.015625 72.90625 \nQ 46.296875 72.90625 52.390625 68.21875 \nQ 58.5 63.53125 58.5 54.890625 \nQ 58.5 48.1875 55.375 44.234375 \nQ 52.25 40.28125 46.1875 39.3125 \nQ 53.46875 37.75 57.5 32.78125 \nQ 61.53125 27.828125 61.53125 20.40625 \nQ 61.53125 10.640625 54.890625 5.3125 \nQ 48.25 0 35.984375 0 \nL 9.8125 0 \nz\n\" id=\"DejaVuSans-66\"/>\n       <path d=\"M 8.5 21.578125 \nL 8.5 54.6875 \nL 17.484375 54.6875 \nL 17.484375 21.921875 \nQ 17.484375 14.15625 20.5 10.265625 \nQ 23.53125 6.390625 29.59375 6.390625 \nQ 36.859375 6.390625 41.078125 11.03125 \nQ 45.3125 15.671875 45.3125 23.6875 \nL 45.3125 54.6875 \nL 54.296875 54.6875 \nL 54.296875 0 \nL 45.3125 0 \nL 45.3125 8.40625 \nQ 42.046875 3.421875 37.71875 1 \nQ 33.40625 -1.421875 27.6875 -1.421875 \nQ 18.265625 -1.421875 13.375 4.4375 \nQ 8.5 10.296875 8.5 21.578125 \nz\nM 31.109375 56 \nz\n\" id=\"DejaVuSans-117\"/>\n      </defs>\n      <g transform=\"translate(99.387416 461.3825)rotate(-90)scale(0.1 -0.1)\">\n       <use xlink:href=\"#DejaVuSans-65\"/>\n       <use x=\"68.408203\" xlink:href=\"#DejaVuSans-110\"/>\n       <use x=\"131.787109\" xlink:href=\"#DejaVuSans-97\"/>\n       <use x=\"193.066406\" xlink:href=\"#DejaVuSans-108\"/>\n       <use x=\"220.849609\" xlink:href=\"#DejaVuSans-121\"/>\n       <use x=\"280.029297\" xlink:href=\"#DejaVuSans-116\"/>\n       <use x=\"319.238281\" xlink:href=\"#DejaVuSans-105\"/>\n       <use x=\"347.021484\" xlink:href=\"#DejaVuSans-99\"/>\n       <use x=\"402.001953\" xlink:href=\"#DejaVuSans-115\"/>\n       <use x=\"454.101562\" xlink:href=\"#DejaVuSans-44\"/>\n       <use x=\"485.888672\" xlink:href=\"#DejaVuSans-32\"/>\n       <use x=\"517.675781\" xlink:href=\"#DejaVuSans-66\"/>\n       <use x=\"586.279297\" xlink:href=\"#DejaVuSans-117\"/>\n       <use x=\"649.658203\" xlink:href=\"#DejaVuSans-115\"/>\n       <use x=\"701.757812\" xlink:href=\"#DejaVuSans-105\"/>\n       <use x=\"729.541016\" xlink:href=\"#DejaVuSans-110\"/>\n       <use x=\"792.919922\" xlink:href=\"#DejaVuSans-101\"/>\n       <use x=\"854.443359\" xlink:href=\"#DejaVuSans-115\"/>\n       <use x=\"906.542969\" xlink:href=\"#DejaVuSans-115\"/>\n       <use x=\"958.642578\" xlink:href=\"#DejaVuSans-32\"/>\n       <use x=\"990.429688\" xlink:href=\"#DejaVuSans-73\"/>\n       <use x=\"1019.921875\" xlink:href=\"#DejaVuSans-110\"/>\n       <use x=\"1083.300781\" xlink:href=\"#DejaVuSans-116\"/>\n       <use x=\"1122.509766\" xlink:href=\"#DejaVuSans-101\"/>\n       <use x=\"1184.033203\" xlink:href=\"#DejaVuSans-108\"/>\n       <use x=\"1211.816406\" xlink:href=\"#DejaVuSans-108\"/>\n       <use x=\"1239.599609\" xlink:href=\"#DejaVuSans-105\"/>\n       <use x=\"1267.382812\" xlink:href=\"#DejaVuSans-103\"/>\n       <use x=\"1330.859375\" xlink:href=\"#DejaVuSans-101\"/>\n       <use x=\"1392.382812\" xlink:href=\"#DejaVuSans-110\"/>\n       <use x=\"1455.761719\" xlink:href=\"#DejaVuSans-99\"/>\n       <use x=\"1510.742188\" xlink:href=\"#DejaVuSans-101\"/>\n      </g>\n     </g>\n    </g>\n    <g id=\"xtick_5\">\n     <g id=\"line2d_5\">\n      <g>\n       <use style=\"stroke:#000000;stroke-width:0.8;\" x=\"114.725338\" xlink:href=\"#m8775216fec\" y=\"297.1575\"/>\n      </g>\n     </g>\n     <g id=\"text_5\">\n      <!-- Analytics, Consumer data -->\n      <defs>\n       <path d=\"M 64.40625 67.28125 \nL 64.40625 56.890625 \nQ 59.421875 61.53125 53.78125 63.8125 \nQ 48.140625 66.109375 41.796875 66.109375 \nQ 29.296875 66.109375 22.65625 58.46875 \nQ 16.015625 50.828125 16.015625 36.375 \nQ 16.015625 21.96875 22.65625 14.328125 \nQ 29.296875 6.6875 41.796875 6.6875 \nQ 48.140625 6.6875 53.78125 8.984375 \nQ 59.421875 11.28125 64.40625 15.921875 \nL 64.40625 5.609375 \nQ 59.234375 2.09375 53.4375 0.328125 \nQ 47.65625 -1.421875 41.21875 -1.421875 \nQ 24.65625 -1.421875 15.125 8.703125 \nQ 5.609375 18.84375 5.609375 36.375 \nQ 5.609375 53.953125 15.125 64.078125 \nQ 24.65625 74.21875 41.21875 74.21875 \nQ 47.75 74.21875 53.53125 72.484375 \nQ 59.328125 70.75 64.40625 67.28125 \nz\n\" id=\"DejaVuSans-67\"/>\n       <path d=\"M 45.40625 46.390625 \nL 45.40625 75.984375 \nL 54.390625 75.984375 \nL 54.390625 0 \nL 45.40625 0 \nL 45.40625 8.203125 \nQ 42.578125 3.328125 38.25 0.953125 \nQ 33.9375 -1.421875 27.875 -1.421875 \nQ 17.96875 -1.421875 11.734375 6.484375 \nQ 5.515625 14.40625 5.515625 27.296875 \nQ 5.515625 40.1875 11.734375 48.09375 \nQ 17.96875 56 27.875 56 \nQ 33.9375 56 38.25 53.625 \nQ 42.578125 51.265625 45.40625 46.390625 \nz\nM 14.796875 27.296875 \nQ 14.796875 17.390625 18.875 11.75 \nQ 22.953125 6.109375 30.078125 6.109375 \nQ 37.203125 6.109375 41.296875 11.75 \nQ 45.40625 17.390625 45.40625 27.296875 \nQ 45.40625 37.203125 41.296875 42.84375 \nQ 37.203125 48.484375 30.078125 48.484375 \nQ 22.953125 48.484375 18.875 42.84375 \nQ 14.796875 37.203125 14.796875 27.296875 \nz\n\" id=\"DejaVuSans-100\"/>\n      </defs>\n      <g transform=\"translate(117.484713 432.616875)rotate(-90)scale(0.1 -0.1)\">\n       <use xlink:href=\"#DejaVuSans-65\"/>\n       <use x=\"68.408203\" xlink:href=\"#DejaVuSans-110\"/>\n       <use x=\"131.787109\" xlink:href=\"#DejaVuSans-97\"/>\n       <use x=\"193.066406\" xlink:href=\"#DejaVuSans-108\"/>\n       <use x=\"220.849609\" xlink:href=\"#DejaVuSans-121\"/>\n       <use x=\"280.029297\" xlink:href=\"#DejaVuSans-116\"/>\n       <use x=\"319.238281\" xlink:href=\"#DejaVuSans-105\"/>\n       <use x=\"347.021484\" xlink:href=\"#DejaVuSans-99\"/>\n       <use x=\"402.001953\" xlink:href=\"#DejaVuSans-115\"/>\n       <use x=\"454.101562\" xlink:href=\"#DejaVuSans-44\"/>\n       <use x=\"485.888672\" xlink:href=\"#DejaVuSans-32\"/>\n       <use x=\"517.675781\" xlink:href=\"#DejaVuSans-67\"/>\n       <use x=\"587.5\" xlink:href=\"#DejaVuSans-111\"/>\n       <use x=\"648.681641\" xlink:href=\"#DejaVuSans-110\"/>\n       <use x=\"712.060547\" xlink:href=\"#DejaVuSans-115\"/>\n       <use x=\"764.160156\" xlink:href=\"#DejaVuSans-117\"/>\n       <use x=\"827.539062\" xlink:href=\"#DejaVuSans-109\"/>\n       <use x=\"924.951172\" xlink:href=\"#DejaVuSans-101\"/>\n       <use x=\"986.474609\" xlink:href=\"#DejaVuSans-114\"/>\n       <use x=\"1027.587891\" xlink:href=\"#DejaVuSans-32\"/>\n       <use x=\"1059.375\" xlink:href=\"#DejaVuSans-100\"/>\n       <use x=\"1122.851562\" xlink:href=\"#DejaVuSans-97\"/>\n       <use x=\"1184.130859\" xlink:href=\"#DejaVuSans-116\"/>\n       <use x=\"1223.339844\" xlink:href=\"#DejaVuSans-97\"/>\n      </g>\n     </g>\n    </g>\n    <g id=\"xtick_6\">\n     <g id=\"line2d_6\">\n      <g>\n       <use style=\"stroke:#000000;stroke-width:0.8;\" x=\"132.822635\" xlink:href=\"#m8775216fec\" y=\"297.1575\"/>\n      </g>\n     </g>\n     <g id=\"text_6\">\n      <!-- Analytics, Data visualization -->\n      <defs>\n       <path d=\"M 19.671875 64.796875 \nL 19.671875 8.109375 \nL 31.59375 8.109375 \nQ 46.6875 8.109375 53.6875 14.9375 \nQ 60.6875 21.78125 60.6875 36.53125 \nQ 60.6875 51.171875 53.6875 57.984375 \nQ 46.6875 64.796875 31.59375 64.796875 \nz\nM 9.8125 72.90625 \nL 30.078125 72.90625 \nQ 51.265625 72.90625 61.171875 64.09375 \nQ 71.09375 55.28125 71.09375 36.53125 \nQ 71.09375 17.671875 61.125 8.828125 \nQ 51.171875 0 30.078125 0 \nL 9.8125 0 \nz\n\" id=\"DejaVuSans-68\"/>\n       <path d=\"M 2.984375 54.6875 \nL 12.5 54.6875 \nL 29.59375 8.796875 \nL 46.6875 54.6875 \nL 56.203125 54.6875 \nL 35.6875 0 \nL 23.484375 0 \nz\n\" id=\"DejaVuSans-118\"/>\n       <path d=\"M 5.515625 54.6875 \nL 48.1875 54.6875 \nL 48.1875 46.484375 \nL 14.40625 7.171875 \nL 48.1875 7.171875 \nL 48.1875 0 \nL 4.296875 0 \nL 4.296875 8.203125 \nL 38.09375 47.515625 \nL 5.515625 47.515625 \nz\n\" id=\"DejaVuSans-122\"/>\n      </defs>\n      <g transform=\"translate(135.58201 445.437187)rotate(-90)scale(0.1 -0.1)\">\n       <use xlink:href=\"#DejaVuSans-65\"/>\n       <use x=\"68.408203\" xlink:href=\"#DejaVuSans-110\"/>\n       <use x=\"131.787109\" xlink:href=\"#DejaVuSans-97\"/>\n       <use x=\"193.066406\" xlink:href=\"#DejaVuSans-108\"/>\n       <use x=\"220.849609\" xlink:href=\"#DejaVuSans-121\"/>\n       <use x=\"280.029297\" xlink:href=\"#DejaVuSans-116\"/>\n       <use x=\"319.238281\" xlink:href=\"#DejaVuSans-105\"/>\n       <use x=\"347.021484\" xlink:href=\"#DejaVuSans-99\"/>\n       <use x=\"402.001953\" xlink:href=\"#DejaVuSans-115\"/>\n       <use x=\"454.101562\" xlink:href=\"#DejaVuSans-44\"/>\n       <use x=\"485.888672\" xlink:href=\"#DejaVuSans-32\"/>\n       <use x=\"517.675781\" xlink:href=\"#DejaVuSans-68\"/>\n       <use x=\"594.677734\" xlink:href=\"#DejaVuSans-97\"/>\n       <use x=\"655.957031\" xlink:href=\"#DejaVuSans-116\"/>\n       <use x=\"695.166016\" xlink:href=\"#DejaVuSans-97\"/>\n       <use x=\"756.445312\" xlink:href=\"#DejaVuSans-32\"/>\n       <use x=\"788.232422\" xlink:href=\"#DejaVuSans-118\"/>\n       <use x=\"847.412109\" xlink:href=\"#DejaVuSans-105\"/>\n       <use x=\"875.195312\" xlink:href=\"#DejaVuSans-115\"/>\n       <use x=\"927.294922\" xlink:href=\"#DejaVuSans-117\"/>\n       <use x=\"990.673828\" xlink:href=\"#DejaVuSans-97\"/>\n       <use x=\"1051.953125\" xlink:href=\"#DejaVuSans-108\"/>\n       <use x=\"1079.736328\" xlink:href=\"#DejaVuSans-105\"/>\n       <use x=\"1107.519531\" xlink:href=\"#DejaVuSans-122\"/>\n       <use x=\"1160.009766\" xlink:href=\"#DejaVuSans-97\"/>\n       <use x=\"1221.289062\" xlink:href=\"#DejaVuSans-116\"/>\n       <use x=\"1260.498047\" xlink:href=\"#DejaVuSans-105\"/>\n       <use x=\"1288.28125\" xlink:href=\"#DejaVuSans-111\"/>\n       <use x=\"1349.462891\" xlink:href=\"#DejaVuSans-110\"/>\n      </g>\n     </g>\n    </g>\n    <g id=\"xtick_7\">\n     <g id=\"line2d_7\">\n      <g>\n       <use style=\"stroke:#000000;stroke-width:0.8;\" x=\"150.919932\" xlink:href=\"#m8775216fec\" y=\"297.1575\"/>\n      </g>\n     </g>\n     <g id=\"text_7\">\n      <!-- Analytics, Log analytics -->\n      <defs>\n       <path d=\"M 9.8125 72.90625 \nL 19.671875 72.90625 \nL 19.671875 8.296875 \nL 55.171875 8.296875 \nL 55.171875 0 \nL 9.8125 0 \nz\n\" id=\"DejaVuSans-76\"/>\n      </defs>\n      <g transform=\"translate(153.679307 421.662187)rotate(-90)scale(0.1 -0.1)\">\n       <use xlink:href=\"#DejaVuSans-65\"/>\n       <use x=\"68.408203\" xlink:href=\"#DejaVuSans-110\"/>\n       <use x=\"131.787109\" xlink:href=\"#DejaVuSans-97\"/>\n       <use x=\"193.066406\" xlink:href=\"#DejaVuSans-108\"/>\n       <use x=\"220.849609\" xlink:href=\"#DejaVuSans-121\"/>\n       <use x=\"280.029297\" xlink:href=\"#DejaVuSans-116\"/>\n       <use x=\"319.238281\" xlink:href=\"#DejaVuSans-105\"/>\n       <use x=\"347.021484\" xlink:href=\"#DejaVuSans-99\"/>\n       <use x=\"402.001953\" xlink:href=\"#DejaVuSans-115\"/>\n       <use x=\"454.101562\" xlink:href=\"#DejaVuSans-44\"/>\n       <use x=\"485.888672\" xlink:href=\"#DejaVuSans-32\"/>\n       <use x=\"517.675781\" xlink:href=\"#DejaVuSans-76\"/>\n       <use x=\"571.638672\" xlink:href=\"#DejaVuSans-111\"/>\n       <use x=\"632.820312\" xlink:href=\"#DejaVuSans-103\"/>\n       <use x=\"696.296875\" xlink:href=\"#DejaVuSans-32\"/>\n       <use x=\"728.083984\" xlink:href=\"#DejaVuSans-97\"/>\n       <use x=\"789.363281\" xlink:href=\"#DejaVuSans-110\"/>\n       <use x=\"852.742188\" xlink:href=\"#DejaVuSans-97\"/>\n       <use x=\"914.021484\" xlink:href=\"#DejaVuSans-108\"/>\n       <use x=\"941.804688\" xlink:href=\"#DejaVuSans-121\"/>\n       <use x=\"1000.984375\" xlink:href=\"#DejaVuSans-116\"/>\n       <use x=\"1040.193359\" xlink:href=\"#DejaVuSans-105\"/>\n       <use x=\"1067.976562\" xlink:href=\"#DejaVuSans-99\"/>\n       <use x=\"1122.957031\" xlink:href=\"#DejaVuSans-115\"/>\n      </g>\n     </g>\n    </g>\n    <g id=\"xtick_8\">\n     <g id=\"line2d_8\">\n      <g>\n       <use style=\"stroke:#000000;stroke-width:0.8;\" x=\"169.01723\" xlink:href=\"#m8775216fec\" y=\"297.1575\"/>\n      </g>\n     </g>\n     <g id=\"text_8\">\n      <!-- Analytics, Social Analytics -->\n      <defs>\n       <path d=\"M 53.515625 70.515625 \nL 53.515625 60.890625 \nQ 47.90625 63.578125 42.921875 64.890625 \nQ 37.9375 66.21875 33.296875 66.21875 \nQ 25.25 66.21875 20.875 63.09375 \nQ 16.5 59.96875 16.5 54.203125 \nQ 16.5 49.359375 19.40625 46.890625 \nQ 22.3125 44.4375 30.421875 42.921875 \nL 36.375 41.703125 \nQ 47.40625 39.59375 52.65625 34.296875 \nQ 57.90625 29 57.90625 20.125 \nQ 57.90625 9.515625 50.796875 4.046875 \nQ 43.703125 -1.421875 29.984375 -1.421875 \nQ 24.8125 -1.421875 18.96875 -0.25 \nQ 13.140625 0.921875 6.890625 3.21875 \nL 6.890625 13.375 \nQ 12.890625 10.015625 18.65625 8.296875 \nQ 24.421875 6.59375 29.984375 6.59375 \nQ 38.421875 6.59375 43.015625 9.90625 \nQ 47.609375 13.234375 47.609375 19.390625 \nQ 47.609375 24.75 44.3125 27.78125 \nQ 41.015625 30.8125 33.5 32.328125 \nL 27.484375 33.5 \nQ 16.453125 35.6875 11.515625 40.375 \nQ 6.59375 45.0625 6.59375 53.421875 \nQ 6.59375 63.09375 13.40625 68.65625 \nQ 20.21875 74.21875 32.171875 74.21875 \nQ 37.3125 74.21875 42.625 73.28125 \nQ 47.953125 72.359375 53.515625 70.515625 \nz\n\" id=\"DejaVuSans-83\"/>\n      </defs>\n      <g transform=\"translate(171.776605 434.160625)rotate(-90)scale(0.1 -0.1)\">\n       <use xlink:href=\"#DejaVuSans-65\"/>\n       <use x=\"68.408203\" xlink:href=\"#DejaVuSans-110\"/>\n       <use x=\"131.787109\" xlink:href=\"#DejaVuSans-97\"/>\n       <use x=\"193.066406\" xlink:href=\"#DejaVuSans-108\"/>\n       <use x=\"220.849609\" xlink:href=\"#DejaVuSans-121\"/>\n       <use x=\"280.029297\" xlink:href=\"#DejaVuSans-116\"/>\n       <use x=\"319.238281\" xlink:href=\"#DejaVuSans-105\"/>\n       <use x=\"347.021484\" xlink:href=\"#DejaVuSans-99\"/>\n       <use x=\"402.001953\" xlink:href=\"#DejaVuSans-115\"/>\n       <use x=\"454.101562\" xlink:href=\"#DejaVuSans-44\"/>\n       <use x=\"485.888672\" xlink:href=\"#DejaVuSans-32\"/>\n       <use x=\"517.675781\" xlink:href=\"#DejaVuSans-83\"/>\n       <use x=\"581.152344\" xlink:href=\"#DejaVuSans-111\"/>\n       <use x=\"642.333984\" xlink:href=\"#DejaVuSans-99\"/>\n       <use x=\"697.314453\" xlink:href=\"#DejaVuSans-105\"/>\n       <use x=\"725.097656\" xlink:href=\"#DejaVuSans-97\"/>\n       <use x=\"786.376953\" xlink:href=\"#DejaVuSans-108\"/>\n       <use x=\"814.160156\" xlink:href=\"#DejaVuSans-32\"/>\n       <use x=\"845.947266\" xlink:href=\"#DejaVuSans-65\"/>\n       <use x=\"914.355469\" xlink:href=\"#DejaVuSans-110\"/>\n       <use x=\"977.734375\" xlink:href=\"#DejaVuSans-97\"/>\n       <use x=\"1039.013672\" xlink:href=\"#DejaVuSans-108\"/>\n       <use x=\"1066.796875\" xlink:href=\"#DejaVuSans-121\"/>\n       <use x=\"1125.976562\" xlink:href=\"#DejaVuSans-116\"/>\n       <use x=\"1165.185547\" xlink:href=\"#DejaVuSans-105\"/>\n       <use x=\"1192.96875\" xlink:href=\"#DejaVuSans-99\"/>\n       <use x=\"1247.949219\" xlink:href=\"#DejaVuSans-115\"/>\n      </g>\n     </g>\n    </g>\n    <g id=\"xtick_9\">\n     <g id=\"line2d_9\">\n      <g>\n       <use style=\"stroke:#000000;stroke-width:0.8;\" x=\"187.114527\" xlink:href=\"#m8775216fec\" y=\"297.1575\"/>\n      </g>\n     </g>\n     <g id=\"text_9\">\n      <!-- Cross Infrastructures -->\n      <g transform=\"translate(189.873902 408.371562)rotate(-90)scale(0.1 -0.1)\">\n       <use xlink:href=\"#DejaVuSans-67\"/>\n       <use x=\"69.824219\" xlink:href=\"#DejaVuSans-114\"/>\n       <use x=\"108.6875\" xlink:href=\"#DejaVuSans-111\"/>\n       <use x=\"169.869141\" xlink:href=\"#DejaVuSans-115\"/>\n       <use x=\"221.96875\" xlink:href=\"#DejaVuSans-115\"/>\n       <use x=\"274.068359\" xlink:href=\"#DejaVuSans-32\"/>\n       <use x=\"305.855469\" xlink:href=\"#DejaVuSans-73\"/>\n       <use x=\"335.347656\" xlink:href=\"#DejaVuSans-110\"/>\n       <use x=\"398.726562\" xlink:href=\"#DejaVuSans-102\"/>\n       <use x=\"433.931641\" xlink:href=\"#DejaVuSans-114\"/>\n       <use x=\"475.044922\" xlink:href=\"#DejaVuSans-97\"/>\n       <use x=\"536.324219\" xlink:href=\"#DejaVuSans-115\"/>\n       <use x=\"588.423828\" xlink:href=\"#DejaVuSans-116\"/>\n       <use x=\"627.632812\" xlink:href=\"#DejaVuSans-114\"/>\n       <use x=\"668.746094\" xlink:href=\"#DejaVuSans-117\"/>\n       <use x=\"732.125\" xlink:href=\"#DejaVuSans-99\"/>\n       <use x=\"787.105469\" xlink:href=\"#DejaVuSans-116\"/>\n       <use x=\"826.314453\" xlink:href=\"#DejaVuSans-117\"/>\n       <use x=\"889.693359\" xlink:href=\"#DejaVuSans-114\"/>\n       <use x=\"928.556641\" xlink:href=\"#DejaVuSans-101\"/>\n       <use x=\"990.080078\" xlink:href=\"#DejaVuSans-115\"/>\n      </g>\n     </g>\n    </g>\n    <g id=\"xtick_10\">\n     <g id=\"line2d_10\">\n      <g>\n       <use style=\"stroke:#000000;stroke-width:0.8;\" x=\"205.211824\" xlink:href=\"#m8775216fec\" y=\"297.1575\"/>\n      </g>\n     </g>\n     <g id=\"text_10\">\n      <!-- Data Marketplaces -->\n      <defs>\n       <path d=\"M 9.078125 75.984375 \nL 18.109375 75.984375 \nL 18.109375 31.109375 \nL 44.921875 54.6875 \nL 56.390625 54.6875 \nL 27.390625 29.109375 \nL 57.625 0 \nL 45.90625 0 \nL 18.109375 26.703125 \nL 18.109375 0 \nL 9.078125 0 \nz\n\" id=\"DejaVuSans-107\"/>\n       <path d=\"M 18.109375 8.203125 \nL 18.109375 -20.796875 \nL 9.078125 -20.796875 \nL 9.078125 54.6875 \nL 18.109375 54.6875 \nL 18.109375 46.390625 \nQ 20.953125 51.265625 25.265625 53.625 \nQ 29.59375 56 35.59375 56 \nQ 45.5625 56 51.78125 48.09375 \nQ 58.015625 40.1875 58.015625 27.296875 \nQ 58.015625 14.40625 51.78125 6.484375 \nQ 45.5625 -1.421875 35.59375 -1.421875 \nQ 29.59375 -1.421875 25.265625 0.953125 \nQ 20.953125 3.328125 18.109375 8.203125 \nz\nM 48.6875 27.296875 \nQ 48.6875 37.203125 44.609375 42.84375 \nQ 40.53125 48.484375 33.40625 48.484375 \nQ 26.265625 48.484375 22.1875 42.84375 \nQ 18.109375 37.203125 18.109375 27.296875 \nQ 18.109375 17.390625 22.1875 11.75 \nQ 26.265625 6.109375 33.40625 6.109375 \nQ 40.53125 6.109375 44.609375 11.75 \nQ 48.6875 17.390625 48.6875 27.296875 \nz\n\" id=\"DejaVuSans-112\"/>\n      </defs>\n      <g transform=\"translate(207.971199 397.696562)rotate(-90)scale(0.1 -0.1)\">\n       <use xlink:href=\"#DejaVuSans-68\"/>\n       <use x=\"77.001953\" xlink:href=\"#DejaVuSans-97\"/>\n       <use x=\"138.28125\" xlink:href=\"#DejaVuSans-116\"/>\n       <use x=\"177.490234\" xlink:href=\"#DejaVuSans-97\"/>\n       <use x=\"238.769531\" xlink:href=\"#DejaVuSans-32\"/>\n       <use x=\"270.556641\" xlink:href=\"#DejaVuSans-77\"/>\n       <use x=\"356.835938\" xlink:href=\"#DejaVuSans-97\"/>\n       <use x=\"418.115234\" xlink:href=\"#DejaVuSans-114\"/>\n       <use x=\"459.228516\" xlink:href=\"#DejaVuSans-107\"/>\n       <use x=\"513.513672\" xlink:href=\"#DejaVuSans-101\"/>\n       <use x=\"575.037109\" xlink:href=\"#DejaVuSans-116\"/>\n       <use x=\"614.246094\" xlink:href=\"#DejaVuSans-112\"/>\n       <use x=\"677.722656\" xlink:href=\"#DejaVuSans-108\"/>\n       <use x=\"705.505859\" xlink:href=\"#DejaVuSans-97\"/>\n       <use x=\"766.785156\" xlink:href=\"#DejaVuSans-99\"/>\n       <use x=\"821.765625\" xlink:href=\"#DejaVuSans-101\"/>\n       <use x=\"883.289062\" xlink:href=\"#DejaVuSans-115\"/>\n      </g>\n     </g>\n    </g>\n    <g id=\"xtick_11\">\n     <g id=\"line2d_11\">\n      <g>\n       <use style=\"stroke:#000000;stroke-width:0.8;\" x=\"223.309122\" xlink:href=\"#m8775216fec\" y=\"297.1575\"/>\n      </g>\n     </g>\n     <g id=\"text_11\">\n      <!-- Data holders -->\n      <g transform=\"translate(226.068497 368.268437)rotate(-90)scale(0.1 -0.1)\">\n       <use xlink:href=\"#DejaVuSans-68\"/>\n       <use x=\"77.001953\" xlink:href=\"#DejaVuSans-97\"/>\n       <use x=\"138.28125\" xlink:href=\"#DejaVuSans-116\"/>\n       <use x=\"177.490234\" xlink:href=\"#DejaVuSans-97\"/>\n       <use x=\"238.769531\" xlink:href=\"#DejaVuSans-32\"/>\n       <use x=\"270.556641\" xlink:href=\"#DejaVuSans-104\"/>\n       <use x=\"333.935547\" xlink:href=\"#DejaVuSans-111\"/>\n       <use x=\"395.117188\" xlink:href=\"#DejaVuSans-108\"/>\n       <use x=\"422.900391\" xlink:href=\"#DejaVuSans-100\"/>\n       <use x=\"486.376953\" xlink:href=\"#DejaVuSans-101\"/>\n       <use x=\"547.900391\" xlink:href=\"#DejaVuSans-114\"/>\n       <use x=\"589.013672\" xlink:href=\"#DejaVuSans-115\"/>\n      </g>\n     </g>\n    </g>\n    <g id=\"xtick_12\">\n     <g id=\"line2d_12\">\n      <g>\n       <use style=\"stroke:#000000;stroke-width:0.8;\" x=\"241.406419\" xlink:href=\"#m8775216fec\" y=\"297.1575\"/>\n      </g>\n     </g>\n     <g id=\"text_12\">\n      <!-- Enabling Players -->\n      <defs>\n       <path d=\"M 9.8125 72.90625 \nL 55.90625 72.90625 \nL 55.90625 64.59375 \nL 19.671875 64.59375 \nL 19.671875 43.015625 \nL 54.390625 43.015625 \nL 54.390625 34.71875 \nL 19.671875 34.71875 \nL 19.671875 8.296875 \nL 56.78125 8.296875 \nL 56.78125 0 \nL 9.8125 0 \nz\n\" id=\"DejaVuSans-69\"/>\n       <path d=\"M 48.6875 27.296875 \nQ 48.6875 37.203125 44.609375 42.84375 \nQ 40.53125 48.484375 33.40625 48.484375 \nQ 26.265625 48.484375 22.1875 42.84375 \nQ 18.109375 37.203125 18.109375 27.296875 \nQ 18.109375 17.390625 22.1875 11.75 \nQ 26.265625 6.109375 33.40625 6.109375 \nQ 40.53125 6.109375 44.609375 11.75 \nQ 48.6875 17.390625 48.6875 27.296875 \nz\nM 18.109375 46.390625 \nQ 20.953125 51.265625 25.265625 53.625 \nQ 29.59375 56 35.59375 56 \nQ 45.5625 56 51.78125 48.09375 \nQ 58.015625 40.1875 58.015625 27.296875 \nQ 58.015625 14.40625 51.78125 6.484375 \nQ 45.5625 -1.421875 35.59375 -1.421875 \nQ 29.59375 -1.421875 25.265625 0.953125 \nQ 20.953125 3.328125 18.109375 8.203125 \nL 18.109375 0 \nL 9.078125 0 \nL 9.078125 75.984375 \nL 18.109375 75.984375 \nz\n\" id=\"DejaVuSans-98\"/>\n      </defs>\n      <g transform=\"translate(244.165794 387.03875)rotate(-90)scale(0.1 -0.1)\">\n       <use xlink:href=\"#DejaVuSans-69\"/>\n       <use x=\"63.183594\" xlink:href=\"#DejaVuSans-110\"/>\n       <use x=\"126.5625\" xlink:href=\"#DejaVuSans-97\"/>\n       <use x=\"187.841797\" xlink:href=\"#DejaVuSans-98\"/>\n       <use x=\"251.318359\" xlink:href=\"#DejaVuSans-108\"/>\n       <use x=\"279.101562\" xlink:href=\"#DejaVuSans-105\"/>\n       <use x=\"306.884766\" xlink:href=\"#DejaVuSans-110\"/>\n       <use x=\"370.263672\" xlink:href=\"#DejaVuSans-103\"/>\n       <use x=\"433.740234\" xlink:href=\"#DejaVuSans-32\"/>\n       <use x=\"465.527344\" xlink:href=\"#DejaVuSans-80\"/>\n       <use x=\"525.830078\" xlink:href=\"#DejaVuSans-108\"/>\n       <use x=\"553.613281\" xlink:href=\"#DejaVuSans-97\"/>\n       <use x=\"614.892578\" xlink:href=\"#DejaVuSans-121\"/>\n       <use x=\"674.072266\" xlink:href=\"#DejaVuSans-101\"/>\n       <use x=\"735.595703\" xlink:href=\"#DejaVuSans-114\"/>\n       <use x=\"776.708984\" xlink:href=\"#DejaVuSans-115\"/>\n      </g>\n     </g>\n    </g>\n    <g id=\"xtick_13\">\n     <g id=\"line2d_13\">\n      <g>\n       <use style=\"stroke:#000000;stroke-width:0.8;\" x=\"259.503716\" xlink:href=\"#m8775216fec\" y=\"297.1575\"/>\n      </g>\n     </g>\n     <g id=\"text_13\">\n      <!-- Enabling Players, Academia -->\n      <g transform=\"translate(262.263091 442.835625)rotate(-90)scale(0.1 -0.1)\">\n       <use xlink:href=\"#DejaVuSans-69\"/>\n       <use x=\"63.183594\" xlink:href=\"#DejaVuSans-110\"/>\n       <use x=\"126.5625\" xlink:href=\"#DejaVuSans-97\"/>\n       <use x=\"187.841797\" xlink:href=\"#DejaVuSans-98\"/>\n       <use x=\"251.318359\" xlink:href=\"#DejaVuSans-108\"/>\n       <use x=\"279.101562\" xlink:href=\"#DejaVuSans-105\"/>\n       <use x=\"306.884766\" xlink:href=\"#DejaVuSans-110\"/>\n       <use x=\"370.263672\" xlink:href=\"#DejaVuSans-103\"/>\n       <use x=\"433.740234\" xlink:href=\"#DejaVuSans-32\"/>\n       <use x=\"465.527344\" xlink:href=\"#DejaVuSans-80\"/>\n       <use x=\"525.830078\" xlink:href=\"#DejaVuSans-108\"/>\n       <use x=\"553.613281\" xlink:href=\"#DejaVuSans-97\"/>\n       <use x=\"614.892578\" xlink:href=\"#DejaVuSans-121\"/>\n       <use x=\"674.072266\" xlink:href=\"#DejaVuSans-101\"/>\n       <use x=\"735.595703\" xlink:href=\"#DejaVuSans-114\"/>\n       <use x=\"776.708984\" xlink:href=\"#DejaVuSans-115\"/>\n       <use x=\"828.808594\" xlink:href=\"#DejaVuSans-44\"/>\n       <use x=\"860.595703\" xlink:href=\"#DejaVuSans-32\"/>\n       <use x=\"892.382812\" xlink:href=\"#DejaVuSans-65\"/>\n       <use x=\"959.041016\" xlink:href=\"#DejaVuSans-99\"/>\n       <use x=\"1014.021484\" xlink:href=\"#DejaVuSans-97\"/>\n       <use x=\"1075.300781\" xlink:href=\"#DejaVuSans-100\"/>\n       <use x=\"1138.777344\" xlink:href=\"#DejaVuSans-101\"/>\n       <use x=\"1200.300781\" xlink:href=\"#DejaVuSans-109\"/>\n       <use x=\"1297.712891\" xlink:href=\"#DejaVuSans-105\"/>\n       <use x=\"1325.496094\" xlink:href=\"#DejaVuSans-97\"/>\n      </g>\n     </g>\n    </g>\n    <g id=\"xtick_14\">\n     <g id=\"line2d_14\">\n      <g>\n       <use style=\"stroke:#000000;stroke-width:0.8;\" x=\"277.601014\" xlink:href=\"#m8775216fec\" y=\"297.1575\"/>\n      </g>\n     </g>\n     <g id=\"text_14\">\n      <!-- Enabling Players, Financial Services -->\n      <defs>\n       <path d=\"M 9.8125 72.90625 \nL 51.703125 72.90625 \nL 51.703125 64.59375 \nL 19.671875 64.59375 \nL 19.671875 43.109375 \nL 48.578125 43.109375 \nL 48.578125 34.8125 \nL 19.671875 34.8125 \nL 19.671875 0 \nL 9.8125 0 \nz\n\" id=\"DejaVuSans-70\"/>\n      </defs>\n      <g transform=\"translate(280.360389 482.534062)rotate(-90)scale(0.1 -0.1)\">\n       <use xlink:href=\"#DejaVuSans-69\"/>\n       <use x=\"63.183594\" xlink:href=\"#DejaVuSans-110\"/>\n       <use x=\"126.5625\" xlink:href=\"#DejaVuSans-97\"/>\n       <use x=\"187.841797\" xlink:href=\"#DejaVuSans-98\"/>\n       <use x=\"251.318359\" xlink:href=\"#DejaVuSans-108\"/>\n       <use x=\"279.101562\" xlink:href=\"#DejaVuSans-105\"/>\n       <use x=\"306.884766\" xlink:href=\"#DejaVuSans-110\"/>\n       <use x=\"370.263672\" xlink:href=\"#DejaVuSans-103\"/>\n       <use x=\"433.740234\" xlink:href=\"#DejaVuSans-32\"/>\n       <use x=\"465.527344\" xlink:href=\"#DejaVuSans-80\"/>\n       <use x=\"525.830078\" xlink:href=\"#DejaVuSans-108\"/>\n       <use x=\"553.613281\" xlink:href=\"#DejaVuSans-97\"/>\n       <use x=\"614.892578\" xlink:href=\"#DejaVuSans-121\"/>\n       <use x=\"674.072266\" xlink:href=\"#DejaVuSans-101\"/>\n       <use x=\"735.595703\" xlink:href=\"#DejaVuSans-114\"/>\n       <use x=\"776.708984\" xlink:href=\"#DejaVuSans-115\"/>\n       <use x=\"828.808594\" xlink:href=\"#DejaVuSans-44\"/>\n       <use x=\"860.595703\" xlink:href=\"#DejaVuSans-32\"/>\n       <use x=\"892.382812\" xlink:href=\"#DejaVuSans-70\"/>\n       <use x=\"942.652344\" xlink:href=\"#DejaVuSans-105\"/>\n       <use x=\"970.435547\" xlink:href=\"#DejaVuSans-110\"/>\n       <use x=\"1033.814453\" xlink:href=\"#DejaVuSans-97\"/>\n       <use x=\"1095.09375\" xlink:href=\"#DejaVuSans-110\"/>\n       <use x=\"1158.472656\" xlink:href=\"#DejaVuSans-99\"/>\n       <use x=\"1213.453125\" xlink:href=\"#DejaVuSans-105\"/>\n       <use x=\"1241.236328\" xlink:href=\"#DejaVuSans-97\"/>\n       <use x=\"1302.515625\" xlink:href=\"#DejaVuSans-108\"/>\n       <use x=\"1330.298828\" xlink:href=\"#DejaVuSans-32\"/>\n       <use x=\"1362.085938\" xlink:href=\"#DejaVuSans-83\"/>\n       <use x=\"1425.5625\" xlink:href=\"#DejaVuSans-101\"/>\n       <use x=\"1487.085938\" xlink:href=\"#DejaVuSans-114\"/>\n       <use x=\"1528.199219\" xlink:href=\"#DejaVuSans-118\"/>\n       <use x=\"1587.378906\" xlink:href=\"#DejaVuSans-105\"/>\n       <use x=\"1615.162109\" xlink:href=\"#DejaVuSans-99\"/>\n       <use x=\"1670.142578\" xlink:href=\"#DejaVuSans-101\"/>\n       <use x=\"1731.666016\" xlink:href=\"#DejaVuSans-115\"/>\n      </g>\n     </g>\n    </g>\n    <g id=\"xtick_15\">\n     <g id=\"line2d_15\">\n      <g>\n       <use style=\"stroke:#000000;stroke-width:0.8;\" x=\"295.698311\" xlink:href=\"#m8775216fec\" y=\"297.1575\"/>\n      </g>\n     </g>\n     <g id=\"text_15\">\n      <!-- Enabling Players, Incubators -->\n      <g transform=\"translate(298.457686 446.354375)rotate(-90)scale(0.1 -0.1)\">\n       <use xlink:href=\"#DejaVuSans-69\"/>\n       <use x=\"63.183594\" xlink:href=\"#DejaVuSans-110\"/>\n       <use x=\"126.5625\" xlink:href=\"#DejaVuSans-97\"/>\n       <use x=\"187.841797\" xlink:href=\"#DejaVuSans-98\"/>\n       <use x=\"251.318359\" xlink:href=\"#DejaVuSans-108\"/>\n       <use x=\"279.101562\" xlink:href=\"#DejaVuSans-105\"/>\n       <use x=\"306.884766\" xlink:href=\"#DejaVuSans-110\"/>\n       <use x=\"370.263672\" xlink:href=\"#DejaVuSans-103\"/>\n       <use x=\"433.740234\" xlink:href=\"#DejaVuSans-32\"/>\n       <use x=\"465.527344\" xlink:href=\"#DejaVuSans-80\"/>\n       <use x=\"525.830078\" xlink:href=\"#DejaVuSans-108\"/>\n       <use x=\"553.613281\" xlink:href=\"#DejaVuSans-97\"/>\n       <use x=\"614.892578\" xlink:href=\"#DejaVuSans-121\"/>\n       <use x=\"674.072266\" xlink:href=\"#DejaVuSans-101\"/>\n       <use x=\"735.595703\" xlink:href=\"#DejaVuSans-114\"/>\n       <use x=\"776.708984\" xlink:href=\"#DejaVuSans-115\"/>\n       <use x=\"828.808594\" xlink:href=\"#DejaVuSans-44\"/>\n       <use x=\"860.595703\" xlink:href=\"#DejaVuSans-32\"/>\n       <use x=\"892.382812\" xlink:href=\"#DejaVuSans-73\"/>\n       <use x=\"921.875\" xlink:href=\"#DejaVuSans-110\"/>\n       <use x=\"985.253906\" xlink:href=\"#DejaVuSans-99\"/>\n       <use x=\"1040.234375\" xlink:href=\"#DejaVuSans-117\"/>\n       <use x=\"1103.613281\" xlink:href=\"#DejaVuSans-98\"/>\n       <use x=\"1167.089844\" xlink:href=\"#DejaVuSans-97\"/>\n       <use x=\"1228.369141\" xlink:href=\"#DejaVuSans-116\"/>\n       <use x=\"1267.578125\" xlink:href=\"#DejaVuSans-111\"/>\n       <use x=\"1328.759766\" xlink:href=\"#DejaVuSans-114\"/>\n       <use x=\"1369.873047\" xlink:href=\"#DejaVuSans-115\"/>\n      </g>\n     </g>\n    </g>\n    <g id=\"xtick_16\">\n     <g id=\"line2d_16\">\n      <g>\n       <use style=\"stroke:#000000;stroke-width:0.8;\" x=\"313.795608\" xlink:href=\"#m8775216fec\" y=\"297.1575\"/>\n      </g>\n     </g>\n     <g id=\"text_16\">\n      <!-- Enabling Players, Other Support services -->\n      <defs>\n       <path d=\"M 39.40625 66.21875 \nQ 28.65625 66.21875 22.328125 58.203125 \nQ 16.015625 50.203125 16.015625 36.375 \nQ 16.015625 22.609375 22.328125 14.59375 \nQ 28.65625 6.59375 39.40625 6.59375 \nQ 50.140625 6.59375 56.421875 14.59375 \nQ 62.703125 22.609375 62.703125 36.375 \nQ 62.703125 50.203125 56.421875 58.203125 \nQ 50.140625 66.21875 39.40625 66.21875 \nz\nM 39.40625 74.21875 \nQ 54.734375 74.21875 63.90625 63.9375 \nQ 73.09375 53.65625 73.09375 36.375 \nQ 73.09375 19.140625 63.90625 8.859375 \nQ 54.734375 -1.421875 39.40625 -1.421875 \nQ 24.03125 -1.421875 14.8125 8.828125 \nQ 5.609375 19.09375 5.609375 36.375 \nQ 5.609375 53.65625 14.8125 63.9375 \nQ 24.03125 74.21875 39.40625 74.21875 \nz\n\" id=\"DejaVuSans-79\"/>\n      </defs>\n      <g transform=\"translate(316.554983 508.709062)rotate(-90)scale(0.1 -0.1)\">\n       <use xlink:href=\"#DejaVuSans-69\"/>\n       <use x=\"63.183594\" xlink:href=\"#DejaVuSans-110\"/>\n       <use x=\"126.5625\" xlink:href=\"#DejaVuSans-97\"/>\n       <use x=\"187.841797\" xlink:href=\"#DejaVuSans-98\"/>\n       <use x=\"251.318359\" xlink:href=\"#DejaVuSans-108\"/>\n       <use x=\"279.101562\" xlink:href=\"#DejaVuSans-105\"/>\n       <use x=\"306.884766\" xlink:href=\"#DejaVuSans-110\"/>\n       <use x=\"370.263672\" xlink:href=\"#DejaVuSans-103\"/>\n       <use x=\"433.740234\" xlink:href=\"#DejaVuSans-32\"/>\n       <use x=\"465.527344\" xlink:href=\"#DejaVuSans-80\"/>\n       <use x=\"525.830078\" xlink:href=\"#DejaVuSans-108\"/>\n       <use x=\"553.613281\" xlink:href=\"#DejaVuSans-97\"/>\n       <use x=\"614.892578\" xlink:href=\"#DejaVuSans-121\"/>\n       <use x=\"674.072266\" xlink:href=\"#DejaVuSans-101\"/>\n       <use x=\"735.595703\" xlink:href=\"#DejaVuSans-114\"/>\n       <use x=\"776.708984\" xlink:href=\"#DejaVuSans-115\"/>\n       <use x=\"828.808594\" xlink:href=\"#DejaVuSans-44\"/>\n       <use x=\"860.595703\" xlink:href=\"#DejaVuSans-32\"/>\n       <use x=\"892.382812\" xlink:href=\"#DejaVuSans-79\"/>\n       <use x=\"971.09375\" xlink:href=\"#DejaVuSans-116\"/>\n       <use x=\"1010.302734\" xlink:href=\"#DejaVuSans-104\"/>\n       <use x=\"1073.681641\" xlink:href=\"#DejaVuSans-101\"/>\n       <use x=\"1135.205078\" xlink:href=\"#DejaVuSans-114\"/>\n       <use x=\"1176.318359\" xlink:href=\"#DejaVuSans-32\"/>\n       <use x=\"1208.105469\" xlink:href=\"#DejaVuSans-83\"/>\n       <use x=\"1271.582031\" xlink:href=\"#DejaVuSans-117\"/>\n       <use x=\"1334.960938\" xlink:href=\"#DejaVuSans-112\"/>\n       <use x=\"1398.4375\" xlink:href=\"#DejaVuSans-112\"/>\n       <use x=\"1461.914062\" xlink:href=\"#DejaVuSans-111\"/>\n       <use x=\"1523.095703\" xlink:href=\"#DejaVuSans-114\"/>\n       <use x=\"1564.208984\" xlink:href=\"#DejaVuSans-116\"/>\n       <use x=\"1603.417969\" xlink:href=\"#DejaVuSans-32\"/>\n       <use x=\"1635.205078\" xlink:href=\"#DejaVuSans-115\"/>\n       <use x=\"1687.304688\" xlink:href=\"#DejaVuSans-101\"/>\n       <use x=\"1748.828125\" xlink:href=\"#DejaVuSans-114\"/>\n       <use x=\"1789.941406\" xlink:href=\"#DejaVuSans-118\"/>\n       <use x=\"1849.121094\" xlink:href=\"#DejaVuSans-105\"/>\n       <use x=\"1876.904297\" xlink:href=\"#DejaVuSans-99\"/>\n       <use x=\"1931.884766\" xlink:href=\"#DejaVuSans-101\"/>\n       <use x=\"1993.408203\" xlink:href=\"#DejaVuSans-115\"/>\n      </g>\n     </g>\n    </g>\n    <g id=\"xtick_17\">\n     <g id=\"line2d_17\">\n      <g>\n       <use style=\"stroke:#000000;stroke-width:0.8;\" x=\"331.892905\" xlink:href=\"#m8775216fec\" y=\"297.1575\"/>\n      </g>\n     </g>\n     <g id=\"text_17\">\n      <!-- Enabling Players, VCs -->\n      <defs>\n       <path d=\"M 28.609375 0 \nL 0.78125 72.90625 \nL 11.078125 72.90625 \nL 34.1875 11.53125 \nL 57.328125 72.90625 \nL 67.578125 72.90625 \nL 39.796875 0 \nz\n\" id=\"DejaVuSans-86\"/>\n      </defs>\n      <g transform=\"translate(334.65228 412.427812)rotate(-90)scale(0.1 -0.1)\">\n       <use xlink:href=\"#DejaVuSans-69\"/>\n       <use x=\"63.183594\" xlink:href=\"#DejaVuSans-110\"/>\n       <use x=\"126.5625\" xlink:href=\"#DejaVuSans-97\"/>\n       <use x=\"187.841797\" xlink:href=\"#DejaVuSans-98\"/>\n       <use x=\"251.318359\" xlink:href=\"#DejaVuSans-108\"/>\n       <use x=\"279.101562\" xlink:href=\"#DejaVuSans-105\"/>\n       <use x=\"306.884766\" xlink:href=\"#DejaVuSans-110\"/>\n       <use x=\"370.263672\" xlink:href=\"#DejaVuSans-103\"/>\n       <use x=\"433.740234\" xlink:href=\"#DejaVuSans-32\"/>\n       <use x=\"465.527344\" xlink:href=\"#DejaVuSans-80\"/>\n       <use x=\"525.830078\" xlink:href=\"#DejaVuSans-108\"/>\n       <use x=\"553.613281\" xlink:href=\"#DejaVuSans-97\"/>\n       <use x=\"614.892578\" xlink:href=\"#DejaVuSans-121\"/>\n       <use x=\"674.072266\" xlink:href=\"#DejaVuSans-101\"/>\n       <use x=\"735.595703\" xlink:href=\"#DejaVuSans-114\"/>\n       <use x=\"776.708984\" xlink:href=\"#DejaVuSans-115\"/>\n       <use x=\"828.808594\" xlink:href=\"#DejaVuSans-44\"/>\n       <use x=\"860.595703\" xlink:href=\"#DejaVuSans-32\"/>\n       <use x=\"892.382812\" xlink:href=\"#DejaVuSans-86\"/>\n       <use x=\"960.791016\" xlink:href=\"#DejaVuSans-67\"/>\n       <use x=\"1030.615234\" xlink:href=\"#DejaVuSans-115\"/>\n      </g>\n     </g>\n    </g>\n    <g id=\"xtick_18\">\n     <g id=\"line2d_18\">\n      <g>\n       <use style=\"stroke:#000000;stroke-width:0.8;\" x=\"349.990203\" xlink:href=\"#m8775216fec\" y=\"297.1575\"/>\n      </g>\n     </g>\n     <g id=\"text_18\">\n      <!-- ICT Enablers -->\n      <defs>\n       <path d=\"M -0.296875 72.90625 \nL 61.375 72.90625 \nL 61.375 64.59375 \nL 35.5 64.59375 \nL 35.5 0 \nL 25.59375 0 \nL 25.59375 64.59375 \nL -0.296875 64.59375 \nz\n\" id=\"DejaVuSans-84\"/>\n      </defs>\n      <g transform=\"translate(352.749578 366.760625)rotate(-90)scale(0.1 -0.1)\">\n       <use xlink:href=\"#DejaVuSans-73\"/>\n       <use x=\"29.492188\" xlink:href=\"#DejaVuSans-67\"/>\n       <use x=\"99.316406\" xlink:href=\"#DejaVuSans-84\"/>\n       <use x=\"160.400391\" xlink:href=\"#DejaVuSans-32\"/>\n       <use x=\"192.1875\" xlink:href=\"#DejaVuSans-69\"/>\n       <use x=\"255.371094\" xlink:href=\"#DejaVuSans-110\"/>\n       <use x=\"318.75\" xlink:href=\"#DejaVuSans-97\"/>\n       <use x=\"380.029297\" xlink:href=\"#DejaVuSans-98\"/>\n       <use x=\"443.505859\" xlink:href=\"#DejaVuSans-108\"/>\n       <use x=\"471.289062\" xlink:href=\"#DejaVuSans-101\"/>\n       <use x=\"532.8125\" xlink:href=\"#DejaVuSans-114\"/>\n       <use x=\"573.925781\" xlink:href=\"#DejaVuSans-115\"/>\n      </g>\n     </g>\n    </g>\n    <g id=\"xtick_19\">\n     <g id=\"line2d_19\">\n      <g>\n       <use style=\"stroke:#000000;stroke-width:0.8;\" x=\"368.0875\" xlink:href=\"#m8775216fec\" y=\"297.1575\"/>\n      </g>\n     </g>\n     <g id=\"text_19\">\n      <!-- ICT Enablers, Business Intelligence -->\n      <g transform=\"translate(370.846875 478.57625)rotate(-90)scale(0.1 -0.1)\">\n       <use xlink:href=\"#DejaVuSans-73\"/>\n       <use x=\"29.492188\" xlink:href=\"#DejaVuSans-67\"/>\n       <use x=\"99.316406\" xlink:href=\"#DejaVuSans-84\"/>\n       <use x=\"160.400391\" xlink:href=\"#DejaVuSans-32\"/>\n       <use x=\"192.1875\" xlink:href=\"#DejaVuSans-69\"/>\n       <use x=\"255.371094\" xlink:href=\"#DejaVuSans-110\"/>\n       <use x=\"318.75\" xlink:href=\"#DejaVuSans-97\"/>\n       <use x=\"380.029297\" xlink:href=\"#DejaVuSans-98\"/>\n       <use x=\"443.505859\" xlink:href=\"#DejaVuSans-108\"/>\n       <use x=\"471.289062\" xlink:href=\"#DejaVuSans-101\"/>\n       <use x=\"532.8125\" xlink:href=\"#DejaVuSans-114\"/>\n       <use x=\"573.925781\" xlink:href=\"#DejaVuSans-115\"/>\n       <use x=\"626.025391\" xlink:href=\"#DejaVuSans-44\"/>\n       <use x=\"657.8125\" xlink:href=\"#DejaVuSans-32\"/>\n       <use x=\"689.599609\" xlink:href=\"#DejaVuSans-66\"/>\n       <use x=\"758.203125\" xlink:href=\"#DejaVuSans-117\"/>\n       <use x=\"821.582031\" xlink:href=\"#DejaVuSans-115\"/>\n       <use x=\"873.681641\" xlink:href=\"#DejaVuSans-105\"/>\n       <use x=\"901.464844\" xlink:href=\"#DejaVuSans-110\"/>\n       <use x=\"964.84375\" xlink:href=\"#DejaVuSans-101\"/>\n       <use x=\"1026.367188\" xlink:href=\"#DejaVuSans-115\"/>\n       <use x=\"1078.466797\" xlink:href=\"#DejaVuSans-115\"/>\n       <use x=\"1130.566406\" xlink:href=\"#DejaVuSans-32\"/>\n       <use x=\"1162.353516\" xlink:href=\"#DejaVuSans-73\"/>\n       <use x=\"1191.845703\" xlink:href=\"#DejaVuSans-110\"/>\n       <use x=\"1255.224609\" xlink:href=\"#DejaVuSans-116\"/>\n       <use x=\"1294.433594\" xlink:href=\"#DejaVuSans-101\"/>\n       <use x=\"1355.957031\" xlink:href=\"#DejaVuSans-108\"/>\n       <use x=\"1383.740234\" xlink:href=\"#DejaVuSans-108\"/>\n       <use x=\"1411.523438\" xlink:href=\"#DejaVuSans-105\"/>\n       <use x=\"1439.306641\" xlink:href=\"#DejaVuSans-103\"/>\n       <use x=\"1502.783203\" xlink:href=\"#DejaVuSans-101\"/>\n       <use x=\"1564.306641\" xlink:href=\"#DejaVuSans-110\"/>\n       <use x=\"1627.685547\" xlink:href=\"#DejaVuSans-99\"/>\n       <use x=\"1682.666016\" xlink:href=\"#DejaVuSans-101\"/>\n      </g>\n     </g>\n    </g>\n    <g id=\"xtick_20\">\n     <g id=\"line2d_20\">\n      <g>\n       <use style=\"stroke:#000000;stroke-width:0.8;\" x=\"386.184797\" xlink:href=\"#m8775216fec\" y=\"297.1575\"/>\n      </g>\n     </g>\n     <g id=\"text_20\">\n      <!-- Lead users -->\n      <g transform=\"translate(388.944172 358.3825)rotate(-90)scale(0.1 -0.1)\">\n       <use xlink:href=\"#DejaVuSans-76\"/>\n       <use x=\"53.962891\" xlink:href=\"#DejaVuSans-101\"/>\n       <use x=\"115.486328\" xlink:href=\"#DejaVuSans-97\"/>\n       <use x=\"176.765625\" xlink:href=\"#DejaVuSans-100\"/>\n       <use x=\"240.242188\" xlink:href=\"#DejaVuSans-32\"/>\n       <use x=\"272.029297\" xlink:href=\"#DejaVuSans-117\"/>\n       <use x=\"335.408203\" xlink:href=\"#DejaVuSans-115\"/>\n       <use x=\"387.507812\" xlink:href=\"#DejaVuSans-101\"/>\n       <use x=\"449.03125\" xlink:href=\"#DejaVuSans-114\"/>\n       <use x=\"490.144531\" xlink:href=\"#DejaVuSans-115\"/>\n      </g>\n     </g>\n    </g>\n    <g id=\"xtick_21\">\n     <g id=\"line2d_21\">\n      <g>\n       <use style=\"stroke:#000000;stroke-width:0.8;\" x=\"404.282095\" xlink:href=\"#m8775216fec\" y=\"297.1575\"/>\n      </g>\n     </g>\n     <g id=\"text_21\">\n      <!-- Vertical applications -->\n      <g transform=\"translate(407.04147 405.140312)rotate(-90)scale(0.1 -0.1)\">\n       <use xlink:href=\"#DejaVuSans-86\"/>\n       <use x=\"60.658203\" xlink:href=\"#DejaVuSans-101\"/>\n       <use x=\"122.181641\" xlink:href=\"#DejaVuSans-114\"/>\n       <use x=\"163.294922\" xlink:href=\"#DejaVuSans-116\"/>\n       <use x=\"202.503906\" xlink:href=\"#DejaVuSans-105\"/>\n       <use x=\"230.287109\" xlink:href=\"#DejaVuSans-99\"/>\n       <use x=\"285.267578\" xlink:href=\"#DejaVuSans-97\"/>\n       <use x=\"346.546875\" xlink:href=\"#DejaVuSans-108\"/>\n       <use x=\"374.330078\" xlink:href=\"#DejaVuSans-32\"/>\n       <use x=\"406.117188\" xlink:href=\"#DejaVuSans-97\"/>\n       <use x=\"467.396484\" xlink:href=\"#DejaVuSans-112\"/>\n       <use x=\"530.873047\" xlink:href=\"#DejaVuSans-112\"/>\n       <use x=\"594.349609\" xlink:href=\"#DejaVuSans-108\"/>\n       <use x=\"622.132812\" xlink:href=\"#DejaVuSans-105\"/>\n       <use x=\"649.916016\" xlink:href=\"#DejaVuSans-99\"/>\n       <use x=\"704.896484\" xlink:href=\"#DejaVuSans-97\"/>\n       <use x=\"766.175781\" xlink:href=\"#DejaVuSans-116\"/>\n       <use x=\"805.384766\" xlink:href=\"#DejaVuSans-105\"/>\n       <use x=\"833.167969\" xlink:href=\"#DejaVuSans-111\"/>\n       <use x=\"894.349609\" xlink:href=\"#DejaVuSans-110\"/>\n       <use x=\"957.728516\" xlink:href=\"#DejaVuSans-115\"/>\n      </g>\n     </g>\n    </g>\n    <g id=\"xtick_22\">\n     <g id=\"line2d_22\">\n      <g>\n       <use style=\"stroke:#000000;stroke-width:0.8;\" x=\"422.379392\" xlink:href=\"#m8775216fec\" y=\"297.1575\"/>\n      </g>\n     </g>\n     <g id=\"text_22\">\n      <!-- Vertical applications, Academia -->\n      <g transform=\"translate(425.138767 460.937187)rotate(-90)scale(0.1 -0.1)\">\n       <use xlink:href=\"#DejaVuSans-86\"/>\n       <use x=\"60.658203\" xlink:href=\"#DejaVuSans-101\"/>\n       <use x=\"122.181641\" xlink:href=\"#DejaVuSans-114\"/>\n       <use x=\"163.294922\" xlink:href=\"#DejaVuSans-116\"/>\n       <use x=\"202.503906\" xlink:href=\"#DejaVuSans-105\"/>\n       <use x=\"230.287109\" xlink:href=\"#DejaVuSans-99\"/>\n       <use x=\"285.267578\" xlink:href=\"#DejaVuSans-97\"/>\n       <use x=\"346.546875\" xlink:href=\"#DejaVuSans-108\"/>\n       <use x=\"374.330078\" xlink:href=\"#DejaVuSans-32\"/>\n       <use x=\"406.117188\" xlink:href=\"#DejaVuSans-97\"/>\n       <use x=\"467.396484\" xlink:href=\"#DejaVuSans-112\"/>\n       <use x=\"530.873047\" xlink:href=\"#DejaVuSans-112\"/>\n       <use x=\"594.349609\" xlink:href=\"#DejaVuSans-108\"/>\n       <use x=\"622.132812\" xlink:href=\"#DejaVuSans-105\"/>\n       <use x=\"649.916016\" xlink:href=\"#DejaVuSans-99\"/>\n       <use x=\"704.896484\" xlink:href=\"#DejaVuSans-97\"/>\n       <use x=\"766.175781\" xlink:href=\"#DejaVuSans-116\"/>\n       <use x=\"805.384766\" xlink:href=\"#DejaVuSans-105\"/>\n       <use x=\"833.167969\" xlink:href=\"#DejaVuSans-111\"/>\n       <use x=\"894.349609\" xlink:href=\"#DejaVuSans-110\"/>\n       <use x=\"957.728516\" xlink:href=\"#DejaVuSans-115\"/>\n       <use x=\"1009.828125\" xlink:href=\"#DejaVuSans-44\"/>\n       <use x=\"1041.615234\" xlink:href=\"#DejaVuSans-32\"/>\n       <use x=\"1073.402344\" xlink:href=\"#DejaVuSans-65\"/>\n       <use x=\"1140.060547\" xlink:href=\"#DejaVuSans-99\"/>\n       <use x=\"1195.041016\" xlink:href=\"#DejaVuSans-97\"/>\n       <use x=\"1256.320312\" xlink:href=\"#DejaVuSans-100\"/>\n       <use x=\"1319.796875\" xlink:href=\"#DejaVuSans-101\"/>\n       <use x=\"1381.320312\" xlink:href=\"#DejaVuSans-109\"/>\n       <use x=\"1478.732422\" xlink:href=\"#DejaVuSans-105\"/>\n       <use x=\"1506.515625\" xlink:href=\"#DejaVuSans-97\"/>\n      </g>\n     </g>\n    </g>\n    <g id=\"xtick_23\">\n     <g id=\"line2d_23\">\n      <g>\n       <use style=\"stroke:#000000;stroke-width:0.8;\" x=\"440.476689\" xlink:href=\"#m8775216fec\" y=\"297.1575\"/>\n      </g>\n     </g>\n     <g id=\"text_23\">\n      <!-- Vertical applications, Construction -->\n      <g transform=\"translate(443.236064 475.166875)rotate(-90)scale(0.1 -0.1)\">\n       <use xlink:href=\"#DejaVuSans-86\"/>\n       <use x=\"60.658203\" xlink:href=\"#DejaVuSans-101\"/>\n       <use x=\"122.181641\" xlink:href=\"#DejaVuSans-114\"/>\n       <use x=\"163.294922\" xlink:href=\"#DejaVuSans-116\"/>\n       <use x=\"202.503906\" xlink:href=\"#DejaVuSans-105\"/>\n       <use x=\"230.287109\" xlink:href=\"#DejaVuSans-99\"/>\n       <use x=\"285.267578\" xlink:href=\"#DejaVuSans-97\"/>\n       <use x=\"346.546875\" xlink:href=\"#DejaVuSans-108\"/>\n       <use x=\"374.330078\" xlink:href=\"#DejaVuSans-32\"/>\n       <use x=\"406.117188\" xlink:href=\"#DejaVuSans-97\"/>\n       <use x=\"467.396484\" xlink:href=\"#DejaVuSans-112\"/>\n       <use x=\"530.873047\" xlink:href=\"#DejaVuSans-112\"/>\n       <use x=\"594.349609\" xlink:href=\"#DejaVuSans-108\"/>\n       <use x=\"622.132812\" xlink:href=\"#DejaVuSans-105\"/>\n       <use x=\"649.916016\" xlink:href=\"#DejaVuSans-99\"/>\n       <use x=\"704.896484\" xlink:href=\"#DejaVuSans-97\"/>\n       <use x=\"766.175781\" xlink:href=\"#DejaVuSans-116\"/>\n       <use x=\"805.384766\" xlink:href=\"#DejaVuSans-105\"/>\n       <use x=\"833.167969\" xlink:href=\"#DejaVuSans-111\"/>\n       <use x=\"894.349609\" xlink:href=\"#DejaVuSans-110\"/>\n       <use x=\"957.728516\" xlink:href=\"#DejaVuSans-115\"/>\n       <use x=\"1009.828125\" xlink:href=\"#DejaVuSans-44\"/>\n       <use x=\"1041.615234\" xlink:href=\"#DejaVuSans-32\"/>\n       <use x=\"1073.402344\" xlink:href=\"#DejaVuSans-67\"/>\n       <use x=\"1143.226562\" xlink:href=\"#DejaVuSans-111\"/>\n       <use x=\"1204.408203\" xlink:href=\"#DejaVuSans-110\"/>\n       <use x=\"1267.787109\" xlink:href=\"#DejaVuSans-115\"/>\n       <use x=\"1319.886719\" xlink:href=\"#DejaVuSans-116\"/>\n       <use x=\"1359.095703\" xlink:href=\"#DejaVuSans-114\"/>\n       <use x=\"1400.208984\" xlink:href=\"#DejaVuSans-117\"/>\n       <use x=\"1463.587891\" xlink:href=\"#DejaVuSans-99\"/>\n       <use x=\"1518.568359\" xlink:href=\"#DejaVuSans-116\"/>\n       <use x=\"1557.777344\" xlink:href=\"#DejaVuSans-105\"/>\n       <use x=\"1585.560547\" xlink:href=\"#DejaVuSans-111\"/>\n       <use x=\"1646.742188\" xlink:href=\"#DejaVuSans-110\"/>\n      </g>\n     </g>\n    </g>\n    <g id=\"xtick_24\">\n     <g id=\"line2d_24\">\n      <g>\n       <use style=\"stroke:#000000;stroke-width:0.8;\" x=\"458.573986\" xlink:href=\"#m8775216fec\" y=\"297.1575\"/>\n      </g>\n     </g>\n     <g id=\"text_24\">\n      <!-- Vertical applications, Consumer data -->\n      <g transform=\"translate(461.333361 488.190312)rotate(-90)scale(0.1 -0.1)\">\n       <use xlink:href=\"#DejaVuSans-86\"/>\n       <use x=\"60.658203\" xlink:href=\"#DejaVuSans-101\"/>\n       <use x=\"122.181641\" xlink:href=\"#DejaVuSans-114\"/>\n       <use x=\"163.294922\" xlink:href=\"#DejaVuSans-116\"/>\n       <use x=\"202.503906\" xlink:href=\"#DejaVuSans-105\"/>\n       <use x=\"230.287109\" xlink:href=\"#DejaVuSans-99\"/>\n       <use x=\"285.267578\" xlink:href=\"#DejaVuSans-97\"/>\n       <use x=\"346.546875\" xlink:href=\"#DejaVuSans-108\"/>\n       <use x=\"374.330078\" xlink:href=\"#DejaVuSans-32\"/>\n       <use x=\"406.117188\" xlink:href=\"#DejaVuSans-97\"/>\n       <use x=\"467.396484\" xlink:href=\"#DejaVuSans-112\"/>\n       <use x=\"530.873047\" xlink:href=\"#DejaVuSans-112\"/>\n       <use x=\"594.349609\" xlink:href=\"#DejaVuSans-108\"/>\n       <use x=\"622.132812\" xlink:href=\"#DejaVuSans-105\"/>\n       <use x=\"649.916016\" xlink:href=\"#DejaVuSans-99\"/>\n       <use x=\"704.896484\" xlink:href=\"#DejaVuSans-97\"/>\n       <use x=\"766.175781\" xlink:href=\"#DejaVuSans-116\"/>\n       <use x=\"805.384766\" xlink:href=\"#DejaVuSans-105\"/>\n       <use x=\"833.167969\" xlink:href=\"#DejaVuSans-111\"/>\n       <use x=\"894.349609\" xlink:href=\"#DejaVuSans-110\"/>\n       <use x=\"957.728516\" xlink:href=\"#DejaVuSans-115\"/>\n       <use x=\"1009.828125\" xlink:href=\"#DejaVuSans-44\"/>\n       <use x=\"1041.615234\" xlink:href=\"#DejaVuSans-32\"/>\n       <use x=\"1073.402344\" xlink:href=\"#DejaVuSans-67\"/>\n       <use x=\"1143.226562\" xlink:href=\"#DejaVuSans-111\"/>\n       <use x=\"1204.408203\" xlink:href=\"#DejaVuSans-110\"/>\n       <use x=\"1267.787109\" xlink:href=\"#DejaVuSans-115\"/>\n       <use x=\"1319.886719\" xlink:href=\"#DejaVuSans-117\"/>\n       <use x=\"1383.265625\" xlink:href=\"#DejaVuSans-109\"/>\n       <use x=\"1480.677734\" xlink:href=\"#DejaVuSans-101\"/>\n       <use x=\"1542.201172\" xlink:href=\"#DejaVuSans-114\"/>\n       <use x=\"1583.314453\" xlink:href=\"#DejaVuSans-32\"/>\n       <use x=\"1615.101562\" xlink:href=\"#DejaVuSans-100\"/>\n       <use x=\"1678.578125\" xlink:href=\"#DejaVuSans-97\"/>\n       <use x=\"1739.857422\" xlink:href=\"#DejaVuSans-116\"/>\n       <use x=\"1779.066406\" xlink:href=\"#DejaVuSans-97\"/>\n      </g>\n     </g>\n    </g>\n    <g id=\"xtick_25\">\n     <g id=\"line2d_25\">\n      <g>\n       <use style=\"stroke:#000000;stroke-width:0.8;\" x=\"476.671284\" xlink:href=\"#m8775216fec\" y=\"297.1575\"/>\n      </g>\n     </g>\n     <g id=\"text_25\">\n      <!-- Vertical applications, Data visualization -->\n      <g transform=\"translate(479.430659 501.010625)rotate(-90)scale(0.1 -0.1)\">\n       <use xlink:href=\"#DejaVuSans-86\"/>\n       <use x=\"60.658203\" xlink:href=\"#DejaVuSans-101\"/>\n       <use x=\"122.181641\" xlink:href=\"#DejaVuSans-114\"/>\n       <use x=\"163.294922\" xlink:href=\"#DejaVuSans-116\"/>\n       <use x=\"202.503906\" xlink:href=\"#DejaVuSans-105\"/>\n       <use x=\"230.287109\" xlink:href=\"#DejaVuSans-99\"/>\n       <use x=\"285.267578\" xlink:href=\"#DejaVuSans-97\"/>\n       <use x=\"346.546875\" xlink:href=\"#DejaVuSans-108\"/>\n       <use x=\"374.330078\" xlink:href=\"#DejaVuSans-32\"/>\n       <use x=\"406.117188\" xlink:href=\"#DejaVuSans-97\"/>\n       <use x=\"467.396484\" xlink:href=\"#DejaVuSans-112\"/>\n       <use x=\"530.873047\" xlink:href=\"#DejaVuSans-112\"/>\n       <use x=\"594.349609\" xlink:href=\"#DejaVuSans-108\"/>\n       <use x=\"622.132812\" xlink:href=\"#DejaVuSans-105\"/>\n       <use x=\"649.916016\" xlink:href=\"#DejaVuSans-99\"/>\n       <use x=\"704.896484\" xlink:href=\"#DejaVuSans-97\"/>\n       <use x=\"766.175781\" xlink:href=\"#DejaVuSans-116\"/>\n       <use x=\"805.384766\" xlink:href=\"#DejaVuSans-105\"/>\n       <use x=\"833.167969\" xlink:href=\"#DejaVuSans-111\"/>\n       <use x=\"894.349609\" xlink:href=\"#DejaVuSans-110\"/>\n       <use x=\"957.728516\" xlink:href=\"#DejaVuSans-115\"/>\n       <use x=\"1009.828125\" xlink:href=\"#DejaVuSans-44\"/>\n       <use x=\"1041.615234\" xlink:href=\"#DejaVuSans-32\"/>\n       <use x=\"1073.402344\" xlink:href=\"#DejaVuSans-68\"/>\n       <use x=\"1150.404297\" xlink:href=\"#DejaVuSans-97\"/>\n       <use x=\"1211.683594\" xlink:href=\"#DejaVuSans-116\"/>\n       <use x=\"1250.892578\" xlink:href=\"#DejaVuSans-97\"/>\n       <use x=\"1312.171875\" xlink:href=\"#DejaVuSans-32\"/>\n       <use x=\"1343.958984\" xlink:href=\"#DejaVuSans-118\"/>\n       <use x=\"1403.138672\" xlink:href=\"#DejaVuSans-105\"/>\n       <use x=\"1430.921875\" xlink:href=\"#DejaVuSans-115\"/>\n       <use x=\"1483.021484\" xlink:href=\"#DejaVuSans-117\"/>\n       <use x=\"1546.400391\" xlink:href=\"#DejaVuSans-97\"/>\n       <use x=\"1607.679688\" xlink:href=\"#DejaVuSans-108\"/>\n       <use x=\"1635.462891\" xlink:href=\"#DejaVuSans-105\"/>\n       <use x=\"1663.246094\" xlink:href=\"#DejaVuSans-122\"/>\n       <use x=\"1715.736328\" xlink:href=\"#DejaVuSans-97\"/>\n       <use x=\"1777.015625\" xlink:href=\"#DejaVuSans-116\"/>\n       <use x=\"1816.224609\" xlink:href=\"#DejaVuSans-105\"/>\n       <use x=\"1844.007812\" xlink:href=\"#DejaVuSans-111\"/>\n       <use x=\"1905.189453\" xlink:href=\"#DejaVuSans-110\"/>\n      </g>\n     </g>\n    </g>\n    <g id=\"xtick_26\">\n     <g id=\"line2d_26\">\n      <g>\n       <use style=\"stroke:#000000;stroke-width:0.8;\" x=\"494.768581\" xlink:href=\"#m8775216fec\" y=\"297.1575\"/>\n      </g>\n     </g>\n     <g id=\"text_26\">\n      <!-- Vertical applications, Education -->\n      <g transform=\"translate(497.527956 461.2825)rotate(-90)scale(0.1 -0.1)\">\n       <use xlink:href=\"#DejaVuSans-86\"/>\n       <use x=\"60.658203\" xlink:href=\"#DejaVuSans-101\"/>\n       <use x=\"122.181641\" xlink:href=\"#DejaVuSans-114\"/>\n       <use x=\"163.294922\" xlink:href=\"#DejaVuSans-116\"/>\n       <use x=\"202.503906\" xlink:href=\"#DejaVuSans-105\"/>\n       <use x=\"230.287109\" xlink:href=\"#DejaVuSans-99\"/>\n       <use x=\"285.267578\" xlink:href=\"#DejaVuSans-97\"/>\n       <use x=\"346.546875\" xlink:href=\"#DejaVuSans-108\"/>\n       <use x=\"374.330078\" xlink:href=\"#DejaVuSans-32\"/>\n       <use x=\"406.117188\" xlink:href=\"#DejaVuSans-97\"/>\n       <use x=\"467.396484\" xlink:href=\"#DejaVuSans-112\"/>\n       <use x=\"530.873047\" xlink:href=\"#DejaVuSans-112\"/>\n       <use x=\"594.349609\" xlink:href=\"#DejaVuSans-108\"/>\n       <use x=\"622.132812\" xlink:href=\"#DejaVuSans-105\"/>\n       <use x=\"649.916016\" xlink:href=\"#DejaVuSans-99\"/>\n       <use x=\"704.896484\" xlink:href=\"#DejaVuSans-97\"/>\n       <use x=\"766.175781\" xlink:href=\"#DejaVuSans-116\"/>\n       <use x=\"805.384766\" xlink:href=\"#DejaVuSans-105\"/>\n       <use x=\"833.167969\" xlink:href=\"#DejaVuSans-111\"/>\n       <use x=\"894.349609\" xlink:href=\"#DejaVuSans-110\"/>\n       <use x=\"957.728516\" xlink:href=\"#DejaVuSans-115\"/>\n       <use x=\"1009.828125\" xlink:href=\"#DejaVuSans-44\"/>\n       <use x=\"1041.615234\" xlink:href=\"#DejaVuSans-32\"/>\n       <use x=\"1073.402344\" xlink:href=\"#DejaVuSans-69\"/>\n       <use x=\"1136.585938\" xlink:href=\"#DejaVuSans-100\"/>\n       <use x=\"1200.0625\" xlink:href=\"#DejaVuSans-117\"/>\n       <use x=\"1263.441406\" xlink:href=\"#DejaVuSans-99\"/>\n       <use x=\"1318.421875\" xlink:href=\"#DejaVuSans-97\"/>\n       <use x=\"1379.701172\" xlink:href=\"#DejaVuSans-116\"/>\n       <use x=\"1418.910156\" xlink:href=\"#DejaVuSans-105\"/>\n       <use x=\"1446.693359\" xlink:href=\"#DejaVuSans-111\"/>\n       <use x=\"1507.875\" xlink:href=\"#DejaVuSans-110\"/>\n      </g>\n     </g>\n    </g>\n    <g id=\"xtick_27\">\n     <g id=\"line2d_27\">\n      <g>\n       <use style=\"stroke:#000000;stroke-width:0.8;\" x=\"512.865878\" xlink:href=\"#m8775216fec\" y=\"297.1575\"/>\n      </g>\n     </g>\n     <g id=\"text_27\">\n      <!-- Vertical applications, Financial Services -->\n      <g transform=\"translate(515.625253 500.635625)rotate(-90)scale(0.1 -0.1)\">\n       <use xlink:href=\"#DejaVuSans-86\"/>\n       <use x=\"60.658203\" xlink:href=\"#DejaVuSans-101\"/>\n       <use x=\"122.181641\" xlink:href=\"#DejaVuSans-114\"/>\n       <use x=\"163.294922\" xlink:href=\"#DejaVuSans-116\"/>\n       <use x=\"202.503906\" xlink:href=\"#DejaVuSans-105\"/>\n       <use x=\"230.287109\" xlink:href=\"#DejaVuSans-99\"/>\n       <use x=\"285.267578\" xlink:href=\"#DejaVuSans-97\"/>\n       <use x=\"346.546875\" xlink:href=\"#DejaVuSans-108\"/>\n       <use x=\"374.330078\" xlink:href=\"#DejaVuSans-32\"/>\n       <use x=\"406.117188\" xlink:href=\"#DejaVuSans-97\"/>\n       <use x=\"467.396484\" xlink:href=\"#DejaVuSans-112\"/>\n       <use x=\"530.873047\" xlink:href=\"#DejaVuSans-112\"/>\n       <use x=\"594.349609\" xlink:href=\"#DejaVuSans-108\"/>\n       <use x=\"622.132812\" xlink:href=\"#DejaVuSans-105\"/>\n       <use x=\"649.916016\" xlink:href=\"#DejaVuSans-99\"/>\n       <use x=\"704.896484\" xlink:href=\"#DejaVuSans-97\"/>\n       <use x=\"766.175781\" xlink:href=\"#DejaVuSans-116\"/>\n       <use x=\"805.384766\" xlink:href=\"#DejaVuSans-105\"/>\n       <use x=\"833.167969\" xlink:href=\"#DejaVuSans-111\"/>\n       <use x=\"894.349609\" xlink:href=\"#DejaVuSans-110\"/>\n       <use x=\"957.728516\" xlink:href=\"#DejaVuSans-115\"/>\n       <use x=\"1009.828125\" xlink:href=\"#DejaVuSans-44\"/>\n       <use x=\"1041.615234\" xlink:href=\"#DejaVuSans-32\"/>\n       <use x=\"1073.402344\" xlink:href=\"#DejaVuSans-70\"/>\n       <use x=\"1123.671875\" xlink:href=\"#DejaVuSans-105\"/>\n       <use x=\"1151.455078\" xlink:href=\"#DejaVuSans-110\"/>\n       <use x=\"1214.833984\" xlink:href=\"#DejaVuSans-97\"/>\n       <use x=\"1276.113281\" xlink:href=\"#DejaVuSans-110\"/>\n       <use x=\"1339.492188\" xlink:href=\"#DejaVuSans-99\"/>\n       <use x=\"1394.472656\" xlink:href=\"#DejaVuSans-105\"/>\n       <use x=\"1422.255859\" xlink:href=\"#DejaVuSans-97\"/>\n       <use x=\"1483.535156\" xlink:href=\"#DejaVuSans-108\"/>\n       <use x=\"1511.318359\" xlink:href=\"#DejaVuSans-32\"/>\n       <use x=\"1543.105469\" xlink:href=\"#DejaVuSans-83\"/>\n       <use x=\"1606.582031\" xlink:href=\"#DejaVuSans-101\"/>\n       <use x=\"1668.105469\" xlink:href=\"#DejaVuSans-114\"/>\n       <use x=\"1709.21875\" xlink:href=\"#DejaVuSans-118\"/>\n       <use x=\"1768.398438\" xlink:href=\"#DejaVuSans-105\"/>\n       <use x=\"1796.181641\" xlink:href=\"#DejaVuSans-99\"/>\n       <use x=\"1851.162109\" xlink:href=\"#DejaVuSans-101\"/>\n       <use x=\"1912.685547\" xlink:href=\"#DejaVuSans-115\"/>\n      </g>\n     </g>\n    </g>\n    <g id=\"xtick_28\">\n     <g id=\"line2d_28\">\n      <g>\n       <use style=\"stroke:#000000;stroke-width:0.8;\" x=\"530.963176\" xlink:href=\"#m8775216fec\" y=\"297.1575\"/>\n      </g>\n     </g>\n     <g id=\"text_28\">\n      <!-- Vertical applications, Healthcare -->\n      <defs>\n       <path d=\"M 9.8125 72.90625 \nL 19.671875 72.90625 \nL 19.671875 43.015625 \nL 55.515625 43.015625 \nL 55.515625 72.90625 \nL 65.375 72.90625 \nL 65.375 0 \nL 55.515625 0 \nL 55.515625 34.71875 \nL 19.671875 34.71875 \nL 19.671875 0 \nL 9.8125 0 \nz\n\" id=\"DejaVuSans-72\"/>\n      </defs>\n      <g transform=\"translate(533.722551 465.999687)rotate(-90)scale(0.1 -0.1)\">\n       <use xlink:href=\"#DejaVuSans-86\"/>\n       <use x=\"60.658203\" xlink:href=\"#DejaVuSans-101\"/>\n       <use x=\"122.181641\" xlink:href=\"#DejaVuSans-114\"/>\n       <use x=\"163.294922\" xlink:href=\"#DejaVuSans-116\"/>\n       <use x=\"202.503906\" xlink:href=\"#DejaVuSans-105\"/>\n       <use x=\"230.287109\" xlink:href=\"#DejaVuSans-99\"/>\n       <use x=\"285.267578\" xlink:href=\"#DejaVuSans-97\"/>\n       <use x=\"346.546875\" xlink:href=\"#DejaVuSans-108\"/>\n       <use x=\"374.330078\" xlink:href=\"#DejaVuSans-32\"/>\n       <use x=\"406.117188\" xlink:href=\"#DejaVuSans-97\"/>\n       <use x=\"467.396484\" xlink:href=\"#DejaVuSans-112\"/>\n       <use x=\"530.873047\" xlink:href=\"#DejaVuSans-112\"/>\n       <use x=\"594.349609\" xlink:href=\"#DejaVuSans-108\"/>\n       <use x=\"622.132812\" xlink:href=\"#DejaVuSans-105\"/>\n       <use x=\"649.916016\" xlink:href=\"#DejaVuSans-99\"/>\n       <use x=\"704.896484\" xlink:href=\"#DejaVuSans-97\"/>\n       <use x=\"766.175781\" xlink:href=\"#DejaVuSans-116\"/>\n       <use x=\"805.384766\" xlink:href=\"#DejaVuSans-105\"/>\n       <use x=\"833.167969\" xlink:href=\"#DejaVuSans-111\"/>\n       <use x=\"894.349609\" xlink:href=\"#DejaVuSans-110\"/>\n       <use x=\"957.728516\" xlink:href=\"#DejaVuSans-115\"/>\n       <use x=\"1009.828125\" xlink:href=\"#DejaVuSans-44\"/>\n       <use x=\"1041.615234\" xlink:href=\"#DejaVuSans-32\"/>\n       <use x=\"1073.402344\" xlink:href=\"#DejaVuSans-72\"/>\n       <use x=\"1148.597656\" xlink:href=\"#DejaVuSans-101\"/>\n       <use x=\"1210.121094\" xlink:href=\"#DejaVuSans-97\"/>\n       <use x=\"1271.400391\" xlink:href=\"#DejaVuSans-108\"/>\n       <use x=\"1299.183594\" xlink:href=\"#DejaVuSans-116\"/>\n       <use x=\"1338.392578\" xlink:href=\"#DejaVuSans-104\"/>\n       <use x=\"1401.771484\" xlink:href=\"#DejaVuSans-99\"/>\n       <use x=\"1456.751953\" xlink:href=\"#DejaVuSans-97\"/>\n       <use x=\"1518.03125\" xlink:href=\"#DejaVuSans-114\"/>\n       <use x=\"1556.894531\" xlink:href=\"#DejaVuSans-101\"/>\n      </g>\n     </g>\n    </g>\n    <g id=\"xtick_29\">\n     <g id=\"line2d_29\">\n      <g>\n       <use style=\"stroke:#000000;stroke-width:0.8;\" x=\"549.060473\" xlink:href=\"#m8775216fec\" y=\"297.1575\"/>\n      </g>\n     </g>\n     <g id=\"text_29\">\n      <!-- Vertical applications, Incubators -->\n      <g transform=\"translate(551.819848 464.455937)rotate(-90)scale(0.1 -0.1)\">\n       <use xlink:href=\"#DejaVuSans-86\"/>\n       <use x=\"60.658203\" xlink:href=\"#DejaVuSans-101\"/>\n       <use x=\"122.181641\" xlink:href=\"#DejaVuSans-114\"/>\n       <use x=\"163.294922\" xlink:href=\"#DejaVuSans-116\"/>\n       <use x=\"202.503906\" xlink:href=\"#DejaVuSans-105\"/>\n       <use x=\"230.287109\" xlink:href=\"#DejaVuSans-99\"/>\n       <use x=\"285.267578\" xlink:href=\"#DejaVuSans-97\"/>\n       <use x=\"346.546875\" xlink:href=\"#DejaVuSans-108\"/>\n       <use x=\"374.330078\" xlink:href=\"#DejaVuSans-32\"/>\n       <use x=\"406.117188\" xlink:href=\"#DejaVuSans-97\"/>\n       <use x=\"467.396484\" xlink:href=\"#DejaVuSans-112\"/>\n       <use x=\"530.873047\" xlink:href=\"#DejaVuSans-112\"/>\n       <use x=\"594.349609\" xlink:href=\"#DejaVuSans-108\"/>\n       <use x=\"622.132812\" xlink:href=\"#DejaVuSans-105\"/>\n       <use x=\"649.916016\" xlink:href=\"#DejaVuSans-99\"/>\n       <use x=\"704.896484\" xlink:href=\"#DejaVuSans-97\"/>\n       <use x=\"766.175781\" xlink:href=\"#DejaVuSans-116\"/>\n       <use x=\"805.384766\" xlink:href=\"#DejaVuSans-105\"/>\n       <use x=\"833.167969\" xlink:href=\"#DejaVuSans-111\"/>\n       <use x=\"894.349609\" xlink:href=\"#DejaVuSans-110\"/>\n       <use x=\"957.728516\" xlink:href=\"#DejaVuSans-115\"/>\n       <use x=\"1009.828125\" xlink:href=\"#DejaVuSans-44\"/>\n       <use x=\"1041.615234\" xlink:href=\"#DejaVuSans-32\"/>\n       <use x=\"1073.402344\" xlink:href=\"#DejaVuSans-73\"/>\n       <use x=\"1102.894531\" xlink:href=\"#DejaVuSans-110\"/>\n       <use x=\"1166.273438\" xlink:href=\"#DejaVuSans-99\"/>\n       <use x=\"1221.253906\" xlink:href=\"#DejaVuSans-117\"/>\n       <use x=\"1284.632812\" xlink:href=\"#DejaVuSans-98\"/>\n       <use x=\"1348.109375\" xlink:href=\"#DejaVuSans-97\"/>\n       <use x=\"1409.388672\" xlink:href=\"#DejaVuSans-116\"/>\n       <use x=\"1448.597656\" xlink:href=\"#DejaVuSans-111\"/>\n       <use x=\"1509.779297\" xlink:href=\"#DejaVuSans-114\"/>\n       <use x=\"1550.892578\" xlink:href=\"#DejaVuSans-115\"/>\n      </g>\n     </g>\n    </g>\n    <g id=\"xtick_30\">\n     <g id=\"line2d_30\">\n      <g>\n       <use style=\"stroke:#000000;stroke-width:0.8;\" x=\"567.15777\" xlink:href=\"#m8775216fec\" y=\"297.1575\"/>\n      </g>\n     </g>\n     <g id=\"text_30\">\n      <!-- Vertical applications, Information &amp; Communications -->\n      <defs>\n       <path d=\"M 24.3125 39.203125 \nQ 19.875 35.25 17.796875 31.3125 \nQ 15.71875 27.390625 15.71875 23.09375 \nQ 15.71875 15.96875 20.890625 11.234375 \nQ 26.078125 6.5 33.890625 6.5 \nQ 38.53125 6.5 42.578125 8.03125 \nQ 46.625 9.578125 50.203125 12.703125 \nz\nM 31.203125 44.671875 \nL 56 19.28125 \nQ 58.890625 23.640625 60.5 28.59375 \nQ 62.109375 33.546875 62.40625 39.109375 \nL 71.484375 39.109375 \nQ 70.90625 32.671875 68.359375 26.359375 \nQ 65.828125 20.0625 61.28125 13.921875 \nL 74.90625 0 \nL 62.59375 0 \nL 55.609375 7.171875 \nQ 50.53125 2.828125 44.96875 0.703125 \nQ 39.40625 -1.421875 33.015625 -1.421875 \nQ 21.234375 -1.421875 13.765625 5.296875 \nQ 6.296875 12.015625 6.296875 22.515625 \nQ 6.296875 28.765625 9.5625 34.25 \nQ 12.84375 39.75 19.390625 44.578125 \nQ 17.046875 47.65625 15.8125 50.703125 \nQ 14.59375 53.765625 14.59375 56.6875 \nQ 14.59375 64.59375 20.015625 69.40625 \nQ 25.4375 74.21875 34.421875 74.21875 \nQ 38.484375 74.21875 42.5 73.34375 \nQ 46.53125 72.46875 50.6875 70.703125 \nL 50.6875 61.8125 \nQ 46.4375 64.109375 42.578125 65.296875 \nQ 38.71875 66.5 35.40625 66.5 \nQ 30.28125 66.5 27.078125 63.78125 \nQ 23.875 61.078125 23.875 56.78125 \nQ 23.875 54.296875 25.3125 51.78125 \nQ 26.765625 49.265625 31.203125 44.671875 \nz\n\" id=\"DejaVuSans-38\"/>\n      </defs>\n      <g transform=\"translate(569.917145 567.56375)rotate(-90)scale(0.1 -0.1)\">\n       <use xlink:href=\"#DejaVuSans-86\"/>\n       <use x=\"60.658203\" xlink:href=\"#DejaVuSans-101\"/>\n       <use x=\"122.181641\" xlink:href=\"#DejaVuSans-114\"/>\n       <use x=\"163.294922\" xlink:href=\"#DejaVuSans-116\"/>\n       <use x=\"202.503906\" xlink:href=\"#DejaVuSans-105\"/>\n       <use x=\"230.287109\" xlink:href=\"#DejaVuSans-99\"/>\n       <use x=\"285.267578\" xlink:href=\"#DejaVuSans-97\"/>\n       <use x=\"346.546875\" xlink:href=\"#DejaVuSans-108\"/>\n       <use x=\"374.330078\" xlink:href=\"#DejaVuSans-32\"/>\n       <use x=\"406.117188\" xlink:href=\"#DejaVuSans-97\"/>\n       <use x=\"467.396484\" xlink:href=\"#DejaVuSans-112\"/>\n       <use x=\"530.873047\" xlink:href=\"#DejaVuSans-112\"/>\n       <use x=\"594.349609\" xlink:href=\"#DejaVuSans-108\"/>\n       <use x=\"622.132812\" xlink:href=\"#DejaVuSans-105\"/>\n       <use x=\"649.916016\" xlink:href=\"#DejaVuSans-99\"/>\n       <use x=\"704.896484\" xlink:href=\"#DejaVuSans-97\"/>\n       <use x=\"766.175781\" xlink:href=\"#DejaVuSans-116\"/>\n       <use x=\"805.384766\" xlink:href=\"#DejaVuSans-105\"/>\n       <use x=\"833.167969\" xlink:href=\"#DejaVuSans-111\"/>\n       <use x=\"894.349609\" xlink:href=\"#DejaVuSans-110\"/>\n       <use x=\"957.728516\" xlink:href=\"#DejaVuSans-115\"/>\n       <use x=\"1009.828125\" xlink:href=\"#DejaVuSans-44\"/>\n       <use x=\"1041.615234\" xlink:href=\"#DejaVuSans-32\"/>\n       <use x=\"1073.402344\" xlink:href=\"#DejaVuSans-73\"/>\n       <use x=\"1102.894531\" xlink:href=\"#DejaVuSans-110\"/>\n       <use x=\"1166.273438\" xlink:href=\"#DejaVuSans-102\"/>\n       <use x=\"1201.478516\" xlink:href=\"#DejaVuSans-111\"/>\n       <use x=\"1262.660156\" xlink:href=\"#DejaVuSans-114\"/>\n       <use x=\"1302.023438\" xlink:href=\"#DejaVuSans-109\"/>\n       <use x=\"1399.435547\" xlink:href=\"#DejaVuSans-97\"/>\n       <use x=\"1460.714844\" xlink:href=\"#DejaVuSans-116\"/>\n       <use x=\"1499.923828\" xlink:href=\"#DejaVuSans-105\"/>\n       <use x=\"1527.707031\" xlink:href=\"#DejaVuSans-111\"/>\n       <use x=\"1588.888672\" xlink:href=\"#DejaVuSans-110\"/>\n       <use x=\"1652.267578\" xlink:href=\"#DejaVuSans-32\"/>\n       <use x=\"1684.054688\" xlink:href=\"#DejaVuSans-38\"/>\n       <use x=\"1762.033203\" xlink:href=\"#DejaVuSans-32\"/>\n       <use x=\"1793.820312\" xlink:href=\"#DejaVuSans-67\"/>\n       <use x=\"1863.644531\" xlink:href=\"#DejaVuSans-111\"/>\n       <use x=\"1924.826172\" xlink:href=\"#DejaVuSans-109\"/>\n       <use x=\"2022.238281\" xlink:href=\"#DejaVuSans-109\"/>\n       <use x=\"2119.650391\" xlink:href=\"#DejaVuSans-117\"/>\n       <use x=\"2183.029297\" xlink:href=\"#DejaVuSans-110\"/>\n       <use x=\"2246.408203\" xlink:href=\"#DejaVuSans-105\"/>\n       <use x=\"2274.191406\" xlink:href=\"#DejaVuSans-99\"/>\n       <use x=\"2329.171875\" xlink:href=\"#DejaVuSans-97\"/>\n       <use x=\"2390.451172\" xlink:href=\"#DejaVuSans-116\"/>\n       <use x=\"2429.660156\" xlink:href=\"#DejaVuSans-105\"/>\n       <use x=\"2457.443359\" xlink:href=\"#DejaVuSans-111\"/>\n       <use x=\"2518.625\" xlink:href=\"#DejaVuSans-110\"/>\n       <use x=\"2582.003906\" xlink:href=\"#DejaVuSans-115\"/>\n      </g>\n     </g>\n    </g>\n    <g id=\"xtick_31\">\n     <g id=\"line2d_31\">\n      <g>\n       <use style=\"stroke:#000000;stroke-width:0.8;\" x=\"585.255068\" xlink:href=\"#m8775216fec\" y=\"297.1575\"/>\n      </g>\n     </g>\n     <g id=\"text_31\">\n      <!-- Vertical applications, Other -->\n      <g transform=\"translate(588.014443 439.890312)rotate(-90)scale(0.1 -0.1)\">\n       <use xlink:href=\"#DejaVuSans-86\"/>\n       <use x=\"60.658203\" xlink:href=\"#DejaVuSans-101\"/>\n       <use x=\"122.181641\" xlink:href=\"#DejaVuSans-114\"/>\n       <use x=\"163.294922\" xlink:href=\"#DejaVuSans-116\"/>\n       <use x=\"202.503906\" xlink:href=\"#DejaVuSans-105\"/>\n       <use x=\"230.287109\" xlink:href=\"#DejaVuSans-99\"/>\n       <use x=\"285.267578\" xlink:href=\"#DejaVuSans-97\"/>\n       <use x=\"346.546875\" xlink:href=\"#DejaVuSans-108\"/>\n       <use x=\"374.330078\" xlink:href=\"#DejaVuSans-32\"/>\n       <use x=\"406.117188\" xlink:href=\"#DejaVuSans-97\"/>\n       <use x=\"467.396484\" xlink:href=\"#DejaVuSans-112\"/>\n       <use x=\"530.873047\" xlink:href=\"#DejaVuSans-112\"/>\n       <use x=\"594.349609\" xlink:href=\"#DejaVuSans-108\"/>\n       <use x=\"622.132812\" xlink:href=\"#DejaVuSans-105\"/>\n       <use x=\"649.916016\" xlink:href=\"#DejaVuSans-99\"/>\n       <use x=\"704.896484\" xlink:href=\"#DejaVuSans-97\"/>\n       <use x=\"766.175781\" xlink:href=\"#DejaVuSans-116\"/>\n       <use x=\"805.384766\" xlink:href=\"#DejaVuSans-105\"/>\n       <use x=\"833.167969\" xlink:href=\"#DejaVuSans-111\"/>\n       <use x=\"894.349609\" xlink:href=\"#DejaVuSans-110\"/>\n       <use x=\"957.728516\" xlink:href=\"#DejaVuSans-115\"/>\n       <use x=\"1009.828125\" xlink:href=\"#DejaVuSans-44\"/>\n       <use x=\"1041.615234\" xlink:href=\"#DejaVuSans-32\"/>\n       <use x=\"1073.402344\" xlink:href=\"#DejaVuSans-79\"/>\n       <use x=\"1152.113281\" xlink:href=\"#DejaVuSans-116\"/>\n       <use x=\"1191.322266\" xlink:href=\"#DejaVuSans-104\"/>\n       <use x=\"1254.701172\" xlink:href=\"#DejaVuSans-101\"/>\n       <use x=\"1316.224609\" xlink:href=\"#DejaVuSans-114\"/>\n      </g>\n     </g>\n    </g>\n    <g id=\"xtick_32\">\n     <g id=\"line2d_32\">\n      <g>\n       <use style=\"stroke:#000000;stroke-width:0.8;\" x=\"603.352365\" xlink:href=\"#m8775216fec\" y=\"297.1575\"/>\n      </g>\n     </g>\n     <g id=\"text_32\">\n      <!-- Vertical applications, Other Support services -->\n      <g transform=\"translate(606.11174 526.810625)rotate(-90)scale(0.1 -0.1)\">\n       <use xlink:href=\"#DejaVuSans-86\"/>\n       <use x=\"60.658203\" xlink:href=\"#DejaVuSans-101\"/>\n       <use x=\"122.181641\" xlink:href=\"#DejaVuSans-114\"/>\n       <use x=\"163.294922\" xlink:href=\"#DejaVuSans-116\"/>\n       <use x=\"202.503906\" xlink:href=\"#DejaVuSans-105\"/>\n       <use x=\"230.287109\" xlink:href=\"#DejaVuSans-99\"/>\n       <use x=\"285.267578\" xlink:href=\"#DejaVuSans-97\"/>\n       <use x=\"346.546875\" xlink:href=\"#DejaVuSans-108\"/>\n       <use x=\"374.330078\" xlink:href=\"#DejaVuSans-32\"/>\n       <use x=\"406.117188\" xlink:href=\"#DejaVuSans-97\"/>\n       <use x=\"467.396484\" xlink:href=\"#DejaVuSans-112\"/>\n       <use x=\"530.873047\" xlink:href=\"#DejaVuSans-112\"/>\n       <use x=\"594.349609\" xlink:href=\"#DejaVuSans-108\"/>\n       <use x=\"622.132812\" xlink:href=\"#DejaVuSans-105\"/>\n       <use x=\"649.916016\" xlink:href=\"#DejaVuSans-99\"/>\n       <use x=\"704.896484\" xlink:href=\"#DejaVuSans-97\"/>\n       <use x=\"766.175781\" xlink:href=\"#DejaVuSans-116\"/>\n       <use x=\"805.384766\" xlink:href=\"#DejaVuSans-105\"/>\n       <use x=\"833.167969\" xlink:href=\"#DejaVuSans-111\"/>\n       <use x=\"894.349609\" xlink:href=\"#DejaVuSans-110\"/>\n       <use x=\"957.728516\" xlink:href=\"#DejaVuSans-115\"/>\n       <use x=\"1009.828125\" xlink:href=\"#DejaVuSans-44\"/>\n       <use x=\"1041.615234\" xlink:href=\"#DejaVuSans-32\"/>\n       <use x=\"1073.402344\" xlink:href=\"#DejaVuSans-79\"/>\n       <use x=\"1152.113281\" xlink:href=\"#DejaVuSans-116\"/>\n       <use x=\"1191.322266\" xlink:href=\"#DejaVuSans-104\"/>\n       <use x=\"1254.701172\" xlink:href=\"#DejaVuSans-101\"/>\n       <use x=\"1316.224609\" xlink:href=\"#DejaVuSans-114\"/>\n       <use x=\"1357.337891\" xlink:href=\"#DejaVuSans-32\"/>\n       <use x=\"1389.125\" xlink:href=\"#DejaVuSans-83\"/>\n       <use x=\"1452.601562\" xlink:href=\"#DejaVuSans-117\"/>\n       <use x=\"1515.980469\" xlink:href=\"#DejaVuSans-112\"/>\n       <use x=\"1579.457031\" xlink:href=\"#DejaVuSans-112\"/>\n       <use x=\"1642.933594\" xlink:href=\"#DejaVuSans-111\"/>\n       <use x=\"1704.115234\" xlink:href=\"#DejaVuSans-114\"/>\n       <use x=\"1745.228516\" xlink:href=\"#DejaVuSans-116\"/>\n       <use x=\"1784.4375\" xlink:href=\"#DejaVuSans-32\"/>\n       <use x=\"1816.224609\" xlink:href=\"#DejaVuSans-115\"/>\n       <use x=\"1868.324219\" xlink:href=\"#DejaVuSans-101\"/>\n       <use x=\"1929.847656\" xlink:href=\"#DejaVuSans-114\"/>\n       <use x=\"1970.960938\" xlink:href=\"#DejaVuSans-118\"/>\n       <use x=\"2030.140625\" xlink:href=\"#DejaVuSans-105\"/>\n       <use x=\"2057.923828\" xlink:href=\"#DejaVuSans-99\"/>\n       <use x=\"2112.904297\" xlink:href=\"#DejaVuSans-101\"/>\n       <use x=\"2174.427734\" xlink:href=\"#DejaVuSans-115\"/>\n      </g>\n     </g>\n    </g>\n    <g id=\"xtick_33\">\n     <g id=\"line2d_33\">\n      <g>\n       <use style=\"stroke:#000000;stroke-width:0.8;\" x=\"621.449662\" xlink:href=\"#m8775216fec\" y=\"297.1575\"/>\n      </g>\n     </g>\n     <g id=\"text_33\">\n      <!-- Vertical applications, Professional Services -->\n      <g transform=\"translate(624.209037 516.937187)rotate(-90)scale(0.1 -0.1)\">\n       <use xlink:href=\"#DejaVuSans-86\"/>\n       <use x=\"60.658203\" xlink:href=\"#DejaVuSans-101\"/>\n       <use x=\"122.181641\" xlink:href=\"#DejaVuSans-114\"/>\n       <use x=\"163.294922\" xlink:href=\"#DejaVuSans-116\"/>\n       <use x=\"202.503906\" xlink:href=\"#DejaVuSans-105\"/>\n       <use x=\"230.287109\" xlink:href=\"#DejaVuSans-99\"/>\n       <use x=\"285.267578\" xlink:href=\"#DejaVuSans-97\"/>\n       <use x=\"346.546875\" xlink:href=\"#DejaVuSans-108\"/>\n       <use x=\"374.330078\" xlink:href=\"#DejaVuSans-32\"/>\n       <use x=\"406.117188\" xlink:href=\"#DejaVuSans-97\"/>\n       <use x=\"467.396484\" xlink:href=\"#DejaVuSans-112\"/>\n       <use x=\"530.873047\" xlink:href=\"#DejaVuSans-112\"/>\n       <use x=\"594.349609\" xlink:href=\"#DejaVuSans-108\"/>\n       <use x=\"622.132812\" xlink:href=\"#DejaVuSans-105\"/>\n       <use x=\"649.916016\" xlink:href=\"#DejaVuSans-99\"/>\n       <use x=\"704.896484\" xlink:href=\"#DejaVuSans-97\"/>\n       <use x=\"766.175781\" xlink:href=\"#DejaVuSans-116\"/>\n       <use x=\"805.384766\" xlink:href=\"#DejaVuSans-105\"/>\n       <use x=\"833.167969\" xlink:href=\"#DejaVuSans-111\"/>\n       <use x=\"894.349609\" xlink:href=\"#DejaVuSans-110\"/>\n       <use x=\"957.728516\" xlink:href=\"#DejaVuSans-115\"/>\n       <use x=\"1009.828125\" xlink:href=\"#DejaVuSans-44\"/>\n       <use x=\"1041.615234\" xlink:href=\"#DejaVuSans-32\"/>\n       <use x=\"1073.402344\" xlink:href=\"#DejaVuSans-80\"/>\n       <use x=\"1131.955078\" xlink:href=\"#DejaVuSans-114\"/>\n       <use x=\"1170.818359\" xlink:href=\"#DejaVuSans-111\"/>\n       <use x=\"1232\" xlink:href=\"#DejaVuSans-102\"/>\n       <use x=\"1267.205078\" xlink:href=\"#DejaVuSans-101\"/>\n       <use x=\"1328.728516\" xlink:href=\"#DejaVuSans-115\"/>\n       <use x=\"1380.828125\" xlink:href=\"#DejaVuSans-115\"/>\n       <use x=\"1432.927734\" xlink:href=\"#DejaVuSans-105\"/>\n       <use x=\"1460.710938\" xlink:href=\"#DejaVuSans-111\"/>\n       <use x=\"1521.892578\" xlink:href=\"#DejaVuSans-110\"/>\n       <use x=\"1585.271484\" xlink:href=\"#DejaVuSans-97\"/>\n       <use x=\"1646.550781\" xlink:href=\"#DejaVuSans-108\"/>\n       <use x=\"1674.333984\" xlink:href=\"#DejaVuSans-32\"/>\n       <use x=\"1706.121094\" xlink:href=\"#DejaVuSans-83\"/>\n       <use x=\"1769.597656\" xlink:href=\"#DejaVuSans-101\"/>\n       <use x=\"1831.121094\" xlink:href=\"#DejaVuSans-114\"/>\n       <use x=\"1872.234375\" xlink:href=\"#DejaVuSans-118\"/>\n       <use x=\"1931.414062\" xlink:href=\"#DejaVuSans-105\"/>\n       <use x=\"1959.197266\" xlink:href=\"#DejaVuSans-99\"/>\n       <use x=\"2014.177734\" xlink:href=\"#DejaVuSans-101\"/>\n       <use x=\"2075.701172\" xlink:href=\"#DejaVuSans-115\"/>\n      </g>\n     </g>\n    </g>\n    <g id=\"xtick_34\">\n     <g id=\"line2d_34\">\n      <g>\n       <use style=\"stroke:#000000;stroke-width:0.8;\" x=\"639.546959\" xlink:href=\"#m8775216fec\" y=\"297.1575\"/>\n      </g>\n     </g>\n     <g id=\"text_34\">\n      <!-- Vertical applications, Public Administration -->\n      <g transform=\"translate(642.306334 517.441875)rotate(-90)scale(0.1 -0.1)\">\n       <use xlink:href=\"#DejaVuSans-86\"/>\n       <use x=\"60.658203\" xlink:href=\"#DejaVuSans-101\"/>\n       <use x=\"122.181641\" xlink:href=\"#DejaVuSans-114\"/>\n       <use x=\"163.294922\" xlink:href=\"#DejaVuSans-116\"/>\n       <use x=\"202.503906\" xlink:href=\"#DejaVuSans-105\"/>\n       <use x=\"230.287109\" xlink:href=\"#DejaVuSans-99\"/>\n       <use x=\"285.267578\" xlink:href=\"#DejaVuSans-97\"/>\n       <use x=\"346.546875\" xlink:href=\"#DejaVuSans-108\"/>\n       <use x=\"374.330078\" xlink:href=\"#DejaVuSans-32\"/>\n       <use x=\"406.117188\" xlink:href=\"#DejaVuSans-97\"/>\n       <use x=\"467.396484\" xlink:href=\"#DejaVuSans-112\"/>\n       <use x=\"530.873047\" xlink:href=\"#DejaVuSans-112\"/>\n       <use x=\"594.349609\" xlink:href=\"#DejaVuSans-108\"/>\n       <use x=\"622.132812\" xlink:href=\"#DejaVuSans-105\"/>\n       <use x=\"649.916016\" xlink:href=\"#DejaVuSans-99\"/>\n       <use x=\"704.896484\" xlink:href=\"#DejaVuSans-97\"/>\n       <use x=\"766.175781\" xlink:href=\"#DejaVuSans-116\"/>\n       <use x=\"805.384766\" xlink:href=\"#DejaVuSans-105\"/>\n       <use x=\"833.167969\" xlink:href=\"#DejaVuSans-111\"/>\n       <use x=\"894.349609\" xlink:href=\"#DejaVuSans-110\"/>\n       <use x=\"957.728516\" xlink:href=\"#DejaVuSans-115\"/>\n       <use x=\"1009.828125\" xlink:href=\"#DejaVuSans-44\"/>\n       <use x=\"1041.615234\" xlink:href=\"#DejaVuSans-32\"/>\n       <use x=\"1073.402344\" xlink:href=\"#DejaVuSans-80\"/>\n       <use x=\"1131.955078\" xlink:href=\"#DejaVuSans-117\"/>\n       <use x=\"1195.333984\" xlink:href=\"#DejaVuSans-98\"/>\n       <use x=\"1258.810547\" xlink:href=\"#DejaVuSans-108\"/>\n       <use x=\"1286.59375\" xlink:href=\"#DejaVuSans-105\"/>\n       <use x=\"1314.376953\" xlink:href=\"#DejaVuSans-99\"/>\n       <use x=\"1369.357422\" xlink:href=\"#DejaVuSans-32\"/>\n       <use x=\"1401.144531\" xlink:href=\"#DejaVuSans-65\"/>\n       <use x=\"1467.802734\" xlink:href=\"#DejaVuSans-100\"/>\n       <use x=\"1531.279297\" xlink:href=\"#DejaVuSans-109\"/>\n       <use x=\"1628.691406\" xlink:href=\"#DejaVuSans-105\"/>\n       <use x=\"1656.474609\" xlink:href=\"#DejaVuSans-110\"/>\n       <use x=\"1719.853516\" xlink:href=\"#DejaVuSans-105\"/>\n       <use x=\"1747.636719\" xlink:href=\"#DejaVuSans-115\"/>\n       <use x=\"1799.736328\" xlink:href=\"#DejaVuSans-116\"/>\n       <use x=\"1838.945312\" xlink:href=\"#DejaVuSans-114\"/>\n       <use x=\"1880.058594\" xlink:href=\"#DejaVuSans-97\"/>\n       <use x=\"1941.337891\" xlink:href=\"#DejaVuSans-116\"/>\n       <use x=\"1980.546875\" xlink:href=\"#DejaVuSans-105\"/>\n       <use x=\"2008.330078\" xlink:href=\"#DejaVuSans-111\"/>\n       <use x=\"2069.511719\" xlink:href=\"#DejaVuSans-110\"/>\n      </g>\n     </g>\n    </g>\n    <g id=\"xtick_35\">\n     <g id=\"line2d_35\">\n      <g>\n       <use style=\"stroke:#000000;stroke-width:0.8;\" x=\"657.644257\" xlink:href=\"#m8775216fec\" y=\"297.1575\"/>\n      </g>\n     </g>\n     <g id=\"text_35\">\n      <!-- Vertical applications, Retail and wholesale -->\n      <defs>\n       <path d=\"M 44.390625 34.1875 \nQ 47.5625 33.109375 50.5625 29.59375 \nQ 53.5625 26.078125 56.59375 19.921875 \nL 66.609375 0 \nL 56 0 \nL 46.6875 18.703125 \nQ 43.0625 26.03125 39.671875 28.421875 \nQ 36.28125 30.8125 30.421875 30.8125 \nL 19.671875 30.8125 \nL 19.671875 0 \nL 9.8125 0 \nL 9.8125 72.90625 \nL 32.078125 72.90625 \nQ 44.578125 72.90625 50.734375 67.671875 \nQ 56.890625 62.453125 56.890625 51.90625 \nQ 56.890625 45.015625 53.6875 40.46875 \nQ 50.484375 35.9375 44.390625 34.1875 \nz\nM 19.671875 64.796875 \nL 19.671875 38.921875 \nL 32.078125 38.921875 \nQ 39.203125 38.921875 42.84375 42.21875 \nQ 46.484375 45.515625 46.484375 51.90625 \nQ 46.484375 58.296875 42.84375 61.546875 \nQ 39.203125 64.796875 32.078125 64.796875 \nz\n\" id=\"DejaVuSans-82\"/>\n       <path d=\"M 4.203125 54.6875 \nL 13.1875 54.6875 \nL 24.421875 12.015625 \nL 35.59375 54.6875 \nL 46.1875 54.6875 \nL 57.421875 12.015625 \nL 68.609375 54.6875 \nL 77.59375 54.6875 \nL 63.28125 0 \nL 52.6875 0 \nL 40.921875 44.828125 \nL 29.109375 0 \nL 18.5 0 \nz\n\" id=\"DejaVuSans-119\"/>\n      </defs>\n      <g transform=\"translate(660.403632 514.7575)rotate(-90)scale(0.1 -0.1)\">\n       <use xlink:href=\"#DejaVuSans-86\"/>\n       <use x=\"60.658203\" xlink:href=\"#DejaVuSans-101\"/>\n       <use x=\"122.181641\" xlink:href=\"#DejaVuSans-114\"/>\n       <use x=\"163.294922\" xlink:href=\"#DejaVuSans-116\"/>\n       <use x=\"202.503906\" xlink:href=\"#DejaVuSans-105\"/>\n       <use x=\"230.287109\" xlink:href=\"#DejaVuSans-99\"/>\n       <use x=\"285.267578\" xlink:href=\"#DejaVuSans-97\"/>\n       <use x=\"346.546875\" xlink:href=\"#DejaVuSans-108\"/>\n       <use x=\"374.330078\" xlink:href=\"#DejaVuSans-32\"/>\n       <use x=\"406.117188\" xlink:href=\"#DejaVuSans-97\"/>\n       <use x=\"467.396484\" xlink:href=\"#DejaVuSans-112\"/>\n       <use x=\"530.873047\" xlink:href=\"#DejaVuSans-112\"/>\n       <use x=\"594.349609\" xlink:href=\"#DejaVuSans-108\"/>\n       <use x=\"622.132812\" xlink:href=\"#DejaVuSans-105\"/>\n       <use x=\"649.916016\" xlink:href=\"#DejaVuSans-99\"/>\n       <use x=\"704.896484\" xlink:href=\"#DejaVuSans-97\"/>\n       <use x=\"766.175781\" xlink:href=\"#DejaVuSans-116\"/>\n       <use x=\"805.384766\" xlink:href=\"#DejaVuSans-105\"/>\n       <use x=\"833.167969\" xlink:href=\"#DejaVuSans-111\"/>\n       <use x=\"894.349609\" xlink:href=\"#DejaVuSans-110\"/>\n       <use x=\"957.728516\" xlink:href=\"#DejaVuSans-115\"/>\n       <use x=\"1009.828125\" xlink:href=\"#DejaVuSans-44\"/>\n       <use x=\"1041.615234\" xlink:href=\"#DejaVuSans-32\"/>\n       <use x=\"1073.402344\" xlink:href=\"#DejaVuSans-82\"/>\n       <use x=\"1138.384766\" xlink:href=\"#DejaVuSans-101\"/>\n       <use x=\"1199.908203\" xlink:href=\"#DejaVuSans-116\"/>\n       <use x=\"1239.117188\" xlink:href=\"#DejaVuSans-97\"/>\n       <use x=\"1300.396484\" xlink:href=\"#DejaVuSans-105\"/>\n       <use x=\"1328.179688\" xlink:href=\"#DejaVuSans-108\"/>\n       <use x=\"1355.962891\" xlink:href=\"#DejaVuSans-32\"/>\n       <use x=\"1387.75\" xlink:href=\"#DejaVuSans-97\"/>\n       <use x=\"1449.029297\" xlink:href=\"#DejaVuSans-110\"/>\n       <use x=\"1512.408203\" xlink:href=\"#DejaVuSans-100\"/>\n       <use x=\"1575.884766\" xlink:href=\"#DejaVuSans-32\"/>\n       <use x=\"1607.671875\" xlink:href=\"#DejaVuSans-119\"/>\n       <use x=\"1689.458984\" xlink:href=\"#DejaVuSans-104\"/>\n       <use x=\"1752.837891\" xlink:href=\"#DejaVuSans-111\"/>\n       <use x=\"1814.019531\" xlink:href=\"#DejaVuSans-108\"/>\n       <use x=\"1841.802734\" xlink:href=\"#DejaVuSans-101\"/>\n       <use x=\"1903.326172\" xlink:href=\"#DejaVuSans-115\"/>\n       <use x=\"1955.425781\" xlink:href=\"#DejaVuSans-97\"/>\n       <use x=\"2016.705078\" xlink:href=\"#DejaVuSans-108\"/>\n       <use x=\"2044.488281\" xlink:href=\"#DejaVuSans-101\"/>\n      </g>\n     </g>\n    </g>\n    <g id=\"xtick_36\">\n     <g id=\"line2d_36\">\n      <g>\n       <use style=\"stroke:#000000;stroke-width:0.8;\" x=\"675.741554\" xlink:href=\"#m8775216fec\" y=\"297.1575\"/>\n      </g>\n     </g>\n     <g id=\"text_36\">\n      <!-- Vertical applications, Transport and Storage -->\n      <g transform=\"translate(678.500929 522.712187)rotate(-90)scale(0.1 -0.1)\">\n       <use xlink:href=\"#DejaVuSans-86\"/>\n       <use x=\"60.658203\" xlink:href=\"#DejaVuSans-101\"/>\n       <use x=\"122.181641\" xlink:href=\"#DejaVuSans-114\"/>\n       <use x=\"163.294922\" xlink:href=\"#DejaVuSans-116\"/>\n       <use x=\"202.503906\" xlink:href=\"#DejaVuSans-105\"/>\n       <use x=\"230.287109\" xlink:href=\"#DejaVuSans-99\"/>\n       <use x=\"285.267578\" xlink:href=\"#DejaVuSans-97\"/>\n       <use x=\"346.546875\" xlink:href=\"#DejaVuSans-108\"/>\n       <use x=\"374.330078\" xlink:href=\"#DejaVuSans-32\"/>\n       <use x=\"406.117188\" xlink:href=\"#DejaVuSans-97\"/>\n       <use x=\"467.396484\" xlink:href=\"#DejaVuSans-112\"/>\n       <use x=\"530.873047\" xlink:href=\"#DejaVuSans-112\"/>\n       <use x=\"594.349609\" xlink:href=\"#DejaVuSans-108\"/>\n       <use x=\"622.132812\" xlink:href=\"#DejaVuSans-105\"/>\n       <use x=\"649.916016\" xlink:href=\"#DejaVuSans-99\"/>\n       <use x=\"704.896484\" xlink:href=\"#DejaVuSans-97\"/>\n       <use x=\"766.175781\" xlink:href=\"#DejaVuSans-116\"/>\n       <use x=\"805.384766\" xlink:href=\"#DejaVuSans-105\"/>\n       <use x=\"833.167969\" xlink:href=\"#DejaVuSans-111\"/>\n       <use x=\"894.349609\" xlink:href=\"#DejaVuSans-110\"/>\n       <use x=\"957.728516\" xlink:href=\"#DejaVuSans-115\"/>\n       <use x=\"1009.828125\" xlink:href=\"#DejaVuSans-44\"/>\n       <use x=\"1041.615234\" xlink:href=\"#DejaVuSans-32\"/>\n       <use x=\"1073.402344\" xlink:href=\"#DejaVuSans-84\"/>\n       <use x=\"1119.736328\" xlink:href=\"#DejaVuSans-114\"/>\n       <use x=\"1160.849609\" xlink:href=\"#DejaVuSans-97\"/>\n       <use x=\"1222.128906\" xlink:href=\"#DejaVuSans-110\"/>\n       <use x=\"1285.507812\" xlink:href=\"#DejaVuSans-115\"/>\n       <use x=\"1337.607422\" xlink:href=\"#DejaVuSans-112\"/>\n       <use x=\"1401.083984\" xlink:href=\"#DejaVuSans-111\"/>\n       <use x=\"1462.265625\" xlink:href=\"#DejaVuSans-114\"/>\n       <use x=\"1503.378906\" xlink:href=\"#DejaVuSans-116\"/>\n       <use x=\"1542.587891\" xlink:href=\"#DejaVuSans-32\"/>\n       <use x=\"1574.375\" xlink:href=\"#DejaVuSans-97\"/>\n       <use x=\"1635.654297\" xlink:href=\"#DejaVuSans-110\"/>\n       <use x=\"1699.033203\" xlink:href=\"#DejaVuSans-100\"/>\n       <use x=\"1762.509766\" xlink:href=\"#DejaVuSans-32\"/>\n       <use x=\"1794.296875\" xlink:href=\"#DejaVuSans-83\"/>\n       <use x=\"1857.773438\" xlink:href=\"#DejaVuSans-116\"/>\n       <use x=\"1896.982422\" xlink:href=\"#DejaVuSans-111\"/>\n       <use x=\"1958.164062\" xlink:href=\"#DejaVuSans-114\"/>\n       <use x=\"1999.277344\" xlink:href=\"#DejaVuSans-97\"/>\n       <use x=\"2060.556641\" xlink:href=\"#DejaVuSans-103\"/>\n       <use x=\"2124.033203\" xlink:href=\"#DejaVuSans-101\"/>\n      </g>\n     </g>\n    </g>\n    <g id=\"xtick_37\">\n     <g id=\"line2d_37\">\n      <g>\n       <use style=\"stroke:#000000;stroke-width:0.8;\" x=\"693.838851\" xlink:href=\"#m8775216fec\" y=\"297.1575\"/>\n      </g>\n     </g>\n     <g id=\"text_37\">\n      <!-- Vertical applications, Utilites -->\n      <defs>\n       <path d=\"M 8.6875 72.90625 \nL 18.609375 72.90625 \nL 18.609375 28.609375 \nQ 18.609375 16.890625 22.84375 11.734375 \nQ 27.09375 6.59375 36.625 6.59375 \nQ 46.09375 6.59375 50.34375 11.734375 \nQ 54.59375 16.890625 54.59375 28.609375 \nL 54.59375 72.90625 \nL 64.5 72.90625 \nL 64.5 27.390625 \nQ 64.5 13.140625 57.4375 5.859375 \nQ 50.390625 -1.421875 36.625 -1.421875 \nQ 22.796875 -1.421875 15.734375 5.859375 \nQ 8.6875 13.140625 8.6875 27.390625 \nz\n\" id=\"DejaVuSans-85\"/>\n      </defs>\n      <g transform=\"translate(696.598226 446.352812)rotate(-90)scale(0.1 -0.1)\">\n       <use xlink:href=\"#DejaVuSans-86\"/>\n       <use x=\"60.658203\" xlink:href=\"#DejaVuSans-101\"/>\n       <use x=\"122.181641\" xlink:href=\"#DejaVuSans-114\"/>\n       <use x=\"163.294922\" xlink:href=\"#DejaVuSans-116\"/>\n       <use x=\"202.503906\" xlink:href=\"#DejaVuSans-105\"/>\n       <use x=\"230.287109\" xlink:href=\"#DejaVuSans-99\"/>\n       <use x=\"285.267578\" xlink:href=\"#DejaVuSans-97\"/>\n       <use x=\"346.546875\" xlink:href=\"#DejaVuSans-108\"/>\n       <use x=\"374.330078\" xlink:href=\"#DejaVuSans-32\"/>\n       <use x=\"406.117188\" xlink:href=\"#DejaVuSans-97\"/>\n       <use x=\"467.396484\" xlink:href=\"#DejaVuSans-112\"/>\n       <use x=\"530.873047\" xlink:href=\"#DejaVuSans-112\"/>\n       <use x=\"594.349609\" xlink:href=\"#DejaVuSans-108\"/>\n       <use x=\"622.132812\" xlink:href=\"#DejaVuSans-105\"/>\n       <use x=\"649.916016\" xlink:href=\"#DejaVuSans-99\"/>\n       <use x=\"704.896484\" xlink:href=\"#DejaVuSans-97\"/>\n       <use x=\"766.175781\" xlink:href=\"#DejaVuSans-116\"/>\n       <use x=\"805.384766\" xlink:href=\"#DejaVuSans-105\"/>\n       <use x=\"833.167969\" xlink:href=\"#DejaVuSans-111\"/>\n       <use x=\"894.349609\" xlink:href=\"#DejaVuSans-110\"/>\n       <use x=\"957.728516\" xlink:href=\"#DejaVuSans-115\"/>\n       <use x=\"1009.828125\" xlink:href=\"#DejaVuSans-44\"/>\n       <use x=\"1041.615234\" xlink:href=\"#DejaVuSans-32\"/>\n       <use x=\"1073.402344\" xlink:href=\"#DejaVuSans-85\"/>\n       <use x=\"1146.595703\" xlink:href=\"#DejaVuSans-116\"/>\n       <use x=\"1185.804688\" xlink:href=\"#DejaVuSans-105\"/>\n       <use x=\"1213.587891\" xlink:href=\"#DejaVuSans-108\"/>\n       <use x=\"1241.371094\" xlink:href=\"#DejaVuSans-105\"/>\n       <use x=\"1269.154297\" xlink:href=\"#DejaVuSans-116\"/>\n       <use x=\"1308.363281\" xlink:href=\"#DejaVuSans-101\"/>\n       <use x=\"1369.886719\" xlink:href=\"#DejaVuSans-115\"/>\n      </g>\n     </g>\n    </g>\n    <g id=\"text_38\">\n     <!-- Action area -->\n     <g transform=\"translate(339.691406 579.162187)scale(0.1 -0.1)\">\n      <use xlink:href=\"#DejaVuSans-65\"/>\n      <use x=\"66.658203\" xlink:href=\"#DejaVuSans-99\"/>\n      <use x=\"121.638672\" xlink:href=\"#DejaVuSans-116\"/>\n      <use x=\"160.847656\" xlink:href=\"#DejaVuSans-105\"/>\n      <use x=\"188.630859\" xlink:href=\"#DejaVuSans-111\"/>\n      <use x=\"249.8125\" xlink:href=\"#DejaVuSans-110\"/>\n      <use x=\"313.191406\" xlink:href=\"#DejaVuSans-32\"/>\n      <use x=\"344.978516\" xlink:href=\"#DejaVuSans-97\"/>\n      <use x=\"406.257812\" xlink:href=\"#DejaVuSans-114\"/>\n      <use x=\"445.121094\" xlink:href=\"#DejaVuSans-101\"/>\n      <use x=\"506.644531\" xlink:href=\"#DejaVuSans-97\"/>\n     </g>\n    </g>\n   </g>\n   <g id=\"matplotlib.axis_2\">\n    <g id=\"ytick_1\">\n     <g id=\"line2d_38\">\n      <defs>\n       <path d=\"M 0 0 \nL -3.5 0 \n\" id=\"m44945433e0\" style=\"stroke:#000000;stroke-width:0.8;\"/>\n      </defs>\n      <g>\n       <use style=\"stroke:#000000;stroke-width:0.8;\" x=\"33.2875\" xlink:href=\"#m44945433e0\" y=\"297.1575\"/>\n      </g>\n     </g>\n     <g id=\"text_39\">\n      <!-- 0 -->\n      <defs>\n       <path d=\"M 31.78125 66.40625 \nQ 24.171875 66.40625 20.328125 58.90625 \nQ 16.5 51.421875 16.5 36.375 \nQ 16.5 21.390625 20.328125 13.890625 \nQ 24.171875 6.390625 31.78125 6.390625 \nQ 39.453125 6.390625 43.28125 13.890625 \nQ 47.125 21.390625 47.125 36.375 \nQ 47.125 51.421875 43.28125 58.90625 \nQ 39.453125 66.40625 31.78125 66.40625 \nz\nM 31.78125 74.21875 \nQ 44.046875 74.21875 50.515625 64.515625 \nQ 56.984375 54.828125 56.984375 36.375 \nQ 56.984375 17.96875 50.515625 8.265625 \nQ 44.046875 -1.421875 31.78125 -1.421875 \nQ 19.53125 -1.421875 13.0625 8.265625 \nQ 6.59375 17.96875 6.59375 36.375 \nQ 6.59375 54.828125 13.0625 64.515625 \nQ 19.53125 74.21875 31.78125 74.21875 \nz\n\" id=\"DejaVuSans-48\"/>\n      </defs>\n      <g transform=\"translate(19.925 300.956719)scale(0.1 -0.1)\">\n       <use xlink:href=\"#DejaVuSans-48\"/>\n      </g>\n     </g>\n    </g>\n    <g id=\"ytick_2\">\n     <g id=\"line2d_39\">\n      <g>\n       <use style=\"stroke:#000000;stroke-width:0.8;\" x=\"33.2875\" xlink:href=\"#m44945433e0\" y=\"265.818863\"/>\n      </g>\n     </g>\n     <g id=\"text_40\">\n      <!-- 50 -->\n      <defs>\n       <path d=\"M 10.796875 72.90625 \nL 49.515625 72.90625 \nL 49.515625 64.59375 \nL 19.828125 64.59375 \nL 19.828125 46.734375 \nQ 21.96875 47.46875 24.109375 47.828125 \nQ 26.265625 48.1875 28.421875 48.1875 \nQ 40.625 48.1875 47.75 41.5 \nQ 54.890625 34.8125 54.890625 23.390625 \nQ 54.890625 11.625 47.5625 5.09375 \nQ 40.234375 -1.421875 26.90625 -1.421875 \nQ 22.3125 -1.421875 17.546875 -0.640625 \nQ 12.796875 0.140625 7.71875 1.703125 \nL 7.71875 11.625 \nQ 12.109375 9.234375 16.796875 8.0625 \nQ 21.484375 6.890625 26.703125 6.890625 \nQ 35.15625 6.890625 40.078125 11.328125 \nQ 45.015625 15.765625 45.015625 23.390625 \nQ 45.015625 31 40.078125 35.4375 \nQ 35.15625 39.890625 26.703125 39.890625 \nQ 22.75 39.890625 18.8125 39.015625 \nQ 14.890625 38.140625 10.796875 36.28125 \nz\n\" id=\"DejaVuSans-53\"/>\n      </defs>\n      <g transform=\"translate(13.5625 269.618082)scale(0.1 -0.1)\">\n       <use xlink:href=\"#DejaVuSans-53\"/>\n       <use x=\"63.623047\" xlink:href=\"#DejaVuSans-48\"/>\n      </g>\n     </g>\n    </g>\n    <g id=\"ytick_3\">\n     <g id=\"line2d_40\">\n      <g>\n       <use style=\"stroke:#000000;stroke-width:0.8;\" x=\"33.2875\" xlink:href=\"#m44945433e0\" y=\"234.480226\"/>\n      </g>\n     </g>\n     <g id=\"text_41\">\n      <!-- 100 -->\n      <defs>\n       <path d=\"M 12.40625 8.296875 \nL 28.515625 8.296875 \nL 28.515625 63.921875 \nL 10.984375 60.40625 \nL 10.984375 69.390625 \nL 28.421875 72.90625 \nL 38.28125 72.90625 \nL 38.28125 8.296875 \nL 54.390625 8.296875 \nL 54.390625 0 \nL 12.40625 0 \nz\n\" id=\"DejaVuSans-49\"/>\n      </defs>\n      <g transform=\"translate(7.2 238.279444)scale(0.1 -0.1)\">\n       <use xlink:href=\"#DejaVuSans-49\"/>\n       <use x=\"63.623047\" xlink:href=\"#DejaVuSans-48\"/>\n       <use x=\"127.246094\" xlink:href=\"#DejaVuSans-48\"/>\n      </g>\n     </g>\n    </g>\n    <g id=\"ytick_4\">\n     <g id=\"line2d_41\">\n      <g>\n       <use style=\"stroke:#000000;stroke-width:0.8;\" x=\"33.2875\" xlink:href=\"#m44945433e0\" y=\"203.141589\"/>\n      </g>\n     </g>\n     <g id=\"text_42\">\n      <!-- 150 -->\n      <g transform=\"translate(7.2 206.940807)scale(0.1 -0.1)\">\n       <use xlink:href=\"#DejaVuSans-49\"/>\n       <use x=\"63.623047\" xlink:href=\"#DejaVuSans-53\"/>\n       <use x=\"127.246094\" xlink:href=\"#DejaVuSans-48\"/>\n      </g>\n     </g>\n    </g>\n    <g id=\"ytick_5\">\n     <g id=\"line2d_42\">\n      <g>\n       <use style=\"stroke:#000000;stroke-width:0.8;\" x=\"33.2875\" xlink:href=\"#m44945433e0\" y=\"171.802951\"/>\n      </g>\n     </g>\n     <g id=\"text_43\">\n      <!-- 200 -->\n      <defs>\n       <path d=\"M 19.1875 8.296875 \nL 53.609375 8.296875 \nL 53.609375 0 \nL 7.328125 0 \nL 7.328125 8.296875 \nQ 12.9375 14.109375 22.625 23.890625 \nQ 32.328125 33.6875 34.8125 36.53125 \nQ 39.546875 41.84375 41.421875 45.53125 \nQ 43.3125 49.21875 43.3125 52.78125 \nQ 43.3125 58.59375 39.234375 62.25 \nQ 35.15625 65.921875 28.609375 65.921875 \nQ 23.96875 65.921875 18.8125 64.3125 \nQ 13.671875 62.703125 7.8125 59.421875 \nL 7.8125 69.390625 \nQ 13.765625 71.78125 18.9375 73 \nQ 24.125 74.21875 28.421875 74.21875 \nQ 39.75 74.21875 46.484375 68.546875 \nQ 53.21875 62.890625 53.21875 53.421875 \nQ 53.21875 48.921875 51.53125 44.890625 \nQ 49.859375 40.875 45.40625 35.40625 \nQ 44.1875 33.984375 37.640625 27.21875 \nQ 31.109375 20.453125 19.1875 8.296875 \nz\n\" id=\"DejaVuSans-50\"/>\n      </defs>\n      <g transform=\"translate(7.2 175.60217)scale(0.1 -0.1)\">\n       <use xlink:href=\"#DejaVuSans-50\"/>\n       <use x=\"63.623047\" xlink:href=\"#DejaVuSans-48\"/>\n       <use x=\"127.246094\" xlink:href=\"#DejaVuSans-48\"/>\n      </g>\n     </g>\n    </g>\n    <g id=\"ytick_6\">\n     <g id=\"line2d_43\">\n      <g>\n       <use style=\"stroke:#000000;stroke-width:0.8;\" x=\"33.2875\" xlink:href=\"#m44945433e0\" y=\"140.464314\"/>\n      </g>\n     </g>\n     <g id=\"text_44\">\n      <!-- 250 -->\n      <g transform=\"translate(7.2 144.263533)scale(0.1 -0.1)\">\n       <use xlink:href=\"#DejaVuSans-50\"/>\n       <use x=\"63.623047\" xlink:href=\"#DejaVuSans-53\"/>\n       <use x=\"127.246094\" xlink:href=\"#DejaVuSans-48\"/>\n      </g>\n     </g>\n    </g>\n    <g id=\"ytick_7\">\n     <g id=\"line2d_44\">\n      <g>\n       <use style=\"stroke:#000000;stroke-width:0.8;\" x=\"33.2875\" xlink:href=\"#m44945433e0\" y=\"109.125677\"/>\n      </g>\n     </g>\n     <g id=\"text_45\">\n      <!-- 300 -->\n      <defs>\n       <path d=\"M 40.578125 39.3125 \nQ 47.65625 37.796875 51.625 33 \nQ 55.609375 28.21875 55.609375 21.1875 \nQ 55.609375 10.40625 48.1875 4.484375 \nQ 40.765625 -1.421875 27.09375 -1.421875 \nQ 22.515625 -1.421875 17.65625 -0.515625 \nQ 12.796875 0.390625 7.625 2.203125 \nL 7.625 11.71875 \nQ 11.71875 9.328125 16.59375 8.109375 \nQ 21.484375 6.890625 26.8125 6.890625 \nQ 36.078125 6.890625 40.9375 10.546875 \nQ 45.796875 14.203125 45.796875 21.1875 \nQ 45.796875 27.640625 41.28125 31.265625 \nQ 36.765625 34.90625 28.71875 34.90625 \nL 20.21875 34.90625 \nL 20.21875 43.015625 \nL 29.109375 43.015625 \nQ 36.375 43.015625 40.234375 45.921875 \nQ 44.09375 48.828125 44.09375 54.296875 \nQ 44.09375 59.90625 40.109375 62.90625 \nQ 36.140625 65.921875 28.71875 65.921875 \nQ 24.65625 65.921875 20.015625 65.03125 \nQ 15.375 64.15625 9.8125 62.3125 \nL 9.8125 71.09375 \nQ 15.4375 72.65625 20.34375 73.4375 \nQ 25.25 74.21875 29.59375 74.21875 \nQ 40.828125 74.21875 47.359375 69.109375 \nQ 53.90625 64.015625 53.90625 55.328125 \nQ 53.90625 49.265625 50.4375 45.09375 \nQ 46.96875 40.921875 40.578125 39.3125 \nz\n\" id=\"DejaVuSans-51\"/>\n      </defs>\n      <g transform=\"translate(7.2 112.924896)scale(0.1 -0.1)\">\n       <use xlink:href=\"#DejaVuSans-51\"/>\n       <use x=\"63.623047\" xlink:href=\"#DejaVuSans-48\"/>\n       <use x=\"127.246094\" xlink:href=\"#DejaVuSans-48\"/>\n      </g>\n     </g>\n    </g>\n    <g id=\"ytick_8\">\n     <g id=\"line2d_45\">\n      <g>\n       <use style=\"stroke:#000000;stroke-width:0.8;\" x=\"33.2875\" xlink:href=\"#m44945433e0\" y=\"77.78704\"/>\n      </g>\n     </g>\n     <g id=\"text_46\">\n      <!-- 350 -->\n      <g transform=\"translate(7.2 81.586259)scale(0.1 -0.1)\">\n       <use xlink:href=\"#DejaVuSans-51\"/>\n       <use x=\"63.623047\" xlink:href=\"#DejaVuSans-53\"/>\n       <use x=\"127.246094\" xlink:href=\"#DejaVuSans-48\"/>\n      </g>\n     </g>\n    </g>\n    <g id=\"ytick_9\">\n     <g id=\"line2d_46\">\n      <g>\n       <use style=\"stroke:#000000;stroke-width:0.8;\" x=\"33.2875\" xlink:href=\"#m44945433e0\" y=\"46.448403\"/>\n      </g>\n     </g>\n     <g id=\"text_47\">\n      <!-- 400 -->\n      <defs>\n       <path d=\"M 37.796875 64.3125 \nL 12.890625 25.390625 \nL 37.796875 25.390625 \nz\nM 35.203125 72.90625 \nL 47.609375 72.90625 \nL 47.609375 25.390625 \nL 58.015625 25.390625 \nL 58.015625 17.1875 \nL 47.609375 17.1875 \nL 47.609375 0 \nL 37.796875 0 \nL 37.796875 17.1875 \nL 4.890625 17.1875 \nL 4.890625 26.703125 \nz\n\" id=\"DejaVuSans-52\"/>\n      </defs>\n      <g transform=\"translate(7.2 50.247622)scale(0.1 -0.1)\">\n       <use xlink:href=\"#DejaVuSans-52\"/>\n       <use x=\"63.623047\" xlink:href=\"#DejaVuSans-48\"/>\n       <use x=\"127.246094\" xlink:href=\"#DejaVuSans-48\"/>\n      </g>\n     </g>\n    </g>\n   </g>\n   <g id=\"patch_40\">\n    <path d=\"M 33.2875 297.1575 \nL 33.2875 25.3575 \n\" style=\"fill:none;stroke:#000000;stroke-linecap:square;stroke-linejoin:miter;stroke-width:0.8;\"/>\n   </g>\n   <g id=\"patch_41\">\n    <path d=\"M 702.8875 297.1575 \nL 702.8875 25.3575 \n\" style=\"fill:none;stroke:#000000;stroke-linecap:square;stroke-linejoin:miter;stroke-width:0.8;\"/>\n   </g>\n   <g id=\"patch_42\">\n    <path d=\"M 33.2875 297.1575 \nL 702.8875 297.1575 \n\" style=\"fill:none;stroke:#000000;stroke-linecap:square;stroke-linejoin:miter;stroke-width:0.8;\"/>\n   </g>\n   <g id=\"patch_43\">\n    <path d=\"M 33.2875 25.3575 \nL 702.8875 25.3575 \n\" style=\"fill:none;stroke:#000000;stroke-linecap:square;stroke-linejoin:miter;stroke-width:0.8;\"/>\n   </g>\n   <g id=\"text_48\">\n    <!-- Mercado del Data -->\n    <g style=\"fill:#0000ff;\" transform=\"translate(297.46875 19.3575)scale(0.16 -0.16)\">\n     <use xlink:href=\"#DejaVuSans-77\"/>\n     <use x=\"86.279297\" xlink:href=\"#DejaVuSans-101\"/>\n     <use x=\"147.802734\" xlink:href=\"#DejaVuSans-114\"/>\n     <use x=\"186.666016\" xlink:href=\"#DejaVuSans-99\"/>\n     <use x=\"241.646484\" xlink:href=\"#DejaVuSans-97\"/>\n     <use x=\"302.925781\" xlink:href=\"#DejaVuSans-100\"/>\n     <use x=\"366.402344\" xlink:href=\"#DejaVuSans-111\"/>\n     <use x=\"427.583984\" xlink:href=\"#DejaVuSans-32\"/>\n     <use x=\"459.371094\" xlink:href=\"#DejaVuSans-100\"/>\n     <use x=\"522.847656\" xlink:href=\"#DejaVuSans-101\"/>\n     <use x=\"584.371094\" xlink:href=\"#DejaVuSans-108\"/>\n     <use x=\"612.154297\" xlink:href=\"#DejaVuSans-32\"/>\n     <use x=\"643.941406\" xlink:href=\"#DejaVuSans-68\"/>\n     <use x=\"720.943359\" xlink:href=\"#DejaVuSans-97\"/>\n     <use x=\"782.222656\" xlink:href=\"#DejaVuSans-116\"/>\n     <use x=\"821.431641\" xlink:href=\"#DejaVuSans-97\"/>\n    </g>\n   </g>\n   <g id=\"legend_1\">\n    <g id=\"patch_44\">\n     <path d=\"M 642.4625 48.035625 \nL 695.8875 48.035625 \nQ 697.8875 48.035625 697.8875 46.035625 \nL 697.8875 32.3575 \nQ 697.8875 30.3575 695.8875 30.3575 \nL 642.4625 30.3575 \nQ 640.4625 30.3575 640.4625 32.3575 \nL 640.4625 46.035625 \nQ 640.4625 48.035625 642.4625 48.035625 \nz\n\" style=\"fill:#ffffff;opacity:0.8;stroke:#cccccc;stroke-linejoin:miter;\"/>\n    </g>\n    <g id=\"patch_45\">\n     <path d=\"M 644.4625 41.955937 \nL 664.4625 41.955937 \nL 664.4625 34.955937 \nL 644.4625 34.955937 \nz\n\" style=\"fill:#1f77b4;\"/>\n    </g>\n    <g id=\"text_49\">\n     <!-- Title -->\n     <g transform=\"translate(672.4625 41.955937)scale(0.1 -0.1)\">\n      <use xlink:href=\"#DejaVuSans-84\"/>\n      <use x=\"57.958984\" xlink:href=\"#DejaVuSans-105\"/>\n      <use x=\"85.742188\" xlink:href=\"#DejaVuSans-116\"/>\n      <use x=\"124.951172\" xlink:href=\"#DejaVuSans-108\"/>\n      <use x=\"152.734375\" xlink:href=\"#DejaVuSans-101\"/>\n     </g>\n    </g>\n   </g>\n  </g>\n </g>\n <defs>\n  <clipPath id=\"pa1193bfee5\">\n   <rect height=\"271.8\" width=\"669.6\" x=\"33.2875\" y=\"25.3575\"/>\n  </clipPath>\n </defs>\n</svg>\n",
      "image/png": "[encoded data removed]"
     },
     "metadata": {
      "needs_background": "light"
     }
    }
   ],
   "source": [
    "plot_total_area= t.plot(kind=\"bar\", figsize=(12,5))\n",
    "plt.title('Mercado del Data', color=\"blue\", fontsize=16)\n",
    "plt.savefig('grafica/histograma_mercado_data.png')"
   ]
  },
  {
   "cell_type": "code",
   "execution_count": 18,
   "metadata": {},
   "outputs": [
    {
     "output_type": "display_data",
     "data": {
      "application/vnd.plotly.v1+json": {
       "config": {
        "plotlyServerURL": "https://plot.ly"
       },
       "data": [
        {
         "alignmentgroup": "True",
         "hovertemplate": "variable=Title<br>Action area=%{x}<br>value=%{y}<extra></extra>",
         "legendgroup": "Title",
         "marker": {
          "color": "#636efa"
         },
         "name": "Title",
         "offsetgroup": "Title",
         "orientation": "v",
         "showlegend": true,
         "textposition": "auto",
         "type": "bar",
         "x": [
          "ICT Enablers, Business Intelligence",
          "Vertical applications, Public Administration",
          "Vertical applications, Incubators",
          "Vertical applications, Data visualization",
          "Vertical applications, Consumer data",
          "Vertical applications, Academia",
          "Enabling Players, Financial Services",
          "Vertical applications, Utilites",
          "Analytics Platforms, Analytics",
          "Vertical applications, Other Support services",
          "Vertical applications, Information & Communications",
          "Analytics, Log analytics",
          "Vertical applications, Construction",
          "Vertical applications, Other",
          "Analytics, Data visualization",
          "Cross Infrastructures",
          "Analytics, Social Analytics",
          "Data Marketplaces",
          "Enabling Players, Incubators",
          "Data holders",
          "Enabling Players, VCs",
          "Analytics, Consumer data",
          "Vertical applications, Retail and wholesale",
          "Vertical applications, Education",
          "Vertical applications, Transport and Storage",
          "Lead users",
          "Vertical applications, Professional Services",
          "Enabling Players",
          "Vertical applications, Healthcare",
          "Vertical applications, Financial Services",
          "Enabling Players, Academia",
          "Analytics",
          "Analytics, Business Intelligence",
          "Vertical applications",
          "Enabling Players, Other Support services",
          "ICT Enablers",
          "Analytics, AI/Machine learning"
         ],
         "xaxis": "x",
         "y": [
          1,
          1,
          1,
          1,
          1,
          1,
          1,
          1,
          1,
          2,
          2,
          2,
          6,
          6,
          10,
          11,
          13,
          14,
          15,
          16,
          18,
          21,
          26,
          28,
          30,
          42,
          43,
          51,
          53,
          54,
          82,
          84,
          92,
          105,
          155,
          160,
          413
         ],
         "yaxis": "y"
        }
       ],
       "layout": {
        "barmode": "relative",
        "legend": {
         "title": {
          "text": "variable"
         },
         "tracegroupgap": 0
        },
        "template": {
         "data": {
          "bar": [
           {
            "error_x": {
             "color": "#2a3f5f"
            },
            "error_y": {
             "color": "#2a3f5f"
            },
            "marker": {
             "line": {
              "color": "#E5ECF6",
              "width": 0.5
             }
            },
            "type": "bar"
           }
          ],
          "barpolar": [
           {
            "marker": {
             "line": {
              "color": "#E5ECF6",
              "width": 0.5
             }
            },
            "type": "barpolar"
           }
          ],
          "carpet": [
           {
            "aaxis": {
             "endlinecolor": "#2a3f5f",
             "gridcolor": "white",
             "linecolor": "white",
             "minorgridcolor": "white",
             "startlinecolor": "#2a3f5f"
            },
            "baxis": {
             "endlinecolor": "#2a3f5f",
             "gridcolor": "white",
             "linecolor": "white",
             "minorgridcolor": "white",
             "startlinecolor": "#2a3f5f"
            },
            "type": "carpet"
           }
          ],
          "choropleth": [
           {
            "colorbar": {
             "outlinewidth": 0,
             "ticks": ""
            },
            "type": "choropleth"
           }
          ],
          "contour": [
           {
            "colorbar": {
             "outlinewidth": 0,
             "ticks": ""
            },
            "colorscale": [
             [
              0,
              "#0d0887"
             ],
             [
              0.1111111111111111,
              "#46039f"
             ],
             [
              0.2222222222222222,
              "#7201a8"
             ],
             [
              0.3333333333333333,
              "#9c179e"
             ],
             [
              0.4444444444444444,
              "#bd3786"
             ],
             [
              0.5555555555555556,
              "#d8576b"
             ],
             [
              0.6666666666666666,
              "#ed7953"
             ],
             [
              0.7777777777777778,
              "#fb9f3a"
             ],
             [
              0.8888888888888888,
              "#fdca26"
             ],
             [
              1,
              "#f0f921"
             ]
            ],
            "type": "contour"
           }
          ],
          "contourcarpet": [
           {
            "colorbar": {
             "outlinewidth": 0,
             "ticks": ""
            },
            "type": "contourcarpet"
           }
          ],
          "heatmap": [
           {
            "colorbar": {
             "outlinewidth": 0,
             "ticks": ""
            },
            "colorscale": [
             [
              0,
              "#0d0887"
             ],
             [
              0.1111111111111111,
              "#46039f"
             ],
             [
              0.2222222222222222,
              "#7201a8"
             ],
             [
              0.3333333333333333,
              "#9c179e"
             ],
             [
              0.4444444444444444,
              "#bd3786"
             ],
             [
              0.5555555555555556,
              "#d8576b"
             ],
             [
              0.6666666666666666,
              "#ed7953"
             ],
             [
              0.7777777777777778,
              "#fb9f3a"
             ],
             [
              0.8888888888888888,
              "#fdca26"
             ],
             [
              1,
              "#f0f921"
             ]
            ],
            "type": "heatmap"
           }
          ],
          "heatmapgl": [
           {
            "colorbar": {
             "outlinewidth": 0,
             "ticks": ""
            },
            "colorscale": [
             [
              0,
              "#0d0887"
             ],
             [
              0.1111111111111111,
              "#46039f"
             ],
             [
              0.2222222222222222,
              "#7201a8"
             ],
             [
              0.3333333333333333,
              "#9c179e"
             ],
             [
              0.4444444444444444,
              "#bd3786"
             ],
             [
              0.5555555555555556,
              "#d8576b"
             ],
             [
              0.6666666666666666,
              "#ed7953"
             ],
             [
              0.7777777777777778,
              "#fb9f3a"
             ],
             [
              0.8888888888888888,
              "#fdca26"
             ],
             [
              1,
              "#f0f921"
             ]
            ],
            "type": "heatmapgl"
           }
          ],
          "histogram": [
           {
            "marker": {
             "colorbar": {
              "outlinewidth": 0,
              "ticks": ""
             }
            },
            "type": "histogram"
           }
          ],
          "histogram2d": [
           {
            "colorbar": {
             "outlinewidth": 0,
             "ticks": ""
            },
            "colorscale": [
             [
              0,
              "#0d0887"
             ],
             [
              0.1111111111111111,
              "#46039f"
             ],
             [
              0.2222222222222222,
              "#7201a8"
             ],
             [
              0.3333333333333333,
              "#9c179e"
             ],
             [
              0.4444444444444444,
              "#bd3786"
             ],
             [
              0.5555555555555556,
              "#d8576b"
             ],
             [
              0.6666666666666666,
              "#ed7953"
             ],
             [
              0.7777777777777778,
              "#fb9f3a"
             ],
             [
              0.8888888888888888,
              "#fdca26"
             ],
             [
              1,
              "#f0f921"
             ]
            ],
            "type": "histogram2d"
           }
          ],
          "histogram2dcontour": [
           {
            "colorbar": {
             "outlinewidth": 0,
             "ticks": ""
            },
            "colorscale": [
             [
              0,
              "#0d0887"
             ],
             [
              0.1111111111111111,
              "#46039f"
             ],
             [
              0.2222222222222222,
              "#7201a8"
             ],
             [
              0.3333333333333333,
              "#9c179e"
             ],
             [
              0.4444444444444444,
              "#bd3786"
             ],
             [
              0.5555555555555556,
              "#d8576b"
             ],
             [
              0.6666666666666666,
              "#ed7953"
             ],
             [
              0.7777777777777778,
              "#fb9f3a"
             ],
             [
              0.8888888888888888,
              "#fdca26"
             ],
             [
              1,
              "#f0f921"
             ]
            ],
            "type": "histogram2dcontour"
           }
          ],
          "mesh3d": [
           {
            "colorbar": {
             "outlinewidth": 0,
             "ticks": ""
            },
            "type": "mesh3d"
           }
          ],
          "parcoords": [
           {
            "line": {
             "colorbar": {
              "outlinewidth": 0,
              "ticks": ""
             }
            },
            "type": "parcoords"
           }
          ],
          "pie": [
           {
            "automargin": true,
            "type": "pie"
           }
          ],
          "scatter": [
           {
            "marker": {
             "colorbar": {
              "outlinewidth": 0,
              "ticks": ""
             }
            },
            "type": "scatter"
           }
          ],
          "scatter3d": [
           {
            "line": {
             "colorbar": {
              "outlinewidth": 0,
              "ticks": ""
             }
            },
            "marker": {
             "colorbar": {
              "outlinewidth": 0,
              "ticks": ""
             }
            },
            "type": "scatter3d"
           }
          ],
          "scattercarpet": [
           {
            "marker": {
             "colorbar": {
              "outlinewidth": 0,
              "ticks": ""
             }
            },
            "type": "scattercarpet"
           }
          ],
          "scattergeo": [
           {
            "marker": {
             "colorbar": {
              "outlinewidth": 0,
              "ticks": ""
             }
            },
            "type": "scattergeo"
           }
          ],
          "scattergl": [
           {
            "marker": {
             "colorbar": {
              "outlinewidth": 0,
              "ticks": ""
             }
            },
            "type": "scattergl"
           }
          ],
          "scattermapbox": [
           {
            "marker": {
             "colorbar": {
              "outlinewidth": 0,
              "ticks": ""
             }
            },
            "type": "scattermapbox"
           }
          ],
          "scatterpolar": [
           {
            "marker": {
             "colorbar": {
              "outlinewidth": 0,
              "ticks": ""
             }
            },
            "type": "scatterpolar"
           }
          ],
          "scatterpolargl": [
           {
            "marker": {
             "colorbar": {
              "outlinewidth": 0,
              "ticks": ""
             }
            },
            "type": "scatterpolargl"
           }
          ],
          "scatterternary": [
           {
            "marker": {
             "colorbar": {
              "outlinewidth": 0,
              "ticks": ""
             }
            },
            "type": "scatterternary"
           }
          ],
          "surface": [
           {
            "colorbar": {
             "outlinewidth": 0,
             "ticks": ""
            },
            "colorscale": [
             [
              0,
              "#0d0887"
             ],
             [
              0.1111111111111111,
              "#46039f"
             ],
             [
              0.2222222222222222,
              "#7201a8"
             ],
             [
              0.3333333333333333,
              "#9c179e"
             ],
             [
              0.4444444444444444,
              "#bd3786"
             ],
             [
              0.5555555555555556,
              "#d8576b"
             ],
             [
              0.6666666666666666,
              "#ed7953"
             ],
             [
              0.7777777777777778,
              "#fb9f3a"
             ],
             [
              0.8888888888888888,
              "#fdca26"
             ],
             [
              1,
              "#f0f921"
             ]
            ],
            "type": "surface"
           }
          ],
          "table": [
           {
            "cells": {
             "fill": {
              "color": "#EBF0F8"
             },
             "line": {
              "color": "white"
             }
            },
            "header": {
             "fill": {
              "color": "#C8D4E3"
             },
             "line": {
              "color": "white"
             }
            },
            "type": "table"
           }
          ]
         },
         "layout": {
          "annotationdefaults": {
           "arrowcolor": "#2a3f5f",
           "arrowhead": 0,
           "arrowwidth": 1
          },
          "coloraxis": {
           "colorbar": {
            "outlinewidth": 0,
            "ticks": ""
           }
          },
          "colorscale": {
           "diverging": [
            [
             0,
             "#8e0152"
            ],
            [
             0.1,
             "#c51b7d"
            ],
            [
             0.2,
             "#de77ae"
            ],
            [
             0.3,
             "#f1b6da"
            ],
            [
             0.4,
             "#fde0ef"
            ],
            [
             0.5,
             "#f7f7f7"
            ],
            [
             0.6,
             "#e6f5d0"
            ],
            [
             0.7,
             "#b8e186"
            ],
            [
             0.8,
             "#7fbc41"
            ],
            [
             0.9,
             "#4d9221"
            ],
            [
             1,
             "#276419"
            ]
           ],
           "sequential": [
            [
             0,
             "#0d0887"
            ],
            [
             0.1111111111111111,
             "#46039f"
            ],
            [
             0.2222222222222222,
             "#7201a8"
            ],
            [
             0.3333333333333333,
             "#9c179e"
            ],
            [
             0.4444444444444444,
             "#bd3786"
            ],
            [
             0.5555555555555556,
             "#d8576b"
            ],
            [
             0.6666666666666666,
             "#ed7953"
            ],
            [
             0.7777777777777778,
             "#fb9f3a"
            ],
            [
             0.8888888888888888,
             "#fdca26"
            ],
            [
             1,
             "#f0f921"
            ]
           ],
           "sequentialminus": [
            [
             0,
             "#0d0887"
            ],
            [
             0.1111111111111111,
             "#46039f"
            ],
            [
             0.2222222222222222,
             "#7201a8"
            ],
            [
             0.3333333333333333,
             "#9c179e"
            ],
            [
             0.4444444444444444,
             "#bd3786"
            ],
            [
             0.5555555555555556,
             "#d8576b"
            ],
            [
             0.6666666666666666,
             "#ed7953"
            ],
            [
             0.7777777777777778,
             "#fb9f3a"
            ],
            [
             0.8888888888888888,
             "#fdca26"
            ],
            [
             1,
             "#f0f921"
            ]
           ]
          },
          "colorway": [
           "#636efa",
           "#EF553B",
           "#00cc96",
           "#ab63fa",
           "#FFA15A",
           "#19d3f3",
           "#FF6692",
           "#B6E880",
           "#FF97FF",
           "#FECB52"
          ],
          "font": {
           "color": "#2a3f5f"
          },
          "geo": {
           "bgcolor": "white",
           "lakecolor": "white",
           "landcolor": "#E5ECF6",
           "showlakes": true,
           "showland": true,
           "subunitcolor": "white"
          },
          "hoverlabel": {
           "align": "left"
          },
          "hovermode": "closest",
          "mapbox": {
           "style": "light"
          },
          "paper_bgcolor": "white",
          "plot_bgcolor": "#E5ECF6",
          "polar": {
           "angularaxis": {
            "gridcolor": "white",
            "linecolor": "white",
            "ticks": ""
           },
           "bgcolor": "#E5ECF6",
           "radialaxis": {
            "gridcolor": "white",
            "linecolor": "white",
            "ticks": ""
           }
          },
          "scene": {
           "xaxis": {
            "backgroundcolor": "#E5ECF6",
            "gridcolor": "white",
            "gridwidth": 2,
            "linecolor": "white",
            "showbackground": true,
            "ticks": "",
            "zerolinecolor": "white"
           },
           "yaxis": {
            "backgroundcolor": "#E5ECF6",
            "gridcolor": "white",
            "gridwidth": 2,
            "linecolor": "white",
            "showbackground": true,
            "ticks": "",
            "zerolinecolor": "white"
           },
           "zaxis": {
            "backgroundcolor": "#E5ECF6",
            "gridcolor": "white",
            "gridwidth": 2,
            "linecolor": "white",
            "showbackground": true,
            "ticks": "",
            "zerolinecolor": "white"
           }
          },
          "shapedefaults": {
           "line": {
            "color": "#2a3f5f"
           }
          },
          "ternary": {
           "aaxis": {
            "gridcolor": "white",
            "linecolor": "white",
            "ticks": ""
           },
           "baxis": {
            "gridcolor": "white",
            "linecolor": "white",
            "ticks": ""
           },
           "bgcolor": "#E5ECF6",
           "caxis": {
            "gridcolor": "white",
            "linecolor": "white",
            "ticks": ""
           }
          },
          "title": {
           "x": 0.05
          },
          "xaxis": {
           "automargin": true,
           "gridcolor": "white",
           "linecolor": "white",
           "ticks": "",
           "title": {
            "standoff": 15
           },
           "zerolinecolor": "white",
           "zerolinewidth": 2
          },
          "yaxis": {
           "automargin": true,
           "gridcolor": "white",
           "linecolor": "white",
           "ticks": "",
           "title": {
            "standoff": 15
           },
           "zerolinecolor": "white",
           "zerolinewidth": 2
          }
         }
        },
        "title": {
         "text": "Concentración del mercado del dato, entre 1563 empresas"
        },
        "xaxis": {
         "anchor": "y",
         "domain": [
          0,
          1
         ],
         "title": {
          "text": "Action area"
         }
        },
        "yaxis": {
         "anchor": "x",
         "domain": [
          0,
          1
         ],
         "title": {
          "text": "value"
         }
        }
       }
      }
     },
     "metadata": {}
    },
    {
     "output_type": "display_data",
     "data": {
      "text/plain": "<Figure size 432x288 with 0 Axes>"
     },
     "metadata": {}
    }
   ],
   "source": [
    "#Grágica de barras ordenada ordanada por cantidad en área\n",
    "plot_bar = px.bar(t_orden, title= \"Concentración del mercado del dato, entre 1563 empresas\")\n",
    "plot_bar.show()\n",
    "plt.savefig('grafica/mercado_data_ordenado.png')"
   ]
  },
  {
   "cell_type": "code",
   "execution_count": 20,
   "metadata": {},
   "outputs": [
    {
     "output_type": "execute_result",
     "data": {
      "text/plain": [
       "Index(['Analytics', 'Analytics Platforms, Analytics',\n",
       "       'Analytics, AI/Machine learning', 'Analytics, Business Intelligence',\n",
       "       'Analytics, Consumer data', 'Analytics, Data visualization',\n",
       "       'Analytics, Log analytics', 'Analytics, Social Analytics',\n",
       "       'Cross Infrastructures', 'Data Marketplaces', 'Data holders',\n",
       "       'Enabling Players', 'Enabling Players, Academia',\n",
       "       'Enabling Players, Financial Services', 'Enabling Players, Incubators',\n",
       "       'Enabling Players, Other Support services', 'Enabling Players, VCs',\n",
       "       'ICT Enablers', 'ICT Enablers, Business Intelligence', 'Lead users',\n",
       "       'Vertical applications', 'Vertical applications, Academia',\n",
       "       'Vertical applications, Construction',\n",
       "       'Vertical applications, Consumer data',\n",
       "       'Vertical applications, Data visualization',\n",
       "       'Vertical applications, Education',\n",
       "       'Vertical applications, Financial Services',\n",
       "       'Vertical applications, Healthcare',\n",
       "       'Vertical applications, Incubators',\n",
       "       'Vertical applications, Information & Communications',\n",
       "       'Vertical applications, Other',\n",
       "       'Vertical applications, Other Support services',\n",
       "       'Vertical applications, Professional Services',\n",
       "       'Vertical applications, Public Administration',\n",
       "       'Vertical applications, Retail and wholesale',\n",
       "       'Vertical applications, Transport and Storage',\n",
       "       'Vertical applications, Utilites'],\n",
       "      dtype='object', name='Action area')"
      ]
     },
     "metadata": {},
     "execution_count": 20
    }
   ],
   "source": [
    "t.index"
   ]
  },
  {
   "cell_type": "code",
   "execution_count": 20,
   "metadata": {},
   "outputs": [
    {
     "output_type": "display_data",
     "data": {
      "application/vnd.plotly.v1+json": {
       "config": {
        "plotlyServerURL": "https://plot.ly"
       },
       "data": [
        {
         "branchvalues": "total",
         "domain": {
          "x": [
           0,
           1
          ],
          "y": [
           0,
           1
          ]
         },
         "hovertemplate": "labels=%{label}<br>Title=%{value}<br>parent=%{parent}<br>id=%{id}<extra></extra>",
         "ids": [
          "Analytics Platforms, Analytics/1",
          "Enabling Players, Financial Services/1",
          "ICT Enablers, Business Intelligence/1",
          "Vertical applications, Academia/1",
          "Vertical applications, Consumer data/1",
          "Vertical applications, Data visualization/1",
          "Vertical applications, Incubators/1",
          "Vertical applications, Public Administration/1",
          "Vertical applications, Utilites/1",
          "Analytics, Log analytics/2",
          "Vertical applications, Information & Communications/2",
          "Vertical applications, Other Support services/2",
          "Vertical applications, Construction/6",
          "Vertical applications, Other/6",
          "Analytics, Data visualization/10",
          "Cross Infrastructures/11",
          "Analytics, Social Analytics/13",
          "Data Marketplaces/14",
          "Enabling Players, Incubators/15",
          "Data holders/16",
          "Enabling Players, VCs/18",
          "Analytics, Consumer data/21",
          "Vertical applications, Retail and wholesale/26",
          "Vertical applications, Education/28",
          "Vertical applications, Transport and Storage/30",
          "Lead users/42",
          "Vertical applications, Professional Services/43",
          "Enabling Players/51",
          "Vertical applications, Healthcare/53",
          "Vertical applications, Financial Services/54",
          "Enabling Players, Academia/82",
          "Analytics/84",
          "Analytics, Business Intelligence/92",
          "Vertical applications/105",
          "Enabling Players, Other Support services/155",
          "ICT Enablers/160",
          "Analytics, AI/Machine learning/413",
          "Analytics",
          "Analytics Platforms, Analytics",
          "Analytics, AI/Machine learning",
          "Analytics, Business Intelligence",
          "Analytics, Consumer data",
          "Analytics, Data visualization",
          "Analytics, Log analytics",
          "Analytics, Social Analytics",
          "Cross Infrastructures",
          "Data Marketplaces",
          "Data holders",
          "Enabling Players",
          "Enabling Players, Academia",
          "Enabling Players, Financial Services",
          "Enabling Players, Incubators",
          "Enabling Players, Other Support services",
          "Enabling Players, VCs",
          "ICT Enablers",
          "ICT Enablers, Business Intelligence",
          "Lead users",
          "Vertical applications",
          "Vertical applications, Academia",
          "Vertical applications, Construction",
          "Vertical applications, Consumer data",
          "Vertical applications, Data visualization",
          "Vertical applications, Education",
          "Vertical applications, Financial Services",
          "Vertical applications, Healthcare",
          "Vertical applications, Incubators",
          "Vertical applications, Information & Communications",
          "Vertical applications, Other",
          "Vertical applications, Other Support services",
          "Vertical applications, Professional Services",
          "Vertical applications, Public Administration",
          "Vertical applications, Retail and wholesale",
          "Vertical applications, Transport and Storage",
          "Vertical applications, Utilites"
         ],
         "labels": [
          "1",
          "1",
          "1",
          "1",
          "1",
          "1",
          "1",
          "1",
          "1",
          "2",
          "2",
          "2",
          "6",
          "6",
          "10",
          "11",
          "13",
          "14",
          "15",
          "16",
          "18",
          "21",
          "26",
          "28",
          "30",
          "42",
          "43",
          "51",
          "53",
          "54",
          "82",
          "84",
          "92",
          "105",
          "155",
          "160",
          "413",
          "Analytics",
          "Analytics Platforms, Analytics",
          "Analytics, AI/Machine learning",
          "Analytics, Business Intelligence",
          "Analytics, Consumer data",
          "Analytics, Data visualization",
          "Analytics, Log analytics",
          "Analytics, Social Analytics",
          "Cross Infrastructures",
          "Data Marketplaces",
          "Data holders",
          "Enabling Players",
          "Enabling Players, Academia",
          "Enabling Players, Financial Services",
          "Enabling Players, Incubators",
          "Enabling Players, Other Support services",
          "Enabling Players, VCs",
          "ICT Enablers",
          "ICT Enablers, Business Intelligence",
          "Lead users",
          "Vertical applications",
          "Vertical applications, Academia",
          "Vertical applications, Construction",
          "Vertical applications, Consumer data",
          "Vertical applications, Data visualization",
          "Vertical applications, Education",
          "Vertical applications, Financial Services",
          "Vertical applications, Healthcare",
          "Vertical applications, Incubators",
          "Vertical applications, Information & Communications",
          "Vertical applications, Other",
          "Vertical applications, Other Support services",
          "Vertical applications, Professional Services",
          "Vertical applications, Public Administration",
          "Vertical applications, Retail and wholesale",
          "Vertical applications, Transport and Storage",
          "Vertical applications, Utilites"
         ],
         "name": "",
         "parents": [
          "Analytics Platforms, Analytics",
          "Enabling Players, Financial Services",
          "ICT Enablers, Business Intelligence",
          "Vertical applications, Academia",
          "Vertical applications, Consumer data",
          "Vertical applications, Data visualization",
          "Vertical applications, Incubators",
          "Vertical applications, Public Administration",
          "Vertical applications, Utilites",
          "Analytics, Log analytics",
          "Vertical applications, Information & Communications",
          "Vertical applications, Other Support services",
          "Vertical applications, Construction",
          "Vertical applications, Other",
          "Analytics, Data visualization",
          "Cross Infrastructures",
          "Analytics, Social Analytics",
          "Data Marketplaces",
          "Enabling Players, Incubators",
          "Data holders",
          "Enabling Players, VCs",
          "Analytics, Consumer data",
          "Vertical applications, Retail and wholesale",
          "Vertical applications, Education",
          "Vertical applications, Transport and Storage",
          "Lead users",
          "Vertical applications, Professional Services",
          "Enabling Players",
          "Vertical applications, Healthcare",
          "Vertical applications, Financial Services",
          "Enabling Players, Academia",
          "Analytics",
          "Analytics, Business Intelligence",
          "Vertical applications",
          "Enabling Players, Other Support services",
          "ICT Enablers",
          "Analytics, AI/Machine learning",
          "",
          "",
          "",
          "",
          "",
          "",
          "",
          "",
          "",
          "",
          "",
          "",
          "",
          "",
          "",
          "",
          "",
          "",
          "",
          "",
          "",
          "",
          "",
          "",
          "",
          "",
          "",
          "",
          "",
          "",
          "",
          "",
          "",
          "",
          "",
          "",
          ""
         ],
         "type": "treemap",
         "values": [
          1,
          1,
          1,
          1,
          1,
          1,
          1,
          1,
          1,
          2,
          2,
          2,
          6,
          6,
          10,
          11,
          13,
          14,
          15,
          16,
          18,
          21,
          26,
          28,
          30,
          42,
          43,
          51,
          53,
          54,
          82,
          84,
          92,
          105,
          155,
          160,
          413,
          84,
          1,
          413,
          92,
          21,
          10,
          2,
          13,
          11,
          14,
          16,
          51,
          82,
          1,
          15,
          155,
          18,
          160,
          1,
          42,
          105,
          1,
          6,
          1,
          1,
          28,
          54,
          53,
          1,
          2,
          6,
          2,
          43,
          1,
          26,
          30,
          1
         ]
        }
       ],
       "layout": {
        "legend": {
         "tracegroupgap": 0
        },
        "template": {
         "data": {
          "bar": [
           {
            "error_x": {
             "color": "#2a3f5f"
            },
            "error_y": {
             "color": "#2a3f5f"
            },
            "marker": {
             "line": {
              "color": "#E5ECF6",
              "width": 0.5
             }
            },
            "type": "bar"
           }
          ],
          "barpolar": [
           {
            "marker": {
             "line": {
              "color": "#E5ECF6",
              "width": 0.5
             }
            },
            "type": "barpolar"
           }
          ],
          "carpet": [
           {
            "aaxis": {
             "endlinecolor": "#2a3f5f",
             "gridcolor": "white",
             "linecolor": "white",
             "minorgridcolor": "white",
             "startlinecolor": "#2a3f5f"
            },
            "baxis": {
             "endlinecolor": "#2a3f5f",
             "gridcolor": "white",
             "linecolor": "white",
             "minorgridcolor": "white",
             "startlinecolor": "#2a3f5f"
            },
            "type": "carpet"
           }
          ],
          "choropleth": [
           {
            "colorbar": {
             "outlinewidth": 0,
             "ticks": ""
            },
            "type": "choropleth"
           }
          ],
          "contour": [
           {
            "colorbar": {
             "outlinewidth": 0,
             "ticks": ""
            },
            "colorscale": [
             [
              0,
              "#0d0887"
             ],
             [
              0.1111111111111111,
              "#46039f"
             ],
             [
              0.2222222222222222,
              "#7201a8"
             ],
             [
              0.3333333333333333,
              "#9c179e"
             ],
             [
              0.4444444444444444,
              "#bd3786"
             ],
             [
              0.5555555555555556,
              "#d8576b"
             ],
             [
              0.6666666666666666,
              "#ed7953"
             ],
             [
              0.7777777777777778,
              "#fb9f3a"
             ],
             [
              0.8888888888888888,
              "#fdca26"
             ],
             [
              1,
              "#f0f921"
             ]
            ],
            "type": "contour"
           }
          ],
          "contourcarpet": [
           {
            "colorbar": {
             "outlinewidth": 0,
             "ticks": ""
            },
            "type": "contourcarpet"
           }
          ],
          "heatmap": [
           {
            "colorbar": {
             "outlinewidth": 0,
             "ticks": ""
            },
            "colorscale": [
             [
              0,
              "#0d0887"
             ],
             [
              0.1111111111111111,
              "#46039f"
             ],
             [
              0.2222222222222222,
              "#7201a8"
             ],
             [
              0.3333333333333333,
              "#9c179e"
             ],
             [
              0.4444444444444444,
              "#bd3786"
             ],
             [
              0.5555555555555556,
              "#d8576b"
             ],
             [
              0.6666666666666666,
              "#ed7953"
             ],
             [
              0.7777777777777778,
              "#fb9f3a"
             ],
             [
              0.8888888888888888,
              "#fdca26"
             ],
             [
              1,
              "#f0f921"
             ]
            ],
            "type": "heatmap"
           }
          ],
          "heatmapgl": [
           {
            "colorbar": {
             "outlinewidth": 0,
             "ticks": ""
            },
            "colorscale": [
             [
              0,
              "#0d0887"
             ],
             [
              0.1111111111111111,
              "#46039f"
             ],
             [
              0.2222222222222222,
              "#7201a8"
             ],
             [
              0.3333333333333333,
              "#9c179e"
             ],
             [
              0.4444444444444444,
              "#bd3786"
             ],
             [
              0.5555555555555556,
              "#d8576b"
             ],
             [
              0.6666666666666666,
              "#ed7953"
             ],
             [
              0.7777777777777778,
              "#fb9f3a"
             ],
             [
              0.8888888888888888,
              "#fdca26"
             ],
             [
              1,
              "#f0f921"
             ]
            ],
            "type": "heatmapgl"
           }
          ],
          "histogram": [
           {
            "marker": {
             "colorbar": {
              "outlinewidth": 0,
              "ticks": ""
             }
            },
            "type": "histogram"
           }
          ],
          "histogram2d": [
           {
            "colorbar": {
             "outlinewidth": 0,
             "ticks": ""
            },
            "colorscale": [
             [
              0,
              "#0d0887"
             ],
             [
              0.1111111111111111,
              "#46039f"
             ],
             [
              0.2222222222222222,
              "#7201a8"
             ],
             [
              0.3333333333333333,
              "#9c179e"
             ],
             [
              0.4444444444444444,
              "#bd3786"
             ],
             [
              0.5555555555555556,
              "#d8576b"
             ],
             [
              0.6666666666666666,
              "#ed7953"
             ],
             [
              0.7777777777777778,
              "#fb9f3a"
             ],
             [
              0.8888888888888888,
              "#fdca26"
             ],
             [
              1,
              "#f0f921"
             ]
            ],
            "type": "histogram2d"
           }
          ],
          "histogram2dcontour": [
           {
            "colorbar": {
             "outlinewidth": 0,
             "ticks": ""
            },
            "colorscale": [
             [
              0,
              "#0d0887"
             ],
             [
              0.1111111111111111,
              "#46039f"
             ],
             [
              0.2222222222222222,
              "#7201a8"
             ],
             [
              0.3333333333333333,
              "#9c179e"
             ],
             [
              0.4444444444444444,
              "#bd3786"
             ],
             [
              0.5555555555555556,
              "#d8576b"
             ],
             [
              0.6666666666666666,
              "#ed7953"
             ],
             [
              0.7777777777777778,
              "#fb9f3a"
             ],
             [
              0.8888888888888888,
              "#fdca26"
             ],
             [
              1,
              "#f0f921"
             ]
            ],
            "type": "histogram2dcontour"
           }
          ],
          "mesh3d": [
           {
            "colorbar": {
             "outlinewidth": 0,
             "ticks": ""
            },
            "type": "mesh3d"
           }
          ],
          "parcoords": [
           {
            "line": {
             "colorbar": {
              "outlinewidth": 0,
              "ticks": ""
             }
            },
            "type": "parcoords"
           }
          ],
          "pie": [
           {
            "automargin": true,
            "type": "pie"
           }
          ],
          "scatter": [
           {
            "marker": {
             "colorbar": {
              "outlinewidth": 0,
              "ticks": ""
             }
            },
            "type": "scatter"
           }
          ],
          "scatter3d": [
           {
            "line": {
             "colorbar": {
              "outlinewidth": 0,
              "ticks": ""
             }
            },
            "marker": {
             "colorbar": {
              "outlinewidth": 0,
              "ticks": ""
             }
            },
            "type": "scatter3d"
           }
          ],
          "scattercarpet": [
           {
            "marker": {
             "colorbar": {
              "outlinewidth": 0,
              "ticks": ""
             }
            },
            "type": "scattercarpet"
           }
          ],
          "scattergeo": [
           {
            "marker": {
             "colorbar": {
              "outlinewidth": 0,
              "ticks": ""
             }
            },
            "type": "scattergeo"
           }
          ],
          "scattergl": [
           {
            "marker": {
             "colorbar": {
              "outlinewidth": 0,
              "ticks": ""
             }
            },
            "type": "scattergl"
           }
          ],
          "scattermapbox": [
           {
            "marker": {
             "colorbar": {
              "outlinewidth": 0,
              "ticks": ""
             }
            },
            "type": "scattermapbox"
           }
          ],
          "scatterpolar": [
           {
            "marker": {
             "colorbar": {
              "outlinewidth": 0,
              "ticks": ""
             }
            },
            "type": "scatterpolar"
           }
          ],
          "scatterpolargl": [
           {
            "marker": {
             "colorbar": {
              "outlinewidth": 0,
              "ticks": ""
             }
            },
            "type": "scatterpolargl"
           }
          ],
          "scatterternary": [
           {
            "marker": {
             "colorbar": {
              "outlinewidth": 0,
              "ticks": ""
             }
            },
            "type": "scatterternary"
           }
          ],
          "surface": [
           {
            "colorbar": {
             "outlinewidth": 0,
             "ticks": ""
            },
            "colorscale": [
             [
              0,
              "#0d0887"
             ],
             [
              0.1111111111111111,
              "#46039f"
             ],
             [
              0.2222222222222222,
              "#7201a8"
             ],
             [
              0.3333333333333333,
              "#9c179e"
             ],
             [
              0.4444444444444444,
              "#bd3786"
             ],
             [
              0.5555555555555556,
              "#d8576b"
             ],
             [
              0.6666666666666666,
              "#ed7953"
             ],
             [
              0.7777777777777778,
              "#fb9f3a"
             ],
             [
              0.8888888888888888,
              "#fdca26"
             ],
             [
              1,
              "#f0f921"
             ]
            ],
            "type": "surface"
           }
          ],
          "table": [
           {
            "cells": {
             "fill": {
              "color": "#EBF0F8"
             },
             "line": {
              "color": "white"
             }
            },
            "header": {
             "fill": {
              "color": "#C8D4E3"
             },
             "line": {
              "color": "white"
             }
            },
            "type": "table"
           }
          ]
         },
         "layout": {
          "annotationdefaults": {
           "arrowcolor": "#2a3f5f",
           "arrowhead": 0,
           "arrowwidth": 1
          },
          "coloraxis": {
           "colorbar": {
            "outlinewidth": 0,
            "ticks": ""
           }
          },
          "colorscale": {
           "diverging": [
            [
             0,
             "#8e0152"
            ],
            [
             0.1,
             "#c51b7d"
            ],
            [
             0.2,
             "#de77ae"
            ],
            [
             0.3,
             "#f1b6da"
            ],
            [
             0.4,
             "#fde0ef"
            ],
            [
             0.5,
             "#f7f7f7"
            ],
            [
             0.6,
             "#e6f5d0"
            ],
            [
             0.7,
             "#b8e186"
            ],
            [
             0.8,
             "#7fbc41"
            ],
            [
             0.9,
             "#4d9221"
            ],
            [
             1,
             "#276419"
            ]
           ],
           "sequential": [
            [
             0,
             "#0d0887"
            ],
            [
             0.1111111111111111,
             "#46039f"
            ],
            [
             0.2222222222222222,
             "#7201a8"
            ],
            [
             0.3333333333333333,
             "#9c179e"
            ],
            [
             0.4444444444444444,
             "#bd3786"
            ],
            [
             0.5555555555555556,
             "#d8576b"
            ],
            [
             0.6666666666666666,
             "#ed7953"
            ],
            [
             0.7777777777777778,
             "#fb9f3a"
            ],
            [
             0.8888888888888888,
             "#fdca26"
            ],
            [
             1,
             "#f0f921"
            ]
           ],
           "sequentialminus": [
            [
             0,
             "#0d0887"
            ],
            [
             0.1111111111111111,
             "#46039f"
            ],
            [
             0.2222222222222222,
             "#7201a8"
            ],
            [
             0.3333333333333333,
             "#9c179e"
            ],
            [
             0.4444444444444444,
             "#bd3786"
            ],
            [
             0.5555555555555556,
             "#d8576b"
            ],
            [
             0.6666666666666666,
             "#ed7953"
            ],
            [
             0.7777777777777778,
             "#fb9f3a"
            ],
            [
             0.8888888888888888,
             "#fdca26"
            ],
            [
             1,
             "#f0f921"
            ]
           ]
          },
          "colorway": [
           "#636efa",
           "#EF553B",
           "#00cc96",
           "#ab63fa",
           "#FFA15A",
           "#19d3f3",
           "#FF6692",
           "#B6E880",
           "#FF97FF",
           "#FECB52"
          ],
          "font": {
           "color": "#2a3f5f"
          },
          "geo": {
           "bgcolor": "white",
           "lakecolor": "white",
           "landcolor": "#E5ECF6",
           "showlakes": true,
           "showland": true,
           "subunitcolor": "white"
          },
          "hoverlabel": {
           "align": "left"
          },
          "hovermode": "closest",
          "mapbox": {
           "style": "light"
          },
          "paper_bgcolor": "white",
          "plot_bgcolor": "#E5ECF6",
          "polar": {
           "angularaxis": {
            "gridcolor": "white",
            "linecolor": "white",
            "ticks": ""
           },
           "bgcolor": "#E5ECF6",
           "radialaxis": {
            "gridcolor": "white",
            "linecolor": "white",
            "ticks": ""
           }
          },
          "scene": {
           "xaxis": {
            "backgroundcolor": "#E5ECF6",
            "gridcolor": "white",
            "gridwidth": 2,
            "linecolor": "white",
            "showbackground": true,
            "ticks": "",
            "zerolinecolor": "white"
           },
           "yaxis": {
            "backgroundcolor": "#E5ECF6",
            "gridcolor": "white",
            "gridwidth": 2,
            "linecolor": "white",
            "showbackground": true,
            "ticks": "",
            "zerolinecolor": "white"
           },
           "zaxis": {
            "backgroundcolor": "#E5ECF6",
            "gridcolor": "white",
            "gridwidth": 2,
            "linecolor": "white",
            "showbackground": true,
            "ticks": "",
            "zerolinecolor": "white"
           }
          },
          "shapedefaults": {
           "line": {
            "color": "#2a3f5f"
           }
          },
          "ternary": {
           "aaxis": {
            "gridcolor": "white",
            "linecolor": "white",
            "ticks": ""
           },
           "baxis": {
            "gridcolor": "white",
            "linecolor": "white",
            "ticks": ""
           },
           "bgcolor": "#E5ECF6",
           "caxis": {
            "gridcolor": "white",
            "linecolor": "white",
            "ticks": ""
           }
          },
          "title": {
           "x": 0.05
          },
          "xaxis": {
           "automargin": true,
           "gridcolor": "white",
           "linecolor": "white",
           "ticks": "",
           "title": {
            "standoff": 15
           },
           "zerolinecolor": "white",
           "zerolinewidth": 2
          },
          "yaxis": {
           "automargin": true,
           "gridcolor": "white",
           "linecolor": "white",
           "ticks": "",
           "title": {
            "standoff": 15
           },
           "zerolinecolor": "white",
           "zerolinewidth": 2
          }
         }
        },
        "title": {
         "text": "Concentración de mercado, treemap"
        }
       }
      }
     },
     "metadata": {}
    }
   ],
   "source": [
    "#, values='Title', color='Title'\n",
    "total_area\n",
    "fig_t= px.treemap(total_area, path=['Action area', 'Title'],values='Title',title= \"Concentración de mercado, treemap\" )\n",
    "fig_t.show()\n",
    "fig_t.write_html(\"grafica/treemap_data.html\")"
   ]
  },
  {
   "cell_type": "code",
   "execution_count": 21,
   "metadata": {},
   "outputs": [
    {
     "output_type": "stream",
     "name": "stdout",
     "text": [
      "<class 'pandas.core.frame.DataFrame'>\nRangeIndex: 37 entries, 0 to 36\nData columns (total 2 columns):\n #   Column       Non-Null Count  Dtype \n---  ------       --------------  ----- \n 0   Action area  37 non-null     object\n 1   Title        37 non-null     int64 \ndtypes: int64(1), object(1)\nmemory usage: 720.0+ bytes\n"
     ]
    }
   ],
   "source": [
    "total_area.info()"
   ]
  },
  {
   "cell_type": "code",
   "execution_count": 22,
   "metadata": {},
   "outputs": [
    {
     "output_type": "execute_result",
     "data": {
      "text/plain": [
       "Index(['Title', 'Last update', 'Geolocation', 'Action area', 'website',\n",
       "       'Post date'],\n",
       "      dtype='object')"
      ]
     },
     "metadata": {},
     "execution_count": 22
    }
   ],
   "source": [
    "df.columns"
   ]
  },
  {
   "cell_type": "code",
   "execution_count": 23,
   "metadata": {},
   "outputs": [
    {
     "output_type": "stream",
     "name": "stdout",
     "text": [
      "<class 'pandas.core.frame.DataFrame'>\nRangeIndex: 37 entries, 0 to 36\nData columns (total 2 columns):\n #   Column       Non-Null Count  Dtype \n---  ------       --------------  ----- \n 0   Action_area  37 non-null     object\n 1   Geolocation  37 non-null     int64 \ndtypes: int64(1), object(1)\nmemory usage: 720.0+ bytes\n"
     ]
    }
   ],
   "source": [
    "summary = df.groupby('Action area')['Geolocation'].nunique()\n",
    "df_f = pd.DataFrame({'Action_area':summary.index, 'Geolocation':summary.values})\n",
    "df_f.info()"
   ]
  },
  {
   "cell_type": "code",
   "execution_count": 24,
   "metadata": {},
   "outputs": [
    {
     "output_type": "execute_result",
     "data": {
      "text/plain": [
       "                      Action_area  Geolocation\n",
       "0                       Analytics           59\n",
       "1  Analytics Platforms, Analytics            1\n",
       "2  Analytics, AI/Machine learning           96"
      ],
      "text/html": "<div>\n<style scoped>\n    .dataframe tbody tr th:only-of-type {\n        vertical-align: middle;\n    }\n\n    .dataframe tbody tr th {\n        vertical-align: top;\n    }\n\n    .dataframe thead th {\n        text-align: right;\n    }\n</style>\n<table border=\"1\" class=\"dataframe\">\n  <thead>\n    <tr style=\"text-align: right;\">\n      <th></th>\n      <th>Action_area</th>\n      <th>Geolocation</th>\n    </tr>\n  </thead>\n  <tbody>\n    <tr>\n      <th>0</th>\n      <td>Analytics</td>\n      <td>59</td>\n    </tr>\n    <tr>\n      <th>1</th>\n      <td>Analytics Platforms, Analytics</td>\n      <td>1</td>\n    </tr>\n    <tr>\n      <th>2</th>\n      <td>Analytics, AI/Machine learning</td>\n      <td>96</td>\n    </tr>\n  </tbody>\n</table>\n</div>"
     },
     "metadata": {},
     "execution_count": 24
    }
   ],
   "source": [
    "df_f.head(3)"
   ]
  },
  {
   "cell_type": "code",
   "execution_count": 25,
   "metadata": {},
   "outputs": [
    {
     "output_type": "execute_result",
     "data": {
      "text/plain": [
       "                      Action area  Title\n",
       "0                       Analytics     84\n",
       "1  Analytics Platforms, Analytics      1\n",
       "2  Analytics, AI/Machine learning    413"
      ],
      "text/html": "<div>\n<style scoped>\n    .dataframe tbody tr th:only-of-type {\n        vertical-align: middle;\n    }\n\n    .dataframe tbody tr th {\n        vertical-align: top;\n    }\n\n    .dataframe thead th {\n        text-align: right;\n    }\n</style>\n<table border=\"1\" class=\"dataframe\">\n  <thead>\n    <tr style=\"text-align: right;\">\n      <th></th>\n      <th>Action area</th>\n      <th>Title</th>\n    </tr>\n  </thead>\n  <tbody>\n    <tr>\n      <th>0</th>\n      <td>Analytics</td>\n      <td>84</td>\n    </tr>\n    <tr>\n      <th>1</th>\n      <td>Analytics Platforms, Analytics</td>\n      <td>1</td>\n    </tr>\n    <tr>\n      <th>2</th>\n      <td>Analytics, AI/Machine learning</td>\n      <td>413</td>\n    </tr>\n  </tbody>\n</table>\n</div>"
     },
     "metadata": {},
     "execution_count": 25
    }
   ],
   "source": [
    "total_area.head(3)"
   ]
  },
  {
   "cell_type": "code",
   "execution_count": 26,
   "metadata": {},
   "outputs": [
    {
     "output_type": "execute_result",
     "data": {
      "text/plain": [
       "                        Action_area  Geolocation  \\\n",
       "0                         Analytics           59   \n",
       "1    Analytics Platforms, Analytics            1   \n",
       "2    Analytics, AI/Machine learning           96   \n",
       "3  Analytics, Business Intelligence           52   \n",
       "4          Analytics, Consumer data           14   \n",
       "\n",
       "                        Action area  Title  \n",
       "0                         Analytics     84  \n",
       "1    Analytics Platforms, Analytics      1  \n",
       "2    Analytics, AI/Machine learning    413  \n",
       "3  Analytics, Business Intelligence     92  \n",
       "4          Analytics, Consumer data     21  "
      ],
      "text/html": "<div>\n<style scoped>\n    .dataframe tbody tr th:only-of-type {\n        vertical-align: middle;\n    }\n\n    .dataframe tbody tr th {\n        vertical-align: top;\n    }\n\n    .dataframe thead th {\n        text-align: right;\n    }\n</style>\n<table border=\"1\" class=\"dataframe\">\n  <thead>\n    <tr style=\"text-align: right;\">\n      <th></th>\n      <th>Action_area</th>\n      <th>Geolocation</th>\n      <th>Action area</th>\n      <th>Title</th>\n    </tr>\n  </thead>\n  <tbody>\n    <tr>\n      <th>0</th>\n      <td>Analytics</td>\n      <td>59</td>\n      <td>Analytics</td>\n      <td>84</td>\n    </tr>\n    <tr>\n      <th>1</th>\n      <td>Analytics Platforms, Analytics</td>\n      <td>1</td>\n      <td>Analytics Platforms, Analytics</td>\n      <td>1</td>\n    </tr>\n    <tr>\n      <th>2</th>\n      <td>Analytics, AI/Machine learning</td>\n      <td>96</td>\n      <td>Analytics, AI/Machine learning</td>\n      <td>413</td>\n    </tr>\n    <tr>\n      <th>3</th>\n      <td>Analytics, Business Intelligence</td>\n      <td>52</td>\n      <td>Analytics, Business Intelligence</td>\n      <td>92</td>\n    </tr>\n    <tr>\n      <th>4</th>\n      <td>Analytics, Consumer data</td>\n      <td>14</td>\n      <td>Analytics, Consumer data</td>\n      <td>21</td>\n    </tr>\n  </tbody>\n</table>\n</div>"
     },
     "metadata": {},
     "execution_count": 26
    }
   ],
   "source": [
    "#Usando Merge\n",
    "datas=(df_f, total_area)\n",
    "df_calor= pd.concat(datas, axis=1)\n",
    "df_calor.head()"
   ]
  },
  {
   "cell_type": "code",
   "execution_count": 30,
   "metadata": {},
   "outputs": [],
   "source": [
    "df_calor.drop(['Action area'], axis='columns', inplace=True)\n"
   ]
  },
  {
   "cell_type": "code",
   "execution_count": 31,
   "metadata": {},
   "outputs": [
    {
     "output_type": "stream",
     "name": "stdout",
     "text": [
      "<class 'pandas.core.frame.DataFrame'>\nRangeIndex: 37 entries, 0 to 36\nData columns (total 3 columns):\n #   Column       Non-Null Count  Dtype \n---  ------       --------------  ----- \n 0   Action_area  37 non-null     object\n 1   Geolocation  37 non-null     int64 \n 2   Title        37 non-null     int64 \ndtypes: int64(2), object(1)\nmemory usage: 1016.0+ bytes\n"
     ]
    }
   ],
   "source": [
    "df_calor.info()"
   ]
  },
  {
   "cell_type": "code",
   "execution_count": 39,
   "metadata": {},
   "outputs": [
    {
     "output_type": "execute_result",
     "data": {
      "text/plain": [
       "                        Action_area  Geolocation  Title\n",
       "0                         Analytics           59     84\n",
       "1    Analytics Platforms, Analytics            1      1\n",
       "2    Analytics, AI/Machine learning           96    413\n",
       "3  Analytics, Business Intelligence           52     92\n",
       "4          Analytics, Consumer data           14     21"
      ],
      "text/html": "<div>\n<style scoped>\n    .dataframe tbody tr th:only-of-type {\n        vertical-align: middle;\n    }\n\n    .dataframe tbody tr th {\n        vertical-align: top;\n    }\n\n    .dataframe thead th {\n        text-align: right;\n    }\n</style>\n<table border=\"1\" class=\"dataframe\">\n  <thead>\n    <tr style=\"text-align: right;\">\n      <th></th>\n      <th>Action_area</th>\n      <th>Geolocation</th>\n      <th>Title</th>\n    </tr>\n  </thead>\n  <tbody>\n    <tr>\n      <th>0</th>\n      <td>Analytics</td>\n      <td>59</td>\n      <td>84</td>\n    </tr>\n    <tr>\n      <th>1</th>\n      <td>Analytics Platforms, Analytics</td>\n      <td>1</td>\n      <td>1</td>\n    </tr>\n    <tr>\n      <th>2</th>\n      <td>Analytics, AI/Machine learning</td>\n      <td>96</td>\n      <td>413</td>\n    </tr>\n    <tr>\n      <th>3</th>\n      <td>Analytics, Business Intelligence</td>\n      <td>52</td>\n      <td>92</td>\n    </tr>\n    <tr>\n      <th>4</th>\n      <td>Analytics, Consumer data</td>\n      <td>14</td>\n      <td>21</td>\n    </tr>\n  </tbody>\n</table>\n</div>"
     },
     "metadata": {},
     "execution_count": 39
    }
   ],
   "source": [
    "df_calor.head()"
   ]
  },
  {
   "cell_type": "code",
   "execution_count": 40,
   "metadata": {},
   "outputs": [
    {
     "output_type": "display_data",
     "data": {
      "text/plain": "<Figure size 864x360 with 1 Axes>",
      "image/svg+xml": "<?xml version=\"1.0\" encoding=\"utf-8\" standalone=\"no\"?>\n<!DOCTYPE svg PUBLIC \"-//W3C//DTD SVG 1.1//EN\"\n  \"http://www.w3.org/Graphics/SVG/1.1/DTD/svg11.dtd\">\n<!-- Created with matplotlib (https://matplotlib.org/) -->\n<svg height=\"324.7225pt\" version=\"1.1\" viewBox=\"0 0 710.0875 324.7225\" width=\"710.0875pt\" xmlns=\"http://www.w3.org/2000/svg\" xmlns:xlink=\"http://www.w3.org/1999/xlink\">\n <defs>\n  <style type=\"text/css\">\n*{stroke-linecap:butt;stroke-linejoin:round;}\n  </style>\n </defs>\n <g id=\"figure_1\">\n  <g id=\"patch_1\">\n   <path d=\"M 0 324.7225 \nL 710.0875 324.7225 \nL 710.0875 0 \nL 0 0 \nz\n\" style=\"fill:none;\"/>\n  </g>\n  <g id=\"axes_1\">\n   <g id=\"patch_2\">\n    <path d=\"M 33.2875 297.7975 \nL 702.8875 297.7975 \nL 702.8875 25.9975 \nL 33.2875 25.9975 \nz\n\" style=\"fill:#ffffff;\"/>\n   </g>\n   <g id=\"patch_3\">\n    <path clip-path=\"url(#p2108260688)\" d=\"M 37.811824 297.7975 \nL 42.336149 297.7975 \nL 42.336149 260.817908 \nL 37.811824 260.817908 \nz\n\" style=\"fill:#1f77b4;\"/>\n   </g>\n   <g id=\"patch_4\">\n    <path clip-path=\"url(#p2108260688)\" d=\"M 55.909122 297.7975 \nL 60.433446 297.7975 \nL 60.433446 297.170727 \nL 55.909122 297.170727 \nz\n\" style=\"fill:#1f77b4;\"/>\n   </g>\n   <g id=\"patch_5\">\n    <path clip-path=\"url(#p2108260688)\" d=\"M 74.006419 297.7975 \nL 78.530743 297.7975 \nL 78.530743 237.627317 \nL 74.006419 237.627317 \nz\n\" style=\"fill:#1f77b4;\"/>\n   </g>\n   <g id=\"patch_6\">\n    <path clip-path=\"url(#p2108260688)\" d=\"M 92.103716 297.7975 \nL 96.628041 297.7975 \nL 96.628041 265.205317 \nL 92.103716 265.205317 \nz\n\" style=\"fill:#1f77b4;\"/>\n   </g>\n   <g id=\"patch_7\">\n    <path clip-path=\"url(#p2108260688)\" d=\"M 110.201014 297.7975 \nL 114.725338 297.7975 \nL 114.725338 289.022682 \nL 110.201014 289.022682 \nz\n\" style=\"fill:#1f77b4;\"/>\n   </g>\n   <g id=\"patch_8\">\n    <path clip-path=\"url(#p2108260688)\" d=\"M 128.298311 297.7975 \nL 132.822635 297.7975 \nL 132.822635 293.410091 \nL 128.298311 293.410091 \nz\n\" style=\"fill:#1f77b4;\"/>\n   </g>\n   <g id=\"patch_9\">\n    <path clip-path=\"url(#p2108260688)\" d=\"M 146.395608 297.7975 \nL 150.919932 297.7975 \nL 150.919932 296.543955 \nL 146.395608 296.543955 \nz\n\" style=\"fill:#1f77b4;\"/>\n   </g>\n   <g id=\"patch_10\">\n    <path clip-path=\"url(#p2108260688)\" d=\"M 164.492905 297.7975 \nL 169.01723 297.7975 \nL 169.01723 290.276227 \nL 164.492905 290.276227 \nz\n\" style=\"fill:#1f77b4;\"/>\n   </g>\n   <g id=\"patch_11\">\n    <path clip-path=\"url(#p2108260688)\" d=\"M 182.590203 297.7975 \nL 187.114527 297.7975 \nL 187.114527 290.903 \nL 182.590203 290.903 \nz\n\" style=\"fill:#1f77b4;\"/>\n   </g>\n   <g id=\"patch_12\">\n    <path clip-path=\"url(#p2108260688)\" d=\"M 200.6875 297.7975 \nL 205.211824 297.7975 \nL 205.211824 289.649454 \nL 200.6875 289.649454 \nz\n\" style=\"fill:#1f77b4;\"/>\n   </g>\n   <g id=\"patch_13\">\n    <path clip-path=\"url(#p2108260688)\" d=\"M 218.784797 297.7975 \nL 223.309122 297.7975 \nL 223.309122 289.649454 \nL 218.784797 289.649454 \nz\n\" style=\"fill:#1f77b4;\"/>\n   </g>\n   <g id=\"patch_14\">\n    <path clip-path=\"url(#p2108260688)\" d=\"M 236.882095 297.7975 \nL 241.406419 297.7975 \nL 241.406419 285.888818 \nL 236.882095 285.888818 \nz\n\" style=\"fill:#1f77b4;\"/>\n   </g>\n   <g id=\"patch_15\">\n    <path clip-path=\"url(#p2108260688)\" d=\"M 254.979392 297.7975 \nL 259.503716 297.7975 \nL 259.503716 258.93759 \nL 254.979392 258.93759 \nz\n\" style=\"fill:#1f77b4;\"/>\n   </g>\n   <g id=\"patch_16\">\n    <path clip-path=\"url(#p2108260688)\" d=\"M 273.076689 297.7975 \nL 277.601014 297.7975 \nL 277.601014 297.170727 \nL 273.076689 297.170727 \nz\n\" style=\"fill:#1f77b4;\"/>\n   </g>\n   <g id=\"patch_17\">\n    <path clip-path=\"url(#p2108260688)\" d=\"M 291.173986 297.7975 \nL 295.698311 297.7975 \nL 295.698311 292.156545 \nL 291.173986 292.156545 \nz\n\" style=\"fill:#1f77b4;\"/>\n   </g>\n   <g id=\"patch_18\">\n    <path clip-path=\"url(#p2108260688)\" d=\"M 309.271284 297.7975 \nL 313.795608 297.7975 \nL 313.795608 272.72659 \nL 309.271284 272.72659 \nz\n\" style=\"fill:#1f77b4;\"/>\n   </g>\n   <g id=\"patch_19\">\n    <path clip-path=\"url(#p2108260688)\" d=\"M 327.368581 297.7975 \nL 331.892905 297.7975 \nL 331.892905 291.529773 \nL 327.368581 291.529773 \nz\n\" style=\"fill:#1f77b4;\"/>\n   </g>\n   <g id=\"patch_20\">\n    <path clip-path=\"url(#p2108260688)\" d=\"M 345.465878 297.7975 \nL 349.990203 297.7975 \nL 349.990203 230.106044 \nL 345.465878 230.106044 \nz\n\" style=\"fill:#1f77b4;\"/>\n   </g>\n   <g id=\"patch_21\">\n    <path clip-path=\"url(#p2108260688)\" d=\"M 363.563176 297.7975 \nL 368.0875 297.7975 \nL 368.0875 297.170727 \nL 363.563176 297.170727 \nz\n\" style=\"fill:#1f77b4;\"/>\n   </g>\n   <g id=\"patch_22\">\n    <path clip-path=\"url(#p2108260688)\" d=\"M 381.660473 297.7975 \nL 386.184797 297.7975 \nL 386.184797 279.62109 \nL 381.660473 279.62109 \nz\n\" style=\"fill:#1f77b4;\"/>\n   </g>\n   <g id=\"patch_23\">\n    <path clip-path=\"url(#p2108260688)\" d=\"M 399.75777 297.7975 \nL 404.282095 297.7975 \nL 404.282095 265.205317 \nL 399.75777 265.205317 \nz\n\" style=\"fill:#1f77b4;\"/>\n   </g>\n   <g id=\"patch_24\">\n    <path clip-path=\"url(#p2108260688)\" d=\"M 417.855068 297.7975 \nL 422.379392 297.7975 \nL 422.379392 297.170727 \nL 417.855068 297.170727 \nz\n\" style=\"fill:#1f77b4;\"/>\n   </g>\n   <g id=\"patch_25\">\n    <path clip-path=\"url(#p2108260688)\" d=\"M 435.952365 297.7975 \nL 440.476689 297.7975 \nL 440.476689 297.170727 \nL 435.952365 297.170727 \nz\n\" style=\"fill:#1f77b4;\"/>\n   </g>\n   <g id=\"patch_26\">\n    <path clip-path=\"url(#p2108260688)\" d=\"M 454.049662 297.7975 \nL 458.573986 297.7975 \nL 458.573986 297.7975 \nL 454.049662 297.7975 \nz\n\" style=\"fill:#1f77b4;\"/>\n   </g>\n   <g id=\"patch_27\">\n    <path clip-path=\"url(#p2108260688)\" d=\"M 472.146959 297.7975 \nL 476.671284 297.7975 \nL 476.671284 297.170727 \nL 472.146959 297.170727 \nz\n\" style=\"fill:#1f77b4;\"/>\n   </g>\n   <g id=\"patch_28\">\n    <path clip-path=\"url(#p2108260688)\" d=\"M 490.244257 297.7975 \nL 494.768581 297.7975 \nL 494.768581 293.410091 \nL 490.244257 293.410091 \nz\n\" style=\"fill:#1f77b4;\"/>\n   </g>\n   <g id=\"patch_29\">\n    <path clip-path=\"url(#p2108260688)\" d=\"M 508.341554 297.7975 \nL 512.865878 297.7975 \nL 512.865878 284.635272 \nL 508.341554 284.635272 \nz\n\" style=\"fill:#1f77b4;\"/>\n   </g>\n   <g id=\"patch_30\">\n    <path clip-path=\"url(#p2108260688)\" d=\"M 526.438851 297.7975 \nL 530.963176 297.7975 \nL 530.963176 290.903 \nL 526.438851 290.903 \nz\n\" style=\"fill:#1f77b4;\"/>\n   </g>\n   <g id=\"patch_31\">\n    <path clip-path=\"url(#p2108260688)\" d=\"M 544.536149 297.7975 \nL 549.060473 297.7975 \nL 549.060473 297.170727 \nL 544.536149 297.170727 \nz\n\" style=\"fill:#1f77b4;\"/>\n   </g>\n   <g id=\"patch_32\">\n    <path clip-path=\"url(#p2108260688)\" d=\"M 562.633446 297.7975 \nL 567.15777 297.7975 \nL 567.15777 296.543955 \nL 562.633446 296.543955 \nz\n\" style=\"fill:#1f77b4;\"/>\n   </g>\n   <g id=\"patch_33\">\n    <path clip-path=\"url(#p2108260688)\" d=\"M 580.730743 297.7975 \nL 585.255068 297.7975 \nL 585.255068 296.543955 \nL 580.730743 296.543955 \nz\n\" style=\"fill:#1f77b4;\"/>\n   </g>\n   <g id=\"patch_34\">\n    <path clip-path=\"url(#p2108260688)\" d=\"M 598.828041 297.7975 \nL 603.352365 297.7975 \nL 603.352365 297.7975 \nL 598.828041 297.7975 \nz\n\" style=\"fill:#1f77b4;\"/>\n   </g>\n   <g id=\"patch_35\">\n    <path clip-path=\"url(#p2108260688)\" d=\"M 616.925338 297.7975 \nL 621.449662 297.7975 \nL 621.449662 282.128181 \nL 616.925338 282.128181 \nz\n\" style=\"fill:#1f77b4;\"/>\n   </g>\n   <g id=\"patch_36\">\n    <path clip-path=\"url(#p2108260688)\" d=\"M 635.022635 297.7975 \nL 639.546959 297.7975 \nL 639.546959 297.170727 \nL 635.022635 297.170727 \nz\n\" style=\"fill:#1f77b4;\"/>\n   </g>\n   <g id=\"patch_37\">\n    <path clip-path=\"url(#p2108260688)\" d=\"M 653.119932 297.7975 \nL 657.644257 297.7975 \nL 657.644257 288.395909 \nL 653.119932 288.395909 \nz\n\" style=\"fill:#1f77b4;\"/>\n   </g>\n   <g id=\"patch_38\">\n    <path clip-path=\"url(#p2108260688)\" d=\"M 671.21723 297.7975 \nL 675.741554 297.7975 \nL 675.741554 289.022682 \nL 671.21723 289.022682 \nz\n\" style=\"fill:#1f77b4;\"/>\n   </g>\n   <g id=\"patch_39\">\n    <path clip-path=\"url(#p2108260688)\" d=\"M 689.314527 297.7975 \nL 693.838851 297.7975 \nL 693.838851 297.170727 \nL 689.314527 297.170727 \nz\n\" style=\"fill:#1f77b4;\"/>\n   </g>\n   <g id=\"patch_40\">\n    <path clip-path=\"url(#p2108260688)\" d=\"M 42.336149 297.7975 \nL 46.860473 297.7975 \nL 46.860473 245.14859 \nL 42.336149 245.14859 \nz\n\" style=\"fill:#ff7f0e;\"/>\n   </g>\n   <g id=\"patch_41\">\n    <path clip-path=\"url(#p2108260688)\" d=\"M 60.433446 297.7975 \nL 64.95777 297.7975 \nL 64.95777 297.170727 \nL 60.433446 297.170727 \nz\n\" style=\"fill:#ff7f0e;\"/>\n   </g>\n   <g id=\"patch_42\">\n    <path clip-path=\"url(#p2108260688)\" d=\"M 78.530743 297.7975 \nL 83.055068 297.7975 \nL 83.055068 38.940357 \nL 78.530743 38.940357 \nz\n\" style=\"fill:#ff7f0e;\"/>\n   </g>\n   <g id=\"patch_43\">\n    <path clip-path=\"url(#p2108260688)\" d=\"M 96.628041 297.7975 \nL 101.152365 297.7975 \nL 101.152365 240.134408 \nL 96.628041 240.134408 \nz\n\" style=\"fill:#ff7f0e;\"/>\n   </g>\n   <g id=\"patch_44\">\n    <path clip-path=\"url(#p2108260688)\" d=\"M 114.725338 297.7975 \nL 119.249662 297.7975 \nL 119.249662 284.635272 \nL 114.725338 284.635272 \nz\n\" style=\"fill:#ff7f0e;\"/>\n   </g>\n   <g id=\"patch_45\">\n    <path clip-path=\"url(#p2108260688)\" d=\"M 132.822635 297.7975 \nL 137.346959 297.7975 \nL 137.346959 291.529773 \nL 132.822635 291.529773 \nz\n\" style=\"fill:#ff7f0e;\"/>\n   </g>\n   <g id=\"patch_46\">\n    <path clip-path=\"url(#p2108260688)\" d=\"M 150.919932 297.7975 \nL 155.444257 297.7975 \nL 155.444257 296.543955 \nL 150.919932 296.543955 \nz\n\" style=\"fill:#ff7f0e;\"/>\n   </g>\n   <g id=\"patch_47\">\n    <path clip-path=\"url(#p2108260688)\" d=\"M 169.01723 297.7975 \nL 173.541554 297.7975 \nL 173.541554 289.649454 \nL 169.01723 289.649454 \nz\n\" style=\"fill:#ff7f0e;\"/>\n   </g>\n   <g id=\"patch_48\">\n    <path clip-path=\"url(#p2108260688)\" d=\"M 187.114527 297.7975 \nL 191.638851 297.7975 \nL 191.638851 290.903 \nL 187.114527 290.903 \nz\n\" style=\"fill:#ff7f0e;\"/>\n   </g>\n   <g id=\"patch_49\">\n    <path clip-path=\"url(#p2108260688)\" d=\"M 205.211824 297.7975 \nL 209.736149 297.7975 \nL 209.736149 289.022682 \nL 205.211824 289.022682 \nz\n\" style=\"fill:#ff7f0e;\"/>\n   </g>\n   <g id=\"patch_50\">\n    <path clip-path=\"url(#p2108260688)\" d=\"M 223.309122 297.7975 \nL 227.833446 297.7975 \nL 227.833446 287.769136 \nL 223.309122 287.769136 \nz\n\" style=\"fill:#ff7f0e;\"/>\n   </g>\n   <g id=\"patch_51\">\n    <path clip-path=\"url(#p2108260688)\" d=\"M 241.406419 297.7975 \nL 245.930743 297.7975 \nL 245.930743 265.83209 \nL 241.406419 265.83209 \nz\n\" style=\"fill:#ff7f0e;\"/>\n   </g>\n   <g id=\"patch_52\">\n    <path clip-path=\"url(#p2108260688)\" d=\"M 259.503716 297.7975 \nL 264.028041 297.7975 \nL 264.028041 246.402135 \nL 259.503716 246.402135 \nz\n\" style=\"fill:#ff7f0e;\"/>\n   </g>\n   <g id=\"patch_53\">\n    <path clip-path=\"url(#p2108260688)\" d=\"M 277.601014 297.7975 \nL 282.125338 297.7975 \nL 282.125338 297.170727 \nL 277.601014 297.170727 \nz\n\" style=\"fill:#ff7f0e;\"/>\n   </g>\n   <g id=\"patch_54\">\n    <path clip-path=\"url(#p2108260688)\" d=\"M 295.698311 297.7975 \nL 300.222635 297.7975 \nL 300.222635 288.395909 \nL 295.698311 288.395909 \nz\n\" style=\"fill:#ff7f0e;\"/>\n   </g>\n   <g id=\"patch_55\">\n    <path clip-path=\"url(#p2108260688)\" d=\"M 313.795608 297.7975 \nL 318.319932 297.7975 \nL 318.319932 200.647725 \nL 313.795608 200.647725 \nz\n\" style=\"fill:#ff7f0e;\"/>\n   </g>\n   <g id=\"patch_56\">\n    <path clip-path=\"url(#p2108260688)\" d=\"M 331.892905 297.7975 \nL 336.41723 297.7975 \nL 336.41723 286.515591 \nL 331.892905 286.515591 \nz\n\" style=\"fill:#ff7f0e;\"/>\n   </g>\n   <g id=\"patch_57\">\n    <path clip-path=\"url(#p2108260688)\" d=\"M 349.990203 297.7975 \nL 354.514527 297.7975 \nL 354.514527 197.513861 \nL 349.990203 197.513861 \nz\n\" style=\"fill:#ff7f0e;\"/>\n   </g>\n   <g id=\"patch_58\">\n    <path clip-path=\"url(#p2108260688)\" d=\"M 368.0875 297.7975 \nL 372.611824 297.7975 \nL 372.611824 297.170727 \nL 368.0875 297.170727 \nz\n\" style=\"fill:#ff7f0e;\"/>\n   </g>\n   <g id=\"patch_59\">\n    <path clip-path=\"url(#p2108260688)\" d=\"M 386.184797 297.7975 \nL 390.709122 297.7975 \nL 390.709122 271.473045 \nL 386.184797 271.473045 \nz\n\" style=\"fill:#ff7f0e;\"/>\n   </g>\n   <g id=\"patch_60\">\n    <path clip-path=\"url(#p2108260688)\" d=\"M 404.282095 297.7975 \nL 408.806419 297.7975 \nL 408.806419 231.986362 \nL 404.282095 231.986362 \nz\n\" style=\"fill:#ff7f0e;\"/>\n   </g>\n   <g id=\"patch_61\">\n    <path clip-path=\"url(#p2108260688)\" d=\"M 422.379392 297.7975 \nL 426.903716 297.7975 \nL 426.903716 297.170727 \nL 422.379392 297.170727 \nz\n\" style=\"fill:#ff7f0e;\"/>\n   </g>\n   <g id=\"patch_62\">\n    <path clip-path=\"url(#p2108260688)\" d=\"M 440.476689 297.7975 \nL 445.001014 297.7975 \nL 445.001014 294.036864 \nL 440.476689 294.036864 \nz\n\" style=\"fill:#ff7f0e;\"/>\n   </g>\n   <g id=\"patch_63\">\n    <path clip-path=\"url(#p2108260688)\" d=\"M 458.573986 297.7975 \nL 463.098311 297.7975 \nL 463.098311 297.170727 \nL 458.573986 297.170727 \nz\n\" style=\"fill:#ff7f0e;\"/>\n   </g>\n   <g id=\"patch_64\">\n    <path clip-path=\"url(#p2108260688)\" d=\"M 476.671284 297.7975 \nL 481.195608 297.7975 \nL 481.195608 297.170727 \nL 476.671284 297.170727 \nz\n\" style=\"fill:#ff7f0e;\"/>\n   </g>\n   <g id=\"patch_65\">\n    <path clip-path=\"url(#p2108260688)\" d=\"M 494.768581 297.7975 \nL 499.292905 297.7975 \nL 499.292905 280.247863 \nL 494.768581 280.247863 \nz\n\" style=\"fill:#ff7f0e;\"/>\n   </g>\n   <g id=\"patch_66\">\n    <path clip-path=\"url(#p2108260688)\" d=\"M 512.865878 297.7975 \nL 517.390203 297.7975 \nL 517.390203 263.951772 \nL 512.865878 263.951772 \nz\n\" style=\"fill:#ff7f0e;\"/>\n   </g>\n   <g id=\"patch_67\">\n    <path clip-path=\"url(#p2108260688)\" d=\"M 530.963176 297.7975 \nL 535.4875 297.7975 \nL 535.4875 264.578545 \nL 530.963176 264.578545 \nz\n\" style=\"fill:#ff7f0e;\"/>\n   </g>\n   <g id=\"patch_68\">\n    <path clip-path=\"url(#p2108260688)\" d=\"M 549.060473 297.7975 \nL 553.584797 297.7975 \nL 553.584797 297.170727 \nL 549.060473 297.170727 \nz\n\" style=\"fill:#ff7f0e;\"/>\n   </g>\n   <g id=\"patch_69\">\n    <path clip-path=\"url(#p2108260688)\" d=\"M 567.15777 297.7975 \nL 571.682095 297.7975 \nL 571.682095 296.543955 \nL 567.15777 296.543955 \nz\n\" style=\"fill:#ff7f0e;\"/>\n   </g>\n   <g id=\"patch_70\">\n    <path clip-path=\"url(#p2108260688)\" d=\"M 585.255068 297.7975 \nL 589.779392 297.7975 \nL 589.779392 294.036864 \nL 585.255068 294.036864 \nz\n\" style=\"fill:#ff7f0e;\"/>\n   </g>\n   <g id=\"patch_71\">\n    <path clip-path=\"url(#p2108260688)\" d=\"M 603.352365 297.7975 \nL 607.876689 297.7975 \nL 607.876689 296.543955 \nL 603.352365 296.543955 \nz\n\" style=\"fill:#ff7f0e;\"/>\n   </g>\n   <g id=\"patch_72\">\n    <path clip-path=\"url(#p2108260688)\" d=\"M 621.449662 297.7975 \nL 625.973986 297.7975 \nL 625.973986 270.846272 \nL 621.449662 270.846272 \nz\n\" style=\"fill:#ff7f0e;\"/>\n   </g>\n   <g id=\"patch_73\">\n    <path clip-path=\"url(#p2108260688)\" d=\"M 639.546959 297.7975 \nL 644.071284 297.7975 \nL 644.071284 297.170727 \nL 639.546959 297.170727 \nz\n\" style=\"fill:#ff7f0e;\"/>\n   </g>\n   <g id=\"patch_74\">\n    <path clip-path=\"url(#p2108260688)\" d=\"M 657.644257 297.7975 \nL 662.168581 297.7975 \nL 662.168581 281.501409 \nL 657.644257 281.501409 \nz\n\" style=\"fill:#ff7f0e;\"/>\n   </g>\n   <g id=\"patch_75\">\n    <path clip-path=\"url(#p2108260688)\" d=\"M 675.741554 297.7975 \nL 680.265878 297.7975 \nL 680.265878 278.994318 \nL 675.741554 278.994318 \nz\n\" style=\"fill:#ff7f0e;\"/>\n   </g>\n   <g id=\"patch_76\">\n    <path clip-path=\"url(#p2108260688)\" d=\"M 693.838851 297.7975 \nL 698.363176 297.7975 \nL 698.363176 297.170727 \nL 693.838851 297.170727 \nz\n\" style=\"fill:#ff7f0e;\"/>\n   </g>\n   <g id=\"matplotlib.axis_1\">\n    <g id=\"xtick_1\">\n     <g id=\"line2d_1\">\n      <defs>\n       <path d=\"M 0 0 \nL 0 3.5 \n\" id=\"m6a27de718d\" style=\"stroke:#000000;stroke-width:0.8;\"/>\n      </defs>\n      <g>\n       <use style=\"stroke:#000000;stroke-width:0.8;\" x=\"42.336149\" xlink:href=\"#m6a27de718d\" y=\"297.7975\"/>\n      </g>\n     </g>\n     <g id=\"text_1\">\n      <!-- 0 -->\n      <defs>\n       <path d=\"M 31.78125 66.40625 \nQ 24.171875 66.40625 20.328125 58.90625 \nQ 16.5 51.421875 16.5 36.375 \nQ 16.5 21.390625 20.328125 13.890625 \nQ 24.171875 6.390625 31.78125 6.390625 \nQ 39.453125 6.390625 43.28125 13.890625 \nQ 47.125 21.390625 47.125 36.375 \nQ 47.125 51.421875 43.28125 58.90625 \nQ 39.453125 66.40625 31.78125 66.40625 \nz\nM 31.78125 74.21875 \nQ 44.046875 74.21875 50.515625 64.515625 \nQ 56.984375 54.828125 56.984375 36.375 \nQ 56.984375 17.96875 50.515625 8.265625 \nQ 44.046875 -1.421875 31.78125 -1.421875 \nQ 19.53125 -1.421875 13.0625 8.265625 \nQ 6.59375 17.96875 6.59375 36.375 \nQ 6.59375 54.828125 13.0625 64.515625 \nQ 19.53125 74.21875 31.78125 74.21875 \nz\n\" id=\"DejaVuSans-48\"/>\n      </defs>\n      <g transform=\"translate(45.095524 311.16)rotate(-90)scale(0.1 -0.1)\">\n       <use xlink:href=\"#DejaVuSans-48\"/>\n      </g>\n     </g>\n    </g>\n    <g id=\"xtick_2\">\n     <g id=\"line2d_2\">\n      <g>\n       <use style=\"stroke:#000000;stroke-width:0.8;\" x=\"60.433446\" xlink:href=\"#m6a27de718d\" y=\"297.7975\"/>\n      </g>\n     </g>\n     <g id=\"text_2\">\n      <!-- 1 -->\n      <defs>\n       <path d=\"M 12.40625 8.296875 \nL 28.515625 8.296875 \nL 28.515625 63.921875 \nL 10.984375 60.40625 \nL 10.984375 69.390625 \nL 28.421875 72.90625 \nL 38.28125 72.90625 \nL 38.28125 8.296875 \nL 54.390625 8.296875 \nL 54.390625 0 \nL 12.40625 0 \nz\n\" id=\"DejaVuSans-49\"/>\n      </defs>\n      <g transform=\"translate(63.192821 311.16)rotate(-90)scale(0.1 -0.1)\">\n       <use xlink:href=\"#DejaVuSans-49\"/>\n      </g>\n     </g>\n    </g>\n    <g id=\"xtick_3\">\n     <g id=\"line2d_3\">\n      <g>\n       <use style=\"stroke:#000000;stroke-width:0.8;\" x=\"78.530743\" xlink:href=\"#m6a27de718d\" y=\"297.7975\"/>\n      </g>\n     </g>\n     <g id=\"text_3\">\n      <!-- 2 -->\n      <defs>\n       <path d=\"M 19.1875 8.296875 \nL 53.609375 8.296875 \nL 53.609375 0 \nL 7.328125 0 \nL 7.328125 8.296875 \nQ 12.9375 14.109375 22.625 23.890625 \nQ 32.328125 33.6875 34.8125 36.53125 \nQ 39.546875 41.84375 41.421875 45.53125 \nQ 43.3125 49.21875 43.3125 52.78125 \nQ 43.3125 58.59375 39.234375 62.25 \nQ 35.15625 65.921875 28.609375 65.921875 \nQ 23.96875 65.921875 18.8125 64.3125 \nQ 13.671875 62.703125 7.8125 59.421875 \nL 7.8125 69.390625 \nQ 13.765625 71.78125 18.9375 73 \nQ 24.125 74.21875 28.421875 74.21875 \nQ 39.75 74.21875 46.484375 68.546875 \nQ 53.21875 62.890625 53.21875 53.421875 \nQ 53.21875 48.921875 51.53125 44.890625 \nQ 49.859375 40.875 45.40625 35.40625 \nQ 44.1875 33.984375 37.640625 27.21875 \nQ 31.109375 20.453125 19.1875 8.296875 \nz\n\" id=\"DejaVuSans-50\"/>\n      </defs>\n      <g transform=\"translate(81.290118 311.16)rotate(-90)scale(0.1 -0.1)\">\n       <use xlink:href=\"#DejaVuSans-50\"/>\n      </g>\n     </g>\n    </g>\n    <g id=\"xtick_4\">\n     <g id=\"line2d_4\">\n      <g>\n       <use style=\"stroke:#000000;stroke-width:0.8;\" x=\"96.628041\" xlink:href=\"#m6a27de718d\" y=\"297.7975\"/>\n      </g>\n     </g>\n     <g id=\"text_4\">\n      <!-- 3 -->\n      <defs>\n       <path d=\"M 40.578125 39.3125 \nQ 47.65625 37.796875 51.625 33 \nQ 55.609375 28.21875 55.609375 21.1875 \nQ 55.609375 10.40625 48.1875 4.484375 \nQ 40.765625 -1.421875 27.09375 -1.421875 \nQ 22.515625 -1.421875 17.65625 -0.515625 \nQ 12.796875 0.390625 7.625 2.203125 \nL 7.625 11.71875 \nQ 11.71875 9.328125 16.59375 8.109375 \nQ 21.484375 6.890625 26.8125 6.890625 \nQ 36.078125 6.890625 40.9375 10.546875 \nQ 45.796875 14.203125 45.796875 21.1875 \nQ 45.796875 27.640625 41.28125 31.265625 \nQ 36.765625 34.90625 28.71875 34.90625 \nL 20.21875 34.90625 \nL 20.21875 43.015625 \nL 29.109375 43.015625 \nQ 36.375 43.015625 40.234375 45.921875 \nQ 44.09375 48.828125 44.09375 54.296875 \nQ 44.09375 59.90625 40.109375 62.90625 \nQ 36.140625 65.921875 28.71875 65.921875 \nQ 24.65625 65.921875 20.015625 65.03125 \nQ 15.375 64.15625 9.8125 62.3125 \nL 9.8125 71.09375 \nQ 15.4375 72.65625 20.34375 73.4375 \nQ 25.25 74.21875 29.59375 74.21875 \nQ 40.828125 74.21875 47.359375 69.109375 \nQ 53.90625 64.015625 53.90625 55.328125 \nQ 53.90625 49.265625 50.4375 45.09375 \nQ 46.96875 40.921875 40.578125 39.3125 \nz\n\" id=\"DejaVuSans-51\"/>\n      </defs>\n      <g transform=\"translate(99.387416 311.16)rotate(-90)scale(0.1 -0.1)\">\n       <use xlink:href=\"#DejaVuSans-51\"/>\n      </g>\n     </g>\n    </g>\n    <g id=\"xtick_5\">\n     <g id=\"line2d_5\">\n      <g>\n       <use style=\"stroke:#000000;stroke-width:0.8;\" x=\"114.725338\" xlink:href=\"#m6a27de718d\" y=\"297.7975\"/>\n      </g>\n     </g>\n     <g id=\"text_5\">\n      <!-- 4 -->\n      <defs>\n       <path d=\"M 37.796875 64.3125 \nL 12.890625 25.390625 \nL 37.796875 25.390625 \nz\nM 35.203125 72.90625 \nL 47.609375 72.90625 \nL 47.609375 25.390625 \nL 58.015625 25.390625 \nL 58.015625 17.1875 \nL 47.609375 17.1875 \nL 47.609375 0 \nL 37.796875 0 \nL 37.796875 17.1875 \nL 4.890625 17.1875 \nL 4.890625 26.703125 \nz\n\" id=\"DejaVuSans-52\"/>\n      </defs>\n      <g transform=\"translate(117.484713 311.16)rotate(-90)scale(0.1 -0.1)\">\n       <use xlink:href=\"#DejaVuSans-52\"/>\n      </g>\n     </g>\n    </g>\n    <g id=\"xtick_6\">\n     <g id=\"line2d_6\">\n      <g>\n       <use style=\"stroke:#000000;stroke-width:0.8;\" x=\"132.822635\" xlink:href=\"#m6a27de718d\" y=\"297.7975\"/>\n      </g>\n     </g>\n     <g id=\"text_6\">\n      <!-- 5 -->\n      <defs>\n       <path d=\"M 10.796875 72.90625 \nL 49.515625 72.90625 \nL 49.515625 64.59375 \nL 19.828125 64.59375 \nL 19.828125 46.734375 \nQ 21.96875 47.46875 24.109375 47.828125 \nQ 26.265625 48.1875 28.421875 48.1875 \nQ 40.625 48.1875 47.75 41.5 \nQ 54.890625 34.8125 54.890625 23.390625 \nQ 54.890625 11.625 47.5625 5.09375 \nQ 40.234375 -1.421875 26.90625 -1.421875 \nQ 22.3125 -1.421875 17.546875 -0.640625 \nQ 12.796875 0.140625 7.71875 1.703125 \nL 7.71875 11.625 \nQ 12.109375 9.234375 16.796875 8.0625 \nQ 21.484375 6.890625 26.703125 6.890625 \nQ 35.15625 6.890625 40.078125 11.328125 \nQ 45.015625 15.765625 45.015625 23.390625 \nQ 45.015625 31 40.078125 35.4375 \nQ 35.15625 39.890625 26.703125 39.890625 \nQ 22.75 39.890625 18.8125 39.015625 \nQ 14.890625 38.140625 10.796875 36.28125 \nz\n\" id=\"DejaVuSans-53\"/>\n      </defs>\n      <g transform=\"translate(135.58201 311.16)rotate(-90)scale(0.1 -0.1)\">\n       <use xlink:href=\"#DejaVuSans-53\"/>\n      </g>\n     </g>\n    </g>\n    <g id=\"xtick_7\">\n     <g id=\"line2d_7\">\n      <g>\n       <use style=\"stroke:#000000;stroke-width:0.8;\" x=\"150.919932\" xlink:href=\"#m6a27de718d\" y=\"297.7975\"/>\n      </g>\n     </g>\n     <g id=\"text_7\">\n      <!-- 6 -->\n      <defs>\n       <path d=\"M 33.015625 40.375 \nQ 26.375 40.375 22.484375 35.828125 \nQ 18.609375 31.296875 18.609375 23.390625 \nQ 18.609375 15.53125 22.484375 10.953125 \nQ 26.375 6.390625 33.015625 6.390625 \nQ 39.65625 6.390625 43.53125 10.953125 \nQ 47.40625 15.53125 47.40625 23.390625 \nQ 47.40625 31.296875 43.53125 35.828125 \nQ 39.65625 40.375 33.015625 40.375 \nz\nM 52.59375 71.296875 \nL 52.59375 62.3125 \nQ 48.875 64.0625 45.09375 64.984375 \nQ 41.3125 65.921875 37.59375 65.921875 \nQ 27.828125 65.921875 22.671875 59.328125 \nQ 17.53125 52.734375 16.796875 39.40625 \nQ 19.671875 43.65625 24.015625 45.921875 \nQ 28.375 48.1875 33.59375 48.1875 \nQ 44.578125 48.1875 50.953125 41.515625 \nQ 57.328125 34.859375 57.328125 23.390625 \nQ 57.328125 12.15625 50.6875 5.359375 \nQ 44.046875 -1.421875 33.015625 -1.421875 \nQ 20.359375 -1.421875 13.671875 8.265625 \nQ 6.984375 17.96875 6.984375 36.375 \nQ 6.984375 53.65625 15.1875 63.9375 \nQ 23.390625 74.21875 37.203125 74.21875 \nQ 40.921875 74.21875 44.703125 73.484375 \nQ 48.484375 72.75 52.59375 71.296875 \nz\n\" id=\"DejaVuSans-54\"/>\n      </defs>\n      <g transform=\"translate(153.679307 311.16)rotate(-90)scale(0.1 -0.1)\">\n       <use xlink:href=\"#DejaVuSans-54\"/>\n      </g>\n     </g>\n    </g>\n    <g id=\"xtick_8\">\n     <g id=\"line2d_8\">\n      <g>\n       <use style=\"stroke:#000000;stroke-width:0.8;\" x=\"169.01723\" xlink:href=\"#m6a27de718d\" y=\"297.7975\"/>\n      </g>\n     </g>\n     <g id=\"text_8\">\n      <!-- 7 -->\n      <defs>\n       <path d=\"M 8.203125 72.90625 \nL 55.078125 72.90625 \nL 55.078125 68.703125 \nL 28.609375 0 \nL 18.3125 0 \nL 43.21875 64.59375 \nL 8.203125 64.59375 \nz\n\" id=\"DejaVuSans-55\"/>\n      </defs>\n      <g transform=\"translate(171.776605 311.16)rotate(-90)scale(0.1 -0.1)\">\n       <use xlink:href=\"#DejaVuSans-55\"/>\n      </g>\n     </g>\n    </g>\n    <g id=\"xtick_9\">\n     <g id=\"line2d_9\">\n      <g>\n       <use style=\"stroke:#000000;stroke-width:0.8;\" x=\"187.114527\" xlink:href=\"#m6a27de718d\" y=\"297.7975\"/>\n      </g>\n     </g>\n     <g id=\"text_9\">\n      <!-- 8 -->\n      <defs>\n       <path d=\"M 31.78125 34.625 \nQ 24.75 34.625 20.71875 30.859375 \nQ 16.703125 27.09375 16.703125 20.515625 \nQ 16.703125 13.921875 20.71875 10.15625 \nQ 24.75 6.390625 31.78125 6.390625 \nQ 38.8125 6.390625 42.859375 10.171875 \nQ 46.921875 13.96875 46.921875 20.515625 \nQ 46.921875 27.09375 42.890625 30.859375 \nQ 38.875 34.625 31.78125 34.625 \nz\nM 21.921875 38.8125 \nQ 15.578125 40.375 12.03125 44.71875 \nQ 8.5 49.078125 8.5 55.328125 \nQ 8.5 64.0625 14.71875 69.140625 \nQ 20.953125 74.21875 31.78125 74.21875 \nQ 42.671875 74.21875 48.875 69.140625 \nQ 55.078125 64.0625 55.078125 55.328125 \nQ 55.078125 49.078125 51.53125 44.71875 \nQ 48 40.375 41.703125 38.8125 \nQ 48.828125 37.15625 52.796875 32.3125 \nQ 56.78125 27.484375 56.78125 20.515625 \nQ 56.78125 9.90625 50.3125 4.234375 \nQ 43.84375 -1.421875 31.78125 -1.421875 \nQ 19.734375 -1.421875 13.25 4.234375 \nQ 6.78125 9.90625 6.78125 20.515625 \nQ 6.78125 27.484375 10.78125 32.3125 \nQ 14.796875 37.15625 21.921875 38.8125 \nz\nM 18.3125 54.390625 \nQ 18.3125 48.734375 21.84375 45.5625 \nQ 25.390625 42.390625 31.78125 42.390625 \nQ 38.140625 42.390625 41.71875 45.5625 \nQ 45.3125 48.734375 45.3125 54.390625 \nQ 45.3125 60.0625 41.71875 63.234375 \nQ 38.140625 66.40625 31.78125 66.40625 \nQ 25.390625 66.40625 21.84375 63.234375 \nQ 18.3125 60.0625 18.3125 54.390625 \nz\n\" id=\"DejaVuSans-56\"/>\n      </defs>\n      <g transform=\"translate(189.873902 311.16)rotate(-90)scale(0.1 -0.1)\">\n       <use xlink:href=\"#DejaVuSans-56\"/>\n      </g>\n     </g>\n    </g>\n    <g id=\"xtick_10\">\n     <g id=\"line2d_10\">\n      <g>\n       <use style=\"stroke:#000000;stroke-width:0.8;\" x=\"205.211824\" xlink:href=\"#m6a27de718d\" y=\"297.7975\"/>\n      </g>\n     </g>\n     <g id=\"text_10\">\n      <!-- 9 -->\n      <defs>\n       <path d=\"M 10.984375 1.515625 \nL 10.984375 10.5 \nQ 14.703125 8.734375 18.5 7.8125 \nQ 22.3125 6.890625 25.984375 6.890625 \nQ 35.75 6.890625 40.890625 13.453125 \nQ 46.046875 20.015625 46.78125 33.40625 \nQ 43.953125 29.203125 39.59375 26.953125 \nQ 35.25 24.703125 29.984375 24.703125 \nQ 19.046875 24.703125 12.671875 31.3125 \nQ 6.296875 37.9375 6.296875 49.421875 \nQ 6.296875 60.640625 12.9375 67.421875 \nQ 19.578125 74.21875 30.609375 74.21875 \nQ 43.265625 74.21875 49.921875 64.515625 \nQ 56.59375 54.828125 56.59375 36.375 \nQ 56.59375 19.140625 48.40625 8.859375 \nQ 40.234375 -1.421875 26.421875 -1.421875 \nQ 22.703125 -1.421875 18.890625 -0.6875 \nQ 15.09375 0.046875 10.984375 1.515625 \nz\nM 30.609375 32.421875 \nQ 37.25 32.421875 41.125 36.953125 \nQ 45.015625 41.5 45.015625 49.421875 \nQ 45.015625 57.28125 41.125 61.84375 \nQ 37.25 66.40625 30.609375 66.40625 \nQ 23.96875 66.40625 20.09375 61.84375 \nQ 16.21875 57.28125 16.21875 49.421875 \nQ 16.21875 41.5 20.09375 36.953125 \nQ 23.96875 32.421875 30.609375 32.421875 \nz\n\" id=\"DejaVuSans-57\"/>\n      </defs>\n      <g transform=\"translate(207.971199 311.16)rotate(-90)scale(0.1 -0.1)\">\n       <use xlink:href=\"#DejaVuSans-57\"/>\n      </g>\n     </g>\n    </g>\n    <g id=\"xtick_11\">\n     <g id=\"line2d_11\">\n      <g>\n       <use style=\"stroke:#000000;stroke-width:0.8;\" x=\"223.309122\" xlink:href=\"#m6a27de718d\" y=\"297.7975\"/>\n      </g>\n     </g>\n     <g id=\"text_11\">\n      <!-- 10 -->\n      <g transform=\"translate(226.068497 317.5225)rotate(-90)scale(0.1 -0.1)\">\n       <use xlink:href=\"#DejaVuSans-49\"/>\n       <use x=\"63.623047\" xlink:href=\"#DejaVuSans-48\"/>\n      </g>\n     </g>\n    </g>\n    <g id=\"xtick_12\">\n     <g id=\"line2d_12\">\n      <g>\n       <use style=\"stroke:#000000;stroke-width:0.8;\" x=\"241.406419\" xlink:href=\"#m6a27de718d\" y=\"297.7975\"/>\n      </g>\n     </g>\n     <g id=\"text_12\">\n      <!-- 11 -->\n      <g transform=\"translate(244.165794 317.5225)rotate(-90)scale(0.1 -0.1)\">\n       <use xlink:href=\"#DejaVuSans-49\"/>\n       <use x=\"63.623047\" xlink:href=\"#DejaVuSans-49\"/>\n      </g>\n     </g>\n    </g>\n    <g id=\"xtick_13\">\n     <g id=\"line2d_13\">\n      <g>\n       <use style=\"stroke:#000000;stroke-width:0.8;\" x=\"259.503716\" xlink:href=\"#m6a27de718d\" y=\"297.7975\"/>\n      </g>\n     </g>\n     <g id=\"text_13\">\n      <!-- 12 -->\n      <g transform=\"translate(262.263091 317.5225)rotate(-90)scale(0.1 -0.1)\">\n       <use xlink:href=\"#DejaVuSans-49\"/>\n       <use x=\"63.623047\" xlink:href=\"#DejaVuSans-50\"/>\n      </g>\n     </g>\n    </g>\n    <g id=\"xtick_14\">\n     <g id=\"line2d_14\">\n      <g>\n       <use style=\"stroke:#000000;stroke-width:0.8;\" x=\"277.601014\" xlink:href=\"#m6a27de718d\" y=\"297.7975\"/>\n      </g>\n     </g>\n     <g id=\"text_14\">\n      <!-- 13 -->\n      <g transform=\"translate(280.360389 317.5225)rotate(-90)scale(0.1 -0.1)\">\n       <use xlink:href=\"#DejaVuSans-49\"/>\n       <use x=\"63.623047\" xlink:href=\"#DejaVuSans-51\"/>\n      </g>\n     </g>\n    </g>\n    <g id=\"xtick_15\">\n     <g id=\"line2d_15\">\n      <g>\n       <use style=\"stroke:#000000;stroke-width:0.8;\" x=\"295.698311\" xlink:href=\"#m6a27de718d\" y=\"297.7975\"/>\n      </g>\n     </g>\n     <g id=\"text_15\">\n      <!-- 14 -->\n      <g transform=\"translate(298.457686 317.5225)rotate(-90)scale(0.1 -0.1)\">\n       <use xlink:href=\"#DejaVuSans-49\"/>\n       <use x=\"63.623047\" xlink:href=\"#DejaVuSans-52\"/>\n      </g>\n     </g>\n    </g>\n    <g id=\"xtick_16\">\n     <g id=\"line2d_16\">\n      <g>\n       <use style=\"stroke:#000000;stroke-width:0.8;\" x=\"313.795608\" xlink:href=\"#m6a27de718d\" y=\"297.7975\"/>\n      </g>\n     </g>\n     <g id=\"text_16\">\n      <!-- 15 -->\n      <g transform=\"translate(316.554983 317.5225)rotate(-90)scale(0.1 -0.1)\">\n       <use xlink:href=\"#DejaVuSans-49\"/>\n       <use x=\"63.623047\" xlink:href=\"#DejaVuSans-53\"/>\n      </g>\n     </g>\n    </g>\n    <g id=\"xtick_17\">\n     <g id=\"line2d_17\">\n      <g>\n       <use style=\"stroke:#000000;stroke-width:0.8;\" x=\"331.892905\" xlink:href=\"#m6a27de718d\" y=\"297.7975\"/>\n      </g>\n     </g>\n     <g id=\"text_17\">\n      <!-- 16 -->\n      <g transform=\"translate(334.65228 317.5225)rotate(-90)scale(0.1 -0.1)\">\n       <use xlink:href=\"#DejaVuSans-49\"/>\n       <use x=\"63.623047\" xlink:href=\"#DejaVuSans-54\"/>\n      </g>\n     </g>\n    </g>\n    <g id=\"xtick_18\">\n     <g id=\"line2d_18\">\n      <g>\n       <use style=\"stroke:#000000;stroke-width:0.8;\" x=\"349.990203\" xlink:href=\"#m6a27de718d\" y=\"297.7975\"/>\n      </g>\n     </g>\n     <g id=\"text_18\">\n      <!-- 17 -->\n      <g transform=\"translate(352.749578 317.5225)rotate(-90)scale(0.1 -0.1)\">\n       <use xlink:href=\"#DejaVuSans-49\"/>\n       <use x=\"63.623047\" xlink:href=\"#DejaVuSans-55\"/>\n      </g>\n     </g>\n    </g>\n    <g id=\"xtick_19\">\n     <g id=\"line2d_19\">\n      <g>\n       <use style=\"stroke:#000000;stroke-width:0.8;\" x=\"368.0875\" xlink:href=\"#m6a27de718d\" y=\"297.7975\"/>\n      </g>\n     </g>\n     <g id=\"text_19\">\n      <!-- 18 -->\n      <g transform=\"translate(370.846875 317.5225)rotate(-90)scale(0.1 -0.1)\">\n       <use xlink:href=\"#DejaVuSans-49\"/>\n       <use x=\"63.623047\" xlink:href=\"#DejaVuSans-56\"/>\n      </g>\n     </g>\n    </g>\n    <g id=\"xtick_20\">\n     <g id=\"line2d_20\">\n      <g>\n       <use style=\"stroke:#000000;stroke-width:0.8;\" x=\"386.184797\" xlink:href=\"#m6a27de718d\" y=\"297.7975\"/>\n      </g>\n     </g>\n     <g id=\"text_20\">\n      <!-- 19 -->\n      <g transform=\"translate(388.944172 317.5225)rotate(-90)scale(0.1 -0.1)\">\n       <use xlink:href=\"#DejaVuSans-49\"/>\n       <use x=\"63.623047\" xlink:href=\"#DejaVuSans-57\"/>\n      </g>\n     </g>\n    </g>\n    <g id=\"xtick_21\">\n     <g id=\"line2d_21\">\n      <g>\n       <use style=\"stroke:#000000;stroke-width:0.8;\" x=\"404.282095\" xlink:href=\"#m6a27de718d\" y=\"297.7975\"/>\n      </g>\n     </g>\n     <g id=\"text_21\">\n      <!-- 20 -->\n      <g transform=\"translate(407.04147 317.5225)rotate(-90)scale(0.1 -0.1)\">\n       <use xlink:href=\"#DejaVuSans-50\"/>\n       <use x=\"63.623047\" xlink:href=\"#DejaVuSans-48\"/>\n      </g>\n     </g>\n    </g>\n    <g id=\"xtick_22\">\n     <g id=\"line2d_22\">\n      <g>\n       <use style=\"stroke:#000000;stroke-width:0.8;\" x=\"422.379392\" xlink:href=\"#m6a27de718d\" y=\"297.7975\"/>\n      </g>\n     </g>\n     <g id=\"text_22\">\n      <!-- 21 -->\n      <g transform=\"translate(425.138767 317.5225)rotate(-90)scale(0.1 -0.1)\">\n       <use xlink:href=\"#DejaVuSans-50\"/>\n       <use x=\"63.623047\" xlink:href=\"#DejaVuSans-49\"/>\n      </g>\n     </g>\n    </g>\n    <g id=\"xtick_23\">\n     <g id=\"line2d_23\">\n      <g>\n       <use style=\"stroke:#000000;stroke-width:0.8;\" x=\"440.476689\" xlink:href=\"#m6a27de718d\" y=\"297.7975\"/>\n      </g>\n     </g>\n     <g id=\"text_23\">\n      <!-- 22 -->\n      <g transform=\"translate(443.236064 317.5225)rotate(-90)scale(0.1 -0.1)\">\n       <use xlink:href=\"#DejaVuSans-50\"/>\n       <use x=\"63.623047\" xlink:href=\"#DejaVuSans-50\"/>\n      </g>\n     </g>\n    </g>\n    <g id=\"xtick_24\">\n     <g id=\"line2d_24\">\n      <g>\n       <use style=\"stroke:#000000;stroke-width:0.8;\" x=\"458.573986\" xlink:href=\"#m6a27de718d\" y=\"297.7975\"/>\n      </g>\n     </g>\n     <g id=\"text_24\">\n      <!-- 23 -->\n      <g transform=\"translate(461.333361 317.5225)rotate(-90)scale(0.1 -0.1)\">\n       <use xlink:href=\"#DejaVuSans-50\"/>\n       <use x=\"63.623047\" xlink:href=\"#DejaVuSans-51\"/>\n      </g>\n     </g>\n    </g>\n    <g id=\"xtick_25\">\n     <g id=\"line2d_25\">\n      <g>\n       <use style=\"stroke:#000000;stroke-width:0.8;\" x=\"476.671284\" xlink:href=\"#m6a27de718d\" y=\"297.7975\"/>\n      </g>\n     </g>\n     <g id=\"text_25\">\n      <!-- 24 -->\n      <g transform=\"translate(479.430659 317.5225)rotate(-90)scale(0.1 -0.1)\">\n       <use xlink:href=\"#DejaVuSans-50\"/>\n       <use x=\"63.623047\" xlink:href=\"#DejaVuSans-52\"/>\n      </g>\n     </g>\n    </g>\n    <g id=\"xtick_26\">\n     <g id=\"line2d_26\">\n      <g>\n       <use style=\"stroke:#000000;stroke-width:0.8;\" x=\"494.768581\" xlink:href=\"#m6a27de718d\" y=\"297.7975\"/>\n      </g>\n     </g>\n     <g id=\"text_26\">\n      <!-- 25 -->\n      <g transform=\"translate(497.527956 317.5225)rotate(-90)scale(0.1 -0.1)\">\n       <use xlink:href=\"#DejaVuSans-50\"/>\n       <use x=\"63.623047\" xlink:href=\"#DejaVuSans-53\"/>\n      </g>\n     </g>\n    </g>\n    <g id=\"xtick_27\">\n     <g id=\"line2d_27\">\n      <g>\n       <use style=\"stroke:#000000;stroke-width:0.8;\" x=\"512.865878\" xlink:href=\"#m6a27de718d\" y=\"297.7975\"/>\n      </g>\n     </g>\n     <g id=\"text_27\">\n      <!-- 26 -->\n      <g transform=\"translate(515.625253 317.5225)rotate(-90)scale(0.1 -0.1)\">\n       <use xlink:href=\"#DejaVuSans-50\"/>\n       <use x=\"63.623047\" xlink:href=\"#DejaVuSans-54\"/>\n      </g>\n     </g>\n    </g>\n    <g id=\"xtick_28\">\n     <g id=\"line2d_28\">\n      <g>\n       <use style=\"stroke:#000000;stroke-width:0.8;\" x=\"530.963176\" xlink:href=\"#m6a27de718d\" y=\"297.7975\"/>\n      </g>\n     </g>\n     <g id=\"text_28\">\n      <!-- 27 -->\n      <g transform=\"translate(533.722551 317.5225)rotate(-90)scale(0.1 -0.1)\">\n       <use xlink:href=\"#DejaVuSans-50\"/>\n       <use x=\"63.623047\" xlink:href=\"#DejaVuSans-55\"/>\n      </g>\n     </g>\n    </g>\n    <g id=\"xtick_29\">\n     <g id=\"line2d_29\">\n      <g>\n       <use style=\"stroke:#000000;stroke-width:0.8;\" x=\"549.060473\" xlink:href=\"#m6a27de718d\" y=\"297.7975\"/>\n      </g>\n     </g>\n     <g id=\"text_29\">\n      <!-- 28 -->\n      <g transform=\"translate(551.819848 317.5225)rotate(-90)scale(0.1 -0.1)\">\n       <use xlink:href=\"#DejaVuSans-50\"/>\n       <use x=\"63.623047\" xlink:href=\"#DejaVuSans-56\"/>\n      </g>\n     </g>\n    </g>\n    <g id=\"xtick_30\">\n     <g id=\"line2d_30\">\n      <g>\n       <use style=\"stroke:#000000;stroke-width:0.8;\" x=\"567.15777\" xlink:href=\"#m6a27de718d\" y=\"297.7975\"/>\n      </g>\n     </g>\n     <g id=\"text_30\">\n      <!-- 29 -->\n      <g transform=\"translate(569.917145 317.5225)rotate(-90)scale(0.1 -0.1)\">\n       <use xlink:href=\"#DejaVuSans-50\"/>\n       <use x=\"63.623047\" xlink:href=\"#DejaVuSans-57\"/>\n      </g>\n     </g>\n    </g>\n    <g id=\"xtick_31\">\n     <g id=\"line2d_31\">\n      <g>\n       <use style=\"stroke:#000000;stroke-width:0.8;\" x=\"585.255068\" xlink:href=\"#m6a27de718d\" y=\"297.7975\"/>\n      </g>\n     </g>\n     <g id=\"text_31\">\n      <!-- 30 -->\n      <g transform=\"translate(588.014443 317.5225)rotate(-90)scale(0.1 -0.1)\">\n       <use xlink:href=\"#DejaVuSans-51\"/>\n       <use x=\"63.623047\" xlink:href=\"#DejaVuSans-48\"/>\n      </g>\n     </g>\n    </g>\n    <g id=\"xtick_32\">\n     <g id=\"line2d_32\">\n      <g>\n       <use style=\"stroke:#000000;stroke-width:0.8;\" x=\"603.352365\" xlink:href=\"#m6a27de718d\" y=\"297.7975\"/>\n      </g>\n     </g>\n     <g id=\"text_32\">\n      <!-- 31 -->\n      <g transform=\"translate(606.11174 317.5225)rotate(-90)scale(0.1 -0.1)\">\n       <use xlink:href=\"#DejaVuSans-51\"/>\n       <use x=\"63.623047\" xlink:href=\"#DejaVuSans-49\"/>\n      </g>\n     </g>\n    </g>\n    <g id=\"xtick_33\">\n     <g id=\"line2d_33\">\n      <g>\n       <use style=\"stroke:#000000;stroke-width:0.8;\" x=\"621.449662\" xlink:href=\"#m6a27de718d\" y=\"297.7975\"/>\n      </g>\n     </g>\n     <g id=\"text_33\">\n      <!-- 32 -->\n      <g transform=\"translate(624.209037 317.5225)rotate(-90)scale(0.1 -0.1)\">\n       <use xlink:href=\"#DejaVuSans-51\"/>\n       <use x=\"63.623047\" xlink:href=\"#DejaVuSans-50\"/>\n      </g>\n     </g>\n    </g>\n    <g id=\"xtick_34\">\n     <g id=\"line2d_34\">\n      <g>\n       <use style=\"stroke:#000000;stroke-width:0.8;\" x=\"639.546959\" xlink:href=\"#m6a27de718d\" y=\"297.7975\"/>\n      </g>\n     </g>\n     <g id=\"text_34\">\n      <!-- 33 -->\n      <g transform=\"translate(642.306334 317.5225)rotate(-90)scale(0.1 -0.1)\">\n       <use xlink:href=\"#DejaVuSans-51\"/>\n       <use x=\"63.623047\" xlink:href=\"#DejaVuSans-51\"/>\n      </g>\n     </g>\n    </g>\n    <g id=\"xtick_35\">\n     <g id=\"line2d_35\">\n      <g>\n       <use style=\"stroke:#000000;stroke-width:0.8;\" x=\"657.644257\" xlink:href=\"#m6a27de718d\" y=\"297.7975\"/>\n      </g>\n     </g>\n     <g id=\"text_35\">\n      <!-- 34 -->\n      <g transform=\"translate(660.403632 317.5225)rotate(-90)scale(0.1 -0.1)\">\n       <use xlink:href=\"#DejaVuSans-51\"/>\n       <use x=\"63.623047\" xlink:href=\"#DejaVuSans-52\"/>\n      </g>\n     </g>\n    </g>\n    <g id=\"xtick_36\">\n     <g id=\"line2d_36\">\n      <g>\n       <use style=\"stroke:#000000;stroke-width:0.8;\" x=\"675.741554\" xlink:href=\"#m6a27de718d\" y=\"297.7975\"/>\n      </g>\n     </g>\n     <g id=\"text_36\">\n      <!-- 35 -->\n      <g transform=\"translate(678.500929 317.5225)rotate(-90)scale(0.1 -0.1)\">\n       <use xlink:href=\"#DejaVuSans-51\"/>\n       <use x=\"63.623047\" xlink:href=\"#DejaVuSans-53\"/>\n      </g>\n     </g>\n    </g>\n    <g id=\"xtick_37\">\n     <g id=\"line2d_37\">\n      <g>\n       <use style=\"stroke:#000000;stroke-width:0.8;\" x=\"693.838851\" xlink:href=\"#m6a27de718d\" y=\"297.7975\"/>\n      </g>\n     </g>\n     <g id=\"text_37\">\n      <!-- 36 -->\n      <g transform=\"translate(696.598226 317.5225)rotate(-90)scale(0.1 -0.1)\">\n       <use xlink:href=\"#DejaVuSans-51\"/>\n       <use x=\"63.623047\" xlink:href=\"#DejaVuSans-54\"/>\n      </g>\n     </g>\n    </g>\n   </g>\n   <g id=\"matplotlib.axis_2\">\n    <g id=\"ytick_1\">\n     <g id=\"line2d_38\">\n      <defs>\n       <path d=\"M 0 0 \nL -3.5 0 \n\" id=\"mcc97edd975\" style=\"stroke:#000000;stroke-width:0.8;\"/>\n      </defs>\n      <g>\n       <use style=\"stroke:#000000;stroke-width:0.8;\" x=\"33.2875\" xlink:href=\"#mcc97edd975\" y=\"297.7975\"/>\n      </g>\n     </g>\n     <g id=\"text_38\">\n      <!-- 0 -->\n      <g transform=\"translate(19.925 301.596719)scale(0.1 -0.1)\">\n       <use xlink:href=\"#DejaVuSans-48\"/>\n      </g>\n     </g>\n    </g>\n    <g id=\"ytick_2\">\n     <g id=\"line2d_39\">\n      <g>\n       <use style=\"stroke:#000000;stroke-width:0.8;\" x=\"33.2875\" xlink:href=\"#mcc97edd975\" y=\"266.458863\"/>\n      </g>\n     </g>\n     <g id=\"text_39\">\n      <!-- 50 -->\n      <g transform=\"translate(13.5625 270.258082)scale(0.1 -0.1)\">\n       <use xlink:href=\"#DejaVuSans-53\"/>\n       <use x=\"63.623047\" xlink:href=\"#DejaVuSans-48\"/>\n      </g>\n     </g>\n    </g>\n    <g id=\"ytick_3\">\n     <g id=\"line2d_40\">\n      <g>\n       <use style=\"stroke:#000000;stroke-width:0.8;\" x=\"33.2875\" xlink:href=\"#mcc97edd975\" y=\"235.120226\"/>\n      </g>\n     </g>\n     <g id=\"text_40\">\n      <!-- 100 -->\n      <g transform=\"translate(7.2 238.919444)scale(0.1 -0.1)\">\n       <use xlink:href=\"#DejaVuSans-49\"/>\n       <use x=\"63.623047\" xlink:href=\"#DejaVuSans-48\"/>\n       <use x=\"127.246094\" xlink:href=\"#DejaVuSans-48\"/>\n      </g>\n     </g>\n    </g>\n    <g id=\"ytick_4\">\n     <g id=\"line2d_41\">\n      <g>\n       <use style=\"stroke:#000000;stroke-width:0.8;\" x=\"33.2875\" xlink:href=\"#mcc97edd975\" y=\"203.781589\"/>\n      </g>\n     </g>\n     <g id=\"text_41\">\n      <!-- 150 -->\n      <g transform=\"translate(7.2 207.580807)scale(0.1 -0.1)\">\n       <use xlink:href=\"#DejaVuSans-49\"/>\n       <use x=\"63.623047\" xlink:href=\"#DejaVuSans-53\"/>\n       <use x=\"127.246094\" xlink:href=\"#DejaVuSans-48\"/>\n      </g>\n     </g>\n    </g>\n    <g id=\"ytick_5\">\n     <g id=\"line2d_42\">\n      <g>\n       <use style=\"stroke:#000000;stroke-width:0.8;\" x=\"33.2875\" xlink:href=\"#mcc97edd975\" y=\"172.442951\"/>\n      </g>\n     </g>\n     <g id=\"text_42\">\n      <!-- 200 -->\n      <g transform=\"translate(7.2 176.24217)scale(0.1 -0.1)\">\n       <use xlink:href=\"#DejaVuSans-50\"/>\n       <use x=\"63.623047\" xlink:href=\"#DejaVuSans-48\"/>\n       <use x=\"127.246094\" xlink:href=\"#DejaVuSans-48\"/>\n      </g>\n     </g>\n    </g>\n    <g id=\"ytick_6\">\n     <g id=\"line2d_43\">\n      <g>\n       <use style=\"stroke:#000000;stroke-width:0.8;\" x=\"33.2875\" xlink:href=\"#mcc97edd975\" y=\"141.104314\"/>\n      </g>\n     </g>\n     <g id=\"text_43\">\n      <!-- 250 -->\n      <g transform=\"translate(7.2 144.903533)scale(0.1 -0.1)\">\n       <use xlink:href=\"#DejaVuSans-50\"/>\n       <use x=\"63.623047\" xlink:href=\"#DejaVuSans-53\"/>\n       <use x=\"127.246094\" xlink:href=\"#DejaVuSans-48\"/>\n      </g>\n     </g>\n    </g>\n    <g id=\"ytick_7\">\n     <g id=\"line2d_44\">\n      <g>\n       <use style=\"stroke:#000000;stroke-width:0.8;\" x=\"33.2875\" xlink:href=\"#mcc97edd975\" y=\"109.765677\"/>\n      </g>\n     </g>\n     <g id=\"text_44\">\n      <!-- 300 -->\n      <g transform=\"translate(7.2 113.564896)scale(0.1 -0.1)\">\n       <use xlink:href=\"#DejaVuSans-51\"/>\n       <use x=\"63.623047\" xlink:href=\"#DejaVuSans-48\"/>\n       <use x=\"127.246094\" xlink:href=\"#DejaVuSans-48\"/>\n      </g>\n     </g>\n    </g>\n    <g id=\"ytick_8\">\n     <g id=\"line2d_45\">\n      <g>\n       <use style=\"stroke:#000000;stroke-width:0.8;\" x=\"33.2875\" xlink:href=\"#mcc97edd975\" y=\"78.42704\"/>\n      </g>\n     </g>\n     <g id=\"text_45\">\n      <!-- 350 -->\n      <g transform=\"translate(7.2 82.226259)scale(0.1 -0.1)\">\n       <use xlink:href=\"#DejaVuSans-51\"/>\n       <use x=\"63.623047\" xlink:href=\"#DejaVuSans-53\"/>\n       <use x=\"127.246094\" xlink:href=\"#DejaVuSans-48\"/>\n      </g>\n     </g>\n    </g>\n    <g id=\"ytick_9\">\n     <g id=\"line2d_46\">\n      <g>\n       <use style=\"stroke:#000000;stroke-width:0.8;\" x=\"33.2875\" xlink:href=\"#mcc97edd975\" y=\"47.088403\"/>\n      </g>\n     </g>\n     <g id=\"text_46\">\n      <!-- 400 -->\n      <g transform=\"translate(7.2 50.887622)scale(0.1 -0.1)\">\n       <use xlink:href=\"#DejaVuSans-52\"/>\n       <use x=\"63.623047\" xlink:href=\"#DejaVuSans-48\"/>\n       <use x=\"127.246094\" xlink:href=\"#DejaVuSans-48\"/>\n      </g>\n     </g>\n    </g>\n   </g>\n   <g id=\"patch_77\">\n    <path d=\"M 33.2875 297.7975 \nL 33.2875 25.9975 \n\" style=\"fill:none;stroke:#000000;stroke-linecap:square;stroke-linejoin:miter;stroke-width:0.8;\"/>\n   </g>\n   <g id=\"patch_78\">\n    <path d=\"M 702.8875 297.7975 \nL 702.8875 25.9975 \n\" style=\"fill:none;stroke:#000000;stroke-linecap:square;stroke-linejoin:miter;stroke-width:0.8;\"/>\n   </g>\n   <g id=\"patch_79\">\n    <path d=\"M 33.2875 297.7975 \nL 702.8875 297.7975 \n\" style=\"fill:none;stroke:#000000;stroke-linecap:square;stroke-linejoin:miter;stroke-width:0.8;\"/>\n   </g>\n   <g id=\"patch_80\">\n    <path d=\"M 33.2875 25.9975 \nL 702.8875 25.9975 \n\" style=\"fill:none;stroke:#000000;stroke-linecap:square;stroke-linejoin:miter;stroke-width:0.8;\"/>\n   </g>\n   <g id=\"text_47\">\n    <!-- relacion localizacion y área -->\n    <defs>\n     <path d=\"M 41.109375 46.296875 \nQ 39.59375 47.171875 37.8125 47.578125 \nQ 36.03125 48 33.890625 48 \nQ 26.265625 48 22.1875 43.046875 \nQ 18.109375 38.09375 18.109375 28.8125 \nL 18.109375 0 \nL 9.078125 0 \nL 9.078125 54.6875 \nL 18.109375 54.6875 \nL 18.109375 46.1875 \nQ 20.953125 51.171875 25.484375 53.578125 \nQ 30.03125 56 36.53125 56 \nQ 37.453125 56 38.578125 55.875 \nQ 39.703125 55.765625 41.0625 55.515625 \nz\n\" id=\"DejaVuSans-114\"/>\n     <path d=\"M 56.203125 29.59375 \nL 56.203125 25.203125 \nL 14.890625 25.203125 \nQ 15.484375 15.921875 20.484375 11.0625 \nQ 25.484375 6.203125 34.421875 6.203125 \nQ 39.59375 6.203125 44.453125 7.46875 \nQ 49.3125 8.734375 54.109375 11.28125 \nL 54.109375 2.78125 \nQ 49.265625 0.734375 44.1875 -0.34375 \nQ 39.109375 -1.421875 33.890625 -1.421875 \nQ 20.796875 -1.421875 13.15625 6.1875 \nQ 5.515625 13.8125 5.515625 26.8125 \nQ 5.515625 40.234375 12.765625 48.109375 \nQ 20.015625 56 32.328125 56 \nQ 43.359375 56 49.78125 48.890625 \nQ 56.203125 41.796875 56.203125 29.59375 \nz\nM 47.21875 32.234375 \nQ 47.125 39.59375 43.09375 43.984375 \nQ 39.0625 48.390625 32.421875 48.390625 \nQ 24.90625 48.390625 20.390625 44.140625 \nQ 15.875 39.890625 15.1875 32.171875 \nz\n\" id=\"DejaVuSans-101\"/>\n     <path d=\"M 9.421875 75.984375 \nL 18.40625 75.984375 \nL 18.40625 0 \nL 9.421875 0 \nz\n\" id=\"DejaVuSans-108\"/>\n     <path d=\"M 34.28125 27.484375 \nQ 23.390625 27.484375 19.1875 25 \nQ 14.984375 22.515625 14.984375 16.5 \nQ 14.984375 11.71875 18.140625 8.90625 \nQ 21.296875 6.109375 26.703125 6.109375 \nQ 34.1875 6.109375 38.703125 11.40625 \nQ 43.21875 16.703125 43.21875 25.484375 \nL 43.21875 27.484375 \nz\nM 52.203125 31.203125 \nL 52.203125 0 \nL 43.21875 0 \nL 43.21875 8.296875 \nQ 40.140625 3.328125 35.546875 0.953125 \nQ 30.953125 -1.421875 24.3125 -1.421875 \nQ 15.921875 -1.421875 10.953125 3.296875 \nQ 6 8.015625 6 15.921875 \nQ 6 25.140625 12.171875 29.828125 \nQ 18.359375 34.515625 30.609375 34.515625 \nL 43.21875 34.515625 \nL 43.21875 35.40625 \nQ 43.21875 41.609375 39.140625 45 \nQ 35.0625 48.390625 27.6875 48.390625 \nQ 23 48.390625 18.546875 47.265625 \nQ 14.109375 46.140625 10.015625 43.890625 \nL 10.015625 52.203125 \nQ 14.9375 54.109375 19.578125 55.046875 \nQ 24.21875 56 28.609375 56 \nQ 40.484375 56 46.34375 49.84375 \nQ 52.203125 43.703125 52.203125 31.203125 \nz\n\" id=\"DejaVuSans-97\"/>\n     <path d=\"M 48.78125 52.59375 \nL 48.78125 44.1875 \nQ 44.96875 46.296875 41.140625 47.34375 \nQ 37.3125 48.390625 33.40625 48.390625 \nQ 24.65625 48.390625 19.8125 42.84375 \nQ 14.984375 37.3125 14.984375 27.296875 \nQ 14.984375 17.28125 19.8125 11.734375 \nQ 24.65625 6.203125 33.40625 6.203125 \nQ 37.3125 6.203125 41.140625 7.25 \nQ 44.96875 8.296875 48.78125 10.40625 \nL 48.78125 2.09375 \nQ 45.015625 0.34375 40.984375 -0.53125 \nQ 36.96875 -1.421875 32.421875 -1.421875 \nQ 20.0625 -1.421875 12.78125 6.34375 \nQ 5.515625 14.109375 5.515625 27.296875 \nQ 5.515625 40.671875 12.859375 48.328125 \nQ 20.21875 56 33.015625 56 \nQ 37.15625 56 41.109375 55.140625 \nQ 45.0625 54.296875 48.78125 52.59375 \nz\n\" id=\"DejaVuSans-99\"/>\n     <path d=\"M 9.421875 54.6875 \nL 18.40625 54.6875 \nL 18.40625 0 \nL 9.421875 0 \nz\nM 9.421875 75.984375 \nL 18.40625 75.984375 \nL 18.40625 64.59375 \nL 9.421875 64.59375 \nz\n\" id=\"DejaVuSans-105\"/>\n     <path d=\"M 30.609375 48.390625 \nQ 23.390625 48.390625 19.1875 42.75 \nQ 14.984375 37.109375 14.984375 27.296875 \nQ 14.984375 17.484375 19.15625 11.84375 \nQ 23.34375 6.203125 30.609375 6.203125 \nQ 37.796875 6.203125 41.984375 11.859375 \nQ 46.1875 17.53125 46.1875 27.296875 \nQ 46.1875 37.015625 41.984375 42.703125 \nQ 37.796875 48.390625 30.609375 48.390625 \nz\nM 30.609375 56 \nQ 42.328125 56 49.015625 48.375 \nQ 55.71875 40.765625 55.71875 27.296875 \nQ 55.71875 13.875 49.015625 6.21875 \nQ 42.328125 -1.421875 30.609375 -1.421875 \nQ 18.84375 -1.421875 12.171875 6.21875 \nQ 5.515625 13.875 5.515625 27.296875 \nQ 5.515625 40.765625 12.171875 48.375 \nQ 18.84375 56 30.609375 56 \nz\n\" id=\"DejaVuSans-111\"/>\n     <path d=\"M 54.890625 33.015625 \nL 54.890625 0 \nL 45.90625 0 \nL 45.90625 32.71875 \nQ 45.90625 40.484375 42.875 44.328125 \nQ 39.84375 48.1875 33.796875 48.1875 \nQ 26.515625 48.1875 22.3125 43.546875 \nQ 18.109375 38.921875 18.109375 30.90625 \nL 18.109375 0 \nL 9.078125 0 \nL 9.078125 54.6875 \nL 18.109375 54.6875 \nL 18.109375 46.1875 \nQ 21.34375 51.125 25.703125 53.5625 \nQ 30.078125 56 35.796875 56 \nQ 45.21875 56 50.046875 50.171875 \nQ 54.890625 44.34375 54.890625 33.015625 \nz\n\" id=\"DejaVuSans-110\"/>\n     <path id=\"DejaVuSans-32\"/>\n     <path d=\"M 5.515625 54.6875 \nL 48.1875 54.6875 \nL 48.1875 46.484375 \nL 14.40625 7.171875 \nL 48.1875 7.171875 \nL 48.1875 0 \nL 4.296875 0 \nL 4.296875 8.203125 \nL 38.09375 47.515625 \nL 5.515625 47.515625 \nz\n\" id=\"DejaVuSans-122\"/>\n     <path d=\"M 32.171875 -5.078125 \nQ 28.375 -14.84375 24.75 -17.8125 \nQ 21.140625 -20.796875 15.09375 -20.796875 \nL 7.90625 -20.796875 \nL 7.90625 -13.28125 \nL 13.1875 -13.28125 \nQ 16.890625 -13.28125 18.9375 -11.515625 \nQ 21 -9.765625 23.484375 -3.21875 \nL 25.09375 0.875 \nL 2.984375 54.6875 \nL 12.5 54.6875 \nL 29.59375 11.921875 \nL 46.6875 54.6875 \nL 56.203125 54.6875 \nz\n\" id=\"DejaVuSans-121\"/>\n     <path d=\"M 34.28125 27.484375 \nQ 23.390625 27.484375 19.1875 25 \nQ 14.984375 22.515625 14.984375 16.5 \nQ 14.984375 11.71875 18.140625 8.90625 \nQ 21.296875 6.109375 26.703125 6.109375 \nQ 34.1875 6.109375 38.703125 11.40625 \nQ 43.21875 16.703125 43.21875 25.484375 \nL 43.21875 27.484375 \nz\nM 52.203125 31.203125 \nL 52.203125 0 \nL 43.21875 0 \nL 43.21875 8.296875 \nQ 40.140625 3.328125 35.546875 0.953125 \nQ 30.953125 -1.421875 24.3125 -1.421875 \nQ 15.921875 -1.421875 10.953125 3.296875 \nQ 6 8.015625 6 15.921875 \nQ 6 25.140625 12.171875 29.828125 \nQ 18.359375 34.515625 30.609375 34.515625 \nL 43.21875 34.515625 \nL 43.21875 35.40625 \nQ 43.21875 41.609375 39.140625 45 \nQ 35.0625 48.390625 27.6875 48.390625 \nQ 23 48.390625 18.546875 47.265625 \nQ 14.109375 46.140625 10.015625 43.890625 \nL 10.015625 52.203125 \nQ 14.9375 54.109375 19.578125 55.046875 \nQ 24.21875 56 28.609375 56 \nQ 40.484375 56 46.34375 49.84375 \nQ 52.203125 43.703125 52.203125 31.203125 \nz\nM 35.78125 79.984375 \nL 45.5 79.984375 \nL 29.59375 61.625 \nL 22.109375 61.625 \nz\n\" id=\"DejaVuSans-225\"/>\n    </defs>\n    <g style=\"fill:#0000ff;\" transform=\"translate(259.595 19.9975)scale(0.16 -0.16)\">\n     <use xlink:href=\"#DejaVuSans-114\"/>\n     <use x=\"38.863281\" xlink:href=\"#DejaVuSans-101\"/>\n     <use x=\"100.386719\" xlink:href=\"#DejaVuSans-108\"/>\n     <use x=\"128.169922\" xlink:href=\"#DejaVuSans-97\"/>\n     <use x=\"189.449219\" xlink:href=\"#DejaVuSans-99\"/>\n     <use x=\"244.429688\" xlink:href=\"#DejaVuSans-105\"/>\n     <use x=\"272.212891\" xlink:href=\"#DejaVuSans-111\"/>\n     <use x=\"333.394531\" xlink:href=\"#DejaVuSans-110\"/>\n     <use x=\"396.773438\" xlink:href=\"#DejaVuSans-32\"/>\n     <use x=\"428.560547\" xlink:href=\"#DejaVuSans-108\"/>\n     <use x=\"456.34375\" xlink:href=\"#DejaVuSans-111\"/>\n     <use x=\"517.525391\" xlink:href=\"#DejaVuSans-99\"/>\n     <use x=\"572.505859\" xlink:href=\"#DejaVuSans-97\"/>\n     <use x=\"633.785156\" xlink:href=\"#DejaVuSans-108\"/>\n     <use x=\"661.568359\" xlink:href=\"#DejaVuSans-105\"/>\n     <use x=\"689.351562\" xlink:href=\"#DejaVuSans-122\"/>\n     <use x=\"741.841797\" xlink:href=\"#DejaVuSans-97\"/>\n     <use x=\"803.121094\" xlink:href=\"#DejaVuSans-99\"/>\n     <use x=\"858.101562\" xlink:href=\"#DejaVuSans-105\"/>\n     <use x=\"885.884766\" xlink:href=\"#DejaVuSans-111\"/>\n     <use x=\"947.066406\" xlink:href=\"#DejaVuSans-110\"/>\n     <use x=\"1010.445312\" xlink:href=\"#DejaVuSans-32\"/>\n     <use x=\"1042.232422\" xlink:href=\"#DejaVuSans-121\"/>\n     <use x=\"1101.412109\" xlink:href=\"#DejaVuSans-32\"/>\n     <use x=\"1133.199219\" xlink:href=\"#DejaVuSans-225\"/>\n     <use x=\"1194.478516\" xlink:href=\"#DejaVuSans-114\"/>\n     <use x=\"1233.341797\" xlink:href=\"#DejaVuSans-101\"/>\n     <use x=\"1294.865234\" xlink:href=\"#DejaVuSans-97\"/>\n    </g>\n   </g>\n   <g id=\"legend_1\">\n    <g id=\"patch_81\">\n     <path d=\"M 604.189062 63.35375 \nL 695.8875 63.35375 \nQ 697.8875 63.35375 697.8875 61.35375 \nL 697.8875 32.9975 \nQ 697.8875 30.9975 695.8875 30.9975 \nL 604.189062 30.9975 \nQ 602.189062 30.9975 602.189062 32.9975 \nL 602.189062 61.35375 \nQ 602.189062 63.35375 604.189062 63.35375 \nz\n\" style=\"fill:#ffffff;opacity:0.8;stroke:#cccccc;stroke-linejoin:miter;\"/>\n    </g>\n    <g id=\"patch_82\">\n     <path d=\"M 606.189062 42.595937 \nL 626.189062 42.595937 \nL 626.189062 35.595937 \nL 606.189062 35.595937 \nz\n\" style=\"fill:#1f77b4;\"/>\n    </g>\n    <g id=\"text_48\">\n     <!-- Geolocation -->\n     <defs>\n      <path d=\"M 59.515625 10.40625 \nL 59.515625 29.984375 \nL 43.40625 29.984375 \nL 43.40625 38.09375 \nL 69.28125 38.09375 \nL 69.28125 6.78125 \nQ 63.578125 2.734375 56.6875 0.65625 \nQ 49.8125 -1.421875 42 -1.421875 \nQ 24.90625 -1.421875 15.25 8.5625 \nQ 5.609375 18.5625 5.609375 36.375 \nQ 5.609375 54.25 15.25 64.234375 \nQ 24.90625 74.21875 42 74.21875 \nQ 49.125 74.21875 55.546875 72.453125 \nQ 61.96875 70.703125 67.390625 67.28125 \nL 67.390625 56.78125 \nQ 61.921875 61.421875 55.765625 63.765625 \nQ 49.609375 66.109375 42.828125 66.109375 \nQ 29.4375 66.109375 22.71875 58.640625 \nQ 16.015625 51.171875 16.015625 36.375 \nQ 16.015625 21.625 22.71875 14.15625 \nQ 29.4375 6.6875 42.828125 6.6875 \nQ 48.046875 6.6875 52.140625 7.59375 \nQ 56.25 8.5 59.515625 10.40625 \nz\n\" id=\"DejaVuSans-71\"/>\n      <path d=\"M 18.3125 70.21875 \nL 18.3125 54.6875 \nL 36.8125 54.6875 \nL 36.8125 47.703125 \nL 18.3125 47.703125 \nL 18.3125 18.015625 \nQ 18.3125 11.328125 20.140625 9.421875 \nQ 21.96875 7.515625 27.59375 7.515625 \nL 36.8125 7.515625 \nL 36.8125 0 \nL 27.59375 0 \nQ 17.1875 0 13.234375 3.875 \nQ 9.28125 7.765625 9.28125 18.015625 \nL 9.28125 47.703125 \nL 2.6875 47.703125 \nL 2.6875 54.6875 \nL 9.28125 54.6875 \nL 9.28125 70.21875 \nz\n\" id=\"DejaVuSans-116\"/>\n     </defs>\n     <g transform=\"translate(634.189062 42.595937)scale(0.1 -0.1)\">\n      <use xlink:href=\"#DejaVuSans-71\"/>\n      <use x=\"77.490234\" xlink:href=\"#DejaVuSans-101\"/>\n      <use x=\"139.013672\" xlink:href=\"#DejaVuSans-111\"/>\n      <use x=\"200.195312\" xlink:href=\"#DejaVuSans-108\"/>\n      <use x=\"227.978516\" xlink:href=\"#DejaVuSans-111\"/>\n      <use x=\"289.160156\" xlink:href=\"#DejaVuSans-99\"/>\n      <use x=\"344.140625\" xlink:href=\"#DejaVuSans-97\"/>\n      <use x=\"405.419922\" xlink:href=\"#DejaVuSans-116\"/>\n      <use x=\"444.628906\" xlink:href=\"#DejaVuSans-105\"/>\n      <use x=\"472.412109\" xlink:href=\"#DejaVuSans-111\"/>\n      <use x=\"533.59375\" xlink:href=\"#DejaVuSans-110\"/>\n     </g>\n    </g>\n    <g id=\"patch_83\">\n     <path d=\"M 606.189062 57.274062 \nL 626.189062 57.274062 \nL 626.189062 50.274062 \nL 606.189062 50.274062 \nz\n\" style=\"fill:#ff7f0e;\"/>\n    </g>\n    <g id=\"text_49\">\n     <!-- Title -->\n     <defs>\n      <path d=\"M -0.296875 72.90625 \nL 61.375 72.90625 \nL 61.375 64.59375 \nL 35.5 64.59375 \nL 35.5 0 \nL 25.59375 0 \nL 25.59375 64.59375 \nL -0.296875 64.59375 \nz\n\" id=\"DejaVuSans-84\"/>\n     </defs>\n     <g transform=\"translate(634.189062 57.274062)scale(0.1 -0.1)\">\n      <use xlink:href=\"#DejaVuSans-84\"/>\n      <use x=\"57.958984\" xlink:href=\"#DejaVuSans-105\"/>\n      <use x=\"85.742188\" xlink:href=\"#DejaVuSans-116\"/>\n      <use x=\"124.951172\" xlink:href=\"#DejaVuSans-108\"/>\n      <use x=\"152.734375\" xlink:href=\"#DejaVuSans-101\"/>\n     </g>\n    </g>\n   </g>\n  </g>\n </g>\n <defs>\n  <clipPath id=\"p2108260688\">\n   <rect height=\"271.8\" width=\"669.6\" x=\"33.2875\" y=\"25.9975\"/>\n  </clipPath>\n </defs>\n</svg>\n",
      "image/png": "[encoded data removed]"
     },
     "metadata": {
      "needs_background": "light"
     }
    }
   ],
   "source": [
    "\n",
    "plot_calor= df_calor.plot(kind=\"bar\", figsize=(12,5))\n",
    "plt.title('relacion localizacion y área', color=\"blue\", fontsize=16)\n",
    "plt.savefig('grafica/histograma_geo_title.png')"
   ]
  },
  {
   "cell_type": "code",
   "execution_count": 42,
   "metadata": {},
   "outputs": [],
   "source": [
    "# Geolocalizción "
   ]
  },
  {
   "cell_type": "code",
   "execution_count": 43,
   "metadata": {},
   "outputs": [
    {
     "output_type": "stream",
     "name": "stdout",
     "text": [
      "<class 'pandas.core.frame.DataFrame'>\nInt64Index: 1335 entries, 26 to 1562\nData columns (total 6 columns):\n #   Column       Non-Null Count  Dtype         \n---  ------       --------------  -----         \n 0   Title        1335 non-null   object        \n 1   Last update  1335 non-null   datetime64[ns]\n 2   Geolocation  1335 non-null   object        \n 3   Action area  1335 non-null   object        \n 4   website      1335 non-null   object        \n 5   Post date    1335 non-null   datetime64[ns]\ndtypes: datetime64[ns](2), object(4)\nmemory usage: 73.0+ KB\n"
     ]
    }
   ],
   "source": [
    "#DF con nan eliminados de geolocalitation\n",
    "geo_na=df.dropna()\n",
    "geo_na.info()"
   ]
  },
  {
   "cell_type": "code",
   "execution_count": 44,
   "metadata": {},
   "outputs": [],
   "source": [
    "#Elimino las fechas, que para este tema no aportan \n",
    "geo_na.drop(['website', 'Last update', 'Post date'], axis='columns', inplace=True)"
   ]
  },
  {
   "cell_type": "code",
   "execution_count": 45,
   "metadata": {},
   "outputs": [
    {
     "output_type": "execute_result",
     "data": {
      "text/plain": [
       "Index(['Title', 'Geolocation', 'Action area', 'valores'], dtype='object')"
      ]
     },
     "metadata": {},
     "execution_count": 45
    }
   ],
   "source": [
    "#Añado columnas con valores de loc, lat \n",
    "geo_na['valores']= geo_na.Geolocation.str[7:-1]\n",
    "geo_na.columns"
   ]
  },
  {
   "cell_type": "code",
   "execution_count": 46,
   "metadata": {},
   "outputs": [
    {
     "output_type": "execute_result",
     "data": {
      "text/plain": [
       "             lon         lat\n",
       "1558  -0.1245724  51.5118003\n",
       "1559  -0.1277583  51.5073509\n",
       "1560   -4.251806   55.864237\n",
       "1561   2.1376299  41.3843763\n",
       "1562  -3.1766739   55.950223"
      ],
      "text/html": "<div>\n<style scoped>\n    .dataframe tbody tr th:only-of-type {\n        vertical-align: middle;\n    }\n\n    .dataframe tbody tr th {\n        vertical-align: top;\n    }\n\n    .dataframe thead th {\n        text-align: right;\n    }\n</style>\n<table border=\"1\" class=\"dataframe\">\n  <thead>\n    <tr style=\"text-align: right;\">\n      <th></th>\n      <th>lon</th>\n      <th>lat</th>\n    </tr>\n  </thead>\n  <tbody>\n    <tr>\n      <th>1558</th>\n      <td>-0.1245724</td>\n      <td>51.5118003</td>\n    </tr>\n    <tr>\n      <th>1559</th>\n      <td>-0.1277583</td>\n      <td>51.5073509</td>\n    </tr>\n    <tr>\n      <th>1560</th>\n      <td>-4.251806</td>\n      <td>55.864237</td>\n    </tr>\n    <tr>\n      <th>1561</th>\n      <td>2.1376299</td>\n      <td>41.3843763</td>\n    </tr>\n    <tr>\n      <th>1562</th>\n      <td>-3.1766739</td>\n      <td>55.950223</td>\n    </tr>\n  </tbody>\n</table>\n</div>"
     },
     "metadata": {},
     "execution_count": 46
    }
   ],
   "source": [
    "#La columna la separo, como un nuevo df y le cambio los nombres \n",
    "df_geo1= geo_na.valores.str.split(' ', expand=True).rename(columns={0:'lon', 1:'lat'})\n",
    "df_geo1.tail()"
   ]
  },
  {
   "cell_type": "code",
   "execution_count": 47,
   "metadata": {},
   "outputs": [
    {
     "output_type": "execute_result",
     "data": {
      "text/plain": [
       "Index(['Title', 'Geolocation', 'Action area', 'valores', 'lon', 'lat'], dtype='object')"
      ]
     },
     "metadata": {},
     "execution_count": 47
    }
   ],
   "source": [
    "datas=(geo_na, df_geo1,)\n",
    "df_geo= pd.concat(datas, axis=1)\n",
    "df_geo.columns"
   ]
  },
  {
   "cell_type": "code",
   "execution_count": 48,
   "metadata": {},
   "outputs": [
    {
     "output_type": "stream",
     "name": "stdout",
     "text": [
      "<class 'pandas.core.frame.DataFrame'>\nInt64Index: 1335 entries, 26 to 1562\nData columns (total 6 columns):\n #   Column       Non-Null Count  Dtype  \n---  ------       --------------  -----  \n 0   Title        1335 non-null   object \n 1   Geolocation  1335 non-null   object \n 2   Action area  1335 non-null   object \n 3   valores      1335 non-null   object \n 4   lon          1335 non-null   float64\n 5   lat          1335 non-null   float64\ndtypes: float64(2), object(4)\nmemory usage: 73.0+ KB\n"
     ]
    }
   ],
   "source": [
    "df_geo['lat']=df_geo['lat'].astype(float)\n",
    "df_geo['lon']=df_geo['lon'].astype(float)\n",
    "df_geo.info()"
   ]
  },
  {
   "cell_type": "code",
   "execution_count": 49,
   "metadata": {},
   "outputs": [
    {
     "output_type": "execute_result",
     "data": {
      "text/plain": [
       "        Title                  Geolocation  \\\n",
       "26     Auquan  POINT (-3.435973 55.378051)   \n",
       "28   HT2 Labs  POINT (-3.435973 55.378051)   \n",
       "29    Fluency  POINT (-3.435973 55.378051)   \n",
       "37         V7  POINT (-3.435973 55.378051)   \n",
       "44  AttendApp  POINT (-3.435973 55.378051)   \n",
       "\n",
       "                                  Action area              valores       lon  \\\n",
       "26  Vertical applications, Financial Services  -3.435973 55.378051 -3.435973   \n",
       "28           Vertical applications, Education  -3.435973 55.378051 -3.435973   \n",
       "29           Vertical applications, Education  -3.435973 55.378051 -3.435973   \n",
       "37           Vertical applications, Education  -3.435973 55.378051 -3.435973   \n",
       "44               Vertical applications, Other  -3.435973 55.378051 -3.435973   \n",
       "\n",
       "          lat  \n",
       "26  55.378051  \n",
       "28  55.378051  \n",
       "29  55.378051  \n",
       "37  55.378051  \n",
       "44  55.378051  "
      ],
      "text/html": "<div>\n<style scoped>\n    .dataframe tbody tr th:only-of-type {\n        vertical-align: middle;\n    }\n\n    .dataframe tbody tr th {\n        vertical-align: top;\n    }\n\n    .dataframe thead th {\n        text-align: right;\n    }\n</style>\n<table border=\"1\" class=\"dataframe\">\n  <thead>\n    <tr style=\"text-align: right;\">\n      <th></th>\n      <th>Title</th>\n      <th>Geolocation</th>\n      <th>Action area</th>\n      <th>valores</th>\n      <th>lon</th>\n      <th>lat</th>\n    </tr>\n  </thead>\n  <tbody>\n    <tr>\n      <th>26</th>\n      <td>Auquan</td>\n      <td>POINT (-3.435973 55.378051)</td>\n      <td>Vertical applications, Financial Services</td>\n      <td>-3.435973 55.378051</td>\n      <td>-3.435973</td>\n      <td>55.378051</td>\n    </tr>\n    <tr>\n      <th>28</th>\n      <td>HT2 Labs</td>\n      <td>POINT (-3.435973 55.378051)</td>\n      <td>Vertical applications, Education</td>\n      <td>-3.435973 55.378051</td>\n      <td>-3.435973</td>\n      <td>55.378051</td>\n    </tr>\n    <tr>\n      <th>29</th>\n      <td>Fluency</td>\n      <td>POINT (-3.435973 55.378051)</td>\n      <td>Vertical applications, Education</td>\n      <td>-3.435973 55.378051</td>\n      <td>-3.435973</td>\n      <td>55.378051</td>\n    </tr>\n    <tr>\n      <th>37</th>\n      <td>V7</td>\n      <td>POINT (-3.435973 55.378051)</td>\n      <td>Vertical applications, Education</td>\n      <td>-3.435973 55.378051</td>\n      <td>-3.435973</td>\n      <td>55.378051</td>\n    </tr>\n    <tr>\n      <th>44</th>\n      <td>AttendApp</td>\n      <td>POINT (-3.435973 55.378051)</td>\n      <td>Vertical applications, Other</td>\n      <td>-3.435973 55.378051</td>\n      <td>-3.435973</td>\n      <td>55.378051</td>\n    </tr>\n  </tbody>\n</table>\n</div>"
     },
     "metadata": {},
     "execution_count": 49
    }
   ],
   "source": [
    "df_geo.head()"
   ]
  },
  {
   "cell_type": "code",
   "execution_count": 85,
   "metadata": {},
   "outputs": [
    {
     "output_type": "display_data",
     "data": {
      "application/vnd.plotly.v1+json": {
       "config": {
        "plotlyServerURL": "https://plot.ly"
       },
       "data": [
        {
         "customdata": [
          [
           "Auquan",
           "Action area"
          ],
          [
           "HT2 Labs",
           "Action area"
          ],
          [
           "Fluency",
           "Action area"
          ],
          [
           "V7",
           "Action area"
          ],
          [
           "AttendApp",
           "Action area"
          ],
          [
           "Woogie",
           "Action area"
          ],
          [
           "Fraugster",
           "Action area"
          ],
          [
           "Neudata",
           "Action area"
          ],
          [
           "FriendlyScore",
           "Action area"
          ],
          [
           "Metafused",
           "Action area"
          ],
          [
           "KITE EDGE LTD",
           "Action area"
          ],
          [
           "AlliedCrowds",
           "Action area"
          ],
          [
           "Lowell Group",
           "Action area"
          ],
          [
           "Grapedata",
           "Action area"
          ],
          [
           "Evolution AI",
           "Action area"
          ],
          [
           "Jobs The Word",
           "Action area"
          ],
          [
           "NanoSight",
           "Action area"
          ],
          [
           "Geneix",
           "Action area"
          ],
          [
           "DEONTICS",
           "Action area"
          ],
          [
           "Vamstar",
           "Action area"
          ],
          [
           "Aigenpulse",
           "Action area"
          ],
          [
           "Signol",
           "Action area"
          ],
          [
           "Travel AI ",
           "Action area"
          ],
          [
           "Ackstorm",
           "Action area"
          ],
          [
           "Upmem",
           "Action area"
          ],
          [
           "Bird.i",
           "Action area"
          ],
          [
           "ALTILIA",
           "Action area"
          ],
          [
           "Advanced Virtual",
           "Action area"
          ],
          [
           "Opinum",
           "Action area"
          ],
          [
           "Adagio",
           "Action area"
          ],
          [
           "resmio",
           "Action area"
          ],
          [
           "Datarino",
           "Action area"
          ],
          [
           "Playthe.net",
           "Action area"
          ],
          [
           "Wizdee",
           "Action area"
          ],
          [
           "Digital Fingerprints",
           "Action area"
          ],
          [
           "Travel Appeal ",
           "Action area"
          ],
          [
           "Infosum",
           "Action area"
          ],
          [
           "Hello Soda ",
           "Action area"
          ],
          [
           "Salviol Global Analytics",
           "Action area"
          ],
          [
           "PEAK",
           "Action area"
          ],
          [
           "Optalysys Ltd",
           "Action area"
          ],
          [
           "Webdata Solutions",
           "Action area"
          ],
          [
           "Instaffo",
           "Action area"
          ],
          [
           "Visiblee",
           "Action area"
          ],
          [
           "Appiness",
           "Action area"
          ],
          [
           "Digital Contact",
           "Action area"
          ],
          [
           "Qualtera",
           "Action area"
          ],
          [
           "WorkIT Software",
           "Action area"
          ],
          [
           "Oaknorth",
           "Action area"
          ],
          [
           "Cellfish",
           "Action area"
          ],
          [
           "Intersec",
           "Action area"
          ],
          [
           "Nemo TV",
           "Action area"
          ],
          [
           "Seerene",
           "Action area"
          ],
          [
           "Purple ",
           "Action area"
          ],
          [
           "Inovia Group",
           "Action area"
          ],
          [
           "OmPrompt",
           "Action area"
          ],
          [
           "Saagie",
           "Action area"
          ],
          [
           "RushFiles",
           "Action area"
          ],
          [
           "ForePaaS ",
           "Action area"
          ],
          [
           "Bookia srl",
           "Action area"
          ],
          [
           "GFAIVE",
           "Action area"
          ],
          [
           "Bibold",
           "Action area"
          ],
          [
           "Talent Up",
           "Action area"
          ],
          [
           "ioChem-BD",
           "Action area"
          ],
          [
           "Logicalis Spain SLU",
           "Action area"
          ],
          [
           "SAPIENTIS, S.L.",
           "Action area"
          ],
          [
           "AMALFI ANALYTICS",
           "Action area"
          ],
          [
           "Palo Alto Networks",
           "Action area"
          ],
          [
           "Chatbot Pack",
           "Action area"
          ],
          [
           "Mabrian Technologies SL",
           "Action area"
          ],
          [
           "Lead Ratings",
           "Action area"
          ],
          [
           "Micro Knowledge",
           "Action area"
          ],
          [
           "Citibeats",
           "Action area"
          ],
          [
           "Cleverdata",
           "Action area"
          ],
          [
           "Tandem",
           "Action area"
          ],
          [
           "Datancia",
           "Action area"
          ],
          [
           "UOC",
           "Action area"
          ],
          [
           "CCMA",
           "Action area"
          ],
          [
           "DAPCOM data services SL",
           "Action area"
          ],
          [
           "Datalong16",
           "Action area"
          ],
          [
           "Bigfinite Barcelona",
           "Action area"
          ],
          [
           "Data ScienceTech Institute",
           "Action area"
          ],
          [
           "Lumio Analytics",
           "Action area"
          ],
          [
           "Experfy Inc",
           "Action area"
          ],
          [
           "dmi.io",
           "Action area"
          ],
          [
           "Garage",
           "Action area"
          ],
          [
           "Nissatech",
           "Action area"
          ],
          [
           "Amsterdam Science Park",
           "Action area"
          ],
          [
           "ACE",
           "Action area"
          ],
          [
           "ZIP",
           "Action area"
          ],
          [
           "JIC Starcube",
           "Action area"
          ],
          [
           "StartUpYard",
           "Action area"
          ],
          [
           "Accelerace",
           "Action area"
          ],
          [
           "GameFounders",
           "Action area"
          ],
          [
           "Garage 48",
           "Action area"
          ],
          [
           "Startup Wise Guys",
           "Action area"
          ],
          [
           "Startup Sauna",
           "Action area"
          ],
          [
           "TheFamily",
           "Action area"
          ],
          [
           "NUMA",
           "Action area"
          ],
          [
           "50Partners",
           "Action area"
          ],
          [
           "OpenFund",
           "Action area"
          ],
          [
           "Metavallon- the accelerator",
           "Action area"
          ],
          [
           "Axel Springer Plug & Play",
           "Action area"
          ],
          [
           "German Silicon Valley Accelerator",
           "Action area"
          ],
          [
           "hub:raum",
           "Action area"
          ],
          [
           "ProSiebenSat.1 Accelerator",
           "Action area"
          ],
          [
           "icatapult",
           "Action area"
          ],
          [
           "Startup Reykjavik",
           "Action area"
          ],
          [
           "H-Farm",
           "Action area"
          ],
          [
           "Seedlab",
           "Action area"
          ],
          [
           "LuissEnLabs",
           "Action area"
          ],
          [
           "Rockstart",
           "Action area"
          ],
          [
           "betaFACTORY",
           "Action area"
          ],
          [
           "StartupHighway",
           "Action area"
          ],
          [
           "The Lisbon Challenge",
           "Action area"
          ],
          [
           "Gamma Rebels",
           "Action area"
          ],
          [
           "SeedRocket",
           "Action area"
          ],
          [
           "Tetuan Valley",
           "Action area"
          ],
          [
           "Fongit",
           "Action area"
          ],
          [
           "Y-Start",
           "Action area"
          ],
          [
           "ImactHub Zurich",
           "Action area"
          ],
          [
           "Startup Weekend",
           "Action area"
          ],
          [
           "StartupBus",
           "Action area"
          ],
          [
           "IMPACT Accelerator",
           "Action area"
          ],
          [
           "StartupBootcamp Internet of Things & Data Barcelona",
           "Action area"
          ],
          [
           "EBAN",
           "Action area"
          ],
          [
           "BAE",
           "Action area"
          ],
          [
           "StartupVillage",
           "Action area"
          ],
          [
           "MassChallenge UK",
           "Action area"
          ],
          [
           "MeWeHub",
           "Action area"
          ],
          [
           "Microsoft Ventures",
           "Action area"
          ],
          [
           "Pi Labs",
           "Action area"
          ],
          [
           "PlayHubs",
           "Action area"
          ],
          [
           "R/GA Accelerator",
           "Action area"
          ],
          [
           "Seedcamp",
           "Action area"
          ],
          [
           "Sirrius",
           "Action area"
          ],
          [
           "Startup Sesame",
           "Action area"
          ],
          [
           "Startupbootcamp FinTech London",
           "Action area"
          ],
          [
           "Startupbootcamp InsurTech",
           "Action area"
          ],
          [
           "Startupbootcamp IoT Connected Devices",
           "Action area"
          ],
          [
           "Techstars - Barclays London",
           "Action area"
          ],
          [
           "Techstars - London",
           "Action area"
          ],
          [
           "Techstars - Virgin Media London",
           "Action area"
          ],
          [
           "The Bakery",
           "Action area"
          ],
          [
           "The Food Foundery",
           "Action area"
          ],
          [
           "The Grocery Accelerator",
           "Action area"
          ],
          [
           "The London City Incubator",
           "Action area"
          ],
          [
           "The Startup Tribe by Escape the City",
           "Action area"
          ],
          [
           "TrueStart",
           "Action area"
          ],
          [
           "UCL Advances Hathchery",
           "Action area"
          ],
          [
           "Virtual Technology Cluster",
           "Action area"
          ],
          [
           "Wayra UK",
           "Action area"
          ],
          [
           "Open Data Institute",
           "Action area"
          ],
          [
           "Ignite",
           "Action area"
          ],
          [
           "Young Foundation Ventures",
           "Action area"
          ],
          [
           "CSIT Labs",
           "Action area"
          ],
          [
           "Idea Alive",
           "Action area"
          ],
          [
           "IQuBit",
           "Action area"
          ],
          [
           "MadLab Arts & Tech Accelerator",
           "Action area"
          ],
          [
           "Ricoh Ignite Accelerator",
           "Action area"
          ],
          [
           "Ideas Fund",
           "Action area"
          ],
          [
           "Elevator's Accelerator",
           "Action area"
          ],
          [
           "Entrepreneurs for the future",
           "Action area"
          ],
          [
           "WebStart Bristol",
           "Action area"
          ],
          [
           "Accelerate Cambridge",
           "Action area"
          ],
          [
           "Qi3 Accelerator",
           "Action area"
          ],
          [
           "CodeBase",
           "Action area"
          ],
          [
           "Unbabel",
           "Action area"
          ],
          [
           "Mapillary",
           "Action area"
          ],
          [
           "Austrian Research Institute for Artificial Intelligence",
           "Action area"
          ],
          [
           "i5 invest",
           "Action area"
          ],
          [
           "Innovation into Business",
           "Action area"
          ],
          [
           "Up to Eleven",
           "Action area"
          ],
          [
           "Kubator",
           "Action area"
          ],
          [
           "Telenet Idealabs",
           "Action area"
          ],
          [
           "Nest'Up",
           "Action area"
          ],
          [
           "3Challenge",
           "Action area"
          ],
          [
           "LAUNCHub",
           "Action area"
          ],
          [
           "The spot",
           "Action area"
          ],
          [
           "Start up Slovenia",
           "Action area"
          ],
          [
           "Startup Explore",
           "Action area"
          ],
          [
           "Sup 46",
           "Action area"
          ],
          [
           "Swedish startup space",
           "Action area"
          ],
          [
           "Stockholm Impact hub",
           "Action area"
          ],
          [
           "Seats2meet",
           "Action area"
          ],
          [
           "Founded in Holland",
           "Action area"
          ],
          [
           "Startup Delta",
           "Action area"
          ],
          [
           "Dutch incubator",
           "Action area"
          ],
          [
           "High tech campus",
           "Action area"
          ],
          [
           "Amsterdam impact hub",
           "Action area"
          ],
          [
           "Startupgrind glasgow",
           "Action area"
          ],
          [
           "Rookie oven",
           "Action area"
          ],
          [
           "Startacus",
           "Action area"
          ],
          [
           "Startup Wales",
           "Action area"
          ],
          [
           "UP Accelerator",
           "Action area"
          ],
          [
           "DotForge",
           "Action area"
          ],
          [
           "01 Ventures",
           "Action area"
          ],
          [
           "Climat KIC Accelerator",
           "Action area"
          ],
          [
           "Entrepreneurial Spark",
           "Action area"
          ],
          [
           "Coinsilium",
           "Action area"
          ],
          [
           "Collider Accelerator",
           "Action area"
          ],
          [
           "CYLON",
           "Action area"
          ],
          [
           "Design Council Spark",
           "Action area"
          ],
          [
           "EcoMachines Ventures",
           "Action area"
          ],
          [
           "500 start ups london",
           "Action area"
          ],
          [
           "EIT Digital Accelerator",
           "Action area"
          ],
          [
           "Emerge Education",
           "Action area"
          ],
          [
           "Accelerator Academy",
           "Action area"
          ],
          [
           "BBC Worldwide LABS",
           "Action area"
          ],
          [
           "Bethnal Green Ventures",
           "Action area"
          ],
          [
           "New Fashion Venture",
           "Action area"
          ],
          [
           "Central Research Lab",
           "Action area"
          ],
          [
           "Cinnamon Bridge",
           "Action area"
          ],
          [
           "Entrepreneur First",
           "Action area"
          ],
          [
           "EuropeanPioneers",
           "Action area"
          ],
          [
           "Fast Forward",
           "Action area"
          ],
          [
           "FinTech Innovation Lab London",
           "Action area"
          ],
          [
           "Founders Factory",
           "Action area"
          ],
          [
           "Founders Institute",
           "Action area"
          ],
          [
           "Geovation",
           "Action area"
          ],
          [
           "Goldman Sachs 10,000 Small Businesses",
           "Action area"
          ],
          [
           "HackTrain Accelerator",
           "Action area"
          ],
          [
           "Idea London",
           "Action area"
          ],
          [
           "Incubus",
           "Action area"
          ],
          [
           "Kitchen Table Projects",
           "Action area"
          ],
          [
           "L Marks",
           "Action area"
          ],
          [
           "Level39",
           "Action area"
          ],
          [
           "Marathon Labs",
           "Action area"
          ],
          [
           "StartUps BE",
           "Action area"
          ],
          [
           "Up Paris",
           "Action area"
          ],
          [
           "My startup Paris",
           "Action area"
          ],
          [
           "Startup grind Paris",
           "Action area"
          ],
          [
           "Germany Startup Map",
           "Action area"
          ],
          [
           "Berlin Impact Hub",
           "Action area"
          ],
          [
           "Dynamo Projects",
           "Action area"
          ],
          [
           "Creativity Platform",
           "Action area"
          ],
          [
           "Impact Hub Athens",
           "Action area"
          ],
          [
           "Loft2 Work",
           "Action area"
          ],
          [
           "Startup Grin Athens",
           "Action area"
          ],
          [
           "Digital Factory",
           "Action area"
          ],
          [
           "Startup Ireland",
           "Action area"
          ],
          [
           "Enterprise Ireland",
           "Action area"
          ],
          [
           "Startup Europe club Rome",
           "Action area"
          ],
          [
           "Impact Hub Roma",
           "Action area"
          ],
          [
           "Impact Hub Florence",
           "Action area"
          ],
          [
           "Impact hub Milan",
           "Action area"
          ],
          [
           "Helsinki Business Hub",
           "Action area"
          ],
          [
           "Aaltoes",
           "Action area"
          ],
          [
           "Hub 13",
           "Action area"
          ],
          [
           "Slush",
           "Action area"
          ],
          [
           "Impact hub Bulgaria",
           "Action area"
          ],
          [
           "Start up Croatia",
           "Action area"
          ],
          [
           "Impact Hub Zagreb",
           "Action area"
          ],
          [
           "Startup Cyprus",
           "Action area"
          ],
          [
           "Future Bridge Cyprus",
           "Action area"
          ],
          [
           "Global entrepreneurship weel",
           "Action area"
          ],
          [
           "Czech startups",
           "Action area"
          ],
          [
           "Budapest impact hub",
           "Action area"
          ],
          [
           "Association of SME's",
           "Action area"
          ],
          [
           "Øresund startups",
           "Action area"
          ],
          [
           "Startup Denmark",
           "Action area"
          ],
          [
           "Startup Estonia",
           "Action area"
          ],
          [
           "Arctic Startup",
           "Action area"
          ],
          [
           "New factory",
           "Action area"
          ],
          [
           "Midnight pitch fest",
           "Action area"
          ],
          [
           "Tech Hub Riga",
           "Action area"
          ],
          [
           "Labs of Latvia",
           "Action area"
          ],
          [
           "Latvian IT cluster",
           "Action area"
          ],
          [
           "Startup Lithuania",
           "Action area"
          ],
          [
           "Invest Lithuania",
           "Action area"
          ],
          [
           "Take off Malta",
           "Action area"
          ],
          [
           "Startup Poland",
           "Action area"
          ],
          [
           "Startup Europe partnership",
           "Action area"
          ],
          [
           "Impact hub Bucharest",
           "Action area"
          ],
          [
           "Impact hub Bratislava",
           "Action area"
          ],
          [
           "With love .sk",
           "Action area"
          ],
          [
           "Entreprise Slovakia",
           "Action area"
          ],
          [
           "iWazat",
           "Action area"
          ],
          [
           "Mettrr",
           "Action area"
          ],
          [
           "Rainbird",
           "Action area"
          ],
          [
           "Swiftkey",
           "Action area"
          ],
          [
           "TypeScore",
           "Action area"
          ],
          [
           "Bloomsbury",
           "Action area"
          ],
          [
           "Luminance",
           "Action area"
          ],
          [
           "re:infer",
           "Action area"
          ],
          [
           "Stelae Technologies",
           "Action area"
          ],
          [
           "Clarice Travel",
           "Action area"
          ],
          [
           "Grumgo",
           "Action area"
          ],
          [
           "Kompas",
           "Action area"
          ],
          [
           "Diffblue",
           "Action area"
          ],
          [
           "BotsCrew",
           "Action area"
          ],
          [
           "FiveAI",
           "Action area"
          ],
          [
           "ITMAGINATION",
           "Action area"
          ],
          [
           "Danubius Expert",
           "Action area"
          ],
          [
           "UAB INVENTI",
           "Action area"
          ],
          [
           "AFFINITY",
           "Action area"
          ],
          [
           "STX Next",
           "Action area"
          ],
          [
           "Oktawave",
           "Action area"
          ],
          [
           "Accedia",
           "Action area"
          ],
          [
           "Code Consulting",
           "Action area"
          ],
          [
           "Yieldbird",
           "Action area"
          ],
          [
           "The Software House",
           "Action area"
          ],
          [
           "S.C. Trencadis",
           "Action area"
          ],
          [
           "Data Artisans",
           "Action area"
          ],
          [
           "ARM",
           "Action area"
          ],
          [
           "Graphcore",
           "Action area"
          ],
          [
           "Scortex",
           "Action area"
          ],
          [
           "Arcadia Data",
           "Action area"
          ],
          [
           "Celonis",
           "Action area"
          ],
          [
           "Chronocam",
           "Action area"
          ],
          [
           "Blue Vision labs",
           "Action area"
          ],
          [
           "EXALEAD",
           "Action area"
          ],
          [
           "Sinequa",
           "Action area"
          ],
          [
           "Clustree",
           "Action area"
          ],
          [
           "Darktrace",
           "Action area"
          ],
          [
           "Aire",
           "Action area"
          ],
          [
           "Shift Technology",
           "Action area"
          ],
          [
           "Tractable",
           "Action area"
          ],
          [
           "Babylon Health",
           "Action area"
          ],
          [
           "German Autolabs",
           "Action area"
          ],
          [
           "Mobileye",
           "Action area"
          ],
          [
           "Impulse Brussels",
           "Action area"
          ],
          [
           "Enterprise Network Brussels",
           "Action area"
          ],
          [
           "TU Graz",
           "Action area"
          ],
          [
           "Vienna Impact Hub",
           "Action area"
          ],
          [
           "Eleven Accelerator Venture Fund",
           "Action area"
          ],
          [
           "StartUp Grind Sofia",
           "Action area"
          ],
          [
           "MotionMetrics",
           "Action area"
          ],
          [
           "Roborace",
           "Action area"
          ],
          [
           "Accelerated Dynamics",
           "Action area"
          ],
          [
           "Cognitiv+",
           "Action area"
          ],
          [
           "SPIXII",
           "Action area"
          ],
          [
           "CloudNC",
           "Action area"
          ],
          [
           "CrowdVision",
           "Action area"
          ],
          [
           "ABAKA",
           "Action area"
          ],
          [
           "ANDi",
           "Action area"
          ],
          [
           "Cleo",
           "Action area"
          ],
          [
           "Echo Box",
           "Action area"
          ],
          [
           "LifeTracker",
           "Action area"
          ],
          [
           "Oval Money",
           "Action area"
          ],
          [
           "rais",
           "Action area"
          ],
          [
           "WealRo",
           "Action area"
          ],
          [
           "Calipsa",
           "Action area"
          ],
          [
           "Chatterbox Labs",
           "Action area"
          ],
          [
           "Cortexica",
           "Action area"
          ],
          [
           "IntelligentX",
           "Action area"
          ],
          [
           "RotaGeek",
           "Action area"
          ],
          [
           "Headstart App",
           "Action area"
          ],
          [
           "MeVitae",
           "Action area"
          ],
          [
           "Baro Vehicles",
           "Action area"
          ],
          [
           "Consequential Robotics",
           "Action area"
          ],
          [
           "Emote Robotics",
           "Action area"
          ],
          [
           "Emotech",
           "Action area"
          ],
          [
           "Machines With Vision",
           "Action area"
          ],
          [
           "Adnow",
           "Action area"
          ],
          [
           "Aiden",
           "Action area"
          ],
          [
           "Artios",
           "Action area"
          ],
          [
           "Beepal",
           "Action area"
          ],
          [
           "Codec",
           "Action area"
          ],
          [
           "Cognism",
           "Action area"
          ],
          [
           "Concured",
           "Action area"
          ],
          [
           "Crystal",
           "Action area"
          ],
          [
           "Gyana",
           "Action area"
          ],
          [
           "Kluster Intelligence",
           "Action area"
          ],
          [
           "LoopMe",
           "Action area"
          ],
          [
           "Phrasee",
           "Action area"
          ],
          [
           "Twizoo",
           "Action area"
          ],
          [
           "Viewsy",
           "Action area"
          ],
          [
           "Aesthetic Integration",
           "Action area"
          ],
          [
           "CheckReipient",
           "Action area"
          ],
          [
           "Cybertonica",
           "Action area"
          ],
          [
           "Fraud",
           "Action area"
          ],
          [
           "StatusToday",
           "Action area"
          ],
          [
           "Trudera",
           "Action area"
          ],
          [
           "Bottr",
           "Action area"
          ],
          [
           "Existor",
           "Action area"
          ],
          [
           "Firedrop",
           "Action area"
          ],
          [
           "PROWLER.io",
           "Action area"
          ],
          [
           "DigitalBridge",
           "Action area"
          ],
          [
           "Jukedeck",
           "Action area"
          ],
          [
           "Metadrift",
           "Action area"
          ],
          [
           "Digital Genius",
           "Action area"
          ],
          [
           "Idio",
           "Action area"
          ],
          [
           "Mercanto",
           "Action area"
          ],
          [
           "Resolver",
           "Action area"
          ],
          [
           "True AI",
           "Action area"
          ],
          [
           "Velmai",
           "Action area"
          ],
          [
           "Analytics Intelligenve",
           "Action area"
          ],
          [
           "Anumerics",
           "Action area"
          ],
          [
           "Applied AI",
           "Action area"
          ],
          [
           "Aria Networks",
           "Action area"
          ],
          [
           "Behavox",
           "Action area"
          ],
          [
           "Braintree",
           "Action area"
          ],
          [
           "Buzzradar",
           "Action area"
          ],
          [
           "Celaton",
           "Action area"
          ],
          [
           "Chattermill",
           "Action area"
          ],
          [
           "ForecastThis",
           "Action area"
          ],
          [
           "Grakn",
           "Action area"
          ],
          [
           "Illumr",
           "Action area"
          ],
          [
           "itzMe",
           "Action area"
          ],
          [
           "Otus Labs",
           "Action area"
          ],
          [
           "Signal Media",
           "Action area"
          ],
          [
           "Simundyne",
           "Action area"
          ],
          [
           "Singular Intelligence",
           "Action area"
          ],
          [
           "Skylads",
           "Action area"
          ],
          [
           "Streetbees",
           "Action area"
          ],
          [
           "Winterwell",
           "Action area"
          ],
          [
           "Wrapidity",
           "Action area"
          ],
          [
           "Yedup Ltd",
           "Action area"
          ],
          [
           "CENTURY Tech",
           "Action area"
          ],
          [
           "Synap",
           "Action area"
          ],
          [
           "Tonguesten",
           "Action area"
          ],
          [
           "Alpha I",
           "Action area"
          ],
          [
           "Blue Lion Research",
           "Action area"
          ],
          [
           "Brolly",
           "Action area"
          ],
          [
           "LiveMetrics",
           "Action area"
          ],
          [
           "Providens",
           "Action area"
          ],
          [
           "BenevolentAI",
           "Action area"
          ],
          [
           "Fitwell",
           "Action area"
          ],
          [
           "Medopad",
           "Action area"
          ],
          [
           "snap40",
           "Action area"
          ],
          [
           "White Lab",
           "Action area"
          ],
          [
           "Your.MD",
           "Action area"
          ],
          [
           "Blippar",
           "Action area"
          ],
          [
           "boomApp",
           "Action area"
          ],
          [
           "CrowdEmotion",
           "Action area"
          ],
          [
           "WIREWAX",
           "Action area"
          ],
          [
           "Graphext",
           "Action area"
          ],
          [
           "Sentisis",
           "Action area"
          ],
          [
           "Taiger",
           "Action area"
          ],
          [
           "Troovel",
           "Action area"
          ],
          [
           "Century Analytics",
           "Action area"
          ],
          [
           "ContextVision",
           "Action area"
          ],
          [
           "HealthiHabits",
           "Action area"
          ],
          [
           "Lytics",
           "Action area"
          ],
          [
           "Univrses",
           "Action area"
          ],
          [
           "Imagimob",
           "Action area"
          ],
          [
           "Watty",
           "Action area"
          ],
          [
           "SoftRobot",
           "Action area"
          ],
          [
           "Optisort",
           "Action area"
          ],
          [
           "Unibap",
           "Action area"
          ],
          [
           "Behoover",
           "Action area"
          ],
          [
           "Furhat Robotics",
           "Action area"
          ],
          [
           "Strossle",
           "Action area"
          ],
          [
           "Aifloo",
           "Action area"
          ],
          [
           "Zensed",
           "Action area"
          ],
          [
           "Starcounter",
           "Action area"
          ],
          [
           "Weld",
           "Action area"
          ],
          [
           "Galvangai",
           "Action area"
          ],
          [
           "Demiurge Technologies",
           "Action area"
          ],
          [
           "Nnaisence",
           "Action area"
          ],
          [
           "Vividly",
           "Action area"
          ],
          [
           "Grydl Analytics",
           "Action area"
          ],
          [
           "Illuminoo",
           "Action area"
          ],
          [
           "MarketMixer",
           "Action area"
          ],
          [
           "Nexthink",
           "Action area"
          ],
          [
           "Wealthport",
           "Action area"
          ],
          [
           "Invacio",
           "Action area"
          ],
          [
           "InvestGlass",
           "Action area"
          ],
          [
           "WealthArc, Inc.",
           "Action area"
          ],
          [
           "Eyra",
           "Action area"
          ],
          [
           "Sophia Genetics",
           "Action area"
          ],
          [
           "VisioSafe",
           "Action area"
          ],
          [
           "Living PlanIT",
           "Action area"
          ],
          [
           "Lari",
           "Action area"
          ],
          [
           "Gamaya",
           "Action area"
          ],
          [
           "Starmind",
           "Action area"
          ],
          [
           "F&P Robotics",
           "Action area"
          ],
          [
           "Faveeo",
           "Action area"
          ],
          [
           "Privately",
           "Action area"
          ],
          [
           "Desktop Genetics",
           "Action area"
          ],
          [
           "InsideDNA",
           "Action area"
          ],
          [
           "LabGenius",
           "Action area"
          ],
          [
           "Synthase",
           "Action area"
          ],
          [
           "Kami",
           "Action area"
          ],
          [
           "Third Space Auto",
           "Action area"
          ],
          [
           "Google Deep Mind",
           "Action area"
          ],
          [
           "Braingineers",
           "Action area"
          ],
          [
           "Crowdynews",
           "Action area"
          ],
          [
           "SPOSEA",
           "Action area"
          ],
          [
           "Skyfer",
           "Action area"
          ],
          [
           "904Labs",
           "Action area"
          ],
          [
           "Nordic Quantum Computing Group",
           "Action area"
          ],
          [
           "Viva",
           "Action area"
          ],
          [
           "Iris.AI",
           "Action area"
          ],
          [
           "Luca Labs",
           "Action area"
          ],
          [
           "Stanusch Technologies",
           "Action area"
          ],
          [
           "Craftinity",
           "Action area"
          ],
          [
           "MLJAR",
           "Action area"
          ],
          [
           "CTA",
           "Action area"
          ],
          [
           "Infermedica",
           "Action area"
          ],
          [
           "The Eye",
           "Action area"
          ],
          [
           "United Robots",
           "Action area"
          ],
          [
           "Robotics Inventions",
           "Action area"
          ],
          [
           "Nethone",
           "Action area"
          ],
          [
           "visor.ai",
           "Action area"
          ],
          [
           "MediaServista",
           "Action area"
          ],
          [
           "Lurity",
           "Action area"
          ],
          [
           "Trapview",
           "Action area"
          ],
          [
           "violanto",
           "Action area"
          ],
          [
           "Commons",
           "Action area"
          ],
          [
           "Sentimer",
           "Action area"
          ],
          [
           "Lurtis Rules",
           "Action area"
          ],
          [
           "CogniCor Technologies",
           "Action area"
          ],
          [
           "Marketeer.co",
           "Action area"
          ],
          [
           "DAIA Solutions",
           "Action area"
          ],
          [
           "ec2ce",
           "Action area"
          ],
          [
           "iMath Research",
           "Action area"
          ],
          [
           "Minderest",
           "Action area"
          ],
          [
           "MedicSen",
           "Action area"
          ],
          [
           "Nire iHealth",
           "Action area"
          ],
          [
           "Nuubo",
           "Action area"
          ],
          [
           "Catchoom",
           "Action area"
          ],
          [
           "Dive",
           "Action area"
          ],
          [
           "Gestoos",
           "Action area"
          ],
          [
           "restbai",
           "Action area"
          ],
          [
           "DISCOPERI",
           "Action area"
          ],
          [
           "Mirubee",
           "Action area"
          ],
          [
           "SHERPA",
           "Action area"
          ],
          [
           "Smartaxi",
           "Action area"
          ],
          [
           "SmartEcoMap",
           "Action area"
          ],
          [
           "Newronia",
           "Action area"
          ],
          [
           "Aisoy",
           "Action area"
          ],
          [
           "Sadako Technologies",
           "Action area"
          ],
          [
           "Leads Origins",
           "Action area"
          ],
          [
           "Relevante.me",
           "Action area"
          ],
          [
           "Acrolinx",
           "Action area"
          ],
          [
           "Autumn AI",
           "Action area"
          ],
          [
           "Explosion AI",
           "Action area"
          ],
          [
           "Weps",
           "Action area"
          ],
          [
           "Gini",
           "Action area"
          ],
          [
           "Retresco",
           "Action area"
          ],
          [
           "Offerial",
           "Action area"
          ],
          [
           "HandInScan",
           "Action area"
          ],
          [
           "Ultinous",
           "Action area"
          ],
          [
           "Aimotive",
           "Action area"
          ],
          [
           "Scarab Research",
           "Action area"
          ],
          [
           "Analogy",
           "Action area"
          ],
          [
           "RealSpeaker",
           "Action area"
          ],
          [
           "Voysis",
           "Action area"
          ],
          [
           "Aromatix",
           "Action area"
          ],
          [
           "RecommenderX",
           "Action area"
          ],
          [
           "Eiratech Robotics",
           "Action area"
          ],
          [
           "Opening.io",
           "Action area"
          ],
          [
           "Mushin",
           "Action area"
          ],
          [
           "Eudata",
           "Action area"
          ],
          [
           "Tooso",
           "Action area"
          ],
          [
           "Datalytics",
           "Action area"
          ],
          [
           "Nextwin",
           "Action area"
          ],
          [
           "Nami Lab",
           "Action area"
          ],
          [
           "Cogisen",
           "Action area"
          ],
          [
           "Metaliquid",
           "Action area"
          ],
          [
           "Addfor",
           "Action area"
          ],
          [
           "Novalabs",
           "Action area"
          ],
          [
           "Kaitiaki",
           "Action area"
          ],
          [
           "Unfraud",
           "Action area"
          ],
          [
           "Expert System",
           "Action area"
          ],
          [
           "XOresearch",
           "Action area"
          ],
          [
           "Devs.LT",
           "Action area"
          ],
          [
           "Sendato",
           "Action area"
          ],
          [
           "Feedpresso",
           "Action area"
          ],
          [
           "LuxAI",
           "Action area"
          ],
          [
           "ReaQta",
           "Action area"
          ],
          [
           "Flow.ai",
           "Action area"
          ],
          [
           "FOBISS",
           "Action area"
          ],
          [
           "Aidence",
           "Action area"
          ],
          [
           "X2AI",
           "Action area"
          ],
          [
           "ReSnap",
           "Action area"
          ],
          [
           "Sightcorp",
           "Action area"
          ],
          [
           "Brise",
           "Action area"
          ],
          [
           "UHX",
           "Action area"
          ],
          [
           "Letz",
           "Action area"
          ],
          [
           "Aiir Innovations",
           "Action area"
          ],
          [
           "YaDo-VR",
           "Action area"
          ],
          [
           "Recruitz.io",
           "Action area"
          ],
          [
           "Opla",
           "Action area"
          ],
          [
           "Recast",
           "Action area"
          ],
          [
           "Destygo",
           "Action area"
          ],
          [
           "LabSense",
           "Action area"
          ],
          [
           "Storyzy",
           "Action area"
          ],
          [
           "Chatshopper",
           "Action area"
          ],
          [
           "fredknows.IT",
           "Action area"
          ],
          [
           "Parlamind",
           "Action area"
          ],
          [
           "Pannous",
           "Action area"
          ],
          [
           "Planet",
           "Action area"
          ],
          [
           "Creative.ai",
           "Action area"
          ],
          [
           "Sematell",
           "Action area"
          ],
          [
           "Twyla",
           "Action area"
          ],
          [
           "Contiamo",
           "Action area"
          ],
          [
           "Deckard A.I.",
           "Action area"
          ],
          [
           "Heurolabs",
           "Action area"
          ],
          [
           "Inspirient",
           "Action area"
          ],
          [
           "Leverton",
           "Action area"
          ],
          [
           "Mapegy",
           "Action area"
          ],
          [
           "omni:us",
           "Action area"
          ],
          [
           "Ada",
           "Action area"
          ],
          [
           "Caspar Health",
           "Action area"
          ],
          [
           "Healthcare X.0",
           "Action area"
          ],
          [
           "kaia health",
           "Action area"
          ],
          [
           "ExB Health",
           "Action area"
          ],
          [
           "EyeQuant",
           "Action area"
          ],
          [
           "Twenty Billion Neurons",
           "Action area"
          ],
          [
           "EyeEm",
           "Action area"
          ],
          [
           "Fleetboard Innovation Hub",
           "Action area"
          ],
          [
           "KONUX",
           "Action area"
          ],
          [
           "MotionsCloud",
           "Action area"
          ],
          [
           "Snapsure",
           "Action area"
          ],
          [
           "Cargonexx",
           "Action area"
          ],
          [
           "Evertracker",
           "Action area"
          ],
          [
           "TeleRetail",
           "Action area"
          ],
          [
           "149 Technologies",
           "Action area"
          ],
          [
           "5Analytics",
           "Action area"
          ],
          [
           "Arago",
           "Action area"
          ],
          [
           "Sota Solutions",
           "Action area"
          ],
          [
           "Voya Travel",
           "Action area"
          ],
          [
           "Job Pal",
           "Action area"
          ],
          [
           "Micropsi Industries",
           "Action area"
          ],
          [
           "Caspian Robotics",
           "Action area"
          ],
          [
           "ExB Mobility",
           "Action area"
          ],
          [
           "Aivy",
           "Action area"
          ],
          [
           "goedle.io",
           "Action area"
          ],
          [
           "So1",
           "Action area"
          ],
          [
           "The SaaS Co.",
           "Action area"
          ],
          [
           "AVA",
           "Action area"
          ],
          [
           "Shade",
           "Action area"
          ],
          [
           "Simplyture",
           "Action area"
          ],
          [
           "Relink",
           "Action area"
          ],
          [
           "Conyak",
           "Action area"
          ],
          [
           "JourneyXP",
           "Action area"
          ],
          [
           "UIzard",
           "Action area"
          ],
          [
           "AlphaBlues",
           "Action area"
          ],
          [
           "Skuuper",
           "Action area"
          ],
          [
           "Get Jenny",
           "Action area"
          ],
          [
           "The Curious AI Company",
           "Action area"
          ],
          [
           "Smartifik",
           "Action area"
          ],
          [
           "Lumoa",
           "Action area"
          ],
          [
           "Teqmine",
           "Action area"
          ],
          [
           "Claned",
           "Action area"
          ],
          [
           "WordDive",
           "Action area"
          ],
          [
           "Kirontech",
           "Action area"
          ],
          [
           "Valossa",
           "Action area"
          ],
          [
           "Usetrace",
           "Action area"
          ],
          [
           "TidyCMS",
           "Action area"
          ],
          [
           "Botfuel",
           "Action area"
          ],
          [
           "Jam",
           "Action area"
          ],
          [
           "Smartly.ai",
           "Action area"
          ],
          [
           "Zelros",
           "Action area"
          ],
          [
           "LightOn",
           "Action area"
          ],
          [
           "Davi",
           "Action area"
          ],
          [
           "Hyphen",
           "Action area"
          ],
          [
           "MailClark",
           "Action area"
          ],
          [
           "DreamQuark",
           "Action area"
          ],
          [
           "Heuritech",
           "Action area"
          ],
          [
           "Millesime.AI",
           "Action area"
          ],
          [
           "PredicSis",
           "Action area"
          ],
          [
           "SESAMm",
           "Action area"
          ],
          [
           "Walnut Algorithms",
           "Action area"
          ],
          [
           "CARMAT",
           "Action area"
          ],
          [
           "Deepomatic",
           "Action area"
          ],
          [
           "Selectionnist",
           "Action area"
          ],
          [
           "SpikeNet Technologies",
           "Action area"
          ],
          [
           "Ubiant",
           "Action area"
          ],
          [
           "Doctrine",
           "Action area"
          ],
          [
           "Gwapit",
           "Action area"
          ],
          [
           "Julie Desk",
           "Action area"
          ],
          [
           "Wiidii",
           "Action area"
          ],
          [
           "Elum",
           "Action area"
          ],
          [
           "Karos",
           "Action area"
          ],
          [
           "tellmeplus",
           "Action area"
          ],
          [
           "Riminder",
           "Action area"
          ],
          [
           "Cutii (Yumii)",
           "Action area"
          ],
          [
           "MindLytiX",
           "Action area"
          ],
          [
           "SegmentAction",
           "Action area"
          ],
          [
           "Craft AI",
           "Action area"
          ],
          [
           "Netherlands Aerospace Centre",
           "Action area"
          ],
          [
           "Netherlands eScience Center",
           "Action area"
          ],
          [
           "Nuromedia GmbH",
           "Action area"
          ],
          [
           "Ontotext",
           "Action area"
          ],
          [
           "Research Studios Austria FG",
           "Action area"
          ],
          [
           "RISE SICS AB",
           "Action area"
          ],
          [
           "SAFRAN",
           "Action area"
          ],
          [
           "Sirris",
           "Action area"
          ],
          [
           "SIVECO Romania SA",
           "Action area"
          ],
          [
           "Helmholtz Association",
           "Action area"
          ],
          [
           "Space Applications Services",
           "Action area"
          ],
          [
           "SPACEBEL",
           "Action area"
          ],
          [
           "Systematic Paris Region",
           "Action area"
          ],
          [
           "T6 Ecosystems srl",
           "Action area"
          ],
          [
           "TERRASIGNA",
           "Action area"
          ],
          [
           "Netherlands Organisation for Applied Scientific Research",
           "Action area"
          ],
          [
           "Trialog",
           "Action area"
          ],
          [
           "Trilateral Research Ltd",
           "Action area"
          ],
          [
           "Trinity College Dublin",
           "Action area"
          ],
          [
           "Ubiwhere",
           "Action area"
          ],
          [
           "Uni Research AS",
           "Action area"
          ],
          [
           "Unipol Gruppo Finanziario",
           "Action area"
          ],
          [
           "University of Turin",
           "Action area"
          ],
          [
           "University of Hildesheim",
           "Action area"
          ],
          [
           "Department of Informatics, University of Oslo",
           "Action area"
          ],
          [
           "WINGS ICT Solutions",
           "Action area"
          ],
          [
           "VITO Remote Sensing",
           "Action area"
          ],
          [
           "VIVITnet",
           "Action area"
          ],
          [
           "Vize Software",
           "Action area"
          ],
          [
           "VTT Technical Research Centre of Finland Ltd",
           "Action area"
          ],
          [
           "webLyzard technology",
           "Action area"
          ],
          [
           "Teamscope",
           "Action area"
          ],
          [
           "Insightsforce",
           "Action area"
          ],
          [
           "IFDAQ",
           "Action area"
          ],
          [
           "Healcloud",
           "Action area"
          ],
          [
           "MyAlfred",
           "Action area"
          ],
          [
           "EDAQS",
           "Action area"
          ],
          [
           "GiniMachine",
           "Action area"
          ],
          [
           "Plann3r",
           "Action area"
          ],
          [
           "Salesflare",
           "Action area"
          ],
          [
           "Taglayer",
           "Action area"
          ],
          [
           "ScriptBook",
           "Action area"
          ],
          [
           "Koola",
           "Action area"
          ],
          [
           "GoodAI",
           "Action area"
          ],
          [
           "Decisso",
           "Action area"
          ],
          [
           "Incomaker",
           "Action area"
          ],
          [
           "TrustPort",
           "Action area"
          ],
          [
           "Dixa",
           "Action area"
          ],
          [
           "Hedia",
           "Action area"
          ],
          [
           "Ascora GmbH",
           "Action area"
          ],
          [
           "Athens Technology Center S.A.",
           "Action area"
          ],
          [
           "Austrian Institute of Technology",
           "Action area"
          ],
          [
           "BBC R&D",
           "Action area"
          ],
          [
           "Boeing Research & Technology Europe",
           "Action area"
          ],
          [
           "Borwell Limited",
           "Action area"
          ],
          [
           "Brainport Development",
           "Action area"
          ],
          [
           "CA Technologies",
           "Action area"
          ],
          [
           "CAS Software AG",
           "Action area"
          ],
          [
           "CEA France",
           "Action area"
          ],
          [
           "CEFRIEL",
           "Action area"
          ],
          [
           "CENTIC",
           "Action area"
          ],
          [
           "Centrum Wiskunde & Informatica",
           "Action area"
          ],
          [
           "Cerved",
           "Action area"
          ],
          [
           "Charles University in Prague",
           "Action area"
          ],
          [
           "CINECA",
           "Action area"
          ],
          [
           "Consorzio Interuniversitario Nazionale per l'informatica",
           "Action area"
          ],
          [
           "Cityzen Data",
           "Action area"
          ],
          [
           "CNR-IIA Florence Division",
           "Action area"
          ],
          [
           "CSC - IT Center for Science",
           "Action area"
          ],
          [
           "DATARIVER",
           "Action area"
          ],
          [
           "Datris Solutions",
           "Action area"
          ],
          [
           "DECSIS",
           "Action area"
          ],
          [
           "Diavita Ltd",
           "Action area"
          ],
          [
           "Stichting EGI",
           "Action area"
          ],
          [
           "EUROB",
           "Action area"
          ],
          [
           "European Umbrella Organisation for Geographic Information",
           "Action area"
          ],
          [
           "F-Secure",
           "Action area"
          ],
          [
           "Forum Virium Helsinki",
           "Action area"
          ],
          [
           "GISIG",
           "Action area"
          ],
          [
           "Grassroots Arts",
           "Action area"
          ],
          [
           "Grundfos Management",
           "Action area"
          ],
          [
           "Heidelberg University Computing Centre",
           "Action area"
          ],
          [
           "Huawei European Research Institute",
           "Action area"
          ],
          [
           "imec",
           "Action area"
          ],
          [
           "Imperial College London",
           "Action area"
          ],
          [
           "Information Catalyst for Enterprise",
           "Action area"
          ],
          [
           "INTRASOFT International",
           "Action area"
          ],
          [
           "IRT SystemX",
           "Action area"
          ],
          [
           "IT Innovation Centre",
           "Action area"
          ],
          [
           "ITML",
           "Action area"
          ],
          [
           "Leibniz University of Hannover L3S Research Center",
           "Action area"
          ],
          [
           "LINAGORA",
           "Action area"
          ],
          [
           "Lynkeus",
           "Action area"
          ],
          [
           "Martel Innovate",
           "Action area"
          ],
          [
           "MODUL Technology",
           "Action area"
          ],
          [
           "MonetDB Solutions",
           "Action area"
          ],
          [
           "MTA SZTAKI",
           "Action area"
          ],
          [
           "nam.R",
           "Action area"
          ],
          [
           "NEC Laboratories Europe GmbH",
           "Action area"
          ],
          [
           "Inria",
           "Action area"
          ],
          [
           "Enedis",
           "Action area"
          ],
          [
           "Energinet",
           "Action area"
          ],
          [
           "Datopian",
           "Action area"
          ],
          [
           "Dataia Institute",
           "Action area"
          ],
          [
           "Max Planck Institute",
           "Action area"
          ],
          [
           "University of Nottingham",
           "Action area"
          ],
          [
           "Digital Partners",
           "Action area"
          ],
          [
           "Marine Traffic",
           "Action area"
          ],
          [
           "ESI group",
           "Action area"
          ],
          [
           "Engineering",
           "Action area"
          ],
          [
           "List Cea Tech",
           "Action area"
          ],
          [
           "Université Paris-Saclay",
           "Action area"
          ],
          [
           "Catapult Digital",
           "Action area"
          ],
          [
           "Deepsense.ai",
           "Action area"
          ],
          [
           "Liander",
           "Action area"
          ],
          [
           "Vodafone",
           "Action area"
          ],
          [
           "Flowminder",
           "Action area"
          ],
          [
           "University of Southern Denmark",
           "Action area"
          ],
          [
           "VVA Consulting",
           "Action area"
          ],
          [
           "Philips",
           "Action area"
          ],
          [
           "Migros",
           "Action area"
          ],
          [
           "German Research Center for Artificial Intelligence",
           "Action area"
          ],
          [
           "Institute of Advanced Studies Kőszeg",
           "Action area"
          ],
          [
           "Aix Marseille Université",
           "Action area"
          ],
          [
           "Almende BV",
           "Action area"
          ],
          [
           "Aristotelio Panepistimio Thessalonikispe",
           "Action area"
          ],
          [
           "Intuitics",
           "Action area"
          ],
          [
           "Uniplaces",
           "Action area"
          ],
          [
           "Quizly",
           "Action area"
          ],
          [
           "Teralytics",
           "Action area"
          ],
          [
           "Massivemedia Match",
           "Action area"
          ],
          [
           "Gavagai",
           "Action area"
          ],
          [
           "Charima",
           "Action area"
          ],
          [
           "MyDataProvider",
           "Action area"
          ],
          [
           "Squadata",
           "Action area"
          ],
          [
           "Algoritmica",
           "Action area"
          ],
          [
           "Biclast solutions",
           "Action area"
          ],
          [
           "Enantio",
           "Action area"
          ],
          [
           "BlueTalon - The Best Data-Centric Security",
           "Action area"
          ],
          [
           "BMAT",
           "Action area"
          ],
          [
           "ARWEN LANNEL LABS",
           "Action area"
          ],
          [
           "KLEOS R&D",
           "Action area"
          ],
          [
           "Viomedo",
           "Action area"
          ],
          [
           "We Are Colony",
           "Action area"
          ],
          [
           "Wholi",
           "Action area"
          ],
          [
           "1848",
           "Action area"
          ],
          [
           "Air and Space Evidence",
           "Action area"
          ],
          [
           "ASK HELMUT",
           "Action area"
          ],
          [
           "Avuxi",
           "Action area"
          ],
          [
           "Bike Citizens",
           "Action area"
          ],
          [
           "Brightbook",
           "Action area"
          ],
          [
           "CommoPrices",
           "Action area"
          ],
          [
           "Contagt",
           "Action area"
          ],
          [
           "Cropti",
           "Action area"
          ],
          [
           "Data Press",
           "Action area"
          ],
          [
           "Derilinx",
           "Action area"
          ],
          [
           "Environment Systems",
           "Action area"
          ],
          [
           "Exceedence",
           "Action area"
          ],
          [
           "Farm Dog",
           "Action area"
          ],
          [
           "FSTR",
           "Action area"
          ],
          [
           "Glimworm",
           "Action area"
          ],
          [
           "Green spin",
           "Action area"
          ],
          [
           "Guide2Property",
           "Action area"
          ],
          [
           "HybridStat",
           "Action area"
          ],
          [
           "Idalab",
           "Action area"
          ],
          [
           "Imin",
           "Action area"
          ],
          [
           "Implisense",
           "Action area"
          ],
          [
           "Instats",
           "Action area"
          ],
          [
           "InSymbio",
           "Action area"
          ],
          [
           "Iplytics",
           "Action area"
          ],
          [
           "Konetik",
           "Action area"
          ],
          [
           "Land Insight",
           "Action area"
          ],
          [
           "Mint Labs",
           "Action area"
          ],
          [
           "OpenGazettes",
           "Action area"
          ],
          [
           "Openlaws",
           "Action area"
          ],
          [
           "OpenOil",
           "Action area"
          ],
          [
           "OpenResort",
           "Action area"
          ],
          [
           "OpenSensors",
           "Action area"
          ],
          [
           "Plume Labs",
           "Action area"
          ],
          [
           "Pobble",
           "Action area"
          ],
          [
           "Proseph",
           "Action area"
          ],
          [
           "Provenance",
           "Action area"
          ],
          [
           "RentSquare",
           "Action area"
          ],
          [
           "RESC Info Insight",
           "Action area"
          ],
          [
           "Sinergise",
           "Action area"
          ],
          [
           "Studybugs",
           "Action area"
          ],
          [
           "Suade",
           "Action area"
          ],
          [
           "Sun Energia",
           "Action area"
          ],
          [
           "Taranis",
           "Action area"
          ],
          [
           "Thingful",
           "Action area"
          ],
          [
           "UNICS",
           "Action area"
          ],
          [
           "UniGraph",
           "Action area"
          ],
          [
           "Urban Data Analytics",
           "Action area"
          ],
          [
           "CANALYTICALS",
           "Action area"
          ],
          [
           "Exponea",
           "Action area"
          ],
          [
           "Barcelona Technology School",
           "Action area"
          ],
          [
           "Intlock - CardioLog Analytics",
           "Action area"
          ],
          [
           "B EYE",
           "Action area"
          ],
          [
           "Teknopar",
           "Action area"
          ],
          [
           "Sensifai",
           "Action area"
          ],
          [
           "ATC",
           "Action area"
          ],
          [
           "ABIS",
           "Action area"
          ],
          [
           "The Mount Data s.l.",
           "Action area"
          ],
          [
           "Quimera Social CRM",
           "Action area"
          ],
          [
           "Arantec",
           "Action area"
          ],
          [
           "Biwel Salud Empresarial",
           "Action area"
          ],
          [
           "EPHE Ltd",
           "Action area"
          ],
          [
           "Infoseg S.A.",
           "Action area"
          ],
          [
           "Dataconomy Media GmbH",
           "Action area"
          ],
          [
           "ThinkInside srl",
           "Action area"
          ],
          [
           "Haymarket Media",
           "Action area"
          ],
          [
           "Entornos de Formacion S.L.",
           "Action area"
          ],
          [
           "University of Oulu",
           "Action area"
          ],
          [
           "Yazzoom",
           "Action area"
          ],
          [
           "You Know Watt",
           "Action area"
          ],
          [
           "Nuk Consultants",
           "Action area"
          ],
          [
           "Fraunhofer IAIS",
           "Action area"
          ],
          [
           "Neuropublic SA",
           "Action area"
          ],
          [
           "Companytracker",
           "Action area"
          ],
          [
           "JES",
           "Action area"
          ],
          [
           "Dribia",
           "Action area"
          ],
          [
           "Chemotargets SL",
           "Action area"
          ],
          [
           "Fundació privada I2CAT",
           "Action area"
          ],
          [
           "Teknecultura Gestió SL",
           "Action area"
          ],
          [
           "ALFATEC SISTEMAS, SL",
           "Action area"
          ],
          [
           "Know-Center GmbH",
           "Action area"
          ],
          [
           "Exoscale",
           "Action area"
          ],
          [
           "Magma solutions",
           "Action area"
          ],
          [
           "WEBSAYS",
           "Action area"
          ],
          [
           "TakeU",
           "Action area"
          ],
          [
           "Synergic Partners",
           "Action area"
          ],
          [
           "Quantion",
           "Action area"
          ],
          [
           "Ilimit Comuniacions",
           "Action area"
          ],
          [
           "Higia Benchmarking SL",
           "Action area"
          ],
          [
           "Big Data Center of Excellence of Barcelona",
           "Action area"
          ],
          [
           "Davinci Tecnologias de la Informacion",
           "Action area"
          ],
          [
           "DatKnoSys",
           "Action area"
          ],
          [
           "CAPSiDE",
           "Action area"
          ],
          [
           "Socialvane",
           "Action area"
          ],
          [
           "Universitat de Barcelona",
           "Action area"
          ],
          [
           "NECADA",
           "Action area"
          ],
          [
           "Konodrac",
           "Action area"
          ],
          [
           "ClearPeaks",
           "Action area"
          ],
          [
           "AIS Group",
           "Action area"
          ],
          [
           "Amsterdam University of Applied Sciences",
           "Action area"
          ],
          [
           "Big Data Lab, Goethe University Frankfurt",
           "Action area"
          ],
          [
           "Copenhagen Business School",
           "Action area"
          ],
          [
           "CRS4",
           "Action area"
          ],
          [
           "Data Science Center Eindhoven",
           "Action area"
          ],
          [
           "Delft University of Technology",
           "Action area"
          ],
          [
           "Interdisciplinary Centre for Mathematical and Computational Modelling (ICM), University of Warsaw (UW)",
           "Action area"
          ],
          [
           "European Centre for Soft Computing",
           "Action area"
          ],
          [
           "Fondazione Politecnico di Milano",
           "Action area"
          ],
          [
           "Fundació Eurecat",
           "Action area"
          ],
          [
           "Information Technologies Institute - Centre for Research and Technology Hellas",
           "Action area"
          ],
          [
           "Insigneo Institute",
           "Action area"
          ],
          [
           "Istituto Superiore Mario Boella",
           "Action area"
          ],
          [
           "Instituto Tecnológico de Informática (ITI)",
           "Action area"
          ],
          [
           "National University of Ireland Galway (Insight)",
           "Action area"
          ],
          [
           "Queen’s University Belfast",
           "Action area"
          ],
          [
           "Rovira I Virgili University",
           "Action area"
          ],
          [
           "Technical University of Denmark",
           "Action area"
          ],
          [
           "The Department of Computer Science, University of Copenhagen",
           "Action area"
          ],
          [
           "The University of Amsterdam",
           "Action area"
          ],
          [
           "Tilburg University",
           "Action area"
          ],
          [
           "Universidad de Malaga",
           "Action area"
          ],
          [
           "Universidad Politécnica de Madrid",
           "Action area"
          ],
          [
           "Universidad Rey Juan Carlos",
           "Action area"
          ],
          [
           "Universitat Politècnica de València",
           "Action area"
          ],
          [
           "Universität Duisburg Essen (Paluno)",
           "Action area"
          ],
          [
           "Barcelona Supercomputing Center - Centro Nacional de Supercomputacion",
           "Action area"
          ],
          [
           "Ceres",
           "Action area"
          ],
          [
           "ITACA Auditores SL",
           "Action area"
          ],
          [
           "ESADE",
           "Action area"
          ],
          [
           "Smart Jobs S.L",
           "Action area"
          ],
          [
           "EVERIS",
           "Action area"
          ],
          [
           "Lantares Europe",
           "Action area"
          ],
          [
           "CleverTask",
           "Action area"
          ],
          [
           "access2commerce",
           "Action area"
          ],
          [
           "Quiero Salud",
           "Action area"
          ],
          [
           "GeoCat",
           "Action area"
          ],
          [
           "Sparsity Technologies",
           "Action area"
          ],
          [
           "DAWEX",
           "Action area"
          ],
          [
           "Institut Mines-Télécom",
           "Action area"
          ],
          [
           "BitMetrics",
           "Action area"
          ],
          [
           "BQE Software Inc",
           "Action area"
          ],
          [
           "BSI Standards Limited",
           "Action area"
          ],
          [
           "Exploraseguros",
           "Action area"
          ],
          [
           "The Analytics Store",
           "Action area"
          ],
          [
           "Spatialest",
           "Action area"
          ],
          [
           "VIDIRO",
           "Action area"
          ],
          [
           "Sonra",
           "Action area"
          ],
          [
           "Texting Big Data SL",
           "Action area"
          ],
          [
           "Aldous Information Services BV",
           "Action area"
          ],
          [
           "Vicomtech-IK4",
           "Action area"
          ],
          [
           "YellowMap AG",
           "Action area"
          ],
          [
           "EBID Service AG",
           "Action area"
          ],
          [
           "CITE SA",
           "Action area"
          ],
          [
           "CeADAR",
           "Action area"
          ],
          [
           "Lexical Computing",
           "Action area"
          ],
          [
           "Open Knowledge Ireland",
           "Action area"
          ],
          [
           "AmbieSense Ltd",
           "Action area"
          ],
          [
           "Treelogic",
           "Action area"
          ],
          [
           "Tilde",
           "Action area"
          ],
          [
           "D.E.Solution SPRL",
           "Action area"
          ],
          [
           "MMP BI",
           "Action area"
          ],
          [
           "DocLogix",
           "Action area"
          ],
          [
           "DeskTime.com",
           "Action area"
          ],
          [
           "Pegaspace",
           "Action area"
          ],
          [
           "PlanetOS",
           "Action area"
          ],
          [
           "Fleep",
           "Action area"
          ],
          [
           "Plumbr",
           "Action area"
          ],
          [
           "WhoApi",
           "Action area"
          ],
          [
           "Oradian",
           "Action area"
          ],
          [
           "Once football",
           "Action area"
          ],
          [
           "Farmeron",
           "Action area"
          ],
          [
           "Fieldoo",
           "Action area"
          ],
          [
           "Experlytics AB",
           "Action area"
          ],
          [
           "Nessos - {m}brace the cloud",
           "Action area"
          ],
          [
           "Susurrus",
           "Action area"
          ],
          [
           "Wappier",
           "Action area"
          ],
          [
           "Socialdek",
           "Action area"
          ],
          [
           "Adverserve",
           "Action area"
          ],
          [
           "W3Techs",
           "Action area"
          ],
          [
           "MUM Software",
           "Action area"
          ],
          [
           "cortical.io",
           "Action area"
          ],
          [
           "PlayPass",
           "Action area"
          ],
          [
           "Parcify",
           "Action area"
          ],
          [
           "Credissimo",
           "Action area"
          ],
          [
           "Dataerion",
           "Action area"
          ],
          [
           "Socialbakers",
           "Action area"
          ],
          [
           "Dataddo",
           "Action area"
          ],
          [
           "Visidom",
           "Action area"
          ],
          [
           "Trgiman",
           "Action area"
          ],
          [
           "Hotel Commander",
           "Action area"
          ],
          [
           "CleverAnalytics",
           "Action area"
          ],
          [
           "RiteTag",
           "Action area"
          ],
          [
           "Prediction Institute",
           "Action area"
          ],
          [
           "UserReport",
           "Action area"
          ],
          [
           "Blackwood Seven",
           "Action area"
          ],
          [
           "Zaask",
           "Action area"
          ],
          [
           "E-MAILiT",
           "Action area"
          ],
          [
           "DATY",
           "Action area"
          ],
          [
           "iMotions A/S",
           "Action area"
          ],
          [
           "Moosend",
           "Action area"
          ],
          [
           "Starschema",
           "Action area"
          ],
          [
           "VirtDB",
           "Action area"
          ],
          [
           "Multipass Solutions",
           "Action area"
          ],
          [
           "PublishDrive",
           "Action area"
          ],
          [
           "PlaysIO",
           "Action area"
          ],
          [
           "LogDrill",
           "Action area"
          ],
          [
           "Gravity R&D",
           "Action area"
          ],
          [
           "Maven7",
           "Action area"
          ],
          [
           "Synetiq",
           "Action area"
          ],
          [
           "Ingen.io",
           "Action area"
          ],
          [
           "Infinario",
           "Action area"
          ],
          [
           "7SEGMENTS",
           "Action area"
          ],
          [
           "Clevork",
           "Action area"
          ],
          [
           "PlaceILive",
           "Action area"
          ],
          [
           "MBT",
           "Action area"
          ],
          [
           "Exacaster",
           "Action area"
          ],
          [
           "SerpYou",
           "Action area"
          ],
          [
           "Crate.IO",
           "Action area"
          ],
          [
           "GetSnippy",
           "Action area"
          ],
          [
           "Waytation",
           "Action area"
          ],
          [
           "Datagnion",
           "Action area"
          ],
          [
           "SnapShot GmbH",
           "Action area"
          ],
          [
           "Visalyze",
           "Action area"
          ],
          [
           "AYLIEN",
           "Action area"
          ],
          [
           "Lingvist",
           "Action area"
          ],
          [
           "TERMINALFOUR",
           "Action area"
          ],
          [
           "Imagga",
           "Action area"
          ],
          [
           "Transmetrics",
           "Action area"
          ],
          [
           "MammothDB",
           "Action area"
          ],
          [
           "HutGrip",
           "Action area"
          ],
          [
           "StatAce",
           "Action area"
          ],
          [
           "Human Intelligence",
           "Action area"
          ],
          [
           "ZoomCharts",
           "Action area"
          ],
          [
           "Turbine Analytics S.A.",
           "Action area"
          ],
          [
           "Climber Hotel",
           "Action area"
          ],
          [
           "Portugal Telecom",
           "Action area"
          ],
          [
           "GetSocial",
           "Action area"
          ],
          [
           "Liquid",
           "Action area"
          ],
          [
           "Ifinity",
           "Action area"
          ],
          [
           "Sizem",
           "Action area"
          ],
          [
           "Stedex",
           "Action area"
          ],
          [
           "NumberPicture",
           "Action area"
          ],
          [
           "OnyxBeacon",
           "Action area"
          ],
          [
           "Zimplu CRM",
           "Action area"
          ],
          [
           "TheWebMiner",
           "Action area"
          ],
          [
           "Piwik PRO",
           "Action area"
          ],
          [
           "Cognitum",
           "Action area"
          ],
          [
           "GetBadges",
           "Action area"
          ],
          [
           "BETEGY",
           "Action area"
          ],
          [
           "qDatum",
           "Action area"
          ],
          [
           "Harimata",
           "Action area"
          ],
          [
           "Lab4motion Solutions Ltd",
           "Action area"
          ],
          [
           "Algolytics",
           "Action area"
          ],
          [
           "Use It Better",
           "Action area"
          ],
          [
           "Clearcode",
           "Action area"
          ],
          [
           "SurveyLegend",
           "Action area"
          ],
          [
           "Vanitail",
           "Action area"
          ],
          [
           "VORtech",
           "Action area"
          ],
          [
           "DeciData",
           "Action area"
          ],
          [
           "Tradeworks.io",
           "Action area"
          ],
          [
           "Oxford BioChronometrics",
           "Action area"
          ],
          [
           "MetricsCat",
           "Action area"
          ],
          [
           "Big Data Scoring",
           "Action area"
          ],
          [
           "Pingvalue",
           "Action area"
          ],
          [
           "Rocketgraph",
           "Action area"
          ],
          [
           "Runteq",
           "Action area"
          ],
          [
           "FishBrain",
           "Action area"
          ],
          [
           "Tajitsu Industries",
           "Action area"
          ],
          [
           "Findify",
           "Action area"
          ],
          [
           "HeyStacks",
           "Action area"
          ],
          [
           "Eagle Alpha",
           "Action area"
          ],
          [
           "Boxever",
           "Action area"
          ],
          [
           "Locatee",
           "Action area"
          ],
          [
           "KNIME",
           "Action area"
          ],
          [
           "Wealtharc",
           "Action area"
          ],
          [
           "INNAAS",
           "Action area"
          ],
          [
           "Tickete",
           "Action area"
          ],
          [
           "CargoSpotter",
           "Action area"
          ],
          [
           "Unacast",
           "Action area"
          ],
          [
           "University of Ferrara",
           "Action area"
          ],
          [
           "InData Labs",
           "Action area"
          ],
          [
           "Fujitsu Ireland",
           "Action area"
          ],
          [
           "Quintelligence",
           "Action area"
          ],
          [
           "EEA s.r.o.",
           "Action area"
          ],
          [
           "VentureRadar",
           "Action area"
          ],
          [
           "Big Data Value Center",
           "Action area"
          ],
          [
           "Kernel Anlytics",
           "Action area"
          ],
          [
           "Butler Scientifics",
           "Action area"
          ],
          [
           "uWhisp",
           "Action area"
          ],
          [
           "Adaptant Solutions AG",
           "Action area"
          ],
          [
           "Talkwalker",
           "Action area"
          ],
          [
           "EdgeLeap",
           "Action area"
          ],
          [
           "Fundacion CARTIF",
           "Action area"
          ],
          [
           "City Context Open Data API",
           "Action area"
          ],
          [
           "DiabetesLab",
           "Action area"
          ],
          [
           "U-Hopper",
           "Action area"
          ],
          [
           "21c",
           "Action area"
          ],
          [
           "MIOsoft Deutschland GmbH",
           "Action area"
          ],
          [
           "Europeana",
           "Action area"
          ],
          [
           "Wellness Telecom",
           "Action area"
          ],
          [
           "ZEEF",
           "Action area"
          ],
          [
           "SocialBro",
           "Action area"
          ],
          [
           "Shoptimise",
           "Action area"
          ],
          [
           "Olery",
           "Action area"
          ],
          [
           "moogsoft",
           "Action area"
          ],
          [
           "mcash",
           "Action area"
          ],
          [
           "Kreditech",
           "Action area"
          ],
          [
           "Blue Conic",
           "Action area"
          ],
          [
           "Infogram",
           "Action area"
          ],
          [
           "GPredictive",
           "Action area"
          ],
          [
           "GameAnalytics",
           "Action area"
          ],
          [
           "Edited",
           "Action area"
          ],
          [
           "Definiens",
           "Action area"
          ],
          [
           "Burt",
           "Action area"
          ],
          [
           "ArangoDB",
           "Action area"
          ],
          [
           "Finactum",
           "Action area"
          ],
          [
           "PricePanorama",
           "Action area"
          ],
          [
           "Thales",
           "Action area"
          ],
          [
           "SINTEF",
           "Action area"
          ],
          [
           "Siemens",
           "Action area"
          ],
          [
           "Helix Nebula Science Cloud",
           "Action area"
          ],
          [
           "CERN",
           "Action area"
          ],
          [
           "Orange",
           "Action area"
          ],
          [
           "NOKIA",
           "Action area"
          ],
          [
           "Indra",
           "Action area"
          ],
          [
           "Fraunhofer-Gesellschaft",
           "Action area"
          ],
          [
           "Atos",
           "Action area"
          ],
          [
           "AnswareTech s.l.",
           "Action area"
          ],
          [
           "Rusticae",
           "Action area"
          ],
          [
           "Wonga",
           "Action area"
          ],
          [
           "GoSquared",
           "Action area"
          ],
          [
           "Bime Analytics",
           "Action area"
          ],
          [
           "Treparel",
           "Action area"
          ],
          [
           "Kognitio",
           "Action area"
          ],
          [
           "Room Mate Hotels",
           "Action area"
          ],
          [
           "xplore+",
           "Action area"
          ],
          [
           "Wondergraphs",
           "Action area"
          ],
          [
           "Vitamin K",
           "Action area"
          ],
          [
           "Village",
           "Action area"
          ],
          [
           "UgenTec",
           "Action area"
          ],
          [
           "Trovit",
           "Action area"
          ],
          [
           "Trackuity",
           "Action area"
          ],
          [
           "Ticketea",
           "Action area"
          ],
          [
           "The Cocktail",
           "Action area"
          ],
          [
           "Teammate",
           "Action area"
          ],
          [
           "Soysuper",
           "Action area"
          ],
          [
           "Softonic",
           "Action area"
          ],
          [
           "Euronixa",
           "Action area"
          ],
          [
           "LetsBonus",
           "Action area"
          ],
          [
           "F6S",
           "Action area"
          ],
          [
           "Feedzai",
           "Action area"
          ],
          [
           "Blink by Groupon",
           "Action area"
          ],
          [
           "Sentiance",
           "Action area"
          ],
          [
           "Synapse Factory",
           "Action area"
          ],
          [
           "Social Point",
           "Action area"
          ],
          [
           "Signaturit",
           "Action area"
          ],
          [
           "Conento",
           "Action area"
          ],
          [
           "Sharing Academy",
           "Action area"
          ],
          [
           "Quizlyse",
           "Action area"
          ],
          [
           "Privalia",
           "Action area"
          ],
          [
           "BrandWatch",
           "Action area"
          ],
          [
           "Option",
           "Action area"
          ],
          [
           "NGdata",
           "Action area"
          ],
          [
           "MusiXmatch",
           "Action area"
          ],
          [
           "Eltenedor",
           "Action area"
          ],
          [
           "Chicisimo",
           "Action area"
          ],
          [
           "Captain Dash",
           "Action area"
          ],
          [
           "Cabify",
           "Action area"
          ],
          [
           "Minube",
           "Action area"
          ],
          [
           "Arsys",
           "Action area"
          ],
          [
           "Antevenio",
           "Action area"
          ],
          [
           "Acierto.com",
           "Action area"
          ],
          [
           "Acens",
           "Action area"
          ],
          [
           "Madpixel",
           "Action area"
          ],
          [
           "Kibo Ventures",
           "Action area"
          ],
          [
           "Kofax Kapow",
           "Action area"
          ],
          [
           "Kantox",
           "Action area"
          ],
          [
           "Jobandtalent",
           "Action area"
          ],
          [
           "Idealista",
           "Action area"
          ],
          [
           "Ancoa",
           "Action area"
          ],
          [
           "Incubio",
           "Action area"
          ],
          [
           "Greenbird",
           "Action area"
          ],
          [
           "Gigas",
           "Action area"
          ],
          [
           "Geeksphone",
           "Action area"
          ],
          [
           "Gavai",
           "Action area"
          ],
          [
           "Fyber",
           "Action area"
          ],
          [
           "Fundera",
           "Action area"
          ],
          [
           "Fon",
           "Action area"
          ],
          [
           "eRepublick",
           "Action area"
          ],
          [
           "Sumerian",
           "Action area"
          ],
          [
           "Destinia.com",
           "Action area"
          ],
          [
           "DatoSphera",
           "Action area"
          ],
          [
           "DataScouts",
           "Action area"
          ],
          [
           "Datalayer",
           "Action area"
          ],
          [
           "DataCamp",
           "Action area"
          ],
          [
           "Data.be",
           "Action area"
          ],
          [
           "Dsquare",
           "Action area"
          ],
          [
           "Coches.com",
           "Action area"
          ],
          [
           "Chartboost",
           "Action area"
          ],
          [
           "CartoDB",
           "Action area"
          ],
          [
           "Blue Yonder",
           "Action area"
          ],
          [
           "BIGDATA.COMPANY",
           "Action area"
          ],
          [
           "PTV Group",
           "Action area"
          ],
          [
           "GLOBMOD",
           "Action area"
          ],
          [
           "Rasdaman GmbH",
           "Action area"
          ],
          [
           "TenForce",
           "Action area"
          ],
          [
           "Agro-Know",
           "Action area"
          ],
          [
           "Miradore",
           "Action area"
          ],
          [
           "Jozef Stefan Institute",
           "Action area"
          ],
          [
           "Ayuntamiento de Malaga - Malaga City Hall",
           "Action area"
          ],
          [
           "Fundacion CTIC Centro Tecnologico",
           "Action area"
          ],
          [
           "OKKAM s.r.l.",
           "Action area"
          ],
          [
           "EURA NOVA SA/NV",
           "Action area"
          ],
          [
           "EDF Energy",
           "Action area"
          ],
          [
           "Deutsche Post",
           "Action area"
          ],
          [
           "Omega software d.o.o.",
           "Action area"
          ],
          [
           "Wayra",
           "Action area"
          ],
          [
           "Vizzuality",
           "Action area"
          ],
          [
           "Devo",
           "Action area"
          ],
          [
           "Stratio",
           "Action area"
          ],
          [
           "ZED",
           "Action area"
          ],
          [
           "Telecom Italia SKIL Lab",
           "Action area"
          ],
          [
           "Five by Five",
           "Action area"
          ],
          [
           "InfoShare",
           "Action area"
          ],
          [
           "Snips",
           "Action area"
          ],
          [
           "Open Evidence",
           "Action area"
          ],
          [
           "Insiteo",
           "Action area"
          ],
          [
           "Flipps",
           "Action area"
          ],
          [
           "Wizi",
           "Action area"
          ],
          [
           "Zentrick",
           "Action area"
          ],
          [
           "Nextsocial",
           "Action area"
          ],
          [
           "H19 Limited",
           "Action area"
          ],
          [
           "Bitbar (testroid)",
           "Action area"
          ],
          [
           "Falcon Social",
           "Action area"
          ],
          [
           "Bigstep",
           "Action area"
          ],
          [
           "Teralab",
           "Action area"
          ],
          [
           "Zanran",
           "Action area"
          ],
          [
           "Amee",
           "Action area"
          ],
          [
           "Arria",
           "Action area"
          ],
          [
           "Bullnet Capital",
           "Action area"
          ],
          [
           "Mastodon C",
           "Action area"
          ],
          [
           "Experian PLC",
           "Action area"
          ],
          [
           "Elasticsearch",
           "Action area"
          ],
          [
           "Placr",
           "Action area"
          ],
          [
           "Spotify",
           "Action area"
          ],
          [
           "Gephi Consortium",
           "Action area"
          ],
          [
           "Squid Solutions",
           "Action area"
          ],
          [
           "Datasalt",
           "Action area"
          ],
          [
           "Import.io",
           "Action area"
          ],
          [
           "tinyclues",
           "Action area"
          ],
          [
           "Marinexplore",
           "Action area"
          ],
          [
           "CloudSigma",
           "Action area"
          ],
          [
           "Improve Digital",
           "Action area"
          ],
          [
           "GoDataDriven",
           "Action area"
          ],
          [
           "Owlin",
           "Action area"
          ],
          [
           "Rabobank",
           "Action area"
          ],
          [
           "Nathean",
           "Action area"
          ],
          [
           "Twimpact",
           "Action area"
          ],
          [
           "Soundcloud",
           "Action area"
          ],
          [
           "Belladati",
           "Action area"
          ],
          [
           "Eyedea Recognition",
           "Action area"
          ],
          [
           "Figshare",
           "Action area"
          ],
          [
           "ABI Research",
           "Action area"
          ],
          [
           "Dataiku",
           "Action area"
          ],
          [
           "OpenSignal",
           "Action area"
          ],
          [
           "Uswitch",
           "Action area"
          ],
          [
           "Microgen",
           "Action area"
          ],
          [
           "Sandtable",
           "Action area"
          ],
          [
           "AskBlackSwan",
           "Action area"
          ],
          [
           "Massivemedia",
           "Action area"
          ],
          [
           "DataMine Lab",
           "Action area"
          ],
          [
           "Open Corporates",
           "Action area"
          ],
          [
           "Asystec",
           "Action area"
          ],
          [
           "BigBoards",
           "Action area"
          ],
          [
           "Spaziodati",
           "Action area"
          ],
          [
           "Infotron",
           "Action area"
          ],
          [
           "Satalia",
           "Action area"
          ],
          [
           "Visup",
           "Action area"
          ],
          [
           "Criteo",
           "Action area"
          ],
          [
           "Quividi",
           "Action area"
          ],
          [
           "Sensaris",
           "Action area"
          ],
          [
           "Airbus Defence and Space",
           "Action area"
          ],
          [
           "Data Publica",
           "Action area"
          ],
          [
           "Datasift",
           "Action area"
          ],
          [
           "Doctoralia",
           "Action area"
          ],
          [
           "Atbrox",
           "Action area"
          ],
          [
           "Metrixlab",
           "Action area"
          ],
          [
           "VOC Capital Partners",
           "Action area"
          ],
          [
           "Treemetrics",
           "Action area"
          ],
          [
           "Mendeley",
           "Action area"
          ],
          [
           "Microtask",
           "Action area"
          ],
          [
           "Xing ",
           "Action area"
          ],
          [
           "Radoop",
           "Action area"
          ],
          [
           "Open Data Soft",
           "Action area"
          ],
          [
           "Camp de Bases",
           "Action area"
          ],
          [
           "Amadeus Total Rail",
           "Action area"
          ],
          [
           "Climpact",
           "Action area"
          ],
          [
           "Elaia",
           "Action area"
          ],
          [
           "SAP Big Data",
           "Action area"
          ],
          [
           "Semantic Web Company",
           "Action area"
          ],
          [
           "Streamdrill",
           "Action area"
          ],
          [
           "Talend",
           "Action area"
          ],
          [
           "RapidMiner",
           "Action area"
          ],
          [
           "Exasol",
           "Action area"
          ],
          [
           "Bankmark",
           "Action area"
          ],
          [
           "Data Shaka",
           "Action area"
          ],
          [
           "Quantumblack",
           "Action area"
          ],
          [
           "What3words",
           "Action area"
          ],
          [
           "Hummingbird Ventures",
           "Action area"
          ],
          [
           "Xively",
           "Action area"
          ],
          [
           "Duedil",
           "Action area"
          ],
          [
           "Qubit",
           "Action area"
          ],
          [
           "Now Casting",
           "Action area"
          ],
          [
           "Mydex",
           "Action area"
          ],
          [
           "Zhilabs",
           "Action area"
          ],
          [
           "Geowise ltd",
           "Action area"
          ]
         ],
         "hovertemplate": "lat=%{lat}<br>lon=%{lon}<br>Title=%{customdata[0]}<br>Action area=%{customdata[1]}<extra></extra>",
         "lat": [
          55.378051,
          55.378051,
          55.378051,
          55.378051,
          55.378051,
          55.378051,
          55.378051,
          55.378051,
          55.378051,
          55.378051,
          55.378051,
          55.378051,
          55.378051,
          55.378051,
          55.378051,
          55.378051,
          55.378051,
          55.378051,
          55.378051,
          55.378051,
          55.378051,
          55.378051,
          55.378051,
          41.4080914,
          45.188529,
          55.864237,
          39.3317751,
          51.8985143,
          50.6853626,
          48.822484,
          49.4521018,
          51.1078852,
          40.0703925,
          40.2033145,
          50.2648919,
          43.7695604,
          51.26654,
          53.4807593,
          51.4542645,
          53.4807593,
          53.691688,
          51.3396955,
          49.3987524,
          48.900552,
          50.9378101,
          51.388,
          43.610769,
          48.8396952,
          53.4807593,
          48.912259,
          48.8897359,
          56.9496487,
          52.3905689,
          53.5409298,
          59.4024341,
          51.67078,
          49.429895,
          55.8581302,
          48.884831,
          39.2108067,
          41.6986768,
          41.3850639,
          41.3799295,
          50.503887,
          41.3894751,
          41.4073044,
          41.4024792,
          37.3541079,
          60.1978031,
          39.8910481,
          41.3921855,
          41.3929907,
          41.4039304,
          41.3719624,
          41.4808812,
          41.40196,
          41.4063554,
          41.3981069,
          41.2758843,
          41.223238,
          41.3949891,
          43.6152902,
          43.2919385,
          42.329462,
          50.503887,
          47.0357767,
          43.3209022,
          52.3545543,
          52.3548588,
          45.1,
          49.817492,
          49.817492,
          56.26392,
          58.595272,
          58.595272,
          58.595272,
          61.92411,
          50.503887,
          46.227638,
          48.8640888,
          39.074208,
          39.074208,
          51.165691,
          50.503887,
          51.165691,
          50.503887,
          50.503887,
          50.503887,
          50.503887,
          50.503887,
          50.503887,
          50.503887,
          50.503887,
          50.503887,
          50.503887,
          50.503887,
          50.503887,
          50.503887,
          50.503887,
          46.818188,
          50.503887,
          50.503887,
          50.503887,
          50.503887,
          40.463667,
          50.503887,
          50.503887,
          50.503887,
          47.4095662,
          47.4095662,
          55.378051,
          47.4095662,
          47.4095662,
          47.4095662,
          55.378051,
          55.378051,
          55.378051,
          47.4095662,
          55.378051,
          47.4095662,
          55.378051,
          47.4095662,
          47.4095662,
          55.378051,
          55.378051,
          55.378051,
          55.378051,
          55.378051,
          55.378051,
          55.378051,
          55.378051,
          55.378051,
          55.378051,
          55.378051,
          55.378051,
          55.378051,
          55.378051,
          55.378051,
          55.378051,
          55.378051,
          47.4095662,
          47.4095662,
          47.4095662,
          47.4095662,
          55.378051,
          55.378051,
          47.4095662,
          38.7222524,
          50.503887,
          48.2081743,
          50.503887,
          50.503887,
          50.503887,
          50.503887,
          50.503887,
          50.503887,
          42.733883,
          50.503887,
          50.503887,
          46.151241,
          46.151241,
          50.503887,
          60.128161,
          50.503887,
          50.503887,
          52.132633,
          52.132633,
          52.132633,
          52.132633,
          52.3626842,
          55.378051,
          55.378051,
          47.4095662,
          55.378051,
          47.4095662,
          55.378051,
          55.378051,
          55.378051,
          55.378051,
          55.378051,
          55.378051,
          55.378051,
          55.378051,
          55.378051,
          55.378051,
          55.378051,
          55.378051,
          47.4095662,
          47.4095662,
          47.4095662,
          47.4095662,
          55.378051,
          47.4095662,
          47.4095662,
          47.4095662,
          47.4095662,
          47.4095662,
          55.378051,
          55.378051,
          55.378051,
          55.378051,
          55.378051,
          55.378051,
          55.378051,
          55.378051,
          55.378051,
          55.378051,
          55.378051,
          50.503887,
          50.503887,
          46.227638,
          50.503887,
          50.503887,
          50.503887,
          50.503887,
          50.503887,
          39.074208,
          39.074208,
          39.074208,
          50.503887,
          53.41291,
          53.41291,
          41.87194,
          41.87194,
          41.87194,
          41.87194,
          50.503887,
          60.180674,
          61.92411,
          61.92411,
          50.503887,
          50.503887,
          45.1,
          35.126413,
          50.503887,
          50.503887,
          49.817492,
          50.503887,
          49.817492,
          56.26392,
          50.503887,
          58.595272,
          60.1674188,
          50.503887,
          50.503887,
          56.879635,
          56.879635,
          56.879635,
          50.503887,
          55.169438,
          50.503887,
          51.919438,
          50.503887,
          45.943161,
          50.503887,
          50.503887,
          50.503887,
          50.503887,
          50.503887,
          50.503887,
          51.5073509,
          50.503887,
          50.503887,
          51.5073509,
          50.503887,
          50.503887,
          47.4095662,
          50.503887,
          50.503887,
          50.503887,
          50.503887,
          50.503887,
          50.503887,
          50.503887,
          50.503887,
          38.733888,
          50.503887,
          50.503887,
          42.6599319,
          50.503887,
          50.503887,
          52.2296756,
          44.4267674,
          52.5200066,
          52.181722,
          51.454513,
          48.8499198,
          51.5175797,
          48.1351253,
          48.856614,
          50.503887,
          48.856614,
          48.856614,
          50.503887,
          52.205337,
          51.5073509,
          48.856614,
          50.503887,
          51.5073509,
          50.503887,
          50.503887,
          50.503887,
          50.503887,
          50.503887,
          50.503887,
          50.503887,
          50.503887,
          50.503887,
          51.5073509,
          51.5073509,
          51.5073509,
          51.5073509,
          50.503887,
          50.503887,
          51.5073509,
          51.5073509,
          50.503887,
          50.503887,
          50.503887,
          50.503887,
          50.503887,
          50.503887,
          50.503887,
          50.503887,
          50.503887,
          50.503887,
          50.503887,
          51.7520209,
          51.7520209,
          52.520489,
          50.503887,
          51.825366,
          51.5073509,
          50.503887,
          51.5180861,
          51.5329912,
          51.4616902,
          50.503887,
          50.503887,
          50.503887,
          50.503887,
          50.503887,
          51.5073509,
          50.503887,
          51.5073509,
          50.503887,
          51.5073509,
          50.503887,
          51.5073509,
          50.503887,
          50.503887,
          50.503887,
          50.503887,
          50.503887,
          50.503887,
          50.503887,
          50.503887,
          50.503887,
          53.4807593,
          51.5073509,
          51.5073509,
          50.503887,
          50.503887,
          51.5042401,
          51.5073509,
          50.503887,
          50.503887,
          51.504954,
          51.7520209,
          51.5272719,
          51.378424,
          50.503887,
          50.503887,
          50.503887,
          50.503887,
          50.503887,
          50.503887,
          50.503887,
          50.503887,
          50.503887,
          53.381129,
          50.503887,
          51.5073509,
          51.5073509,
          50.503887,
          51.5073509,
          50.503887,
          50.503887,
          50.503887,
          50.503887,
          50.503887,
          50.503887,
          51.5504578,
          50.503887,
          50.503887,
          50.503887,
          50.503887,
          50.503887,
          50.503887,
          51.5073509,
          50.503887,
          51.5073509,
          51.5073509,
          51.5073509,
          50.503887,
          51.5073509,
          51.5073509,
          40.4167754,
          40.4167754,
          50.503887,
          40.4167754,
          50.503887,
          50.503887,
          50.503887,
          50.503887,
          50.503887,
          50.503887,
          59.3293235,
          50.503887,
          57.70887,
          50.503887,
          50.503887,
          59.3293235,
          50.503887,
          59.3293235,
          50.503887,
          59.3293235,
          50.503887,
          50.503887,
          50.503887,
          50.503887,
          50.503887,
          46.2043907,
          46.2043907,
          46.5196535,
          50.503887,
          47.3768866,
          50.503887,
          50.503887,
          47.1661672,
          50.503887,
          50.503887,
          46.5196535,
          46.3832683,
          50.503887,
          50.503887,
          47.3768866,
          47.3768866,
          46.2043907,
          50.503887,
          50.503887,
          50.503887,
          50.503887,
          50.503887,
          50.503887,
          50.503887,
          50.503887,
          52.3702157,
          50.503887,
          51.441642,
          50.503887,
          52.3702157,
          59.9138688,
          59.9138688,
          59.9138688,
          50.503887,
          50.2558286,
          50.503887,
          50.503887,
          50.503887,
          51.1078852,
          50.0646501,
          50.503887,
          50.503887,
          52.2296756,
          38.7222524,
          50.503887,
          48.1485965,
          50.503887,
          50.503887,
          40.4167754,
          40.4167754,
          50.503887,
          41.3850639,
          50.503887,
          43.318334,
          37.3890924,
          41.3850639,
          50.503887,
          50.503887,
          43.2630126,
          40.4167754,
          41.3850639,
          50.503887,
          41.3850639,
          41.3850639,
          50.503887,
          40.4167754,
          43.3156121,
          39.4699075,
          50.503887,
          50.503887,
          38.2699329,
          50.503887,
          40.4167754,
          50.503887,
          52.5204582,
          52.5200066,
          50.503887,
          50.503887,
          50.503887,
          50.503887,
          50.503887,
          47.497912,
          47.497912,
          47.497912,
          47.497912,
          47.497912,
          53.270668,
          53.3498053,
          53.3498053,
          53.3498053,
          50.503887,
          50.503887,
          50.503887,
          50.503887,
          50.503887,
          50.503887,
          50.503887,
          50.503887,
          50.503887,
          45.4642035,
          45.070312,
          50.503887,
          46.0710668,
          41.9027835,
          44.647128,
          56.9496487,
          54.6871555,
          50.503887,
          50.503887,
          50.503887,
          50.503887,
          51.5852528,
          51.441642,
          52.3657873,
          52.3702157,
          51.8125626,
          52.3702157,
          50.503887,
          51.9244201,
          52.3702157,
          52.3702157,
          51.441642,
          50.503887,
          45.777222,
          48.856614,
          48.856614,
          48.856614,
          48.856614,
          52.5200066,
          50.503887,
          50.503887,
          50.503887,
          50.503887,
          50.503887,
          50.503887,
          50.503887,
          50.503887,
          52.5200066,
          52.5200066,
          52.5200066,
          50.503887,
          50.503887,
          52.5287636,
          52.502561,
          50.503887,
          50.503887,
          50.503887,
          50.503887,
          50.503887,
          50.503887,
          50.503887,
          50.503887,
          50.503887,
          50.503887,
          50.503887,
          50.503887,
          50.503887,
          50.503887,
          51.2277411,
          48.7707012,
          50.1555566,
          50.503887,
          50.503887,
          50.503887,
          52.5200066,
          52.5200066,
          50.503887,
          50.1109221,
          52.5200066,
          52.5200066,
          52.5200066,
          52.5200066,
          50.503887,
          55.6760968,
          55.6760968,
          50.503887,
          55.6760968,
          50.503887,
          59.4369417,
          50.503887,
          60.1698557,
          50.503887,
          50.503887,
          60.1698557,
          60.1698557,
          60.1698557,
          50.503887,
          60.2054911,
          50.503887,
          60.1698557,
          50.503887,
          50.503887,
          50.503887,
          50.503887,
          50.503887,
          50.503887,
          50.503887,
          50.503887,
          50.503887,
          50.503887,
          48.856614,
          44.837789,
          48.732084,
          50.503887,
          48.856614,
          50.503887,
          50.503887,
          48.856614,
          43.606098,
          50.503887,
          48.856614,
          48.856614,
          48.856614,
          44.837789,
          48.856614,
          50.503887,
          48.896391,
          48.856614,
          50.6927049,
          48.856614,
          50.503887,
          50.503887,
          52.3702157,
          52.3702157,
          50.937531,
          50.503887,
          47.80949,
          59.4024341,
          50.503887,
          50.503887,
          44.4267674,
          52.5200066,
          50.8503396,
          43.5367334,
          50.503887,
          41.9027835,
          44.4267674,
          52.0704978,
          48.856614,
          51.5073509,
          50.503887,
          50.503887,
          60.3912628,
          44.494887,
          50.503887,
          52.154778,
          59.9138688,
          37.9838096,
          50.503887,
          50.503887,
          50.503887,
          60.2054911,
          48.2081743,
          59.4369608,
          59.4369608,
          48.2081743,
          50.503887,
          48.30694,
          50.503887,
          53.9045398,
          50.503887,
          50.503887,
          50.503887,
          50.503887,
          50.503887,
          50.503887,
          50.0755381,
          50.0755381,
          49.1950602,
          50.503887,
          55.6760968,
          53.0349245,
          37.9838096,
          48.2081743,
          50.503887,
          40.4167754,
          50.503887,
          50.503887,
          41.3850639,
          49.0068901,
          48.856614,
          50.503887,
          50.503887,
          50.503887,
          50.503887,
          50.0755381,
          44.494887,
          41.9027835,
          48.435977,
          43.7695604,
          60.2054911,
          50.503887,
          50.503887,
          50.503887,
          50.503887,
          50.503887,
          50.503887,
          50.503887,
          50.503887,
          50.503887,
          44.4056499,
          50.937531,
          50.503887,
          49.3987524,
          50.503887,
          50.8798438,
          50.503887,
          53.2326344,
          49.611621,
          48.714509,
          50.9097004,
          50.503887,
          52.3758916,
          48.856614,
          41.9027835,
          50.503887,
          48.2081743,
          52.3702157,
          50.503887,
          48.856614,
          51.5201013,
          50.503887,
          50.503887,
          50.503887,
          52.5694985,
          50.503887,
          48.1351253,
          52.9547832,
          52.5200066,
          51.5073509,
          50.503887,
          50.503887,
          48.73668,
          48.73668,
          51.5073509,
          52.2296756,
          51.9851034,
          50.503887,
          50.503887,
          50.503887,
          50.503887,
          50.503887,
          50.503887,
          50.503887,
          50.503887,
          43.2938489,
          51.9244201,
          40.6400629,
          50.503887,
          50.503887,
          41.3850639,
          47.3768866,
          50.503887,
          50.503887,
          -1.2920659,
          53.8231638,
          45.7533024,
          59.3304403,
          53.9045398,
          43.3173141,
          37.4896967,
          41.4054256,
          39.6390224,
          48.697161,
          52.5200066,
          51.5073509,
          44.5707306,
          52.0907374,
          55.378051,
          52.5200066,
          51.5426504,
          47.070714,
          51.5073509,
          48.856614,
          49.4874592,
          40.4167754,
          51.5073509,
          53.3365871,
          52.6464249,
          53.3498053,
          32.0852999,
          51.0543422,
          52.3702157,
          49.7867022,
          50.503887,
          37.9838096,
          52.5230016,
          51.5073509,
          52.5200066,
          59.4369608,
          40.6824408,
          52.5200066,
          52.5200066,
          51.5073509,
          41.3850639,
          51.5073509,
          47.80949,
          52.5200066,
          37.9838096,
          55.378051,
          48.856614,
          51.5401356,
          45.6668893,
          51.5308634,
          51.5073509,
          52.132633,
          46.0569465,
          52.1445127,
          51.5073509,
          60.2054911,
          31.046051,
          51.5233987,
          41.3862317,
          48.147869,
          40.4281797,
          38.8862733,
          51.503307,
          41.3850639,
          42.3449807,
          42.6850523,
          39.991195,
          50.8503396,
          38.0308,
          50.8832385,
          41.3914138,
          41.3850639,
          42.7016613,
          41.3850639,
          51.5073509,
          41.3850639,
          52.5231112,
          46.0751675,
          51.5073509,
          39.4699075,
          65.0120888,
          51.0543422,
          50.826702,
          41.3120158,
          50.7694775,
          37.9429857,
          51.0543422,
          41.3850639,
          41.3850639,
          41.3850639,
          41.3943819,
          41.3850639,
          39.478886,
          47.070714,
          46.5196535,
          54.6871555,
          41.3850639,
          41.3850639,
          40.4167754,
          41.3947475,
          41.563211,
          41.3850639,
          41.40293,
          41.3850639,
          40.4167754,
          41.3850639,
          41.3850639,
          41.3850639,
          41.5911589,
          41.3850639,
          41.3960593,
          41.3886456,
          52.3702157,
          50.1169301,
          55.6815889,
          39.2238411,
          51.441642,
          51.9962559,
          52.2067371,
          43.2497264,
          45.4777945,
          41.3850639,
          40.5485201,
          53.381129,
          45.070312,
          39.4699075,
          53.270668,
          54.597285,
          41.1188827,
          55.7855742,
          55.6760968,
          52.3702157,
          51.5637505,
          36.7198727,
          40.4167754,
          40.4167754,
          39.481059,
          51.4556432,
          41.3890931,
          41.1551401,
          41.3945632,
          36.5639615,
          41.3850639,
          41.3850639,
          41.3738573,
          41.3964753,
          41.633763,
          40.3286439,
          51.999303,
          41.3850639,
          48.856614,
          48.8302342,
          41.3850639,
          51.8034662,
          51.4921103,
          41.3850639,
          53.3498053,
          55.1325802,
          53.3498053,
          53.3498053,
          41.3850639,
          51.9244201,
          43.2922022,
          49.0068901,
          49.0216102,
          38.0457568,
          53.3498053,
          49.2099358,
          53.3498053,
          57.142952,
          43.4653488,
          56.9175829,
          50.8503396,
          52.0029907,
          54.7253168,
          56.9259212,
          45.966583,
          59.4369608,
          59.4369608,
          59.4206631,
          45.3271531,
          45.8147155,
          45.8019933,
          45.5575526,
          46.0395152,
          55.7046601,
          37.9838096,
          37.9838096,
          37.9838096,
          38.6244719,
          48.1906295,
          48.0985109,
          47.0840816,
          48.1941134,
          51.2329437,
          50.6203121,
          42.6808949,
          42.6916813,
          50.0755381,
          50.0755381,
          50.0755381,
          50.1057231,
          50.0755381,
          50.0755381,
          48.895918,
          55.6760968,
          55.6760968,
          50.503887,
          38.7222524,
          37.9838096,
          50.0840361,
          55.6729131,
          50.503887,
          47.368497,
          47.513238,
          46.0827445,
          47.497912,
          47.4951647,
          47.0931817,
          47.4903505,
          50.503887,
          47.4909948,
          48.147869,
          48.167965,
          50.503887,
          50.503887,
          54.6871555,
          54.6828723,
          54.686701,
          54.6871555,
          47.4050178,
          48.2081743,
          48.2081743,
          48.2081743,
          48.2081743,
          47.2692124,
          53.332816,
          59.4369608,
          53.3498053,
          42.6866911,
          42.6769456,
          42.6977082,
          42.6977082,
          42.6806599,
          50.0767404,
          56.9674982,
          52.2224439,
          38.7222524,
          38.7313036,
          38.7222524,
          38.7222524,
          52.2296756,
          45.813347,
          50.503887,
          42.6977082,
          46.7712101,
          44.443053,
          44.4267674,
          51.1087025,
          52.21675,
          52.406374,
          52.2296756,
          53.4285438,
          50.0646501,
          52.4076233,
          52.1747627,
          54.4103258,
          51.1087025,
          55.7113235,
          57.9313915,
          51.9974078,
          43.2630126,
          55.6760968,
          49.611621,
          59.4369608,
          59.4369608,
          49.611621,
          37.983917,
          61.5279393,
          57.7034405,
          57.70887,
          59.3293235,
          53.3498053,
          53.3498053,
          53.3498053,
          47.3768866,
          47.3768866,
          47.197193,
          41.8821281,
          44.494887,
          59.9109208,
          59.9287517,
          44.8344832,
          35.1855659,
          53.3498053,
          46.0569465,
          48.1485965,
          51.5073509,
          52.3507849,
          41.3912882,
          41.4242815,
          41.4046472,
          48.1351253,
          49.611621,
          52.0907374,
          41.5192058,
          51.5256331,
          46.0659552,
          46.0747793,
          51.5168758,
          53.5510846,
          52.0815611,
          37.3890924,
          52.3702157,
          51.5073509,
          48.856614,
          52.3339192,
          51.4071655,
          59.911466,
          53.5510846,
          51.8259325,
          56.9487201,
          53.5510846,
          55.6728991,
          51.5073509,
          48.1430353,
          57.7037421,
          50.9322014,
          50.9147465,
          51.6391984,
          48.856614,
          63.4305149,
          48.1438608,
          54.5259614,
          46.2043907,
          40.4167754,
          60.1698557,
          40.5296305,
          48.1351253,
          48.925687,
          40.4167754,
          40.5766078,
          51.5189847,
          51.5222735,
          43.6093572,
          52.0115769,
          51.41604,
          40.4167754,
          50.8503463,
          50.883333,
          40.4167754,
          41.3850639,
          50.93069,
          41.3886975,
          51.0664078,
          52.5200066,
          40.4566161,
          50.8503396,
          40.4167754,
          40.4167754,
          50.8503396,
          41.3850639,
          51.5073509,
          51.7164611,
          40.4204026,
          51.1966711,
          50.8503396,
          41.4066298,
          41.3850639,
          40.4286513,
          41.3850639,
          41.3995345,
          41.3850639,
          51.5073509,
          50.8798438,
          51.065895,
          44.494887,
          40.4167754,
          43.2630126,
          48.8691121,
          40.4167754,
          40.4167754,
          40.4167754,
          40.43094,
          40.5027867,
          40.4167754,
          40.4167754,
          40.4469281,
          51.5073509,
          41.3850639,
          40.4167754,
          40.4167754,
          51.513453,
          41.4062996,
          59.9138688,
          40.4167754,
          40.4284838,
          59.3132147,
          52.52471,
          40.4189645,
          40.4167754,
          40.43094,
          55.953252,
          40.4189645,
          41.3995134,
          50.9335899,
          50.8503396,
          51.0371743,
          50.826702,
          50.93069,
          40.4167754,
          52.3726371,
          40.4205598,
          49.0068901,
          52.0800171,
          49.0068901,
          41.3850639,
          53.0792962,
          54.5259614,
          38.0377353,
          61.0625256,
          46.0569465,
          36.7212737,
          43.5322015,
          46.0938885,
          50.6347043,
          51.5055412,
          50.0734195,
          45.7607302,
          40.4204889,
          40.4167754,
          40.412859,
          40.3843127,
          40.4167754,
          46.065302,
          48.856614,
          51.5073509,
          48.8679034,
          41.3850639,
          43.612189,
          42.6977082,
          38.7222524,
          50.9945496,
          52.4972,
          51.5073509,
          60.1624341,
          55.674143,
          51.5073509,
          48.856614,
          51.5340048,
          51.4959885,
          51.4933408,
          40.4196466,
          51.4992839,
          53.4040983,
          52.3702157,
          51.522162,
          59.3293235,
          48.8569775,
          48.8337447,
          40.9429032,
          51.5297257,
          48.856614,
          59.4369608,
          47.4316031,
          52.3702157,
          52.2291696,
          52.0907374,
          52.0907374,
          53.3937675,
          52.4846606,
          52.5320508,
          50.0919851,
          50.0754699,
          51.5343459,
          51.5073509,
          48.845743,
          51.5337331,
          51.5061206,
          51.5073509,
          51.5073509,
          51.5073509,
          51.0536093,
          51.5265179,
          51.5073509,
          53.3498053,
          50.9764468,
          46.0767821,
          51.9954069,
          51.5073509,
          45.4874171,
          48.856614,
          48.856614,
          45.2721454,
          48.8734948,
          48.8721419,
          51.4542645,
          41.3850639,
          63.4305149,
          51.9244201,
          51.9055332,
          51.8968917,
          51.5218313,
          61.4977524,
          53.556522,
          47.477824,
          48.8417356,
          48.8235937,
          43.6163539,
          48.8763275,
          48.8718361,
          49.293344,
          48.1983234,
          52.4846606,
          48.869798,
          51.4824708,
          49.48131,
          48.5667364,
          51.5138332,
          51.5073509,
          52.0498512,
          51.0543422,
          51.5073509,
          51.5128573,
          51.5118003,
          51.5073509,
          55.864237,
          41.3843763,
          55.950223
         ],
         "legendgroup": "",
         "lon": [
          -3.435973,
          -3.435973,
          -3.435973,
          -3.435973,
          -3.435973,
          -3.435973,
          -3.435973,
          -3.435973,
          -3.435973,
          -3.435973,
          -3.435973,
          -3.435973,
          -3.435973,
          -3.435973,
          -3.435973,
          -3.435973,
          -3.435973,
          -3.435973,
          -3.435973,
          -3.435973,
          -3.435973,
          -3.435973,
          -3.435973,
          2.2093868,
          5.724524,
          -4.251806,
          16.1839028,
          -8.4756035,
          4.3779197,
          2.288405,
          11.0766654,
          17.0385376,
          -2.1374162,
          -8.4102573,
          19.0237815,
          11.2558136,
          -1.0923964,
          -2.2426305,
          -0.9781303,
          -2.2426305,
          -1.308648,
          12.3730747,
          8.6724335,
          2.25929,
          4.0409517,
          0.506721,
          3.876716,
          2.2399123,
          -2.2426305,
          2.384049,
          2.2418428,
          24.1051865,
          13.0644729,
          -2.1113659,
          17.9464824,
          -1.2879529,
          1.054325,
          9.8475881,
          2.26851,
          9.1159902,
          44.6975317,
          2.1734035,
          2.1573894,
          4.469936,
          2.1341154,
          2.2093452,
          2.1945191,
          -121.9552356,
          24.9275169,
          4.2620542,
          2.1540917,
          2.1774555,
          2.2093742,
          2.0758628,
          2.1889141,
          2.1492214,
          2.1947451,
          2.1345129,
          1.9888275,
          1.7355609,
          2.1569267,
          7.0747012,
          -1.9867601,
          -71.0570313,
          4.469936,
          28.8051788,
          21.8957589,
          4.9540916,
          4.9592933,
          15.2000001,
          15.472962,
          15.472962,
          9.501785,
          25.0136071,
          25.0136071,
          25.0136071,
          25.7481511,
          4.469936,
          2.213749,
          2.3437342,
          21.824312,
          21.824312,
          10.451526,
          4.469936,
          10.451526,
          4.469936,
          4.469936,
          4.469936,
          4.469936,
          4.469936,
          4.469936,
          4.469936,
          4.469936,
          4.469936,
          4.469936,
          4.469936,
          4.469936,
          4.469936,
          4.469936,
          8.227512,
          4.469936,
          4.469936,
          4.469936,
          4.469936,
          -3.74922,
          4.469936,
          4.469936,
          4.469936,
          0.5990094,
          0.5990094,
          -3.435973,
          0.5990094,
          0.5990094,
          0.5990094,
          -3.435973,
          -3.435973,
          -3.435973,
          0.5990094,
          -3.435973,
          0.5990094,
          -3.435973,
          0.5990094,
          0.5990094,
          -3.435973,
          -3.435973,
          -3.435973,
          -3.435973,
          -3.435973,
          -3.435973,
          -3.435973,
          -3.435973,
          -3.435973,
          -3.435973,
          -3.435973,
          -3.435973,
          -3.435973,
          -3.435973,
          -3.435973,
          -3.435973,
          -3.435973,
          0.5990094,
          0.5990094,
          0.5990094,
          0.5990094,
          -3.435973,
          -3.435973,
          0.5990094,
          -9.1393366,
          4.469936,
          16.3738189,
          4.469936,
          4.469936,
          4.469936,
          4.469936,
          4.469936,
          4.469936,
          25.48583,
          4.469936,
          4.469936,
          14.995463,
          14.995463,
          4.469936,
          18.643501,
          4.469936,
          4.469936,
          5.291266,
          5.291266,
          5.291266,
          5.291266,
          4.92062,
          -3.435973,
          -3.435973,
          0.5990094,
          -3.435973,
          0.5990094,
          -3.435973,
          -3.435973,
          -3.435973,
          -3.435973,
          -3.435973,
          -3.435973,
          -3.435973,
          -3.435973,
          -3.435973,
          -3.435973,
          -3.435973,
          -3.435973,
          0.5990094,
          0.5990094,
          0.5990094,
          0.5990094,
          -3.435973,
          0.5990094,
          0.5990094,
          0.5990094,
          0.5990094,
          0.5990094,
          -3.435973,
          -3.435973,
          -3.435973,
          -3.435973,
          -3.435973,
          -3.435973,
          -3.435973,
          -3.435973,
          -3.435973,
          -3.435973,
          -3.435973,
          4.469936,
          4.469936,
          2.213749,
          4.469936,
          4.469936,
          4.469936,
          4.469936,
          4.469936,
          21.824312,
          21.824312,
          21.824312,
          4.469936,
          -8.24389,
          -8.24389,
          12.56738,
          12.56738,
          12.56738,
          12.56738,
          4.469936,
          24.8328349,
          25.7481511,
          25.7481511,
          4.469936,
          4.469936,
          15.2000001,
          33.429859,
          4.469936,
          4.469936,
          15.472962,
          4.469936,
          15.472962,
          9.501785,
          4.469936,
          25.0136071,
          24.9221404,
          4.469936,
          4.469936,
          24.603189,
          24.603189,
          24.603189,
          4.469936,
          23.881275,
          4.469936,
          19.145136,
          4.469936,
          24.96676,
          4.469936,
          4.469936,
          4.469936,
          4.469936,
          4.469936,
          4.469936,
          -0.1277583,
          4.469936,
          4.469936,
          -0.1277583,
          4.469936,
          4.469936,
          0.5990094,
          4.469936,
          4.469936,
          4.469936,
          4.469936,
          4.469936,
          4.469936,
          4.469936,
          4.469936,
          -9.153371,
          4.469936,
          4.469936,
          23.3165761,
          4.469936,
          4.469936,
          21.0122287,
          26.1025384,
          13.404954,
          0.1787568,
          -2.58791,
          2.6370411,
          -0.1804289,
          11.5819805,
          2.3522219,
          4.469936,
          2.3522219,
          2.3522219,
          4.469936,
          0.121817,
          -0.1277583,
          2.3522219,
          4.469936,
          -0.1277583,
          4.469936,
          4.469936,
          4.469936,
          4.469936,
          4.469936,
          4.469936,
          4.469936,
          4.469936,
          4.469936,
          -0.1277583,
          -0.1277583,
          -0.1277583,
          -0.1277583,
          4.469936,
          4.469936,
          -0.1277583,
          -0.1277583,
          4.469936,
          4.469936,
          4.469936,
          4.469936,
          4.469936,
          4.469936,
          4.469936,
          4.469936,
          4.469936,
          4.469936,
          4.469936,
          -1.2577263,
          -1.2577263,
          -1.465382,
          4.469936,
          -3.019423,
          -0.1277583,
          4.469936,
          -0.1337446,
          -0.1050653,
          -0.3045269,
          4.469936,
          4.469936,
          4.469936,
          4.469936,
          4.469936,
          -0.1277583,
          4.469936,
          -0.1277583,
          4.469936,
          -0.1277583,
          4.469936,
          -0.1277583,
          4.469936,
          4.469936,
          4.469936,
          4.469936,
          4.469936,
          4.469936,
          4.469936,
          4.469936,
          4.469936,
          -2.2426305,
          -0.1277583,
          -0.1277583,
          4.469936,
          4.469936,
          -0.0181378,
          -0.1277583,
          4.469936,
          4.469936,
          -0.0194504,
          -1.2577263,
          -0.0888792,
          -2.366861,
          4.469936,
          4.469936,
          4.469936,
          4.469936,
          4.469936,
          4.469936,
          4.469936,
          4.469936,
          4.469936,
          -1.470085,
          4.469936,
          -0.1277583,
          -0.1277583,
          4.469936,
          -0.1277583,
          4.469936,
          4.469936,
          4.469936,
          4.469936,
          4.469936,
          4.469936,
          -0.1081254,
          4.469936,
          4.469936,
          4.469936,
          4.469936,
          4.469936,
          4.469936,
          -0.1277583,
          4.469936,
          -0.1277583,
          -0.1277583,
          -0.1277583,
          4.469936,
          -0.1277583,
          -0.1277583,
          -3.7037902,
          -3.7037902,
          4.469936,
          -3.7037902,
          4.469936,
          4.469936,
          4.469936,
          4.469936,
          4.469936,
          4.469936,
          18.0685808,
          4.469936,
          11.97456,
          4.469936,
          4.469936,
          18.0685808,
          4.469936,
          18.0685808,
          4.469936,
          18.0685808,
          4.469936,
          4.469936,
          4.469936,
          4.469936,
          4.469936,
          6.1431577,
          6.1431577,
          6.6322734,
          4.469936,
          8.541694,
          4.469936,
          4.469936,
          8.5154946,
          4.469936,
          4.469936,
          6.6322734,
          6.2347852,
          4.469936,
          4.469936,
          8.541694,
          8.541694,
          6.1431577,
          4.469936,
          4.469936,
          4.469936,
          4.469936,
          4.469936,
          4.469936,
          4.469936,
          4.469936,
          4.8951679,
          4.469936,
          5.4697225,
          4.469936,
          4.8951679,
          10.7522454,
          10.7522454,
          10.7522454,
          4.469936,
          18.8555704,
          4.469936,
          4.469936,
          4.469936,
          17.0385376,
          19.9449799,
          4.469936,
          4.469936,
          21.0122287,
          -9.1393366,
          4.469936,
          17.1077478,
          4.469936,
          4.469936,
          -3.7037902,
          -3.7037902,
          4.469936,
          2.1734035,
          4.469936,
          -1.9812313,
          -5.9844589,
          2.1734035,
          4.469936,
          4.469936,
          -2.9349852,
          -3.7037902,
          2.1734035,
          4.469936,
          2.1734035,
          2.1734035,
          4.469936,
          -3.7037902,
          -2.9525632,
          -0.3762881,
          4.469936,
          4.469936,
          -0.7125608,
          4.469936,
          -3.7037902,
          4.469936,
          13.3885876,
          13.404954,
          4.469936,
          4.469936,
          4.469936,
          4.469936,
          4.469936,
          19.040235,
          19.040235,
          19.040235,
          19.040235,
          19.040235,
          -9.0567905,
          -6.2603097,
          -6.2603097,
          -6.2603097,
          4.469936,
          4.469936,
          4.469936,
          4.469936,
          4.469936,
          4.469936,
          4.469936,
          4.469936,
          4.469936,
          9.189982,
          7.6868565,
          4.469936,
          13.2345794,
          12.4963655,
          10.9252269,
          24.1051865,
          25.2796514,
          4.469936,
          4.469936,
          4.469936,
          4.469936,
          5.056375,
          5.4697225,
          4.8874015,
          4.8951679,
          5.8372264,
          4.8951679,
          4.469936,
          4.4777326,
          4.8951679,
          4.8951679,
          5.4697225,
          4.469936,
          3.087025,
          2.3522219,
          2.3522219,
          2.3522219,
          2.3522219,
          13.404954,
          4.469936,
          4.469936,
          4.469936,
          4.469936,
          4.469936,
          4.469936,
          4.469936,
          4.469936,
          13.404954,
          13.404954,
          13.404954,
          4.469936,
          4.469936,
          13.3437303,
          13.4204095,
          4.469936,
          4.469936,
          4.469936,
          4.469936,
          4.469936,
          4.469936,
          4.469936,
          4.469936,
          4.469936,
          4.469936,
          4.469936,
          4.469936,
          4.469936,
          4.469936,
          6.7734556,
          9.1570065,
          8.6585488,
          4.469936,
          4.469936,
          4.469936,
          13.404954,
          13.404954,
          4.469936,
          8.6821267,
          13.404954,
          13.404954,
          13.404954,
          13.404954,
          4.469936,
          12.5683372,
          12.5683372,
          4.469936,
          12.5683372,
          4.469936,
          24.7567263,
          4.469936,
          24.9383791,
          4.469936,
          4.469936,
          24.9383791,
          24.9383791,
          24.9383791,
          4.469936,
          24.6559,
          4.469936,
          24.9383791,
          4.469936,
          4.469936,
          4.469936,
          4.469936,
          4.469936,
          4.469936,
          4.469936,
          4.469936,
          4.469936,
          4.469936,
          2.3522219,
          -0.57918,
          -3.459144,
          4.469936,
          2.3522219,
          4.469936,
          4.469936,
          2.3522219,
          1.500032,
          4.469936,
          2.3522219,
          2.3522219,
          2.3522219,
          -0.57918,
          2.3522219,
          4.469936,
          2.160098,
          2.3522219,
          3.177847,
          2.3522219,
          4.469936,
          4.469936,
          4.8951679,
          4.8951679,
          6.9602786,
          4.469936,
          13.05501,
          17.9464824,
          4.469936,
          4.469936,
          26.1025384,
          13.404954,
          4.3517103,
          1.5280556,
          4.469936,
          12.4963655,
          26.1025384,
          4.3006999,
          2.3522219,
          -0.1277583,
          4.469936,
          4.469936,
          5.3220544,
          11.3426162,
          4.469936,
          9.9579652,
          10.7522454,
          23.7275388,
          4.469936,
          4.469936,
          4.469936,
          24.6559,
          16.3738189,
          24.7535747,
          24.7535747,
          16.3738189,
          4.469936,
          14.28583,
          4.469936,
          27.5615244,
          4.469936,
          4.469936,
          4.469936,
          4.469936,
          4.469936,
          4.469936,
          14.4378005,
          14.4378005,
          16.6068371,
          4.469936,
          12.5683372,
          8.5426865,
          23.7275388,
          16.3738189,
          4.469936,
          -3.7037902,
          4.469936,
          4.469936,
          2.1734035,
          8.4036527,
          2.3522219,
          4.469936,
          4.469936,
          4.469936,
          4.469936,
          14.4378005,
          11.3426162,
          12.4963655,
          -4.400707,
          11.2558136,
          24.6559,
          4.469936,
          4.469936,
          4.469936,
          4.469936,
          4.469936,
          4.469936,
          4.469936,
          4.469936,
          4.469936,
          8.946256,
          6.9602786,
          4.469936,
          8.6724335,
          4.469936,
          4.7005176,
          4.469936,
          -2.6103158,
          6.1319346,
          2.245748,
          -1.4043509,
          4.469936,
          9.7320104,
          2.3522219,
          12.4963655,
          4.469936,
          16.3738189,
          4.8951679,
          4.469936,
          2.3522219,
          -0.1379591,
          4.469936,
          4.469936,
          4.469936,
          -0.2405299,
          4.469936,
          11.5819805,
          -1.1581086,
          13.404954,
          -0.1277583,
          4.469936,
          4.469936,
          2.180034,
          2.180034,
          -0.1277583,
          21.0122287,
          5.8987296,
          4.469936,
          4.469936,
          4.469936,
          4.469936,
          4.469936,
          4.469936,
          4.469936,
          4.469936,
          5.3594109,
          4.4777326,
          22.9444191,
          4.469936,
          4.469936,
          2.1734035,
          8.541694,
          4.469936,
          4.469936,
          36.8219462,
          27.4409706,
          4.8794296,
          18.0645279,
          27.5615244,
          -1.9849652,
          -122.2277193,
          2.1618182,
          22.4191254,
          2.189617,
          13.404954,
          -0.1277583,
          26.0844123,
          5.1214201,
          -3.435973,
          13.404954,
          -0.0232278,
          15.439504,
          -0.1277583,
          2.3522219,
          8.4660395,
          -3.7037902,
          -0.1277583,
          -6.2509259,
          -3.3260904,
          -6.2603097,
          34.7817676,
          3.7174243,
          4.8951679,
          9.9684822,
          4.469936,
          23.7275388,
          13.4165537,
          -0.1277583,
          13.404954,
          24.7535746,
          14.7680961,
          13.404954,
          13.404954,
          -0.1277583,
          2.1734035,
          -0.1277583,
          13.05501,
          13.404954,
          23.7275388,
          -3.435973,
          2.3522219,
          -0.1524488,
          12.2430437,
          -0.118085,
          -0.1277583,
          5.291266,
          14.5057515,
          -0.4683014,
          -0.1277583,
          24.6559,
          34.851612,
          -0.084109,
          2.1774983,
          17.125125,
          -3.6842355,
          -7.0073864,
          -0.115234,
          2.1734035,
          -71.1096507,
          23.3294939,
          32.744261,
          4.3517103,
          23.797118,
          4.7132465,
          2.1520269,
          2.1734035,
          0.796175,
          2.1734035,
          -0.1277583,
          2.1734035,
          13.4092978,
          11.1175402,
          -0.1277583,
          -0.3762881,
          25.4650772,
          3.7174243,
          4.4002322,
          2.0959429,
          7.1875786,
          23.6469832,
          3.7174243,
          2.1734035,
          2.1734035,
          2.1734035,
          2.1131154,
          2.1734035,
          -0.355593,
          15.439504,
          6.6322734,
          25.2796514,
          2.1734035,
          2.1734035,
          -3.7037902,
          2.1609876,
          2.0088747,
          2.1734035,
          2.1917018,
          2.1734035,
          -3.7037902,
          2.1734035,
          2.1734035,
          2.1734035,
          1.5208624,
          2.1734035,
          2.1497264,
          2.1649121,
          4.8951679,
          8.6493502,
          12.5290918,
          9.1216613,
          5.4697225,
          4.3758659,
          20.980481,
          -5.7785282,
          9.2272458,
          2.1734035,
          23.019646,
          -1.470085,
          7.6868565,
          -0.3762881,
          -9.0567905,
          -5.93012,
          1.2444909,
          12.521381,
          12.5683372,
          4.8951679,
          5.043494,
          -4.4160444,
          -3.7037902,
          -3.7037902,
          -0.341067,
          7.0115552,
          2.1170801,
          1.1066958,
          2.1708139,
          -4.6036995,
          2.1734035,
          2.1734035,
          2.0746604,
          2.1514044,
          1.9979411,
          -3.8574264,
          5.6737204,
          2.1734035,
          2.3522219,
          2.335803,
          2.1734035,
          -8.3016063,
          -0.2751327,
          2.1734035,
          -6.2603097,
          -6.6646103,
          -6.2603097,
          -6.2603097,
          2.1734035,
          4.4777326,
          -1.9857595,
          8.4036527,
          8.4394064,
          23.8584737,
          -6.2603097,
          16.5989768,
          -6.2603097,
          -2.1284445,
          -5.9198387,
          24.0861501,
          4.3517103,
          5.1857599,
          25.2973614,
          24.0199328,
          14.2973873,
          24.7535746,
          24.7535747,
          24.8065559,
          14.4679027,
          15.9758468,
          16.0034362,
          18.6749379,
          14.5016202,
          13.1910073,
          23.7275388,
          23.7275388,
          23.7275388,
          21.4095934,
          16.340484,
          16.2814619,
          15.459471,
          16.3953555,
          4.4085331,
          5.9418935,
          23.3382567,
          23.31955,
          14.4378005,
          14.4378005,
          14.4378005,
          14.4325598,
          14.4378005,
          14.4378005,
          17.3127994,
          12.5683372,
          12.5683372,
          4.469936,
          -9.1393366,
          23.7275388,
          14.4246819,
          12.5563181,
          4.469936,
          18.977268,
          19.093747,
          18.2322899,
          19.040235,
          19.0351054,
          17.9062942,
          19.0306807,
          4.469936,
          19.0530931,
          17.125125,
          17.1390652,
          4.469936,
          4.469936,
          25.2796514,
          25.2730031,
          25.283262,
          25.2796514,
          9.7425859,
          16.3738189,
          16.3738189,
          16.3738189,
          16.3738189,
          11.4041024,
          -6.2637706,
          24.7535746,
          -6.2603097,
          23.316708,
          23.3331265,
          23.3218675,
          23.3218675,
          23.3257245,
          14.4536828,
          24.164646,
          21.0358409,
          -9.1393366,
          -9.1457427,
          -9.1393366,
          -9.1393366,
          21.0122287,
          15.9886814,
          4.469936,
          23.3218675,
          23.6236353,
          26.1091729,
          26.1025384,
          17.0266974,
          21.09958,
          16.9251681,
          21.0122287,
          14.5528116,
          19.9449799,
          16.9386146,
          21.0221154,
          18.5790249,
          17.0266974,
          13.2149736,
          16.1926853,
          4.35422,
          -2.9349852,
          12.5683372,
          6.1319346,
          24.7535747,
          24.7535747,
          6.1319346,
          23.7293599,
          23.6706737,
          11.9644239,
          11.97456,
          18.0685808,
          -6.2603097,
          -6.2603097,
          -6.2603097,
          8.541694,
          8.541694,
          8.4850173,
          12.4673426,
          11.3426162,
          10.7369774,
          10.7172219,
          11.5979159,
          33.3822764,
          -6.2603097,
          14.5057515,
          17.1077478,
          -0.1277583,
          5.2647016,
          2.1598291,
          2.1402498,
          2.1936486,
          11.5819805,
          6.1319346,
          5.1214201,
          -4.7169654,
          -0.0838597,
          11.1500445,
          11.1217486,
          -0.2101796,
          9.9936819,
          4.3236005,
          -5.9844589,
          4.8951679,
          -0.1277583,
          2.3522219,
          4.8567865,
          -0.3073972,
          10.7410775,
          9.9936818,
          5.7963222,
          24.1090062,
          9.9936819,
          12.5562873,
          -0.1277583,
          11.5471646,
          11.9663014,
          6.9399237,
          4.6877245,
          15.1335891,
          2.3522219,
          10.3950528,
          11.5752238,
          15.2551187,
          6.1431577,
          -3.7037902,
          24.9383791,
          -3.6420043,
          11.5819805,
          2.215847,
          -3.7037902,
          -3.9293646,
          -0.162429,
          -0.1097034,
          3.8845848,
          4.3570677,
          -0.75398,
          -3.7037902,
          4.3517211,
          4.7,
          -3.7037902,
          2.1734035,
          5.33248,
          2.1304008,
          3.7335525,
          13.404954,
          -3.6976434,
          4.3517103,
          -3.7037902,
          -3.7037902,
          4.3517103,
          2.1734035,
          -0.1277583,
          -1.2179185,
          -3.7051894,
          4.4078422,
          4.3517103,
          2.192178,
          2.1734035,
          -3.6997654,
          2.1734035,
          2.1931683,
          2.1734035,
          -0.1277583,
          4.7005176,
          3.7291358,
          11.3426162,
          -3.7037902,
          -2.9349852,
          2.3771995,
          -3.7037902,
          -3.7037902,
          -3.7037902,
          -3.6952896,
          -3.674793,
          -3.7037902,
          -3.7037902,
          -3.6772469,
          -0.1277583,
          2.1734035,
          -3.7037902,
          -3.7037902,
          -0.0865101,
          2.1928317,
          10.7522454,
          -3.7037902,
          -3.698337,
          18.0810746,
          13.38885,
          -3.7117806,
          -3.7037902,
          -3.6952896,
          -3.188267,
          -3.7117806,
          2.1932057,
          4.3732552,
          4.3517103,
          3.7412237,
          4.4002322,
          5.33248,
          -3.7037902,
          4.8917277,
          -3.7059615,
          8.4036527,
          4.3070202,
          8.4036527,
          2.1734035,
          8.8016936,
          15.2551187,
          23.8376522,
          28.0986552,
          14.5057515,
          -4.4213988,
          -5.6611195,
          11.116721,
          4.6106474,
          -0.0953251,
          8.6361502,
          15.9884391,
          -3.7021735,
          -3.7037902,
          -3.695502,
          -3.7993992,
          -3.7037902,
          11.1503987,
          2.3522219,
          -0.1277583,
          2.3022855,
          2.1734035,
          1.336579,
          23.3218675,
          -9.1393366,
          3.7456402,
          13.36236,
          -0.1277583,
          24.9398579,
          12.571747,
          -0.1277583,
          2.3522219,
          -0.0994013,
          -0.1458768,
          -0.2253451,
          -3.801704,
          -0.0928095,
          -6.1818178,
          4.8951679,
          -0.083438,
          18.0685808,
          2.3296994,
          2.3250476,
          -4.1088069,
          -0.0804297,
          2.3522219,
          24.7535747,
          8.5593916,
          4.8951679,
          5.1668974,
          5.1214201,
          5.1214201,
          -6.3769425,
          13.4663924,
          13.42785,
          14.4337927,
          14.3774788,
          -0.1213704,
          -0.1277583,
          2.3282875,
          -0.1060036,
          -0.0958589,
          -0.1277583,
          -0.1277583,
          -0.1277583,
          3.7237196,
          -0.1136194,
          -0.1277583,
          -6.2603097,
          4.8357501,
          11.1240419,
          4.3767138,
          -0.1277583,
          9.2023526,
          2.3522219,
          2.3522219,
          5.8922917,
          2.2830797,
          2.3484134,
          -0.9781303,
          2.1734035,
          10.3950528,
          4.4777326,
          4.4866924,
          -8.4863157,
          -0.0862562,
          23.7609535,
          9.988169,
          19.069902,
          2.2851676,
          2.2732577,
          7.0552218,
          2.3483612,
          2.3064687,
          8.6419648,
          16.3497128,
          13.4663924,
          2.219033,
          7.4010987,
          11.12125,
          13.4319466,
          -0.1318224,
          -0.1277583,
          -0.02506,
          3.7174243,
          -0.1277583,
          -0.1317586,
          -0.1245724,
          -0.1277583,
          -4.251806,
          2.1376299,
          -3.1766739
         ],
         "marker": {
          "color": "#FB0D0D"
         },
         "mode": "markers",
         "name": "",
         "showlegend": false,
         "subplot": "mapbox",
         "type": "scattermapbox"
        }
       ],
       "layout": {
        "height": 300,
        "legend": {
         "tracegroupgap": 0
        },
        "mapbox": {
         "center": {
          "lat": 49.42473609932585,
          "lon": 5.544473083370788
         },
         "domain": {
          "x": [
           0,
           1
          ],
          "y": [
           0,
           1
          ]
         },
         "style": "open-street-map",
         "zoom": 3
        },
        "margin": {
         "b": 0,
         "l": 0,
         "r": 0,
         "t": 0
        },
        "template": {
         "data": {
          "bar": [
           {
            "error_x": {
             "color": "#2a3f5f"
            },
            "error_y": {
             "color": "#2a3f5f"
            },
            "marker": {
             "line": {
              "color": "#E5ECF6",
              "width": 0.5
             }
            },
            "type": "bar"
           }
          ],
          "barpolar": [
           {
            "marker": {
             "line": {
              "color": "#E5ECF6",
              "width": 0.5
             }
            },
            "type": "barpolar"
           }
          ],
          "carpet": [
           {
            "aaxis": {
             "endlinecolor": "#2a3f5f",
             "gridcolor": "white",
             "linecolor": "white",
             "minorgridcolor": "white",
             "startlinecolor": "#2a3f5f"
            },
            "baxis": {
             "endlinecolor": "#2a3f5f",
             "gridcolor": "white",
             "linecolor": "white",
             "minorgridcolor": "white",
             "startlinecolor": "#2a3f5f"
            },
            "type": "carpet"
           }
          ],
          "choropleth": [
           {
            "colorbar": {
             "outlinewidth": 0,
             "ticks": ""
            },
            "type": "choropleth"
           }
          ],
          "contour": [
           {
            "colorbar": {
             "outlinewidth": 0,
             "ticks": ""
            },
            "colorscale": [
             [
              0,
              "#0d0887"
             ],
             [
              0.1111111111111111,
              "#46039f"
             ],
             [
              0.2222222222222222,
              "#7201a8"
             ],
             [
              0.3333333333333333,
              "#9c179e"
             ],
             [
              0.4444444444444444,
              "#bd3786"
             ],
             [
              0.5555555555555556,
              "#d8576b"
             ],
             [
              0.6666666666666666,
              "#ed7953"
             ],
             [
              0.7777777777777778,
              "#fb9f3a"
             ],
             [
              0.8888888888888888,
              "#fdca26"
             ],
             [
              1,
              "#f0f921"
             ]
            ],
            "type": "contour"
           }
          ],
          "contourcarpet": [
           {
            "colorbar": {
             "outlinewidth": 0,
             "ticks": ""
            },
            "type": "contourcarpet"
           }
          ],
          "heatmap": [
           {
            "colorbar": {
             "outlinewidth": 0,
             "ticks": ""
            },
            "colorscale": [
             [
              0,
              "#0d0887"
             ],
             [
              0.1111111111111111,
              "#46039f"
             ],
             [
              0.2222222222222222,
              "#7201a8"
             ],
             [
              0.3333333333333333,
              "#9c179e"
             ],
             [
              0.4444444444444444,
              "#bd3786"
             ],
             [
              0.5555555555555556,
              "#d8576b"
             ],
             [
              0.6666666666666666,
              "#ed7953"
             ],
             [
              0.7777777777777778,
              "#fb9f3a"
             ],
             [
              0.8888888888888888,
              "#fdca26"
             ],
             [
              1,
              "#f0f921"
             ]
            ],
            "type": "heatmap"
           }
          ],
          "heatmapgl": [
           {
            "colorbar": {
             "outlinewidth": 0,
             "ticks": ""
            },
            "colorscale": [
             [
              0,
              "#0d0887"
             ],
             [
              0.1111111111111111,
              "#46039f"
             ],
             [
              0.2222222222222222,
              "#7201a8"
             ],
             [
              0.3333333333333333,
              "#9c179e"
             ],
             [
              0.4444444444444444,
              "#bd3786"
             ],
             [
              0.5555555555555556,
              "#d8576b"
             ],
             [
              0.6666666666666666,
              "#ed7953"
             ],
             [
              0.7777777777777778,
              "#fb9f3a"
             ],
             [
              0.8888888888888888,
              "#fdca26"
             ],
             [
              1,
              "#f0f921"
             ]
            ],
            "type": "heatmapgl"
           }
          ],
          "histogram": [
           {
            "marker": {
             "colorbar": {
              "outlinewidth": 0,
              "ticks": ""
             }
            },
            "type": "histogram"
           }
          ],
          "histogram2d": [
           {
            "colorbar": {
             "outlinewidth": 0,
             "ticks": ""
            },
            "colorscale": [
             [
              0,
              "#0d0887"
             ],
             [
              0.1111111111111111,
              "#46039f"
             ],
             [
              0.2222222222222222,
              "#7201a8"
             ],
             [
              0.3333333333333333,
              "#9c179e"
             ],
             [
              0.4444444444444444,
              "#bd3786"
             ],
             [
              0.5555555555555556,
              "#d8576b"
             ],
             [
              0.6666666666666666,
              "#ed7953"
             ],
             [
              0.7777777777777778,
              "#fb9f3a"
             ],
             [
              0.8888888888888888,
              "#fdca26"
             ],
             [
              1,
              "#f0f921"
             ]
            ],
            "type": "histogram2d"
           }
          ],
          "histogram2dcontour": [
           {
            "colorbar": {
             "outlinewidth": 0,
             "ticks": ""
            },
            "colorscale": [
             [
              0,
              "#0d0887"
             ],
             [
              0.1111111111111111,
              "#46039f"
             ],
             [
              0.2222222222222222,
              "#7201a8"
             ],
             [
              0.3333333333333333,
              "#9c179e"
             ],
             [
              0.4444444444444444,
              "#bd3786"
             ],
             [
              0.5555555555555556,
              "#d8576b"
             ],
             [
              0.6666666666666666,
              "#ed7953"
             ],
             [
              0.7777777777777778,
              "#fb9f3a"
             ],
             [
              0.8888888888888888,
              "#fdca26"
             ],
             [
              1,
              "#f0f921"
             ]
            ],
            "type": "histogram2dcontour"
           }
          ],
          "mesh3d": [
           {
            "colorbar": {
             "outlinewidth": 0,
             "ticks": ""
            },
            "type": "mesh3d"
           }
          ],
          "parcoords": [
           {
            "line": {
             "colorbar": {
              "outlinewidth": 0,
              "ticks": ""
             }
            },
            "type": "parcoords"
           }
          ],
          "pie": [
           {
            "automargin": true,
            "type": "pie"
           }
          ],
          "scatter": [
           {
            "marker": {
             "colorbar": {
              "outlinewidth": 0,
              "ticks": ""
             }
            },
            "type": "scatter"
           }
          ],
          "scatter3d": [
           {
            "line": {
             "colorbar": {
              "outlinewidth": 0,
              "ticks": ""
             }
            },
            "marker": {
             "colorbar": {
              "outlinewidth": 0,
              "ticks": ""
             }
            },
            "type": "scatter3d"
           }
          ],
          "scattercarpet": [
           {
            "marker": {
             "colorbar": {
              "outlinewidth": 0,
              "ticks": ""
             }
            },
            "type": "scattercarpet"
           }
          ],
          "scattergeo": [
           {
            "marker": {
             "colorbar": {
              "outlinewidth": 0,
              "ticks": ""
             }
            },
            "type": "scattergeo"
           }
          ],
          "scattergl": [
           {
            "marker": {
             "colorbar": {
              "outlinewidth": 0,
              "ticks": ""
             }
            },
            "type": "scattergl"
           }
          ],
          "scattermapbox": [
           {
            "marker": {
             "colorbar": {
              "outlinewidth": 0,
              "ticks": ""
             }
            },
            "type": "scattermapbox"
           }
          ],
          "scatterpolar": [
           {
            "marker": {
             "colorbar": {
              "outlinewidth": 0,
              "ticks": ""
             }
            },
            "type": "scatterpolar"
           }
          ],
          "scatterpolargl": [
           {
            "marker": {
             "colorbar": {
              "outlinewidth": 0,
              "ticks": ""
             }
            },
            "type": "scatterpolargl"
           }
          ],
          "scatterternary": [
           {
            "marker": {
             "colorbar": {
              "outlinewidth": 0,
              "ticks": ""
             }
            },
            "type": "scatterternary"
           }
          ],
          "surface": [
           {
            "colorbar": {
             "outlinewidth": 0,
             "ticks": ""
            },
            "colorscale": [
             [
              0,
              "#0d0887"
             ],
             [
              0.1111111111111111,
              "#46039f"
             ],
             [
              0.2222222222222222,
              "#7201a8"
             ],
             [
              0.3333333333333333,
              "#9c179e"
             ],
             [
              0.4444444444444444,
              "#bd3786"
             ],
             [
              0.5555555555555556,
              "#d8576b"
             ],
             [
              0.6666666666666666,
              "#ed7953"
             ],
             [
              0.7777777777777778,
              "#fb9f3a"
             ],
             [
              0.8888888888888888,
              "#fdca26"
             ],
             [
              1,
              "#f0f921"
             ]
            ],
            "type": "surface"
           }
          ],
          "table": [
           {
            "cells": {
             "fill": {
              "color": "#EBF0F8"
             },
             "line": {
              "color": "white"
             }
            },
            "header": {
             "fill": {
              "color": "#C8D4E3"
             },
             "line": {
              "color": "white"
             }
            },
            "type": "table"
           }
          ]
         },
         "layout": {
          "annotationdefaults": {
           "arrowcolor": "#2a3f5f",
           "arrowhead": 0,
           "arrowwidth": 1
          },
          "coloraxis": {
           "colorbar": {
            "outlinewidth": 0,
            "ticks": ""
           }
          },
          "colorscale": {
           "diverging": [
            [
             0,
             "#8e0152"
            ],
            [
             0.1,
             "#c51b7d"
            ],
            [
             0.2,
             "#de77ae"
            ],
            [
             0.3,
             "#f1b6da"
            ],
            [
             0.4,
             "#fde0ef"
            ],
            [
             0.5,
             "#f7f7f7"
            ],
            [
             0.6,
             "#e6f5d0"
            ],
            [
             0.7,
             "#b8e186"
            ],
            [
             0.8,
             "#7fbc41"
            ],
            [
             0.9,
             "#4d9221"
            ],
            [
             1,
             "#276419"
            ]
           ],
           "sequential": [
            [
             0,
             "#0d0887"
            ],
            [
             0.1111111111111111,
             "#46039f"
            ],
            [
             0.2222222222222222,
             "#7201a8"
            ],
            [
             0.3333333333333333,
             "#9c179e"
            ],
            [
             0.4444444444444444,
             "#bd3786"
            ],
            [
             0.5555555555555556,
             "#d8576b"
            ],
            [
             0.6666666666666666,
             "#ed7953"
            ],
            [
             0.7777777777777778,
             "#fb9f3a"
            ],
            [
             0.8888888888888888,
             "#fdca26"
            ],
            [
             1,
             "#f0f921"
            ]
           ],
           "sequentialminus": [
            [
             0,
             "#0d0887"
            ],
            [
             0.1111111111111111,
             "#46039f"
            ],
            [
             0.2222222222222222,
             "#7201a8"
            ],
            [
             0.3333333333333333,
             "#9c179e"
            ],
            [
             0.4444444444444444,
             "#bd3786"
            ],
            [
             0.5555555555555556,
             "#d8576b"
            ],
            [
             0.6666666666666666,
             "#ed7953"
            ],
            [
             0.7777777777777778,
             "#fb9f3a"
            ],
            [
             0.8888888888888888,
             "#fdca26"
            ],
            [
             1,
             "#f0f921"
            ]
           ]
          },
          "colorway": [
           "#636efa",
           "#EF553B",
           "#00cc96",
           "#ab63fa",
           "#FFA15A",
           "#19d3f3",
           "#FF6692",
           "#B6E880",
           "#FF97FF",
           "#FECB52"
          ],
          "font": {
           "color": "#2a3f5f"
          },
          "geo": {
           "bgcolor": "white",
           "lakecolor": "white",
           "landcolor": "#E5ECF6",
           "showlakes": true,
           "showland": true,
           "subunitcolor": "white"
          },
          "hoverlabel": {
           "align": "left"
          },
          "hovermode": "closest",
          "mapbox": {
           "style": "light"
          },
          "paper_bgcolor": "white",
          "plot_bgcolor": "#E5ECF6",
          "polar": {
           "angularaxis": {
            "gridcolor": "white",
            "linecolor": "white",
            "ticks": ""
           },
           "bgcolor": "#E5ECF6",
           "radialaxis": {
            "gridcolor": "white",
            "linecolor": "white",
            "ticks": ""
           }
          },
          "scene": {
           "xaxis": {
            "backgroundcolor": "#E5ECF6",
            "gridcolor": "white",
            "gridwidth": 2,
            "linecolor": "white",
            "showbackground": true,
            "ticks": "",
            "zerolinecolor": "white"
           },
           "yaxis": {
            "backgroundcolor": "#E5ECF6",
            "gridcolor": "white",
            "gridwidth": 2,
            "linecolor": "white",
            "showbackground": true,
            "ticks": "",
            "zerolinecolor": "white"
           },
           "zaxis": {
            "backgroundcolor": "#E5ECF6",
            "gridcolor": "white",
            "gridwidth": 2,
            "linecolor": "white",
            "showbackground": true,
            "ticks": "",
            "zerolinecolor": "white"
           }
          },
          "shapedefaults": {
           "line": {
            "color": "#2a3f5f"
           }
          },
          "ternary": {
           "aaxis": {
            "gridcolor": "white",
            "linecolor": "white",
            "ticks": ""
           },
           "baxis": {
            "gridcolor": "white",
            "linecolor": "white",
            "ticks": ""
           },
           "bgcolor": "#E5ECF6",
           "caxis": {
            "gridcolor": "white",
            "linecolor": "white",
            "ticks": ""
           }
          },
          "title": {
           "x": 0.05
          },
          "xaxis": {
           "automargin": true,
           "gridcolor": "white",
           "linecolor": "white",
           "ticks": "",
           "title": {
            "standoff": 15
           },
           "zerolinecolor": "white",
           "zerolinewidth": 2
          },
          "yaxis": {
           "automargin": true,
           "gridcolor": "white",
           "linecolor": "white",
           "ticks": "",
           "title": {
            "standoff": 15
           },
           "zerolinecolor": "white",
           "zerolinewidth": 2
          }
         }
        }
       }
      }
     },
     "metadata": {}
    }
   ],
   "source": [
    "#Gráfica de concentración por nombre. \n",
    "fig_m = px.scatter_mapbox(df_geo, lat=\"lat\", lon=\"lon\",  hover_data=[\"Title\", \"Action area\"],\n",
    "                        color_discrete_sequence=['#FB0D0D'], zoom=3, height=300)\n",
    "fig_m.update_layout(mapbox_style=\"open-street-map\")\n",
    "fig_m.update_layout(margin={\"r\":0,\"t\":0,\"l\":0,\"b\":0})\n",
    "fig_m.show()\n",
    "fig_t.write_html(\"grafica/concentracion_mapa.html\")"
   ]
  },
  {
   "cell_type": "code",
   "execution_count": null,
   "metadata": {},
   "outputs": [],
   "source": []
  }
 ]
}