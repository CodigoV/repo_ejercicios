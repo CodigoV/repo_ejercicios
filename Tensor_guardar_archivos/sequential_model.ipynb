{
 "cells": [
  {
   "cell_type": "markdown",
   "metadata": {
    "id": "b518b04cbfe0"
   },
   "source": [
    "##### Copyright 2020 The TensorFlow Authors."
   ]
  },
  {
   "cell_type": "code",
   "execution_count": 1,
   "metadata": {
    "cellView": "form",
    "execution": {
     "iopub.execute_input": "2020-10-02T16:18:14.018774Z",
     "iopub.status.busy": "2020-10-02T16:18:14.018021Z",
     "iopub.status.idle": "2020-10-02T16:18:14.020195Z",
     "shell.execute_reply": "2020-10-02T16:18:14.020619Z"
    },
    "id": "906e07f6e562"
   },
   "outputs": [],
   "source": [
    "#@title Licensed under the Apache License, Version 2.0 (the \"License\");\n",
    "# you may not use this file except in compliance with the License.\n",
    "# You may obtain a copy of the License at\n",
    "#\n",
    "# https://www.apache.org/licenses/LICENSE-2.0\n",
    "#\n",
    "# Unless required by applicable law or agreed to in writing, software\n",
    "# distributed under the License is distributed on an \"AS IS\" BASIS,\n",
    "# WITHOUT WARRANTIES OR CONDITIONS OF ANY KIND, either express or implied.\n",
    "# See the License for the specific language governing permissions and\n",
    "# limitations under the License."
   ]
  },
  {
   "cell_type": "code",
   "execution_count": null,
   "metadata": {},
   "outputs": [],
   "source": [
    "#La versión en español "
   ]
  },
  {
   "cell_type": "markdown",
   "metadata": {
    "id": "3e19705694d6"
   },
   "source": [
    "# The Sequential model"
   ]
  },
  {
   "cell_type": "markdown",
   "metadata": {
    "id": "defbb10e8ae3"
   },
   "source": [
    "<table class=\"tfo-notebook-buttons\" align=\"left\">\n",
    "  <td>\n",
    "    <a target=\"_blank\" href=\"https://www.tensorflow.org/guide/keras/sequential_model\"><img src=\"https://www.tensorflow.org/images/tf_logo_32px.png\" />View on TensorFlow.org</a>\n",
    "  </td>\n",
    "  <td>\n",
    "    <a target=\"_blank\" href=\"https://colab.research.google.com/github/tensorflow/docs/blob/snapshot-keras/site/en/guide/keras/sequential_model.ipynb\"><img src=\"https://www.tensorflow.org/images/colab_logo_32px.png\" />Run in Google Colab</a>\n",
    "  </td>\n",
    "  <td>\n",
    "    <a target=\"_blank\" href=\"https://github.com/keras-team/keras-io/blob/master/guides/sequential_model.py\"><img src=\"https://www.tensorflow.org/images/GitHub-Mark-32px.png\" />View source on GitHub</a>\n",
    "  </td>\n",
    "  <td>\n",
    "    <a href=\"https://storage.googleapis.com/tensorflow_docs/docs/site/en/guide/keras/sequential_model.ipynb\"><img src=\"https://www.tensorflow.org/images/download_logo_32px.png\" />Download notebook</a>\n",
    "  </td>\n",
    "</table>"
   ]
  },
  {
   "cell_type": "markdown",
   "metadata": {
    "id": "8d4ac441b1fc"
   },
   "source": [
    "## Setup"
   ]
  },
  {
   "cell_type": "code",
   "execution_count": 1,
   "metadata": {
    "execution": {
     "iopub.execute_input": "2020-10-02T16:18:14.025023Z",
     "iopub.status.busy": "2020-10-02T16:18:14.024362Z",
     "iopub.status.idle": "2020-10-02T16:18:20.680119Z",
     "shell.execute_reply": "2020-10-02T16:18:20.679264Z"
    },
    "id": "0472bf67b2bf"
   },
   "outputs": [],
   "source": [
    "import tensorflow as tf\n",
    "from tensorflow import keras\n",
    "from tensorflow.keras import layers"
   ]
  },
  {
   "cell_type": "markdown",
   "metadata": {
    "id": "80f7713c6b92"
   },
   "source": [
    "## When to use a Sequential model\n",
    "\n",
    "A `Sequential` model is appropriate for **a plain stack of layers**\n",
    "where each layer has **exactly one input tensor and one output tensor**.\n",
    "\n",
    "Schematically, the following `Sequential` model:"
   ]
  },
  {
   "cell_type": "code",
   "execution_count": 2,
   "metadata": {
    "execution": {
     "iopub.execute_input": "2020-10-02T16:18:20.696044Z",
     "iopub.status.busy": "2020-10-02T16:18:20.685485Z",
     "iopub.status.idle": "2020-10-02T16:18:29.330314Z",
     "shell.execute_reply": "2020-10-02T16:18:29.329723Z"
    },
    "id": "f536515be229"
   },
   "outputs": [],
   "source": [
    "# Define Sequential model with 3 layers\n",
    "model = keras.Sequential(\n",
    "    [\n",
    "        layers.Dense(2, activation=\"relu\", name=\"layer1\"),\n",
    "        layers.Dense(3, activation=\"relu\", name=\"layer2\"),\n",
    "        layers.Dense(4, name=\"layer3\"),\n",
    "    ]\n",
    ")\n",
    "# Call model on a test input\n",
    "x = tf.ones((3, 3))\n",
    "y = model(x)"
   ]
  },
  {
   "cell_type": "markdown",
   "metadata": {
    "id": "7d81502d9753"
   },
   "source": [
    "is equivalent to this function:"
   ]
  },
  {
   "cell_type": "code",
   "execution_count": 4,
   "metadata": {
    "execution": {
     "iopub.execute_input": "2020-10-02T16:18:29.338486Z",
     "iopub.status.busy": "2020-10-02T16:18:29.337776Z",
     "iopub.status.idle": "2020-10-02T16:18:29.346770Z",
     "shell.execute_reply": "2020-10-02T16:18:29.346287Z"
    },
    "id": "7059a8890f72"
   },
   "outputs": [],
   "source": [
    "# Create 3 layers\n",
    "layer1 = layers.Dense(2, activation=\"relu\", name=\"layer1\")\n",
    "layer2 = layers.Dense(3, activation=\"relu\", name=\"layer2\")\n",
    "layer3 = layers.Dense(4, name=\"layer3\")\n",
    "\n",
    "# Call layers on a test input\n",
    "x = tf.ones((3, 3))\n",
    "y = layer3(layer2(layer1(x)))"
   ]
  },
  {
   "cell_type": "markdown",
   "metadata": {
    "id": "cdf6d2932c31"
   },
   "source": [
    "A Sequential model is **not appropriate** when:\n",
    "\n",
    "- Your model has multiple inputs or multiple outputs\n",
    "- Any of your layers has multiple inputs or multiple outputs\n",
    "- You need to do layer sharing\n",
    "- You want non-linear topology (e.g. a residual connection, a multi-branch\n",
    "model)"
   ]
  },
  {
   "cell_type": "code",
   "execution_count": null,
   "metadata": {},
   "outputs": [],
   "source": [
    "Un modelo secuencial no es apropiado cuando:\n",
    "\n",
    "Su modelo tiene múltiples entradas o múltiples salidas\n",
    "Cualquiera de sus capas tiene múltiples entradas o múltiples salidas\n",
    "Necesitas compartir capas\n",
    "Quiere una topología no lineal (por ejemplo, una conexión residual, un modelo de varias ramas)"
   ]
  },
  {
   "cell_type": "markdown",
   "metadata": {
    "id": "c5706d9f8eb8"
   },
   "source": [
    "## Creating a Sequential model\n",
    "\n",
    "You can create a Sequential model by passing a list of layers to the Sequential\n",
    "constructor:"
   ]
  },
  {
   "cell_type": "code",
   "execution_count": null,
   "metadata": {},
   "outputs": [],
   "source": [
    "Puede crear un modelo secuencial pasando una lista de capas al constructor secuencial:"
   ]
  },
  {
   "cell_type": "code",
   "execution_count": 3,
   "metadata": {
    "execution": {
     "iopub.execute_input": "2020-10-02T16:18:29.354554Z",
     "iopub.status.busy": "2020-10-02T16:18:29.353932Z",
     "iopub.status.idle": "2020-10-02T16:18:29.358425Z",
     "shell.execute_reply": "2020-10-02T16:18:29.358844Z"
    },
    "id": "8b3eee00f80d"
   },
   "outputs": [],
   "source": [
    "model = keras.Sequential(\n",
    "    [\n",
    "        layers.Dense(2, activation=\"relu\"),\n",
    "        layers.Dense(3, activation=\"relu\"),\n",
    "        layers.Dense(4),\n",
    "    ]\n",
    ")"
   ]
  },
  {
   "cell_type": "markdown",
   "metadata": {
    "id": "1939a7a4a66c"
   },
   "source": [
    "Its layers are accessible via the `layers` attribute:\n",
    "Sus capas son accesibles a través del atributo de layers :"
   ]
  },
  {
   "cell_type": "code",
   "execution_count": 4,
   "metadata": {
    "execution": {
     "iopub.execute_input": "2020-10-02T16:18:29.367235Z",
     "iopub.status.busy": "2020-10-02T16:18:29.366573Z",
     "iopub.status.idle": "2020-10-02T16:18:29.371399Z",
     "shell.execute_reply": "2020-10-02T16:18:29.371866Z"
    },
    "id": "49c0448b6da2"
   },
   "outputs": [
    {
     "output_type": "execute_result",
     "data": {
      "text/plain": [
       "[<tensorflow.python.keras.layers.core.Dense at 0x7f9d1767ee50>,\n",
       " <tensorflow.python.keras.layers.core.Dense at 0x7f9d16efbf40>,\n",
       " <tensorflow.python.keras.layers.core.Dense at 0x7f9d16efb190>]"
      ]
     },
     "metadata": {},
     "execution_count": 4
    }
   ],
   "source": [
    "model.layers"
   ]
  },
  {
   "cell_type": "markdown",
   "metadata": {
    "id": "b4c7957e9913"
   },
   "source": [
    "You can also create a Sequential model incrementally via the `add()` method:\n",
    "mbién puede crear un modelo secuencial de forma incremental a través del método add() :"
   ]
  },
  {
   "cell_type": "code",
   "execution_count": 7,
   "metadata": {
    "execution": {
     "iopub.execute_input": "2020-10-02T16:18:29.377901Z",
     "iopub.status.busy": "2020-10-02T16:18:29.377292Z",
     "iopub.status.idle": "2020-10-02T16:18:29.383552Z",
     "shell.execute_reply": "2020-10-02T16:18:29.383961Z"
    },
    "id": "d54fde401054"
   },
   "outputs": [],
   "source": [
    "model = keras.Sequential()\n",
    "model.add(layers.Dense(2, activation=\"relu\"))\n",
    "model.add(layers.Dense(3, activation=\"relu\"))\n",
    "model.add(layers.Dense(4))"
   ]
  },
  {
   "cell_type": "markdown",
   "metadata": {
    "id": "d16278f5a1dc"
   },
   "source": [
    "Note that there's also a corresponding `pop()` method to remove layers:\n",
    "a Sequential model behaves very much like a list of layers.\n",
    "Tenga en cuenta que también hay un método pop() correspondiente para eliminar capas: un modelo secuencial se comporta de manera muy similar a una lista de capas."
   ]
  },
  {
   "cell_type": "code",
   "execution_count": 8,
   "metadata": {
    "execution": {
     "iopub.execute_input": "2020-10-02T16:18:29.387892Z",
     "iopub.status.busy": "2020-10-02T16:18:29.387228Z",
     "iopub.status.idle": "2020-10-02T16:18:29.389767Z",
     "shell.execute_reply": "2020-10-02T16:18:29.390182Z"
    },
    "id": "e89f35b73979"
   },
   "outputs": [
    {
     "name": "stdout",
     "output_type": "stream",
     "text": [
      "2\n"
     ]
    }
   ],
   "source": [
    "model.pop()\n",
    "print(len(model.layers))  # 2\n"
   ]
  },
  {
   "cell_type": "markdown",
   "metadata": {
    "id": "99cb1c9a7c7a"
   },
   "source": [
    "Also note that the Sequential constructor accepts a `name` argument, just like\n",
    "any layer or model in Keras. This is useful to annotate TensorBoard graphs\n",
    "with semantically meaningful names."
   ]
  },
  {
   "cell_type": "code",
   "execution_count": null,
   "metadata": {},
   "outputs": [],
   "source": [
    "También tenga en cuenta que el constructor secuencial acepta un argumento de name , como cualquier capa o modelo en Keras. Esto es útil para anotar gráficos de TensorBoard con nombres semánticamente significativos."
   ]
  },
  {
   "cell_type": "code",
   "execution_count": 5,
   "metadata": {
    "execution": {
     "iopub.execute_input": "2020-10-02T16:18:29.396392Z",
     "iopub.status.busy": "2020-10-02T16:18:29.395693Z",
     "iopub.status.idle": "2020-10-02T16:18:29.401721Z",
     "shell.execute_reply": "2020-10-02T16:18:29.402087Z"
    },
    "id": "068c2f82e7cb"
   },
   "outputs": [],
   "source": [
    "model = keras.Sequential(name=\"my_sequential\")\n",
    "model.add(layers.Dense(2, activation=\"relu\", name=\"layer1\"))\n",
    "model.add(layers.Dense(3, activation=\"relu\", name=\"layer2\"))\n",
    "model.add(layers.Dense(4, name=\"layer3\"))"
   ]
  },
  {
   "cell_type": "markdown",
   "metadata": {
    "id": "a6247ff17d3a"
   },
   "source": [
    "## Specifying the input shape in advance\n",
    "\n",
    "Generally, all layers in Keras need to know the shape of their inputs\n",
    "in order to be able to create their weights. So when you create a layer like\n",
    "this, initially, it has no weights:\n",
    "\n",
    "Generalmente, todas las capas de Keras necesitan conocer la forma de sus entradas para poder crear sus pesos. Entonces, cuando crea una capa como esta, inicialmente, no tiene pesos:"
   ]
  },
  {
   "cell_type": "code",
   "execution_count": 7,
   "metadata": {
    "execution": {
     "iopub.execute_input": "2020-10-02T16:18:29.406547Z",
     "iopub.status.busy": "2020-10-02T16:18:29.405928Z",
     "iopub.status.idle": "2020-10-02T16:18:29.408828Z",
     "shell.execute_reply": "2020-10-02T16:18:29.408313Z"
    },
    "id": "373ecbb5c6bd"
   },
   "outputs": [
    {
     "output_type": "execute_result",
     "data": {
      "text/plain": [
       "[]"
      ]
     },
     "metadata": {},
     "execution_count": 7
    }
   ],
   "source": [
    "layer = layers.Dense(3)\n",
    "layer.weights  # Empty"
   ]
  },
  {
   "cell_type": "markdown",
   "metadata": {
    "id": "da150335961e"
   },
   "source": [
    "It creates its weights the first time it is called on an input, since the shape\n",
    "of the weights depends on the shape of the inputs:\n",
    "Crea sus pesos la primera vez que se llama en una entrada, ya que la forma de los pesos depende de la forma de las entradas:"
   ]
  },
  {
   "cell_type": "code",
   "execution_count": 8,
   "metadata": {
    "execution": {
     "iopub.execute_input": "2020-10-02T16:18:29.412857Z",
     "iopub.status.busy": "2020-10-02T16:18:29.412314Z",
     "iopub.status.idle": "2020-10-02T16:18:29.418974Z",
     "shell.execute_reply": "2020-10-02T16:18:29.419346Z"
    },
    "id": "bf28829ce193"
   },
   "outputs": [
    {
     "output_type": "execute_result",
     "data": {
      "text/plain": [
       "[<tf.Variable 'dense_3/kernel:0' shape=(4, 3) dtype=float32, numpy=\n",
       " array([[ 0.06540865,  0.23282266,  0.4856168 ],\n",
       "        [-0.92089224, -0.5272479 ,  0.5429735 ],\n",
       "        [ 0.8102071 ,  0.857306  ,  0.80646265],\n",
       "        [-0.15583926, -0.87425256,  0.5882262 ]], dtype=float32)>,\n",
       " <tf.Variable 'dense_3/bias:0' shape=(3,) dtype=float32, numpy=array([0., 0., 0.], dtype=float32)>]"
      ]
     },
     "metadata": {},
     "execution_count": 8
    }
   ],
   "source": [
    "# Call layer on a test input\n",
    "x = tf.ones((1, 4))\n",
    "y = layer(x)\n",
    "layer.weights  # Now it has weights, of shape (4, 3) and (3,)"
   ]
  },
  {
   "cell_type": "markdown",
   "metadata": {
    "id": "e50f21c5f247"
   },
   "source": [
    "Naturally, this also applies to Sequential models. When you instantiate a\n",
    "Sequential model without an input shape, it isn't \"built\": it has no weights\n",
    "(and calling\n",
    "`model.weights` results in an error stating just this). The weights are created\n",
    "when the model first sees some input data:\n",
    "\n",
    "Naturalmente, esto también se aplica a los modelos secuenciales. Cuando crea una instancia de un modelo secuencial sin una forma de entrada, no está \"construido\": no tiene pesos (y llamar a model.weights da model.weights resultado un error que indica solo esto). Los pesos se crean cuando el modelo ve por primera vez algunos datos de entrada"
   ]
  },
  {
   "cell_type": "code",
   "execution_count": 10,
   "metadata": {
    "execution": {
     "iopub.execute_input": "2020-10-02T16:18:29.427003Z",
     "iopub.status.busy": "2020-10-02T16:18:29.426350Z",
     "iopub.status.idle": "2020-10-02T16:18:29.449486Z",
     "shell.execute_reply": "2020-10-02T16:18:29.449946Z"
    },
    "id": "04479960526c"
   },
   "outputs": [
    {
     "output_type": "stream",
     "name": "stdout",
     "text": [
      "Number of weights after calling the model: 6\n"
     ]
    }
   ],
   "source": [
    "model = keras.Sequential(\n",
    "    [\n",
    "        layers.Dense(2, activation=\"relu\"),\n",
    "        layers.Dense(3, activation=\"relu\"),\n",
    "        layers.Dense(4),\n",
    "    ]\n",
    ")  # No weights at this stage!\n",
    "\n",
    "# At this point, you can't do this:\n",
    "# model.weights\n",
    "\n",
    "# You also can't do this:\n",
    "# model.summary()\n",
    "\n",
    "# Call the model on a test input\n",
    "x = tf.ones((1, 4))\n",
    "y = model(x)\n",
    "print(\"Number of weights after calling the model:\", len(model.weights))  # 6"
   ]
  },
  {
   "cell_type": "markdown",
   "metadata": {
    "id": "2837e3d2c798"
   },
   "source": [
    "Once a model is \"built\", you can call its `summary()` method to display its\n",
    "contents:\n",
    "Una vez que un modelo está \"construido\", puede llamar a su método summary() para mostrar su contenido:"
   ]
  },
  {
   "cell_type": "code",
   "execution_count": 11,
   "metadata": {
    "execution": {
     "iopub.execute_input": "2020-10-02T16:18:29.454027Z",
     "iopub.status.busy": "2020-10-02T16:18:29.453443Z",
     "iopub.status.idle": "2020-10-02T16:18:29.458128Z",
     "shell.execute_reply": "2020-10-02T16:18:29.457624Z"
    },
    "id": "1368bd27f679"
   },
   "outputs": [
    {
     "output_type": "stream",
     "name": "stdout",
     "text": [
      "Model: \"sequential_2\"\n_________________________________________________________________\nLayer (type)                 Output Shape              Param #   \n=================================================================\ndense_4 (Dense)              (1, 2)                    10        \n_________________________________________________________________\ndense_5 (Dense)              (1, 3)                    9         \n_________________________________________________________________\ndense_6 (Dense)              (1, 4)                    16        \n=================================================================\nTotal params: 35\nTrainable params: 35\nNon-trainable params: 0\n_________________________________________________________________\n"
     ]
    }
   ],
   "source": [
    "model.summary()"
   ]
  },
  {
   "cell_type": "markdown",
   "metadata": {
    "id": "08cf1da27edb"
   },
   "source": [
    "However, it can be very useful when building a Sequential model incrementally\n",
    "to be able to display the summary of the model so far, including the current\n",
    "output shape. In this case, you should start your model by passing an `Input`\n",
    "object to your model, so that it knows its input shape from the start:\n",
    "\n",
    "Sin embargo, puede ser muy útil cuando se crea un modelo secuencial de forma incremental para poder mostrar el resumen del modelo hasta el momento, incluida la forma de salida actual. En este caso, debe iniciar su modelo pasando un objeto de Input a su modelo, para que conozca su forma de entrada desde el principio:"
   ]
  },
  {
   "cell_type": "code",
   "execution_count": 12,
   "metadata": {
    "execution": {
     "iopub.execute_input": "2020-10-02T16:18:29.464024Z",
     "iopub.status.busy": "2020-10-02T16:18:29.463327Z",
     "iopub.status.idle": "2020-10-02T16:18:29.476121Z",
     "shell.execute_reply": "2020-10-02T16:18:29.476509Z"
    },
    "id": "e3d2024cfeeb"
   },
   "outputs": [
    {
     "output_type": "stream",
     "name": "stdout",
     "text": [
      "Model: \"sequential_3\"\n_________________________________________________________________\nLayer (type)                 Output Shape              Param #   \n=================================================================\ndense_7 (Dense)              (None, 2)                 10        \n=================================================================\nTotal params: 10\nTrainable params: 10\nNon-trainable params: 0\n_________________________________________________________________\n"
     ]
    }
   ],
   "source": [
    "model = keras.Sequential()\n",
    "model.add(keras.Input(shape=(4,)))\n",
    "model.add(layers.Dense(2, activation=\"relu\"))\n",
    "\n",
    "model.summary()"
   ]
  },
  {
   "cell_type": "markdown",
   "metadata": {
    "id": "3d965e3761a8"
   },
   "source": [
    "Note that the `Input` object is not displayed as part of `model.layers`, since\n",
    "it isn't a layer:\n",
    "Tenga en cuenta que el objeto de Input no se muestra como parte de model.layers , ya que no es una capa:"
   ]
  },
  {
   "cell_type": "code",
   "execution_count": 15,
   "metadata": {
    "execution": {
     "iopub.execute_input": "2020-10-02T16:18:29.480726Z",
     "iopub.status.busy": "2020-10-02T16:18:29.479986Z",
     "iopub.status.idle": "2020-10-02T16:18:29.483020Z",
     "shell.execute_reply": "2020-10-02T16:18:29.482528Z"
    },
    "id": "8e3b0d58e7ed"
   },
   "outputs": [
    {
     "data": {
      "text/plain": [
       "[<tensorflow.python.keras.layers.core.Dense at 0x7f7d16b870f0>]"
      ]
     },
     "execution_count": 1,
     "metadata": {},
     "output_type": "execute_result"
    }
   ],
   "source": [
    "model.layers"
   ]
  },
  {
   "cell_type": "markdown",
   "metadata": {
    "id": "8a057b1baf72"
   },
   "source": [
    "A simple alternative is to just pass an `input_shape` argument to your first\n",
    "layer:\n",
    "\n",
    "Una alternativa simple es simplemente pasar un argumento input_shape a su primera capa:"
   ]
  },
  {
   "cell_type": "code",
   "execution_count": 16,
   "metadata": {
    "execution": {
     "iopub.execute_input": "2020-10-02T16:18:29.488948Z",
     "iopub.status.busy": "2020-10-02T16:18:29.488138Z",
     "iopub.status.idle": "2020-10-02T16:18:29.501292Z",
     "shell.execute_reply": "2020-10-02T16:18:29.500838Z"
    },
    "id": "1c6ab83d68ea"
   },
   "outputs": [
    {
     "name": "stdout",
     "output_type": "stream",
     "text": [
      "Model: \"sequential_5\"\n",
      "_________________________________________________________________\n",
      "Layer (type)                 Output Shape              Param #   \n",
      "=================================================================\n",
      "dense_11 (Dense)             (None, 2)                 10        \n",
      "=================================================================\n",
      "Total params: 10\n",
      "Trainable params: 10\n",
      "Non-trainable params: 0\n",
      "_________________________________________________________________\n"
     ]
    }
   ],
   "source": [
    "model = keras.Sequential()\n",
    "model.add(layers.Dense(2, activation=\"relu\", input_shape=(4,)))\n",
    "\n",
    "model.summary()"
   ]
  },
  {
   "cell_type": "markdown",
   "metadata": {
    "id": "40c14619d283"
   },
   "source": [
    "Models built with a predefined input shape like this always have weights (even\n",
    "before seeing any data) and always have a defined output shape.\n",
    "\n",
    "In general, it's a recommended best practice to always specify the input shape\n",
    "of a Sequential model in advance if you know what it is."
   ]
  },
  {
   "cell_type": "markdown",
   "metadata": {
    "id": "843f6b6505b3"
   },
   "source": [
    "## A common debugging workflow: `add()` + `summary()`\n",
    "\n",
    "When building a new Sequential architecture, it's useful to incrementally stack\n",
    "layers with `add()` and frequently print model summaries. For instance, this\n",
    "enables you to monitor how a stack of `Conv2D` and `MaxPooling2D` layers is\n",
    "downsampling image feature maps:\n",
    "\n",
    "Al construir una nueva arquitectura secuencial, es útil apilar capas incrementalmente con add() e imprimir con frecuencia resúmenes de modelos. Por ejemplo, esto le permite monitorear cómo una pila de capas Conv2D y MaxPooling2D está MaxPooling2D mapas de características de imagen:"
   ]
  },
  {
   "cell_type": "code",
   "execution_count": 13,
   "metadata": {
    "execution": {
     "iopub.execute_input": "2020-10-02T16:18:29.510520Z",
     "iopub.status.busy": "2020-10-02T16:18:29.509514Z",
     "iopub.status.idle": "2020-10-02T16:18:29.584054Z",
     "shell.execute_reply": "2020-10-02T16:18:29.583540Z"
    },
    "id": "46bfb8f7dc6e",
    "tags": [
     "outputPrepend"
    ]
   },
   "outputs": [
    {
     "output_type": "stream",
     "name": "stdout",
     "text": [
      "_______________________________________________________\nconv2d_1 (Conv2D)            (None, 121, 121, 32)      9248      \n_________________________________________________________________\nmax_pooling2d (MaxPooling2D) (None, 40, 40, 32)        0         \n=================================================================\nTotal params: 11,680\nTrainable params: 11,680\nNon-trainable params: 0\n_________________________________________________________________\nModel: \"sequential_4\"\n_________________________________________________________________\nLayer (type)                 Output Shape              Param #   \n=================================================================\nconv2d (Conv2D)              (None, 123, 123, 32)      2432      \n_________________________________________________________________\nconv2d_1 (Conv2D)            (None, 121, 121, 32)      9248      \n_________________________________________________________________\nmax_pooling2d (MaxPooling2D) (None, 40, 40, 32)        0         \n_________________________________________________________________\nconv2d_2 (Conv2D)            (None, 38, 38, 32)        9248      \n_________________________________________________________________\nconv2d_3 (Conv2D)            (None, 36, 36, 32)        9248      \n_________________________________________________________________\nmax_pooling2d_1 (MaxPooling2 (None, 12, 12, 32)        0         \n_________________________________________________________________\nconv2d_4 (Conv2D)            (None, 10, 10, 32)        9248      \n_________________________________________________________________\nconv2d_5 (Conv2D)            (None, 8, 8, 32)          9248      \n_________________________________________________________________\nmax_pooling2d_2 (MaxPooling2 (None, 4, 4, 32)          0         \n=================================================================\nTotal params: 48,672\nTrainable params: 48,672\nNon-trainable params: 0\n_________________________________________________________________\n"
     ]
    }
   ],
   "source": [
    "model = keras.Sequential()\n",
    "model.add(keras.Input(shape=(250, 250, 3)))  # 250x250 RGB images\n",
    "model.add(layers.Conv2D(32, 5, strides=2, activation=\"relu\"))\n",
    "model.add(layers.Conv2D(32, 3, activation=\"relu\"))\n",
    "model.add(layers.MaxPooling2D(3))\n",
    "\n",
    "# Can you guess what the current output shape is at this point? Probably not.\n",
    "# Let's just print it:\n",
    "model.summary()\n",
    "\n",
    "# The answer was: (40, 40, 32), so we can keep downsampling...\n",
    "\n",
    "model.add(layers.Conv2D(32, 3, activation=\"relu\"))\n",
    "model.add(layers.Conv2D(32, 3, activation=\"relu\"))\n",
    "model.add(layers.MaxPooling2D(3))\n",
    "model.add(layers.Conv2D(32, 3, activation=\"relu\"))\n",
    "model.add(layers.Conv2D(32, 3, activation=\"relu\"))\n",
    "model.add(layers.MaxPooling2D(2))\n",
    "\n",
    "# And now?\n",
    "model.summary()\n",
    "\n",
    "# Now that we have 4x4 feature maps, time to apply global max pooling.\n",
    "model.add(layers.GlobalMaxPooling2D())\n",
    "\n",
    "# Finally, we add a classification layer.\n",
    "model.add(layers.Dense(10))"
   ]
  },
  {
   "cell_type": "markdown",
   "metadata": {
    "id": "a2d3335a90fa"
   },
   "source": [
    "Very practical, right?\n"
   ]
  },
  {
   "cell_type": "markdown",
   "metadata": {
    "id": "fb8136a95fb8"
   },
   "source": [
    "## What to do once you have a model\n",
    "\n",
    "Once your model architecture is ready, you will want to:\n",
    "\n",
    "- Train your model, evaluate it, and run inference. See our\n",
    "[guide to training & evaluation with the built-in loops](\n",
    "https://www.tensorflow.org/guide/keras/train_and_evaluate/)\n",
    "- Save your model to disk and restore it. See our\n",
    "[guide to serialization & saving](https://www.tensorflow.org/guide/keras/save_and_serialize/).\n",
    "- Speed up model training by leveraging multiple GPUs. See our\n",
    "[guide to multi-GPU and distributed training](distributed_training).\n",
    "\n",
    "Qué hacer una vez que tenga un modelo\n",
    "\n",
    "Una vez que la arquitectura de su modelo esté lista, querrá:\n",
    "\n",
    "Entrene su modelo, evalúelo y ejecute inferencias. Consulte nuestra guía de capacitación y evaluación con los bucles integrados\n",
    "Guarde su modelo en el disco y restáurelo. Consulte nuestra guía para serializar y guardar .\n",
    "Acelere el entrenamiento de modelos aprovechando múltiples GPU. Consulte nuestra guía de formación distribuida y con varias GPU .\n"
   ]
  },
  {
   "cell_type": "markdown",
   "metadata": {
    "id": "608f3b03669c"
   },
   "source": [
    "## Feature extraction with a Sequential model\n",
    "\n",
    "Once a Sequential model has been built, it behaves like a [Functional API\n",
    "model](https://www.tensorflow.org/guide/keras/functional/). This means that every layer has an `input`\n",
    "and `output` attribute. These attributes can be used to do neat things, like\n",
    "quickly\n",
    "creating a model that extracts the outputs of all intermediate layers in a\n",
    "Sequential model:"
   ]
  },
  {
   "cell_type": "code",
   "execution_count": 14,
   "metadata": {
    "execution": {
     "iopub.execute_input": "2020-10-02T16:18:29.598131Z",
     "iopub.status.busy": "2020-10-02T16:18:29.597422Z",
     "iopub.status.idle": "2020-10-02T16:18:30.903717Z",
     "shell.execute_reply": "2020-10-02T16:18:30.904150Z"
    },
    "id": "a5888d753301"
   },
   "outputs": [],
   "source": [
    "initial_model = keras.Sequential(\n",
    "    [\n",
    "        keras.Input(shape=(250, 250, 3)),\n",
    "        layers.Conv2D(32, 5, strides=2, activation=\"relu\"),\n",
    "        layers.Conv2D(32, 3, activation=\"relu\"),\n",
    "        layers.Conv2D(32, 3, activation=\"relu\"),\n",
    "    ]\n",
    ")\n",
    "feature_extractor = keras.Model(\n",
    "    inputs=initial_model.inputs,\n",
    "    outputs=[layer.output for layer in initial_model.layers],\n",
    ")\n",
    "\n",
    "# Call feature extractor on test input.\n",
    "x = tf.ones((1, 250, 250, 3))\n",
    "features = feature_extractor(x)"
   ]
  },
  {
   "cell_type": "markdown",
   "metadata": {
    "id": "4abef35355d3"
   },
   "source": [
    "Here's a similar example that only extract features from one layer:"
   ]
  },
  {
   "cell_type": "code",
   "execution_count": 15,
   "metadata": {
    "execution": {
     "iopub.execute_input": "2020-10-02T16:18:30.913398Z",
     "iopub.status.busy": "2020-10-02T16:18:30.912727Z",
     "iopub.status.idle": "2020-10-02T16:18:30.954020Z",
     "shell.execute_reply": "2020-10-02T16:18:30.954507Z"
    },
    "id": "fc404c7ac90e"
   },
   "outputs": [],
   "source": [
    "initial_model = keras.Sequential(\n",
    "    [\n",
    "        keras.Input(shape=(250, 250, 3)),\n",
    "        layers.Conv2D(32, 5, strides=2, activation=\"relu\"),\n",
    "        layers.Conv2D(32, 3, activation=\"relu\", name=\"my_intermediate_layer\"),\n",
    "        layers.Conv2D(32, 3, activation=\"relu\"),\n",
    "    ]\n",
    ")\n",
    "feature_extractor = keras.Model(\n",
    "    inputs=initial_model.inputs,\n",
    "    outputs=initial_model.get_layer(name=\"my_intermediate_layer\").output,\n",
    ")\n",
    "# Call feature extractor on test input.\n",
    "x = tf.ones((1, 250, 250, 3))\n",
    "features = feature_extractor(x)"
   ]
  },
  {
   "cell_type": "markdown",
   "metadata": {
    "id": "ab25cedd111e"
   },
   "source": [
    "## Transfer learning with a Sequential model\n",
    "\n",
    "Transfer learning consists of freezing the bottom layers in a model and only training\n",
    "the top layers. If you aren't familiar with it, make sure to read our [guide\n",
    "to transfer learning](https://www.tensorflow.org/guide/keras/transfer_learning/).\n",
    "\n",
    "Here are two common transfer learning blueprint involving Sequential models.\n",
    "\n",
    "First, let's say that you have a Sequential model, and you want to freeze all\n",
    "layers except the last one. In this case, you would simply iterate over\n",
    "`model.layers` and set `layer.trainable = False` on each layer, except the\n",
    "last one. Like this:\n",
    "\n",
    "```python\n",
    "model = keras.Sequential([\n",
    "    keras.Input(shape=(784))\n",
    "    layers.Dense(32, activation='relu'),\n",
    "    layers.Dense(32, activation='relu'),\n",
    "    layers.Dense(32, activation='relu'),\n",
    "    layers.Dense(10),\n",
    "])\n",
    "\n",
    "# Presumably you would want to first load pre-trained weights.\n",
    "model.load_weights(...)\n",
    "\n",
    "# Freeze all layers except the last one.\n",
    "for layer in model.layers[:-1]:\n",
    "  layer.trainable = False\n",
    "\n",
    "# Recompile and train (this will only update the weights of the last layer).\n",
    "model.compile(...)\n",
    "model.fit(...)\n",
    "```\n",
    "\n",
    "Another common blueprint is to use a Sequential model to stack a pre-trained\n",
    "model and some freshly initialized classification layers. Like this:\n",
    "\n",
    "```python\n",
    "# Load a convolutional base with pre-trained weights\n",
    "base_model = keras.applications.Xception(\n",
    "    weights='imagenet',\n",
    "    include_top=False,\n",
    "    pooling='avg')\n",
    "\n",
    "# Freeze the base model\n",
    "base_model.trainable = False\n",
    "\n",
    "# Use a Sequential model to add a trainable classifier on top\n",
    "model = keras.Sequential([\n",
    "    base_model,\n",
    "    layers.Dense(1000),\n",
    "])\n",
    "\n",
    "# Compile & train\n",
    "model.compile(...)\n",
    "model.fit(...)\n",
    "```\n",
    "\n",
    "If you do transfer learning, you will probably find yourself frequently using\n",
    "these two patterns."
   ]
  },
  {
   "cell_type": "markdown",
   "metadata": {
    "id": "fcffc33b61e5"
   },
   "source": [
    "That's about all you need to know about Sequential models!\n",
    "\n",
    "To find out more about building models in Keras, see:\n",
    "\n",
    "- [Guide to the Functional API](https://www.tensorflow.org/guide/keras/functional/)\n",
    "- [Guide to making new Layers & Models via subclassing](\n",
    "https://www.tensorflow.org/guide/keras/custom_layers_and_models/)"
   ]
  },
  {
   "cell_type": "code",
   "execution_count": null,
   "metadata": {},
   "outputs": [],
   "source": [
    "#SEgudna parte "
   ]
  },
  {
   "cell_type": "code",
   "execution_count": null,
   "metadata": {},
   "outputs": [],
   "source": [
    "https://www.tensorflow.org/guide/keras/save_and_serialize/?hl=es#exportar_a_savedmodel"
   ]
  },
  {
   "cell_type": "code",
   "execution_count": null,
   "metadata": {},
   "outputs": [],
   "source": [
    "Parte I: Guardar modelos secuenciales o modelos funcionales\n"
   ]
  },
  {
   "cell_type": "code",
   "execution_count": 16,
   "metadata": {},
   "outputs": [
    {
     "output_type": "stream",
     "name": "stdout",
     "text": [
      "Model: \"3_layer_mlp\"\n_________________________________________________________________\nLayer (type)                 Output Shape              Param #   \n=================================================================\ndigits (InputLayer)          [(None, 784)]             0         \n_________________________________________________________________\ndense_1 (Dense)              (None, 64)                50240     \n_________________________________________________________________\ndense_2 (Dense)              (None, 64)                4160      \n_________________________________________________________________\npredictions (Dense)          (None, 10)                650       \n=================================================================\nTotal params: 55,050\nTrainable params: 55,050\nNon-trainable params: 0\n_________________________________________________________________\n"
     ]
    }
   ],
   "source": [
    "from tensorflow import keras\n",
    "from tensorflow.keras import layers\n",
    "\n",
    "inputs = keras.Input(shape=(784,), name='digits')\n",
    "x = layers.Dense(64, activation='relu', name='dense_1')(inputs)\n",
    "x = layers.Dense(64, activation='relu', name='dense_2')(x)\n",
    "outputs = layers.Dense(10, activation='softmax', name='predictions')(x)\n",
    "\n",
    "model = keras.Model(inputs=inputs, outputs=outputs, name='3_layer_mlp')\n",
    "model.summary()"
   ]
  },
  {
   "cell_type": "code",
   "execution_count": null,
   "metadata": {},
   "outputs": [],
   "source": [
    "Opcionalmente, entrenaremos este modelo, solo para que tenga valores de peso para guardarlos, así como un estado optimizador. Por supuesto, tambien puede guardar modelos que nunca ha entrenado, pero obviamente eso es menos interesante."
   ]
  },
  {
   "cell_type": "code",
   "execution_count": 17,
   "metadata": {},
   "outputs": [
    {
     "output_type": "stream",
     "name": "stdout",
     "text": [
      "938/938 [==============================] - 1s 1ms/step - loss: 0.3211\n"
     ]
    }
   ],
   "source": [
    "(x_train, y_train), (x_test, y_test) = keras.datasets.mnist.load_data()\n",
    "x_train = x_train.reshape(60000, 784).astype('float32') / 255\n",
    "x_test = x_test.reshape(10000, 784).astype('float32') / 255\n",
    "\n",
    "model.compile(loss='sparse_categorical_crossentropy',\n",
    "              optimizer=keras.optimizers.RMSprop())\n",
    "history = model.fit(x_train, y_train,\n",
    "                    batch_size=64,\n",
    "                    epochs=1)"
   ]
  },
  {
   "cell_type": "code",
   "execution_count": 18,
   "metadata": {},
   "outputs": [],
   "source": [
    "# Guardar predicciones para futuras verificaciones\n",
    "predictions = model.predict(x_test)"
   ]
  },
  {
   "cell_type": "code",
   "execution_count": null,
   "metadata": {},
   "outputs": [],
   "source": [
    "Modelo-Completo Guardando\n",
    "\n",
    "Puede guardar un modelo creado con la API funcional en un solo archivo. Posteriormente, puede volver a crear el mismo modelo a partir de este archivo, incluso si ya no tiene acceso al codigo que creo el modelo.\n",
    "\n",
    "Este archivo incluye:\n",
    "\n",
    "Los modelos de arquitectura\n",
    "Los valores de peso del modelo (que se aprendieron durante el entrenamiento)\n",
    "La configuración de entrenamiento del modelo (lo que pasó a 'compilar'), si corresponde\n",
    "El optimizador y su estado, si corresponde (esto le permite reiniciar el entrenamiento donde lo dejó)"
   ]
  },
  {
   "cell_type": "code",
   "execution_count": 23,
   "metadata": {},
   "outputs": [],
   "source": [
    "# Guardar el Modelo\n",
    "model.save('path_to_my_model.h5')\n",
    "\n",
    "# Recrea exactamente el mismo modelo solo desde el archivo\n",
    "new_model = keras.models.load_model('path_to_my_model.h5')"
   ]
  },
  {
   "cell_type": "code",
   "execution_count": 24,
   "metadata": {},
   "outputs": [],
   "source": [
    "import numpy as np\n",
    "\n",
    "# Verifique que el estado esté preservado\n",
    "new_predictions = new_model.predict(x_test)\n",
    "np.testing.assert_allclose(predictions, new_predictions, rtol=1e-6, atol=1e-6)\n",
    "\n",
    "# Tenga en cuenta que el estado del optimizador también se conserva:\n",
    "# puede reanudar el entrenamiento donde lo dejó."
   ]
  },
  {
   "cell_type": "code",
   "execution_count": null,
   "metadata": {},
   "outputs": [],
   "source": [
    "Exportar a 'SavedModel'\n",
    "\n",
    "Tambien puede exportar un modelo completo al formato 'SavedModel' de TensorFlow. 'SavedModel' es un formato de serialización independiente para objetos de Tensorflow, compatible con el servicio de TensorFlow y las implementaciones de TensorFlow que no sean Python.\n",
    "\n",
    "\n"
   ]
  },
  {
   "cell_type": "code",
   "execution_count": 27,
   "metadata": {},
   "outputs": [
    {
     "output_type": "error",
     "ename": "AttributeError",
     "evalue": "module 'tensorflow.keras.experimental' has no attribute 'export_saved_model'",
     "traceback": [
      "\u001b[0;31m---------------------------------------------------------------------------\u001b[0m",
      "\u001b[0;31mAttributeError\u001b[0m                            Traceback (most recent call last)",
      "\u001b[0;32m<ipython-input-27-5c38c9e76892>\u001b[0m in \u001b[0;36m<module>\u001b[0;34m\u001b[0m\n\u001b[1;32m      1\u001b[0m \u001b[0;31m# Exportar el modelo a 'SavedModel'\u001b[0m\u001b[0;34m\u001b[0m\u001b[0;34m\u001b[0m\u001b[0;34m\u001b[0m\u001b[0m\n\u001b[0;32m----> 2\u001b[0;31m \u001b[0mkeras\u001b[0m\u001b[0;34m.\u001b[0m\u001b[0mexperimental\u001b[0m\u001b[0;34m.\u001b[0m\u001b[0mexport_saved_model\u001b[0m\u001b[0;34m(\u001b[0m\u001b[0mmodel\u001b[0m\u001b[0;34m,\u001b[0m \u001b[0;34m'path_to_saved_model'\u001b[0m\u001b[0;34m)\u001b[0m\u001b[0;34m\u001b[0m\u001b[0;34m\u001b[0m\u001b[0m\n\u001b[0m\u001b[1;32m      3\u001b[0m \u001b[0;34m\u001b[0m\u001b[0m\n\u001b[1;32m      4\u001b[0m \u001b[0;31m# Recrea exactamente el mismo modelo\u001b[0m\u001b[0;34m\u001b[0m\u001b[0;34m\u001b[0m\u001b[0;34m\u001b[0m\u001b[0m\n\u001b[1;32m      5\u001b[0m \u001b[0;31m#new_model = keras.experimental.load_from_saved_model('path_to_saved_model')\u001b[0m\u001b[0;34m\u001b[0m\u001b[0;34m\u001b[0m\u001b[0;34m\u001b[0m\u001b[0m\n",
      "\u001b[0;31mAttributeError\u001b[0m: module 'tensorflow.keras.experimental' has no attribute 'export_saved_model'"
     ]
    }
   ],
   "source": [
    "# Exportar el modelo a 'SavedModel'\n",
    "keras.experimental.export_saved_model(model, 'path_to_saved_model')\n",
    "\n",
    "# Recrea exactamente el mismo modelo\n",
    "#new_model = keras.experimental.load_from_saved_model('path_to_saved_model')\n",
    "\n",
    "# Verifique que el estado esté guardado\n",
    "new_predictions = new_model.predict(x_test)\n",
    "np.testing.assert_allclose(predictions, new_predictions, rtol=1e-6, atol=1e-6)\n",
    "\n",
    "# Tenga en cuenta que el estado del optimizador también se conserva:\n",
    "# puede reanudar el entrenamiento donde lo dejó."
   ]
  },
  {
   "cell_type": "code",
   "execution_count": 28,
   "metadata": {},
   "outputs": [],
   "source": [
    "# Guardar el Modelo\n",
    "model.save('path_to_my_model.h5')\n",
    "\n",
    "# Recrea exactamente el mismo modelo solo desde el archivo\n",
    "new_model = keras.models.load_model('path_to_my_model.h5')"
   ]
  },
  {
   "cell_type": "code",
   "execution_count": 29,
   "metadata": {},
   "outputs": [],
   "source": [
    "import numpy as np\n",
    "\n",
    "# Verifique que el estado esté preservado\n",
    "new_predictions = new_model.predict(x_test)\n",
    "np.testing.assert_allclose(predictions, new_predictions, rtol=1e-6, atol=1e-6)\n",
    "\n",
    "# Tenga en cuenta que el estado del optimizador también se conserva:\n",
    "# puede reanudar el entrenamiento donde lo dejó."
   ]
  },
  {
   "cell_type": "code",
   "execution_count": null,
   "metadata": {},
   "outputs": [],
   "source": [
    "Los archivos 'SavedModel' que se crearon contienen:\n",
    "\n",
    "Un punto de control TensorFlow que contiene los pesos del modelo.\n",
    "Un prototipo 'SavedModel' que contiene el grafico subyacente de Tensorflow. Separar los graficos que se guardan para prediccion (servicio), capacitacion y evaluacion. Si el modelo no se compilo antes, solo el grafico de inferencia se exporta\n",
    "La configuracion de arquitectura del modelo, si esta disponible.\n",
    "Solo arquitectura de guardado\n",
    "\n",
    "A veces, solo esta interesado en la arquitectura del modelo y no necesita guardar los valores de peso o el optimizador. En este caso, puede recuperar la \"configuracion\" del modelo mediante el metodo get_config (). La configuracion es un dict de Python que le permite recrear el mismo modelo, inicializado desde cero, sin ninguna de la información aprendida previamente durante el entrenamiento."
   ]
  },
  {
   "cell_type": "code",
   "execution_count": 30,
   "metadata": {},
   "outputs": [],
   "source": [
    "config = model.get_config()\n",
    "reinitialized_model = keras.Model.from_config(config)\n",
    "\n",
    "# ¡Tenga en cuenta que el estado del modelo no se conserva! Solo guardamos la arquitectura.\n",
    "new_predictions = reinitialized_model.predict(x_test)\n",
    "assert abs(np.sum(predictions - new_predictions)) > 0."
   ]
  },
  {
   "cell_type": "code",
   "execution_count": 31,
   "metadata": {},
   "outputs": [],
   "source": [
    "json_config = model.to_json()\n",
    "reinitialized_model = keras.models.model_from_json(json_config)"
   ]
  },
  {
   "cell_type": "code",
   "execution_count": 32,
   "metadata": {},
   "outputs": [],
   "source": [
    "config = model.get_config()\n",
    "weights = model.get_weights()\n",
    "\n",
    "new_model = keras.Model.from_config(config)\n",
    "new_model.set_weights(weights)\n",
    "\n",
    "# Verifique que el estado esté preservado\n",
    "new_predictions = new_model.predict(x_test)\n",
    "np.testing.assert_allclose(predictions, new_predictions, rtol=1e-6, atol=1e-6)\n",
    "\n",
    "# Tenga en cuenta que el optimizador no se conserva\n",
    "# entonces el modelo debe compilarse nuevamente antes de entrenar\n",
    "# (y el optimizador comenzará desde un estado en blanco)."
   ]
  },
  {
   "cell_type": "code",
   "execution_count": null,
   "metadata": {},
   "outputs": [],
   "source": [
    "La alternativa de guardar en disco a 'get_weights()' y 'set_weights(weights)' es 'save_weights(fpath)' y 'load_weights(fpath)'.\n",
    "\n",
    "Aquí hay un ejemplo que guarda en el disco:"
   ]
  },
  {
   "cell_type": "code",
   "execution_count": null,
   "metadata": {},
   "outputs": [],
   "source": [
    "# Guardar configuración JSON en el disco\n",
    "json_config = model.to_json()\n",
    "with open('model_config.json', 'w') as json_file:\n",
    "    json_file.write(json_config)\n",
    "# Guardar pesos en el disco\n",
    "model.save_weights('path_to_my_weights.h5')\n",
    "\n",
    "# Recargue el modelo de los 2 archivos que guardamos\n",
    "with open('model_config.json') as json_file:\n",
    "    json_config = json_file.read()\n",
    "new_model = keras.models.model_from_json(json_config)\n",
    "new_model.load_weights('path_to_my_weights.h5')\n",
    "\n",
    "# Verifique que el estado esté preservado\n",
    "new_predictions = new_model.predict(x_test)\n",
    "np.testing.assert_allclose(predictions, new_predictions, rtol=1e-6, atol=1e-6)\n",
    "\n",
    "# Tenga en cuenta que el optimizador no se conservo.\n"
   ]
  },
  {
   "cell_type": "code",
   "execution_count": null,
   "metadata": {},
   "outputs": [],
   "source": [
    "Pero recuerde que la forma más simple y recomendada es solo esto:"
   ]
  },
  {
   "cell_type": "code",
   "execution_count": 33,
   "metadata": {},
   "outputs": [],
   "source": [
    "model.save('path_to_my_model.h5')\n",
    "del model\n",
    "model = keras.models.load_model('path_to_my_model.h5')"
   ]
  },
  {
   "cell_type": "code",
   "execution_count": null,
   "metadata": {},
   "outputs": [],
   "source": []
  }
 ],
 "metadata": {
  "colab": {
   "collapsed_sections": [],
   "name": "sequential_model.ipynb",
   "toc_visible": true
  },
  "kernelspec": {
   "display_name": "Python 3",
   "name": "python3"
  },
  "language_info": {
   "codemirror_mode": {
    "name": "ipython",
    "version": 3
   },
   "file_extension": ".py",
   "mimetype": "text/x-python",
   "name": "python",
   "nbconvert_exporter": "python",
   "pygments_lexer": "ipython3",
   "version": "3.8.3-final"
  }
 },
 "nbformat": 4,
 "nbformat_minor": 0
}