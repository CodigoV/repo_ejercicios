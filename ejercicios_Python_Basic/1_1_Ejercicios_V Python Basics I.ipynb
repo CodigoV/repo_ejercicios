{
 "cells": [
  {
   "cell_type": "markdown",
   "metadata": {},
   "source": [
    "![imagen](./img/ejercicios.png)"
   ]
  },
  {
   "cell_type": "markdown",
   "metadata": {},
   "source": [
    "# Ejercicios Python Basics I"
   ]
  },
  {
   "cell_type": "markdown",
   "metadata": {},
   "source": [
    "## Ejercicio 1\n",
    "Imprime por pantalla esta cita con el siguiente formato\n",
    "\n",
    "![imagen](./img/frase_Einstein.PNG)"
   ]
  },
  {
   "cell_type": "code",
   "execution_count": 4,
   "metadata": {
    "tags": []
   },
   "outputs": [
    {
     "name": "stdout",
     "output_type": "stream",
     "text": [
      "¿Por qué esta magnífica tecnologia científica,\n",
      "\t que ahorra trabajo y nos hace la vida más fácil\n",
      "\t\tnos aporta tan poca felicidad?\n",
      "\t\t\tLa respuesta es esta, simplemente: porque aún no hemos aprendido a usarla con tino\n",
      " 'Albert Einstein' \n"
     ]
    }
   ],
   "source": [
    "print (\"\"\"¿Por qué esta magnífica tecnologia científica,\n",
    "       \\n\\t que ahorra trabajo y nos hace la vida más fácil\n",
    "       \\n\\t\\tnos aporta tan poca felicidad?\n",
    "       \\n\\t\\t\\tLa respuesta es esta, simplemente: porque aún no hemos aprendido a usarla con tino.\n",
    "       \\n 'Albert Einstein' \"\")"
   ]
  },
  {
   "cell_type": "markdown",
   "metadata": {},
   "source": [
    "## Ejercicio 2\n",
    "1. Escribe el nombre de la calle de tu domicilio\n",
    "2. Escribe el numero de la calle en otra\n",
    "3. Población en una tercera\n",
    "4. Codigo postal en la cuarta variable\n",
    "5. Crea una quinta variable que concatene todas ellas\n",
    "6. Imprimela por pantalla"
   ]
  },
  {
   "cell_type": "code",
   "execution_count": 2,
   "metadata": {},
   "outputs": [
    {
     "name": "stdout",
     "output_type": "stream",
     "text": [
      "('Retiro', 3, 'Madrid', 28223)\n"
     ]
    }
   ],
   "source": [
    "### Ejercicio 3 respuesta\n",
    "# Con comas, nos da una lista, no concatena \n",
    "\n",
    "calle= \"Retiro\"\n",
    "numero= 3\n",
    "poblacion= \"Madrid\"\n",
    "cp= 28223\n",
    "concatenados= calle, numero, poblacion,cp\n",
    "print (concatenados)\n"
   ]
  },
  {
   "cell_type": "code",
   "execution_count": 4,
   "metadata": {},
   "outputs": [
    {
     "name": "stdout",
     "output_type": "stream",
     "text": [
      "Retiro 3 Madrid 28223\n"
     ]
    }
   ],
   "source": [
    "# Esto si es concatenar, los numeros deben estar en string o forzar cambio\n",
    "calle= \"Retiro\"\n",
    "numero= \"3\"\n",
    "poblacion= \"Madrid\"\n",
    "cp= \"28223\"\n",
    "concatenados= calle + \" \" + numero + \" \"+ poblacion+ \" \"+ cp\n",
    "print (concatenados)"
   ]
  },
  {
   "cell_type": "markdown",
   "metadata": {},
   "source": [
    "## Ejercicio 3\n",
    "Replica el output del ejercicio dos, pero está vez sin usar una variable intermedia que concatene todas las demas. Realiza este ejercicio en una línea, con un  único `print`"
   ]
  },
  {
   "cell_type": "code",
   "execution_count": 7,
   "metadata": {},
   "outputs": [
    {
     "name": "stdout",
     "output_type": "stream",
     "text": [
      "Retiro 3 Madrid 28223\n"
     ]
    }
   ],
   "source": [
    "#respuesta correcta. \n",
    "print(calle, numero, poblacion,cp)"
   ]
  },
  {
   "cell_type": "code",
   "execution_count": 12,
   "metadata": {},
   "outputs": [
    {
     "name": "stdout",
     "output_type": "stream",
     "text": [
      "('Picasso', 3) 28223\n"
     ]
    }
   ],
   "source": [
    "#Para acceder a tupla \n",
    "print(concatenados[0:2], concatenados[-1])"
   ]
  },
  {
   "cell_type": "code",
   "execution_count": null,
   "metadata": {},
   "outputs": [],
   "source": [
    "#para acceder a concatenados \n"
   ]
  },
  {
   "cell_type": "markdown",
   "metadata": {},
   "source": [
    "## Ejercicio 4\n",
    "¿Qué variables están mal escritas y por qué? Realiza primero tu hipótesis y luego ejecuta las variables para comprobarlo. En ese orden :)\n",
    "\n",
    "\n",
    "1. mi_variable = \"Economía\"\n",
    "2. otra_var = \"Ejercicio\n",
    "3. True = \"Ejercicio\"\n",
    "4. mi variab1e = \"Alpha\"\n",
    "5. exec = True\n",
    "6. import = 40\n",
    "7. 81mi_variable = \"Agua\"\n",
    "8. mi_variable10 = 6"
   ]
  },
  {
   "cell_type": "markdown",
   "metadata": {},
   "source": [
    "1. mi_variable = \"Economía\"    =ok\n",
    "2. otra_var = \"Ejercicio       = faltan comillas\n",
    "3. True = \"Ejercicio\"          = palabra reservada\n",
    "4. mi variab1e = \"Alpha\"       = sobra espacios\n",
    "5. exec = True                 = ante la duda usar otro\n",
    "6. import = 40                 = reservada\n",
    "7. 81mi_variable = \"Agua\"      = no números antes\n",
    "8. mi_variable10 = 6           = ok "
   ]
  },
  {
   "cell_type": "code",
   "execution_count": 1,
   "metadata": {},
   "outputs": [
    {
     "name": "stdout",
     "output_type": "stream",
     "text": [
      "Economía Ejercicio True_False Economía True 40 Agua Economía\n"
     ]
    }
   ],
   "source": [
    "mi_variable = \"Economía\"\n",
    "otra_var = \"Ejercicio\"\n",
    "variable_true= \"True_False\"\n",
    "mi_variab1e = \"Alpha\"\n",
    "exec_1 = True\n",
    "import_1= 40\n",
    "mi_variable8= \"Agua\"\n",
    "mi_variable10 = 6\n",
    "print (mi_variable,otra_var,variable_true, mi_variable, exec_1, import_1,mi_variable8, mi_variable)"
   ]
  },
  {
   "cell_type": "markdown",
   "metadata": {},
   "source": [
    "## Ejercicio 5\n",
    "Realiza un conversor de grados Celsius a Fahrenheit. El conversor tiene que recibir el input del usuario y devolver la conversión.\n",
    "\n",
    "La conversión de grados sigue la siguiente fórmula: F = (C × 9 / 5) + 32 "
   ]
  },
  {
   "cell_type": "code",
   "execution_count": 6,
   "metadata": {},
   "outputs": [
    {
     "name": "stdin",
     "output_type": "stream",
     "text": [
      "Grados Celsius: 23\n"
     ]
    },
    {
     "name": "stdout",
     "output_type": "stream",
     "text": [
      "la temperatura es:  73.4  degrees Fahrenheit. 23.0 degrees celsius\n"
     ]
    }
   ],
   "source": [
    "#Siempre se tiene que poner el valor del valor a  entrar a través de input. \n",
    "celsius= float(input(\"Grados Celsius:\"))\n",
    "fahrenheit = (celsius * 9/5) + 32 \n",
    "print(\"la temperatura es: \",fahrenheit,\" degrees Fahrenheit.\", celsius, \"degrees celsius\")"
   ]
  },
  {
   "cell_type": "code",
   "execution_count": 3,
   "metadata": {},
   "outputs": [
    {
     "name": "stdin",
     "output_type": "stream",
     "text": [
      "introduzca grados celsius: 30\n"
     ]
    },
    {
     "name": "stdout",
     "output_type": "stream",
     "text": [
      "El equivalente en grados Farenheit es 86.0\n"
     ]
    }
   ],
   "source": [
    "#Lo mismo con otro código\n",
    "c= input(\"introduzca grados celsius:\")\n",
    "F= 32 + float(c) * (9/5)\n",
    "print (\"El equivalente en grados Farenheit es\", F)"
   ]
  },
  {
   "cell_type": "code",
   "execution_count": 11,
   "metadata": {},
   "outputs": [
    {
     "name": "stdin",
     "output_type": "stream",
     "text": [
      "Grados Celsius: 23\n"
     ]
    },
    {
     "name": "stdout",
     "output_type": "stream",
     "text": [
      "La temperatura es:  73.4 º Fahrenheit| 23.0 º Celsius\n"
     ]
    }
   ],
   "source": [
    "def farenheit(): \n",
    "    celsius= float(input(\"Grados Celsius:\"))\n",
    "    fahrenheit = (celsius * 9/5) + 32 \n",
    "    print(\"La temperatura es: \",fahrenheit,\"º Fahrenheit|\",  celsius, \"º Celsius\")\n",
    "    return\n",
    "farenheit()\n",
    "# Las funciones tienen que terminar en return siempre "
   ]
  },
  {
   "cell_type": "markdown",
   "metadata": {},
   "source": [
    "## Ejercicio 6\n",
    "Comenta en la medida de lo posible el Ejercicio 5. Será suficiente con poner al menos un comentario de línea, y otro multilínea"
   ]
  },
  {
   "cell_type": "code",
   "execution_count": null,
   "metadata": {},
   "outputs": [],
   "source": [
    "'''\n",
    "Siempre se tiene que poner el typo a  entrar a través de input\n",
    "ESta es otra version de conversión de grados \n",
    "'''\n",
    "\n",
    "celsius= float(input(\"Grados Celsius:\"))\n",
    "fahrenheit = (celsius * 9/5) + 32 \n",
    "print(\"La temperatura es: \",fahrenheit,\" degrees Fahrenheit.\", celsius, \"degrees\")"
   ]
  }
 ],
 "metadata": {
  "kernelspec": {
   "display_name": "Python 3",
   "language": "python",
   "name": "python3"
  },
  "language_info": {
   "codemirror_mode": {
    "name": "ipython",
    "version": 3
   },
   "file_extension": ".py",
   "mimetype": "text/x-python",
   "name": "python",
   "nbconvert_exporter": "python",
   "pygments_lexer": "ipython3",
   "version": "3.8.3"
  }
 },
 "nbformat": 4,
 "nbformat_minor": 4
}
