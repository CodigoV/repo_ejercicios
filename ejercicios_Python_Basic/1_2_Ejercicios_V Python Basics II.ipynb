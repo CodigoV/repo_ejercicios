{
 "cells": [
  {
   "cell_type": "markdown",
   "metadata": {},
   "source": [
    "![imagen](./img/ejercicios.png)"
   ]
  },
  {
   "cell_type": "markdown",
   "metadata": {},
   "source": [
    "# Ejercicios Python Basics II"
   ]
  },
  {
   "cell_type": "markdown",
   "metadata": {},
   "source": [
    "## Ejercicio 1\n",
    "* Crea dos variables numericas: un `int` y un `float`\n",
    "* Comprueba sus tipos\n",
    "* Sumalas en otra nueva\n",
    "* ¿De qué tipo es la nueva variable?\n",
    "* Elimina las dos primeras variables creadas"
   ]
  },
  {
   "cell_type": "code",
   "execution_count": 2,
   "metadata": {},
   "outputs": [
    {
     "name": "stdout",
     "output_type": "stream",
     "text": [
      "<class 'int'> <class 'float'>\n",
      "<class 'float'>\n"
     ]
    }
   ],
   "source": [
    "x= 5\n",
    "y= 5.0\n",
    "print(type(x), type(y))\n",
    "summa= x + y\n",
    "print(type(summa))\n",
    "del(x,y)"
   ]
  },
  {
   "cell_type": "markdown",
   "metadata": {},
   "source": [
    "## Ejercicio 2\n",
    "Escribe un programa para pasar de grados a radianes. Hay que usar `input`. Recuerda que la conversión se realiza mediante\n",
    "\n",
    "radianes = grados*(pi/180)"
   ]
  },
  {
   "cell_type": "code",
   "execution_count": 7,
   "metadata": {},
   "outputs": [
    {
     "name": "stdin",
     "output_type": "stream",
     "text": [
      "Ingresa grados: 14\n"
     ]
    },
    {
     "data": {
      "text/plain": [
       "0.24434666666666668"
      ]
     },
     "execution_count": 7,
     "metadata": {},
     "output_type": "execute_result"
    }
   ],
   "source": [
    "grados= float((input(\"Ingresa grados:\")))\n",
    "radianes= grados*(3.1416/180)\n",
    "radianes"
   ]
  },
  {
   "cell_type": "markdown",
   "metadata": {},
   "source": [
    "## Ejercicio 3\n",
    "Escribe un programa que calcule el area de un paralelogramo (base x altura). También con `input`"
   ]
  },
  {
   "cell_type": "code",
   "execution_count": 8,
   "metadata": {},
   "outputs": [
    {
     "name": "stdin",
     "output_type": "stream",
     "text": [
      "Introduce la base 15\n",
      "introduce la altura 25\n"
     ]
    },
    {
     "data": {
      "text/plain": [
       "375.0"
      ]
     },
     "execution_count": 8,
     "metadata": {},
     "output_type": "execute_result"
    }
   ],
   "source": [
    "base= float(input(\"Introduce la base\"))\n",
    "altura= float(input(\"introduce la altura\"))\n",
    "paralelogramo= base * altura\n",
    "paralelogramo"
   ]
  },
  {
   "cell_type": "markdown",
   "metadata": {},
   "source": [
    "## Ejercicio 4\n",
    "Tenemos las siguientes variables:\n",
    "\n",
    "```Python\n",
    "A = 4\n",
    "B = \"Text\"\n",
    "C = 4.1\n",
    "```\n",
    "\n",
    "Comprueba:\n",
    "1. Si A y B son equivalentes\n",
    "2. Si A y C NO son equivalentes\n",
    "3. Si A es mayor que C \n",
    "4. Si C es menor o igual que A\n",
    "5. Si B NO es equivalente a C"
   ]
  },
  {
   "cell_type": "code",
   "execution_count": 22,
   "metadata": {},
   "outputs": [
    {
     "name": "stdout",
     "output_type": "stream",
     "text": [
      "False\n",
      "no es equivalente B y C\n"
     ]
    }
   ],
   "source": [
    "A = 4\n",
    "B = \"Text\"\n",
    "C = 4.1\n",
    "def comprueba (A, B, C):\n",
    "    if A == B:\n",
    "        print (True)\n",
    "    if A != C:\n",
    "        print(False)\n",
    "    if A > C:\n",
    "        print (\"A es mayor que C\")\n",
    "    if C < A:\n",
    "        print (\"C es menor que A\")\n",
    "    if B != C:\n",
    "        print (\"no es equivalente B y C\")\n",
    "    else:\n",
    "        print (\"que lio\")\n",
    "comprueba(4, \"Text\", 4.1)"
   ]
  },
  {
   "cell_type": "code",
   "execution_count": 1,
   "metadata": {},
   "outputs": [
    {
     "name": "stdout",
     "output_type": "stream",
     "text": [
      "False\n",
      "no es equivalente B y C\n"
     ]
    }
   ],
   "source": [
    "A = 4\n",
    "B = \"Text\"\n",
    "C = 4.1\n",
    "\n",
    "if A == B:\n",
    "    print (True)\n",
    "if A != C:\n",
    "    print(False)\n",
    "if A > C:\n",
    "    print (\"A es mayor que C\")\n",
    "if C < A:\n",
    "    print (\"C es menor que A\")\n",
    "if B != C:\n",
    "    print (\"no es equivalente B y C\")\n",
    "else:\n",
    "    print (\"que lio\")"
   ]
  },
  {
   "cell_type": "markdown",
   "metadata": {},
   "source": [
    "## Ejercicio 5\n",
    "Crea un programa donde se recojan dos inputs del usuario, y el output del programa sea si esos inputs son iguales o no"
   ]
  },
  {
   "cell_type": "code",
   "execution_count": 30,
   "metadata": {},
   "outputs": [
    {
     "name": "stdin",
     "output_type": "stream",
     "text": [
      "Escribe un número 4\n",
      "Escribe el mismo número, o no: 5\n"
     ]
    },
    {
     "name": "stdout",
     "output_type": "stream",
     "text": [
      "El número es diferente\n"
     ]
    }
   ],
   "source": [
    "def programa_numero():\n",
    "    \n",
    "    a= int((input(\"Escribe un número\")))\n",
    "    b= int(input(\"Escribe el mismo número, o no:\"))\n",
    "\n",
    "    if a == b: \n",
    "        print (\"bravo\")\n",
    "    if a!= b:\n",
    "        print (\"El número es diferente\")\n",
    "programa_numero()"
   ]
  },
  {
   "cell_type": "code",
   "execution_count": null,
   "metadata": {},
   "outputs": [],
   "source": []
  },
  {
   "cell_type": "markdown",
   "metadata": {},
   "source": [
    "## Ejercicio 6\n",
    "Mismo programa que en 5, pero en esta ocasión tienen que ser tres inputs y dos salidas. Una de las salidas que nos indique si todos son iguales, y la otra si al menos dos inputs sí que lo son"
   ]
  },
  {
   "cell_type": "code",
   "execution_count": 35,
   "metadata": {},
   "outputs": [
    {
     "name": "stdin",
     "output_type": "stream",
     "text": [
      "Escribe un número 3\n",
      "Escribe el mismo número, o no: 4\n",
      "Escribe otro número igual o no 4\n"
     ]
    },
    {
     "name": "stdout",
     "output_type": "stream",
     "text": [
      "Al menos dos iguales\n"
     ]
    }
   ],
   "source": [
    "def programa_numeros():\n",
    "    \n",
    "    a= int((input(\"Escribe un número\")))\n",
    "    b= int(input(\"Escribe el mismo número, o no:\"))\n",
    "    c= int(input(\"Escribe otro número igual o no\"))\n",
    "\n",
    "    if a == b == c: \n",
    "        print (\"Todos iguales\")\n",
    "    if a == b or b== c or c== a:\n",
    "        print(\"Al menos dos iguales\")\n",
    "    else:\n",
    "        print (\"Números diferentes\")\n",
    "programa_numeros()"
   ]
  },
  {
   "cell_type": "code",
   "execution_count": 4,
   "metadata": {},
   "outputs": [
    {
     "name": "stdin",
     "output_type": "stream",
     "text": [
      "input 1 1\n",
      "Escribe el mismo número, o no: 2\n",
      "Escribe otro número igual o no 2\n"
     ]
    },
    {
     "name": "stdout",
     "output_type": "stream",
     "text": [
      "todos son iguales  True\n",
      "al menos dos True\n"
     ]
    }
   ],
   "source": [
    "    a= int((input(\"input 1\")))\n",
    "    b= int(input(\"Escribe el mismo número, o no:\"))\n",
    "    c= int(input(\"Escribe otro número igual o no\"))\n",
    "    todos =  a == b or b == c  or  a == c\n",
    "    print (\"todos son iguales \", todos)\n",
    "    dos = a == b or b == c or a == c\n",
    "    print (\"al menos dos\", dos)"
   ]
  },
  {
   "cell_type": "markdown",
   "metadata": {},
   "source": [
    "## Ejercicio 7\n",
    "Crea un programa que recoja dos inputs. Tiene que comprobar si su suma es igual, superior o inferior a 10"
   ]
  },
  {
   "cell_type": "code",
   "execution_count": 40,
   "metadata": {},
   "outputs": [
    {
     "name": "stdin",
     "output_type": "stream",
     "text": [
      "Escribe un número 2\n",
      "Escribe el mismo número, o no: 3\n"
     ]
    },
    {
     "name": "stdout",
     "output_type": "stream",
     "text": [
      "menor que 10\n"
     ]
    }
   ],
   "source": [
    "def suma_10():\n",
    "    \n",
    "    a= int((input(\"Escribe un número\")))\n",
    "    b= int(input(\"Escribe el mismo número, o no:\"))\n",
    "    \n",
    "    suma= a + b\n",
    "    if suma < 10:\n",
    "        print (\"menor que 10\")\n",
    "    if suma > 10:\n",
    "        print (\"mayor que 10\")\n",
    "        \n",
    "suma_10()"
   ]
  },
  {
   "cell_type": "code",
   "execution_count": 25,
   "metadata": {},
   "outputs": [
    {
     "name": "stdin",
     "output_type": "stream",
     "text": [
      "Escribe un número 2\n",
      "Escribe el mismo número, o no: 5\n"
     ]
    },
    {
     "name": "stdout",
     "output_type": "stream",
     "text": [
      "mayor que 10\n"
     ]
    }
   ],
   "source": [
    "a= float((input(\"Escribe un número\")))\n",
    "b= float(input(\"Escribe el mismo número, o no:\"))\n",
    "suma = a + b\n",
    "print(\"mayor que 10\", >10)"
   ]
  },
  {
   "cell_type": "markdown",
   "metadata": {},
   "source": [
    "## Ejercicio 8\n",
    "Razona sin ejecutar código el output que obtendremos de las siguientes sentencias\n",
    "1. True and True and False\n",
    "2. not ((True or False) and (True or False))\n",
    "3. (False or False or False or True) and False\n",
    "4. not False and True and not True"
   ]
  },
  {
   "cell_type": "markdown",
   "metadata": {},
   "source": [
    "1. False\n",
    "2. False\n",
    "3. False\n",
    "4. False"
   ]
  },
  {
   "cell_type": "markdown",
   "metadata": {},
   "source": [
    "## Ejercicio 9\n",
    "Para este ejercicio vamos a poner en práctica [las funciones built in](https://docs.python.org/3/library/functions.html).\n",
    "\n",
    "1. Calcula el máximo de la lista: [4, 6, 8, -1]\n",
    "2. Suma todos los elementos de la lista anterior\n",
    "3. Redondea este float a 3 dígitos decimales: 63.451256965\n",
    "4. Valor absoluto de: -74"
   ]
  },
  {
   "cell_type": "code",
   "execution_count": 23,
   "metadata": {},
   "outputs": [
    {
     "name": "stdout",
     "output_type": "stream",
     "text": [
      "8\n",
      "17\n",
      "63.451\n",
      "74\n"
     ]
    }
   ],
   "source": [
    "lista2 =  [4, 6, 8, -1]\n",
    "print(max([4, 6, 8, -1]))\n",
    "print(sum(lista2))\n",
    "print(round(63.451256965,3))\n",
    "print(abs(-74))"
   ]
  },
  {
   "cell_type": "markdown",
   "metadata": {},
   "source": [
    "## Ejercicio 10\n",
    "Para el siguiente string se pide imprimir por pantalla los siguientes casos\n",
    "\n",
    "    \"A quien madruga, dios le ayuda\"\n",
    "\n",
    "1. Pasarlo todo a mayusculas\n",
    "2. Pasarlo todo a minusculas\n",
    "3. Solo las iniciales de las palabras\n",
    "4. Crea una lista dividiendolo por sus espacios\n",
    "5. Sustituye las comas `,` por puntos y comas `;`\n",
    "6. Elimina las `a` minusculas"
   ]
  },
  {
   "cell_type": "code",
   "execution_count": 59,
   "metadata": {},
   "outputs": [
    {
     "name": "stdout",
     "output_type": "stream",
     "text": [
      "1 A QUIEN MADRUGA, DIOS LE AYUDA\n",
      "2 a quien madruga, dios le ayuda\n",
      "3 A Quien Madruga, Dios Le Ayuda\n",
      "4 ['A', 'quien', 'madruga,', 'dios', 'le', 'ayuda']\n",
      "5 A quien madruga; dios le ayuda\n",
      "6 A quien mdrug, dios le yud\n"
     ]
    }
   ],
   "source": [
    "x= \"A quien madruga, dios le ayuda\"\n",
    "print (\"1\", x.upper())\n",
    "\n",
    "x_l= x.lower()\n",
    "print(\"2\", x_l)\n",
    "print (3, x.title())\n",
    "print(4, x.split())\n",
    "xx= x.replace(\",\", \";\")\n",
    "print(5, xx)\n",
    "print (6, x.replace(\"a\", \"\"))\n"
   ]
  },
  {
   "cell_type": "markdown",
   "metadata": {},
   "source": [
    "## Ejercicio 11\n",
    "1. Crea una lista con 3 elementos numéricos\n",
    "2. Añade un cuarto elemento\n",
    "3. Calcula la suma de todos\n",
    "4. Elimina el segundo elemento de la lista\n",
    "5. Añade otro elemento en la posicion 3 de la lista\n",
    "6. Crea otra lista con 4 elementos y concaténala a la que ya tenías."
   ]
  },
  {
   "cell_type": "code",
   "execution_count": 13,
   "metadata": {},
   "outputs": [
    {
     "name": "stdout",
     "output_type": "stream",
     "text": [
      "[1, 2, 3]\n",
      "10\n",
      "4 [1, 3, 4]\n",
      "5 [1, 3, 'a', 4]\n"
     ]
    },
    {
     "data": {
      "text/plain": [
       "[1, 3, 'a', 4, 4, 5, 6]"
      ]
     },
     "execution_count": 13,
     "metadata": {},
     "output_type": "execute_result"
    }
   ],
   "source": [
    "#faltó calcular la suma de todos\n",
    "lista= [1,2,3]\n",
    "print (lista)\n",
    "lista.append(4)\n",
    "print (sum(lista))\n",
    "\n",
    "lista\n",
    "del(lista[1])\n",
    "# lista.pop(1)\n",
    "print(4, lista)\n",
    "\n",
    "lista.insert(2, \"a\")\n",
    "print(5, lista)\n",
    "\n",
    "lista_b= [4,5,6]\n",
    "c= lista + lista_b\n",
    "c\n"
   ]
  },
  {
   "cell_type": "code",
   "execution_count": null,
   "metadata": {},
   "outputs": [],
   "source": []
  }
 ],
 "metadata": {
  "kernelspec": {
   "display_name": "Python 3",
   "language": "python",
   "name": "python3"
  },
  "language_info": {
   "codemirror_mode": {
    "name": "ipython",
    "version": 3
   },
   "file_extension": ".py",
   "mimetype": "text/x-python",
   "name": "python",
   "nbconvert_exporter": "python",
   "pygments_lexer": "ipython3",
   "version": "3.8.3"
  }
 },
 "nbformat": 4,
 "nbformat_minor": 4
}
