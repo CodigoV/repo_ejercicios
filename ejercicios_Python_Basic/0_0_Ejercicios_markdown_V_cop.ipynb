{
 "cells": [
  {
   "cell_type": "markdown",
   "metadata": {},
   "source": [
    "![imagen](./img/ejercicios.png)\n",
    "# Markdown\n",
    "\n",
    "## Ejercicio 1\n",
    "Vamos a aplicar los conocimientos adquiridos en este notebook, intentando reproducir la siguiente imagen en markdown. En el link va la página: https://www.kaggle.com/\n",
    "\n",
    "**TIP**: en [este enlace](https://www.markdownguide.org/basic-syntax/) tienes más ejemplos, por si te atascas con algo :)\n"
   ]
  },
  {
   "cell_type": "markdown",
   "metadata": {
    "tags": []
   },
   "source": []
  },
  {
   "cell_type": "markdown",
   "metadata": {},
   "source": [
    "![imagen](./img/md_ejercicio1.png)"
   ]
  },
  {
   "cell_type": "markdown",
   "metadata": {},
   "source": [
    "### Aptitudes del Data Scients \n",
    "\n",
    ">++ lo más importante\n",
    ">+ matematicas\n",
    ">+ programacion \n",
    "> + pyhton\n",
    "> + SQL \n",
    "> ![imagen](./img/pyhton.png)\n",
    "> otro tema importante es el *business intelligence*\n",
    ">\n",
    ">si tienes dudas, pudes escribirme a minombre@correo.es\n",
    "\n",
    "> En esta página se aprende mucho [** pagina con ML](https://www.kaggle.com/)** \n",
    "\n",
    "\n",
    "\n"
   ]
  },
  {
   "cell_type": "markdown",
   "metadata": {},
   "source": [
    "## Ejercicio 2\n",
    "Para este ejercicio vas a crear dos nuevos elementos que no hemos visto en la teoría: una tabla y una fórmula. Busca en la web la sintaxis y replica ambos elementos. Ojo con los espacios en blanco entre la tabla y la fórmula"
   ]
  },
  {
   "cell_type": "markdown",
   "metadata": {},
   "source": [
    "<div style=\"text-align:center\"><img src=\"./img/md_ejercicio2.png\" /></div>"
   ]
  },
  {
   "cell_type": "code",
   "execution_count": 16,
   "metadata": {
    "tags": []
   },
   "outputs": [
    {
     "name": "stdout",
     "output_type": "stream",
     "text": [
      "\n",
      " Esta es una tabla con código\n",
      "+---------------------------------------------------------------------+\n",
      "|Ramp Up    Data Analysis    Machine Learning     Data & Business\n",
      "|----------------------------------------------------------------------|\n",
      "| Python            EDA             Supervised      Productivización   |\n",
      "| Estadística       R               Non Supervised  Storytelling       |\n",
      "| SQL               Feat. Eng       Deep Learning   API                |\n",
      "+---------------------------------------------------------------------+\n"
     ]
    }
   ],
   "source": [
    "''' \n",
    "Con celda tipo código### \n",
    "\n",
    "Referencia https://pythones.net/format-en-python-3/\n",
    "'''\n",
    "\n",
    "listas= [[\"Python\", \"EDA\", \"Supervised\", \"Productivización\"], [\"Estadística\", \"R\", \"Non Supervised\", \"Storytelling\"],[\"SQL\", \"Feat. Eng\", \"Deep Learning\", \"API\"]]\n",
    "Tabla = \"\"\"\\\n",
    "+---------------------------------------------------------------------+\n",
    "|Ramp Up    Data Analysis    Machine Learning     Data & Business\n",
    "|----------------------------------------------------------------------|\n",
    "{}\n",
    "+---------------------------------------------------------------------+\\\n",
    "\"\"\"\n",
    "Tabla = (Tabla.format('\\n'.join(\"| {:<17} {:<15} {:<15} {:<17}  |\".format(*fila)\n",
    " for fila in listas)))\n",
    "print ( \"\\n\", \"Esta es una tabla con código\" + \"\\n\" +  Tabla)\n",
    "\n"
   ]
  },
  {
   "cell_type": "markdown",
   "metadata": {},
   "source": [
    "***Segunda opción, esta es una tabla markdown***\n"
   ]
  },
  {
   "cell_type": "markdown",
   "metadata": {},
   "source": [
    "|Ramp Up|Data Analysis|Machine Learning|Data & Business|\n",
    "|:--|:--|:--|:--|\n",
    "|Python|EDA     |Supervised     |Productivización|\n",
    "|Estadística|R     |Non supervised     |Storytelling|\n",
    "|SQL|Feat. Eng.|Deep Learning |API|\n",
    "\n",
    "<br>\n",
    "<br>\n",
    "\n",
    "$$\\sqrt{3x-1}+(1+x)^2$$"
   ]
  },
  {
   "cell_type": "code",
   "execution_count": 3,
   "metadata": {
    "tags": []
   },
   "outputs": [
    {
     "output_type": "stream",
     "name": "stdout",
     "text": "9998\nfin del script\n"
    }
   ],
   "source": [
    "var= int(input(\"escribe un numero entre 9996 y 1000\"))\n",
    "print (var)\n",
    "lista=[]\n",
    "while var < 1000:\n",
    "    if var <= 9998:\n",
    "        print (\"intentalo de nuevo\")\n",
    "        lista.append(var)\n",
    "    elif var == 9999:\n",
    "        pass\n",
    "        print (\"Valor actual de la variable : \", lista)\n",
    "    else: \n",
    "        print (\"fuera de rango\")\n",
    "        break\n",
    "\n",
    "print (\"fin del script\")"
   ]
  },
  {
   "cell_type": "code",
   "execution_count": null,
   "metadata": {},
   "outputs": [],
   "source": []
  }
 ],
 "metadata": {
  "kernelspec": {
   "display_name": "Python 3",
   "language": "python",
   "name": "python3"
  },
  "language_info": {
   "codemirror_mode": {
    "name": "ipython",
    "version": 3
   },
   "file_extension": ".py",
   "mimetype": "text/x-python",
   "name": "python",
   "nbconvert_exporter": "python",
   "pygments_lexer": "ipython3",
   "version": "3.8.3-final"
  }
 },
 "nbformat": 4,
 "nbformat_minor": 4
}